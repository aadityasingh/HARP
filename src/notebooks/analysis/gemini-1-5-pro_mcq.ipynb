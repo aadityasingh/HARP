{
 "cells": [
  {
   "cell_type": "markdown",
   "id": "71c10cbe-659f-444c-a855-c6bae55a1df3",
   "metadata": {},
   "source": [
    "# Gemini 1.5 Pro Multiple Choice"
   ]
  },
  {
   "cell_type": "code",
   "execution_count": 1,
   "id": "be048383-6212-42ff-8826-23dbd3bafafc",
   "metadata": {},
   "outputs": [],
   "source": [
    "import sys\n",
    "from pathlib import Path\n",
    "\n",
    "BASEDIR = Path(\"/workspaces/HARP/\") / \"src\"  # Replace with your own basedir path for the repo\n",
    "\n",
    "sys.path.insert(0, str(BASEDIR))"
   ]
  },
  {
   "cell_type": "code",
   "execution_count": 2,
   "id": "21ed9091-1e26-4a1b-ab97-11f92846b8ff",
   "metadata": {},
   "outputs": [],
   "source": [
    "from __future__ import annotations\n",
    "\n",
    "import copy\n",
    "import itertools\n",
    "import json\n",
    "import math\n",
    "import os\n",
    "import pickle\n",
    "import pprint\n",
    "import re\n",
    "import textwrap\n",
    "import time\n",
    "import traceback\n",
    "from collections import Counter, defaultdict\n",
    "from typing import Any\n",
    "\n",
    "import matplotlib.pyplot as plt\n",
    "import numpy as np\n",
    "import pandas as pd\n",
    "import tiktoken\n",
    "from IPython.display import Markdown, clear_output, display\n",
    "from tqdm.auto import tqdm"
   ]
  },
  {
   "cell_type": "code",
   "execution_count": 3,
   "id": "8580f062-cd20-4c6a-811b-5633d687c618",
   "metadata": {},
   "outputs": [],
   "source": [
    "from eval.api import safe_unified_api_call\n",
    "from eval.costs import count_tokens, get_pricing\n",
    "from eval.eval import run_one, create_batch, make_answer_check_dict_from_jsonl, make_results_df, accuracy_by_split\n",
    "from eval.parsing_lib import *\n",
    "from eval.latex_answer_check import *\n",
    "from eval.prompt import create_prompt\n",
    "from eval.prompts import *\n",
    "from eval.response import ModelResponse\n",
    "from eval.utils import read_jsonl, write_jsonl, get_uid"
   ]
  },
  {
   "cell_type": "markdown",
   "id": "2f4f2acc-65cd-4b65-9eee-4746f592839f",
   "metadata": {},
   "source": [
    "# Data"
   ]
  },
  {
   "cell_type": "code",
   "execution_count": 4,
   "id": "8a073cf1-5535-463e-a9d0-ce1a8a084657",
   "metadata": {},
   "outputs": [
    {
     "data": {
      "text/plain": [
       "4110"
      ]
     },
     "execution_count": 4,
     "metadata": {},
     "output_type": "execute_result"
    }
   ],
   "source": [
    "# We don't use HARP_mcq.jsonl here because we used the original ordering of answer choices\n",
    "dataset = [x for x in read_jsonl(BASEDIR / \"data/processed/HARP_raw.jsonl\") if x[\"choices\"] is not None and x[\"subject\"] != \"calculus\"]\n",
    "dataset_map = {get_uid(p): p for p in dataset}\n",
    "len(dataset)"
   ]
  },
  {
   "cell_type": "code",
   "execution_count": 5,
   "id": "fb959a66-cdbe-4501-b7df-7f736699a044",
   "metadata": {},
   "outputs": [
    {
     "data": {
      "text/plain": [
       "True"
      ]
     },
     "execution_count": 5,
     "metadata": {},
     "output_type": "execute_result"
    }
   ],
   "source": [
    "all([p[\"answer_choice\"] is not None for p in dataset])"
   ]
  },
  {
   "cell_type": "code",
   "execution_count": 6,
   "id": "76c0f152-d930-46cf-9895-4051fd75b7bc",
   "metadata": {},
   "outputs": [
    {
     "data": {
      "text/plain": [
       "Counter({2: 1612, 3: 1136, 1: 858, 4: 504})"
      ]
     },
     "execution_count": 6,
     "metadata": {},
     "output_type": "execute_result"
    }
   ],
   "source": [
    "Counter([p[\"level\"] for p in dataset])"
   ]
  },
  {
   "cell_type": "code",
   "execution_count": 7,
   "id": "9aa6ae40-07e2-4f94-b4b7-b9e4b952de36",
   "metadata": {},
   "outputs": [
    {
     "data": {
      "text/plain": [
       "Counter({'D': 991, 'C': 934, 'B': 929, 'E': 641, 'A': 615})"
      ]
     },
     "execution_count": 7,
     "metadata": {},
     "output_type": "execute_result"
    }
   ],
   "source": [
    "Counter([p[\"answer_choice\"] for p in dataset])"
   ]
  },
  {
   "cell_type": "code",
   "execution_count": 8,
   "id": "58fa0708-2f69-4f7f-a56c-c551e7a8dafa",
   "metadata": {},
   "outputs": [
    {
     "data": {
      "text/plain": [
       "{'C': 0.2272506082725061,\n",
       " 'D': 0.2411192214111922,\n",
       " 'E': 0.1559610705596107,\n",
       " 'A': 0.14963503649635038,\n",
       " 'B': 0.22603406326034065}"
      ]
     },
     "execution_count": 8,
     "metadata": {},
     "output_type": "execute_result"
    }
   ],
   "source": [
    "{c: x / len(dataset) for c, x in Counter([p[\"answer_choice\"] for p in dataset]).items()}"
   ]
  },
  {
   "cell_type": "code",
   "execution_count": 9,
   "id": "4a47abd0-8cd5-499f-88b4-8e5c053daec9",
   "metadata": {},
   "outputs": [
    {
     "data": {
      "text/plain": [
       "0.2075872153255072"
      ]
     },
     "execution_count": 9,
     "metadata": {},
     "output_type": "execute_result"
    }
   ],
   "source": [
    "sum((x / len(dataset))**2 for c, x in Counter([p[\"answer_choice\"] for p in dataset]).items())"
   ]
  },
  {
   "cell_type": "markdown",
   "id": "29178386-1a72-4932-88f7-86213a81547f",
   "metadata": {},
   "source": [
    "# Results"
   ]
  },
  {
   "cell_type": "code",
   "execution_count": 10,
   "id": "fbd3d3b9-b0c1-4052-a96e-fda755f08e22",
   "metadata": {},
   "outputs": [
    {
     "data": {
      "application/vnd.jupyter.widget-view+json": {
       "model_id": "089e54dd25684f03a27aec62aaaf5bf7",
       "version_major": 2,
       "version_minor": 0
      },
      "text/plain": [
       "  0%|          | 0/4110 [00:00<?, ?it/s]"
      ]
     },
     "metadata": {},
     "output_type": "display_data"
    },
    {
     "data": {
      "text/plain": [
       "80.41362530413625"
      ]
     },
     "execution_count": 10,
     "metadata": {},
     "output_type": "execute_result"
    }
   ],
   "source": [
    "fname_fromtext = BASEDIR / \"outputs/mcq/gemini-1.5-pro-002/outputs_from-text.jsonl\"\n",
    "\n",
    "raw_responses_fromtext = read_jsonl(fname_fromtext)\n",
    "responses_fromtext = [\n",
    "    {\n",
    "        \"uid\": x[\"custom_id\"],\n",
    "        \"system\": x[\"request\"][\"system_instruction\"],\n",
    "        \"prompt\": x[\"request\"][\"contents\"],\n",
    "        \"response\": ModelResponse.from_response(x[\"response\"], \"google\", use_batch_api=True)\n",
    "    }\n",
    "    for x in raw_responses_fromtext\n",
    "    if x[\"custom_id\"] in dataset_map\n",
    "]\n",
    "raw_response_fromtext_map = {x[\"custom_id\"]: x for x in raw_responses_fromtext if x[\"custom_id\"] in dataset_map}\n",
    "response_fromtext_map = {o[\"uid\"]: o for o in responses_fromtext}\n",
    "\n",
    "answer_check_dicts_fromtext = make_answer_check_dict_from_jsonl(responses_fromtext, dataset_map)\n",
    "answer_check_results_fromtext = latex_answer_choice_check(answer_check_dicts_fromtext, use_tqdm=True)\n",
    "results_metadata_fromtext = make_results_df(responses_fromtext, answer_check_results_fromtext, dataset_map, mode=\"mcq\")\n",
    "\n",
    "sum([x[\"is_correct\"] for x in answer_check_results_fromtext]) / len(dataset) * 100"
   ]
  },
  {
   "cell_type": "code",
   "execution_count": 11,
   "id": "44b006d1-d94f-40e1-b967-fc6fbd9c6b0b",
   "metadata": {},
   "outputs": [
    {
     "data": {
      "application/vnd.jupyter.widget-view+json": {
       "model_id": "bf138dde293e464898958373bef77be1",
       "version_major": 2,
       "version_minor": 0
      },
      "text/plain": [
       "  0%|          | 0/4110 [00:00<?, ?it/s]"
      ]
     },
     "metadata": {},
     "output_type": "display_data"
    },
    {
     "data": {
      "text/plain": [
       "80.63260340632603"
      ]
     },
     "execution_count": 11,
     "metadata": {},
     "output_type": "execute_result"
    }
   ],
   "source": [
    "fname_newlinedot = BASEDIR / \"outputs/mcq/gemini-1.5-pro-002/outputs_newline-dot.jsonl\"\n",
    "\n",
    "raw_responses_newlinedot = read_jsonl(fname_newlinedot)\n",
    "responses_newlinedot = [\n",
    "    {\n",
    "        \"uid\": x[\"custom_id\"],\n",
    "        \"system\": x[\"request\"][\"system_instruction\"],\n",
    "        \"prompt\": x[\"request\"][\"contents\"],\n",
    "        \"response\": ModelResponse.from_response(x[\"response\"], \"google\", use_batch_api=True)\n",
    "    }\n",
    "    for x in raw_responses_newlinedot\n",
    "    if x[\"custom_id\"] in dataset_map\n",
    "]\n",
    "raw_response_newlinedot_map = {x[\"custom_id\"]: x for x in raw_responses_newlinedot if x[\"custom_id\"] in dataset_map}\n",
    "response_newlinedot_map = {o[\"uid\"]: o for o in responses_newlinedot}\n",
    "\n",
    "answer_check_dicts_newlinedot = make_answer_check_dict_from_jsonl(responses_newlinedot, dataset_map)\n",
    "answer_check_results_newlinedot = latex_answer_choice_check(answer_check_dicts_newlinedot, use_tqdm=True)\n",
    "results_metadata_newlinedot = make_results_df(responses_newlinedot, answer_check_results_newlinedot, dataset_map, mode=\"mcq\")\n",
    "\n",
    "sum([x[\"is_correct\"] for x in answer_check_results_newlinedot]) / len(dataset) * 100"
   ]
  },
  {
   "cell_type": "code",
   "execution_count": 12,
   "id": "a489f3d0-7333-497c-827d-c51aa7480bab",
   "metadata": {},
   "outputs": [
    {
     "data": {
      "application/vnd.jupyter.widget-view+json": {
       "model_id": "c2c0e1d014d3439e800433693bafc7de",
       "version_major": 2,
       "version_minor": 0
      },
      "text/plain": [
       "  0%|          | 0/4110 [00:00<?, ?it/s]"
      ]
     },
     "metadata": {},
     "output_type": "display_data"
    },
    {
     "data": {
      "text/plain": [
       "81.0948905109489"
      ]
     },
     "execution_count": 12,
     "metadata": {},
     "output_type": "execute_result"
    }
   ],
   "source": [
    "fname_newlineparen = BASEDIR / \"outputs/mcq/gemini-1.5-pro-002/outputs_newline-paren.jsonl\"\n",
    "\n",
    "raw_responses_newlineparen = read_jsonl(fname_newlineparen)\n",
    "responses_newlineparen = [\n",
    "    {\n",
    "        \"uid\": x[\"custom_id\"],\n",
    "        \"system\": x[\"request\"][\"system_instruction\"],\n",
    "        \"prompt\": x[\"request\"][\"contents\"],\n",
    "        \"response\": ModelResponse.from_response(x[\"response\"], \"google\", use_batch_api=True)\n",
    "    }\n",
    "    for x in raw_responses_newlineparen\n",
    "    if x[\"custom_id\"] in dataset_map\n",
    "]\n",
    "raw_response_newlineparen_map = {x[\"custom_id\"]: x for x in raw_responses_newlineparen if x[\"custom_id\"] in dataset_map}\n",
    "response_newlineparen_map = {o[\"uid\"]: o for o in responses_newlineparen}\n",
    "\n",
    "answer_check_dicts_newlineparen = make_answer_check_dict_from_jsonl(responses_newlineparen, dataset_map)\n",
    "answer_check_results_newlineparen = latex_answer_choice_check(answer_check_dicts_newlineparen, use_tqdm=True)\n",
    "results_metadata_newlineparen = make_results_df(responses_newlineparen, answer_check_results_newlineparen, dataset_map, mode=\"mcq\")\n",
    "\n",
    "sum([x[\"is_correct\"] for x in answer_check_results_newlineparen]) / len(dataset) * 100"
   ]
  },
  {
   "cell_type": "code",
   "execution_count": 62,
   "id": "c93b5c98-843a-4f3b-8329-1f9885198ccd",
   "metadata": {},
   "outputs": [],
   "source": [
    "os.makedirs(BASEDIR / \"results/gemini-1.5-pro-002\", exist_ok=True)\n",
    "results_metadata_fromtext.to_csv(BASEDIR / \"results/gemini-1.5-pro-002/results_mcq_fromtext.csv\")\n",
    "results_metadata_newlinedot.to_csv(BASEDIR / \"results/gemini-1.5-pro-002/results_mcq_newlinedot.csv\")\n",
    "results_metadata_newlineparen.to_csv(BASEDIR / \"results/gemini-1.5-pro-002/results_mcq_newlineparen.csv\")"
   ]
  },
  {
   "cell_type": "markdown",
   "id": "78457654-cb72-4c2c-87d1-623887dc8049",
   "metadata": {},
   "source": [
    "## Finish reason"
   ]
  },
  {
   "cell_type": "code",
   "execution_count": 13,
   "id": "ed894b3b-659e-49a8-8d36-9a3b8bb429a7",
   "metadata": {},
   "outputs": [
    {
     "data": {
      "text/plain": [
       "reason\n",
       "stop         4093\n",
       "length         15\n",
       "copyright       2\n",
       "Name: count, dtype: int64"
      ]
     },
     "execution_count": 13,
     "metadata": {},
     "output_type": "execute_result"
    }
   ],
   "source": [
    "results_metadata_newlineparen.value_counts(\"reason\")"
   ]
  },
  {
   "cell_type": "code",
   "execution_count": 14,
   "id": "2c6781e6-05ea-4f96-a906-1dedf9cc7176",
   "metadata": {},
   "outputs": [
    {
     "data": {
      "text/plain": [
       "level  reason   \n",
       "2      copyright    2\n",
       "       length       7\n",
       "3      length       4\n",
       "4      length       4\n",
       "Name: count, dtype: int64"
      ]
     },
     "execution_count": 14,
     "metadata": {},
     "output_type": "execute_result"
    }
   ],
   "source": [
    "results_metadata_newlineparen.query(\"reason != 'stop'\").value_counts([\"level\", \"reason\"]).sort_index()"
   ]
  },
  {
   "cell_type": "code",
   "execution_count": 15,
   "id": "020c58c4-bd83-4a1e-a9ae-4b922dd1198a",
   "metadata": {},
   "outputs": [
    {
     "data": {
      "text/plain": [
       "subject                   reason   \n",
       "algebra                   length       3\n",
       "counting_and_probability  length       5\n",
       "geometry                  length       3\n",
       "number_theory             copyright    1\n",
       "                          length       4\n",
       "prealgebra                copyright    1\n",
       "Name: count, dtype: int64"
      ]
     },
     "execution_count": 15,
     "metadata": {},
     "output_type": "execute_result"
    }
   ],
   "source": [
    "results_metadata_newlineparen.query(\"reason != 'stop'\").value_counts([\"subject\", \"reason\"]).sort_index()"
   ]
  },
  {
   "cell_type": "code",
   "execution_count": 16,
   "id": "13e5f412-9faa-45a2-a43f-2e77271fb4ae",
   "metadata": {},
   "outputs": [
    {
     "data": {
      "text/html": [
       "<div>\n",
       "<style scoped>\n",
       "    .dataframe tbody tr th:only-of-type {\n",
       "        vertical-align: middle;\n",
       "    }\n",
       "\n",
       "    .dataframe tbody tr th {\n",
       "        vertical-align: top;\n",
       "    }\n",
       "\n",
       "    .dataframe thead th {\n",
       "        text-align: right;\n",
       "    }\n",
       "</style>\n",
       "<table border=\"1\" class=\"dataframe\">\n",
       "  <thead>\n",
       "    <tr style=\"text-align: right;\">\n",
       "      <th></th>\n",
       "      <th>level</th>\n",
       "      <th>subject</th>\n",
       "      <th>mcq_only</th>\n",
       "      <th>has_asy_problem</th>\n",
       "      <th>has_asy_solution</th>\n",
       "      <th>reason</th>\n",
       "      <th>is_correct</th>\n",
       "      <th>answer</th>\n",
       "      <th>predict</th>\n",
       "      <th>input_tokens</th>\n",
       "      <th>output_tokens</th>\n",
       "      <th>reasoning_tokens</th>\n",
       "    </tr>\n",
       "    <tr>\n",
       "      <th>uid</th>\n",
       "      <th></th>\n",
       "      <th></th>\n",
       "      <th></th>\n",
       "      <th></th>\n",
       "      <th></th>\n",
       "      <th></th>\n",
       "      <th></th>\n",
       "      <th></th>\n",
       "      <th></th>\n",
       "      <th></th>\n",
       "      <th></th>\n",
       "      <th></th>\n",
       "    </tr>\n",
       "  </thead>\n",
       "  <tbody>\n",
       "    <tr>\n",
       "      <th>2007/AMC_10B/24</th>\n",
       "      <td>3</td>\n",
       "      <td>number_theory</td>\n",
       "      <td>False</td>\n",
       "      <td>False</td>\n",
       "      <td>False</td>\n",
       "      <td>length</td>\n",
       "      <td>False</td>\n",
       "      <td>C</td>\n",
       "      <td>None</td>\n",
       "      <td>175</td>\n",
       "      <td>2048</td>\n",
       "      <td>0</td>\n",
       "    </tr>\n",
       "    <tr>\n",
       "      <th>2021/AMC_10A/20</th>\n",
       "      <td>2</td>\n",
       "      <td>counting_and_probability</td>\n",
       "      <td>False</td>\n",
       "      <td>False</td>\n",
       "      <td>False</td>\n",
       "      <td>length</td>\n",
       "      <td>False</td>\n",
       "      <td>D</td>\n",
       "      <td>None</td>\n",
       "      <td>142</td>\n",
       "      <td>2048</td>\n",
       "      <td>0</td>\n",
       "    </tr>\n",
       "    <tr>\n",
       "      <th>2011/AMC_12A/22</th>\n",
       "      <td>4</td>\n",
       "      <td>counting_and_probability</td>\n",
       "      <td>False</td>\n",
       "      <td>False</td>\n",
       "      <td>False</td>\n",
       "      <td>length</td>\n",
       "      <td>False</td>\n",
       "      <td>C</td>\n",
       "      <td>None</td>\n",
       "      <td>206</td>\n",
       "      <td>2048</td>\n",
       "      <td>0</td>\n",
       "    </tr>\n",
       "    <tr>\n",
       "      <th>2004/AMC_12B/22</th>\n",
       "      <td>4</td>\n",
       "      <td>algebra</td>\n",
       "      <td>False</td>\n",
       "      <td>False</td>\n",
       "      <td>False</td>\n",
       "      <td>length</td>\n",
       "      <td>False</td>\n",
       "      <td>C</td>\n",
       "      <td>None</td>\n",
       "      <td>228</td>\n",
       "      <td>2048</td>\n",
       "      <td>0</td>\n",
       "    </tr>\n",
       "    <tr>\n",
       "      <th>2017/AMC_12A/6</th>\n",
       "      <td>2</td>\n",
       "      <td>counting_and_probability</td>\n",
       "      <td>False</td>\n",
       "      <td>False</td>\n",
       "      <td>False</td>\n",
       "      <td>length</td>\n",
       "      <td>False</td>\n",
       "      <td>B</td>\n",
       "      <td>None</td>\n",
       "      <td>208</td>\n",
       "      <td>2048</td>\n",
       "      <td>0</td>\n",
       "    </tr>\n",
       "    <tr>\n",
       "      <th>2022/AMC_10A/13</th>\n",
       "      <td>2</td>\n",
       "      <td>geometry</td>\n",
       "      <td>False</td>\n",
       "      <td>False</td>\n",
       "      <td>False</td>\n",
       "      <td>length</td>\n",
       "      <td>False</td>\n",
       "      <td>C</td>\n",
       "      <td>None</td>\n",
       "      <td>188</td>\n",
       "      <td>2048</td>\n",
       "      <td>0</td>\n",
       "    </tr>\n",
       "    <tr>\n",
       "      <th>2022/AMC_10B/18</th>\n",
       "      <td>2</td>\n",
       "      <td>counting_and_probability</td>\n",
       "      <td>False</td>\n",
       "      <td>False</td>\n",
       "      <td>False</td>\n",
       "      <td>length</td>\n",
       "      <td>False</td>\n",
       "      <td>B</td>\n",
       "      <td>None</td>\n",
       "      <td>338</td>\n",
       "      <td>2048</td>\n",
       "      <td>0</td>\n",
       "    </tr>\n",
       "    <tr>\n",
       "      <th>1993/AHSME/7</th>\n",
       "      <td>2</td>\n",
       "      <td>number_theory</td>\n",
       "      <td>False</td>\n",
       "      <td>False</td>\n",
       "      <td>False</td>\n",
       "      <td>length</td>\n",
       "      <td>False</td>\n",
       "      <td>E</td>\n",
       "      <td>None</td>\n",
       "      <td>211</td>\n",
       "      <td>2048</td>\n",
       "      <td>0</td>\n",
       "    </tr>\n",
       "    <tr>\n",
       "      <th>2018/AMC_12B/14</th>\n",
       "      <td>3</td>\n",
       "      <td>number_theory</td>\n",
       "      <td>False</td>\n",
       "      <td>False</td>\n",
       "      <td>False</td>\n",
       "      <td>length</td>\n",
       "      <td>False</td>\n",
       "      <td>E</td>\n",
       "      <td>None</td>\n",
       "      <td>192</td>\n",
       "      <td>2048</td>\n",
       "      <td>0</td>\n",
       "    </tr>\n",
       "    <tr>\n",
       "      <th>2020/AMC_10B/15</th>\n",
       "      <td>2</td>\n",
       "      <td>number_theory</td>\n",
       "      <td>False</td>\n",
       "      <td>False</td>\n",
       "      <td>False</td>\n",
       "      <td>length</td>\n",
       "      <td>False</td>\n",
       "      <td>D</td>\n",
       "      <td>None</td>\n",
       "      <td>286</td>\n",
       "      <td>2048</td>\n",
       "      <td>0</td>\n",
       "    </tr>\n",
       "    <tr>\n",
       "      <th>2006/AMC_12A/12</th>\n",
       "      <td>3</td>\n",
       "      <td>geometry</td>\n",
       "      <td>False</td>\n",
       "      <td>True</td>\n",
       "      <td>False</td>\n",
       "      <td>length</td>\n",
       "      <td>False</td>\n",
       "      <td>B</td>\n",
       "      <td>None</td>\n",
       "      <td>449</td>\n",
       "      <td>2048</td>\n",
       "      <td>0</td>\n",
       "    </tr>\n",
       "    <tr>\n",
       "      <th>2021/AMC_10B/8</th>\n",
       "      <td>2</td>\n",
       "      <td>algebra</td>\n",
       "      <td>False</td>\n",
       "      <td>True</td>\n",
       "      <td>True</td>\n",
       "      <td>length</td>\n",
       "      <td>False</td>\n",
       "      <td>A</td>\n",
       "      <td>None</td>\n",
       "      <td>930</td>\n",
       "      <td>2048</td>\n",
       "      <td>0</td>\n",
       "    </tr>\n",
       "    <tr>\n",
       "      <th>2021_Fall/AMC_12A/10</th>\n",
       "      <td>2</td>\n",
       "      <td>number_theory</td>\n",
       "      <td>False</td>\n",
       "      <td>False</td>\n",
       "      <td>False</td>\n",
       "      <td>copyright</td>\n",
       "      <td>False</td>\n",
       "      <td>D</td>\n",
       "      <td>None</td>\n",
       "      <td>151</td>\n",
       "      <td>0</td>\n",
       "      <td>0</td>\n",
       "    </tr>\n",
       "    <tr>\n",
       "      <th>2008/AMC_12B/21</th>\n",
       "      <td>4</td>\n",
       "      <td>counting_and_probability</td>\n",
       "      <td>False</td>\n",
       "      <td>False</td>\n",
       "      <td>False</td>\n",
       "      <td>length</td>\n",
       "      <td>False</td>\n",
       "      <td>E</td>\n",
       "      <td>None</td>\n",
       "      <td>249</td>\n",
       "      <td>2048</td>\n",
       "      <td>0</td>\n",
       "    </tr>\n",
       "    <tr>\n",
       "      <th>1950/AHSME/46</th>\n",
       "      <td>4</td>\n",
       "      <td>geometry</td>\n",
       "      <td>True</td>\n",
       "      <td>False</td>\n",
       "      <td>False</td>\n",
       "      <td>length</td>\n",
       "      <td>False</td>\n",
       "      <td>E</td>\n",
       "      <td>None</td>\n",
       "      <td>178</td>\n",
       "      <td>2048</td>\n",
       "      <td>0</td>\n",
       "    </tr>\n",
       "    <tr>\n",
       "      <th>2020/AMC_12B/17</th>\n",
       "      <td>3</td>\n",
       "      <td>algebra</td>\n",
       "      <td>False</td>\n",
       "      <td>False</td>\n",
       "      <td>False</td>\n",
       "      <td>length</td>\n",
       "      <td>False</td>\n",
       "      <td>C</td>\n",
       "      <td>None</td>\n",
       "      <td>191</td>\n",
       "      <td>2048</td>\n",
       "      <td>0</td>\n",
       "    </tr>\n",
       "    <tr>\n",
       "      <th>1958/AHSME/4</th>\n",
       "      <td>2</td>\n",
       "      <td>prealgebra</td>\n",
       "      <td>True</td>\n",
       "      <td>False</td>\n",
       "      <td>False</td>\n",
       "      <td>copyright</td>\n",
       "      <td>False</td>\n",
       "      <td>E</td>\n",
       "      <td>None</td>\n",
       "      <td>159</td>\n",
       "      <td>0</td>\n",
       "      <td>0</td>\n",
       "    </tr>\n",
       "  </tbody>\n",
       "</table>\n",
       "</div>"
      ],
      "text/plain": [
       "                      level                   subject  mcq_only  \\\n",
       "uid                                                               \n",
       "2007/AMC_10B/24           3             number_theory     False   \n",
       "2021/AMC_10A/20           2  counting_and_probability     False   \n",
       "2011/AMC_12A/22           4  counting_and_probability     False   \n",
       "2004/AMC_12B/22           4                   algebra     False   \n",
       "2017/AMC_12A/6            2  counting_and_probability     False   \n",
       "2022/AMC_10A/13           2                  geometry     False   \n",
       "2022/AMC_10B/18           2  counting_and_probability     False   \n",
       "1993/AHSME/7              2             number_theory     False   \n",
       "2018/AMC_12B/14           3             number_theory     False   \n",
       "2020/AMC_10B/15           2             number_theory     False   \n",
       "2006/AMC_12A/12           3                  geometry     False   \n",
       "2021/AMC_10B/8            2                   algebra     False   \n",
       "2021_Fall/AMC_12A/10      2             number_theory     False   \n",
       "2008/AMC_12B/21           4  counting_and_probability     False   \n",
       "1950/AHSME/46             4                  geometry      True   \n",
       "2020/AMC_12B/17           3                   algebra     False   \n",
       "1958/AHSME/4              2                prealgebra      True   \n",
       "\n",
       "                      has_asy_problem  has_asy_solution     reason  \\\n",
       "uid                                                                  \n",
       "2007/AMC_10B/24                 False             False     length   \n",
       "2021/AMC_10A/20                 False             False     length   \n",
       "2011/AMC_12A/22                 False             False     length   \n",
       "2004/AMC_12B/22                 False             False     length   \n",
       "2017/AMC_12A/6                  False             False     length   \n",
       "2022/AMC_10A/13                 False             False     length   \n",
       "2022/AMC_10B/18                 False             False     length   \n",
       "1993/AHSME/7                    False             False     length   \n",
       "2018/AMC_12B/14                 False             False     length   \n",
       "2020/AMC_10B/15                 False             False     length   \n",
       "2006/AMC_12A/12                  True             False     length   \n",
       "2021/AMC_10B/8                   True              True     length   \n",
       "2021_Fall/AMC_12A/10            False             False  copyright   \n",
       "2008/AMC_12B/21                 False             False     length   \n",
       "1950/AHSME/46                   False             False     length   \n",
       "2020/AMC_12B/17                 False             False     length   \n",
       "1958/AHSME/4                    False             False  copyright   \n",
       "\n",
       "                      is_correct answer predict  input_tokens  output_tokens  \\\n",
       "uid                                                                            \n",
       "2007/AMC_10B/24            False      C    None           175           2048   \n",
       "2021/AMC_10A/20            False      D    None           142           2048   \n",
       "2011/AMC_12A/22            False      C    None           206           2048   \n",
       "2004/AMC_12B/22            False      C    None           228           2048   \n",
       "2017/AMC_12A/6             False      B    None           208           2048   \n",
       "2022/AMC_10A/13            False      C    None           188           2048   \n",
       "2022/AMC_10B/18            False      B    None           338           2048   \n",
       "1993/AHSME/7               False      E    None           211           2048   \n",
       "2018/AMC_12B/14            False      E    None           192           2048   \n",
       "2020/AMC_10B/15            False      D    None           286           2048   \n",
       "2006/AMC_12A/12            False      B    None           449           2048   \n",
       "2021/AMC_10B/8             False      A    None           930           2048   \n",
       "2021_Fall/AMC_12A/10       False      D    None           151              0   \n",
       "2008/AMC_12B/21            False      E    None           249           2048   \n",
       "1950/AHSME/46              False      E    None           178           2048   \n",
       "2020/AMC_12B/17            False      C    None           191           2048   \n",
       "1958/AHSME/4               False      E    None           159              0   \n",
       "\n",
       "                      reasoning_tokens  \n",
       "uid                                     \n",
       "2007/AMC_10B/24                      0  \n",
       "2021/AMC_10A/20                      0  \n",
       "2011/AMC_12A/22                      0  \n",
       "2004/AMC_12B/22                      0  \n",
       "2017/AMC_12A/6                       0  \n",
       "2022/AMC_10A/13                      0  \n",
       "2022/AMC_10B/18                      0  \n",
       "1993/AHSME/7                         0  \n",
       "2018/AMC_12B/14                      0  \n",
       "2020/AMC_10B/15                      0  \n",
       "2006/AMC_12A/12                      0  \n",
       "2021/AMC_10B/8                       0  \n",
       "2021_Fall/AMC_12A/10                 0  \n",
       "2008/AMC_12B/21                      0  \n",
       "1950/AHSME/46                        0  \n",
       "2020/AMC_12B/17                      0  \n",
       "1958/AHSME/4                         0  "
      ]
     },
     "execution_count": 16,
     "metadata": {},
     "output_type": "execute_result"
    }
   ],
   "source": [
    "results_metadata_newlineparen.query(\"reason != 'stop'\")"
   ]
  },
  {
   "cell_type": "code",
   "execution_count": 17,
   "id": "a78443c1-fa11-47ba-9cdd-b941fba9822b",
   "metadata": {},
   "outputs": [
    {
     "data": {
      "text/plain": [
       "{'parts': [{'text': 'Problem:\\nIn the expression $\\\\frac{x + 1}{x - 1}$ each $x$ is replaced by $\\\\frac{x + 1}{x - 1}$. The resulting expression, evaluated for $x = \\\\frac{1}{2}$, equals:\\n(A) $3$\\n(B) $-3$\\n(C) $1$\\n(D) $-1$\\n(E) $\\\\text{none of these}$'}],\n",
       " 'role': 'user'}"
      ]
     },
     "execution_count": 17,
     "metadata": {},
     "output_type": "execute_result"
    }
   ],
   "source": [
    "raw_response_newlineparen_map[\"1958/AHSME/4\"][\"request\"][\"contents\"][-2]"
   ]
  },
  {
   "cell_type": "code",
   "execution_count": 19,
   "id": "e22e322e-fcea-461a-bf37-0fdad8f74b23",
   "metadata": {},
   "outputs": [
    {
     "data": {
      "text/plain": [
       "{'candidates': [{'citationMetadata': {'citations': [{'endIndex': 428,\n",
       "      'startIndex': 213,\n",
       "      'uri': 'https://www.coursehero.com/textbook-solutions/verify-that-the-functions-are-inverses-by-showing-that-f-g-and-g-f-are-the-identity-9781305652231-1314/Chapter-3-Problem-36-2231764/'}]},\n",
       "   'finishReason': 'RECITATION'}],\n",
       " 'modelVersion': 'gemini-1.5-pro-002@default',\n",
       " 'usageMetadata': {'promptTokenCount': 159, 'totalTokenCount': 159}}"
      ]
     },
     "execution_count": 19,
     "metadata": {},
     "output_type": "execute_result"
    }
   ],
   "source": [
    "raw_response_newlineparen_map[\"1958/AHSME/4\"][\"response\"]"
   ]
  },
  {
   "cell_type": "markdown",
   "id": "7c0408f2-d6b4-44fc-851d-f896ebf3c561",
   "metadata": {},
   "source": [
    "## Accuracy"
   ]
  },
  {
   "cell_type": "code",
   "execution_count": 20,
   "id": "4aac8d33-e45f-4822-b0f4-b08bce821b7e",
   "metadata": {},
   "outputs": [
    {
     "data": {
      "text/html": [
       "<div>\n",
       "<style scoped>\n",
       "    .dataframe tbody tr th:only-of-type {\n",
       "        vertical-align: middle;\n",
       "    }\n",
       "\n",
       "    .dataframe tbody tr th {\n",
       "        vertical-align: top;\n",
       "    }\n",
       "\n",
       "    .dataframe thead th {\n",
       "        text-align: right;\n",
       "    }\n",
       "</style>\n",
       "<table border=\"1\" class=\"dataframe\">\n",
       "  <thead>\n",
       "    <tr style=\"text-align: right;\">\n",
       "      <th></th>\n",
       "      <th>count</th>\n",
       "      <th>accuracy</th>\n",
       "    </tr>\n",
       "    <tr>\n",
       "      <th>level</th>\n",
       "      <th></th>\n",
       "      <th></th>\n",
       "    </tr>\n",
       "  </thead>\n",
       "  <tbody>\n",
       "    <tr>\n",
       "      <th>1</th>\n",
       "      <td>858</td>\n",
       "      <td>87.645688</td>\n",
       "    </tr>\n",
       "    <tr>\n",
       "      <th>2</th>\n",
       "      <td>1612</td>\n",
       "      <td>86.228288</td>\n",
       "    </tr>\n",
       "    <tr>\n",
       "      <th>3</th>\n",
       "      <td>1136</td>\n",
       "      <td>76.232394</td>\n",
       "    </tr>\n",
       "    <tr>\n",
       "      <th>4</th>\n",
       "      <td>504</td>\n",
       "      <td>64.484127</td>\n",
       "    </tr>\n",
       "  </tbody>\n",
       "</table>\n",
       "</div>"
      ],
      "text/plain": [
       "       count   accuracy\n",
       "level                  \n",
       "1        858  87.645688\n",
       "2       1612  86.228288\n",
       "3       1136  76.232394\n",
       "4        504  64.484127"
      ]
     },
     "execution_count": 20,
     "metadata": {},
     "output_type": "execute_result"
    }
   ],
   "source": [
    "accuracy_by_split(results_metadata_newlineparen, \"level\")"
   ]
  },
  {
   "cell_type": "code",
   "execution_count": 21,
   "id": "74739352-8f2c-4c51-a294-1823c8700c7d",
   "metadata": {},
   "outputs": [
    {
     "data": {
      "text/html": [
       "<div>\n",
       "<style scoped>\n",
       "    .dataframe tbody tr th:only-of-type {\n",
       "        vertical-align: middle;\n",
       "    }\n",
       "\n",
       "    .dataframe tbody tr th {\n",
       "        vertical-align: top;\n",
       "    }\n",
       "\n",
       "    .dataframe thead th {\n",
       "        text-align: right;\n",
       "    }\n",
       "</style>\n",
       "<table border=\"1\" class=\"dataframe\">\n",
       "  <thead>\n",
       "    <tr style=\"text-align: right;\">\n",
       "      <th></th>\n",
       "      <th>count</th>\n",
       "      <th>accuracy</th>\n",
       "    </tr>\n",
       "    <tr>\n",
       "      <th>subject</th>\n",
       "      <th></th>\n",
       "      <th></th>\n",
       "    </tr>\n",
       "  </thead>\n",
       "  <tbody>\n",
       "    <tr>\n",
       "      <th>algebra</th>\n",
       "      <td>872</td>\n",
       "      <td>87.155963</td>\n",
       "    </tr>\n",
       "    <tr>\n",
       "      <th>counting_and_probability</th>\n",
       "      <td>600</td>\n",
       "      <td>71.000000</td>\n",
       "    </tr>\n",
       "    <tr>\n",
       "      <th>geometry</th>\n",
       "      <td>1071</td>\n",
       "      <td>73.669468</td>\n",
       "    </tr>\n",
       "    <tr>\n",
       "      <th>number_theory</th>\n",
       "      <td>473</td>\n",
       "      <td>79.915433</td>\n",
       "    </tr>\n",
       "    <tr>\n",
       "      <th>prealgebra</th>\n",
       "      <td>957</td>\n",
       "      <td>92.163009</td>\n",
       "    </tr>\n",
       "    <tr>\n",
       "      <th>precalculus</th>\n",
       "      <td>137</td>\n",
       "      <td>71.532847</td>\n",
       "    </tr>\n",
       "  </tbody>\n",
       "</table>\n",
       "</div>"
      ],
      "text/plain": [
       "                          count   accuracy\n",
       "subject                                   \n",
       "algebra                     872  87.155963\n",
       "counting_and_probability    600  71.000000\n",
       "geometry                   1071  73.669468\n",
       "number_theory               473  79.915433\n",
       "prealgebra                  957  92.163009\n",
       "precalculus                 137  71.532847"
      ]
     },
     "execution_count": 21,
     "metadata": {},
     "output_type": "execute_result"
    }
   ],
   "source": [
    "accuracy_by_split(results_metadata_newlineparen, \"subject\")"
   ]
  },
  {
   "cell_type": "markdown",
   "id": "ce7abe18-ea7e-4806-abca-c02a11202c43",
   "metadata": {},
   "source": [
    "## Look at some outputs"
   ]
  },
  {
   "cell_type": "code",
   "execution_count": 29,
   "id": "84fb131a-84cc-4ce1-b34a-975731704f74",
   "metadata": {},
   "outputs": [
    {
     "data": {
      "application/vnd.jupyter.widget-view+json": {
       "model_id": "c78144e8e3aa4bf4b05256fbcd8e9e3f",
       "version_major": 2,
       "version_minor": 0
      },
      "text/plain": [
       "  0%|          | 0/3797 [00:00<?, ?it/s]"
      ]
     },
     "metadata": {},
     "output_type": "display_data"
    }
   ],
   "source": [
    "fname_zeroshot = BASEDIR / \"outputs/short_answer/gemini-1.5-pro-002/outputs.jsonl\"\n",
    "\n",
    "raw_responses_zeroshot = read_jsonl(fname_zeroshot)\n",
    "responses_zeroshot = [\n",
    "    {\n",
    "        \"uid\": x[\"custom_id\"],\n",
    "        \"system\": x[\"request\"][\"system_instruction\"],\n",
    "        \"prompt\": x[\"request\"][\"contents\"],\n",
    "        \"response\": ModelResponse.from_response(x[\"response\"], \"google\", use_batch_api=True)\n",
    "    }\n",
    "    for x in raw_responses_zeroshot\n",
    "    if x[\"custom_id\"] in dataset_map and x[\"custom_id\"] != \"1950/AHSME/44\"\n",
    "]\n",
    "raw_response_zeroshot_map = {x[\"custom_id\"]: x for x in raw_responses_zeroshot if x[\"custom_id\"] in dataset_map}\n",
    "response_zeroshot_map = {o[\"uid\"]: o for o in responses_zeroshot}\n",
    "\n",
    "answer_check_dicts_zeroshot = make_answer_check_dict_from_jsonl(responses_zeroshot, dataset_map)\n",
    "answer_check_results_zeroshot = latex_answer_check(answer_check_dicts_zeroshot, use_tqdm=True)\n",
    "zeroshot_results_metadata = make_results_df(responses_zeroshot, answer_check_results_zeroshot, dataset_map, mode=\"shortans\")"
   ]
  },
  {
   "cell_type": "code",
   "execution_count": 22,
   "id": "350e3e78-eb81-43cc-8420-3b523f49b30b",
   "metadata": {},
   "outputs": [],
   "source": [
    "shortans_results = pd.read_csv(BASEDIR / \"results/gemini-1.5-pro-002/results.csv\").set_index(\"uid\")"
   ]
  },
  {
   "cell_type": "code",
   "execution_count": 23,
   "id": "7c49cb06-3bdb-46a8-a8d6-30b0b2248639",
   "metadata": {},
   "outputs": [],
   "source": [
    "df = pd.concat([\n",
    "    results_metadata_newlineparen.set_index([\"level\", \"subject\"], append=True).assign(mode=\"multiple_choice\"),\n",
    "    shortans_results.set_index([\"level\", \"subject\"], append=True).assign(mode=\"short_answer\"),\n",
    "]).set_index(\"mode\", append=True)"
   ]
  },
  {
   "cell_type": "code",
   "execution_count": 24,
   "id": "5141478b-c63e-42c5-bf95-92c42e7c5f2c",
   "metadata": {},
   "outputs": [
    {
     "name": "stdout",
     "output_type": "stream",
     "text": [
      "3797\n"
     ]
    },
    {
     "data": {
      "text/html": [
       "<div>\n",
       "<style scoped>\n",
       "    .dataframe tbody tr th:only-of-type {\n",
       "        vertical-align: middle;\n",
       "    }\n",
       "\n",
       "    .dataframe tbody tr th {\n",
       "        vertical-align: top;\n",
       "    }\n",
       "\n",
       "    .dataframe thead th {\n",
       "        text-align: right;\n",
       "    }\n",
       "</style>\n",
       "<table border=\"1\" class=\"dataframe\">\n",
       "  <thead>\n",
       "    <tr style=\"text-align: right;\">\n",
       "      <th></th>\n",
       "      <th></th>\n",
       "      <th></th>\n",
       "      <th>mcq_only_mc</th>\n",
       "      <th>reason_mc</th>\n",
       "      <th>is_correct_mc</th>\n",
       "      <th>answer_mc</th>\n",
       "      <th>predict_mc</th>\n",
       "      <th>input_tokens_mc</th>\n",
       "      <th>output_tokens_mc</th>\n",
       "      <th>reasoning_tokens_mc</th>\n",
       "      <th>mcq_only</th>\n",
       "      <th>has_asy_problem</th>\n",
       "      <th>has_asy_solution</th>\n",
       "      <th>reason</th>\n",
       "      <th>is_correct</th>\n",
       "      <th>answer</th>\n",
       "      <th>predict</th>\n",
       "      <th>input_tokens</th>\n",
       "      <th>output_tokens</th>\n",
       "      <th>reasoning_tokens</th>\n",
       "    </tr>\n",
       "    <tr>\n",
       "      <th>uid</th>\n",
       "      <th>level</th>\n",
       "      <th>subject</th>\n",
       "      <th></th>\n",
       "      <th></th>\n",
       "      <th></th>\n",
       "      <th></th>\n",
       "      <th></th>\n",
       "      <th></th>\n",
       "      <th></th>\n",
       "      <th></th>\n",
       "      <th></th>\n",
       "      <th></th>\n",
       "      <th></th>\n",
       "      <th></th>\n",
       "      <th></th>\n",
       "      <th></th>\n",
       "      <th></th>\n",
       "      <th></th>\n",
       "      <th></th>\n",
       "      <th></th>\n",
       "    </tr>\n",
       "  </thead>\n",
       "  <tbody>\n",
       "    <tr>\n",
       "      <th>2024/AMC_8/12</th>\n",
       "      <th>1</th>\n",
       "      <th>algebra</th>\n",
       "      <td>False</td>\n",
       "      <td>stop</td>\n",
       "      <td>True</td>\n",
       "      <td>E</td>\n",
       "      <td>e</td>\n",
       "      <td>200</td>\n",
       "      <td>315</td>\n",
       "      <td>0</td>\n",
       "      <td>False</td>\n",
       "      <td>False</td>\n",
       "      <td>False</td>\n",
       "      <td>stop</td>\n",
       "      <td>True</td>\n",
       "      <td>$26$</td>\n",
       "      <td>26</td>\n",
       "      <td>152</td>\n",
       "      <td>243</td>\n",
       "      <td>0</td>\n",
       "    </tr>\n",
       "    <tr>\n",
       "      <th>2012/AMC_8/3</th>\n",
       "      <th>1</th>\n",
       "      <th>prealgebra</th>\n",
       "      <td>False</td>\n",
       "      <td>stop</td>\n",
       "      <td>True</td>\n",
       "      <td>B</td>\n",
       "      <td>b</td>\n",
       "      <td>244</td>\n",
       "      <td>308</td>\n",
       "      <td>0</td>\n",
       "      <td>False</td>\n",
       "      <td>False</td>\n",
       "      <td>False</td>\n",
       "      <td>stop</td>\n",
       "      <td>False</td>\n",
       "      <td>$\\hspace{.05in}5:21\\textsc{pm}$</td>\n",
       "      <td>\\boxed{5:21\\text{pm}}</td>\n",
       "      <td>136</td>\n",
       "      <td>192</td>\n",
       "      <td>0</td>\n",
       "    </tr>\n",
       "    <tr>\n",
       "      <th>2005/AMC_12B/7</th>\n",
       "      <th>2</th>\n",
       "      <th>geometry</th>\n",
       "      <td>False</td>\n",
       "      <td>stop</td>\n",
       "      <td>True</td>\n",
       "      <td>D</td>\n",
       "      <td>d</td>\n",
       "      <td>125</td>\n",
       "      <td>499</td>\n",
       "      <td>0</td>\n",
       "      <td>False</td>\n",
       "      <td>False</td>\n",
       "      <td>True</td>\n",
       "      <td>stop</td>\n",
       "      <td>True</td>\n",
       "      <td>$24$</td>\n",
       "      <td>24</td>\n",
       "      <td>78</td>\n",
       "      <td>619</td>\n",
       "      <td>0</td>\n",
       "    </tr>\n",
       "    <tr>\n",
       "      <th>2022/AMC_12B/25</th>\n",
       "      <th>4</th>\n",
       "      <th>geometry</th>\n",
       "      <td>False</td>\n",
       "      <td>stop</td>\n",
       "      <td>False</td>\n",
       "      <td>B</td>\n",
       "      <td>c</td>\n",
       "      <td>444</td>\n",
       "      <td>674</td>\n",
       "      <td>0</td>\n",
       "      <td>False</td>\n",
       "      <td>True</td>\n",
       "      <td>True</td>\n",
       "      <td>stop</td>\n",
       "      <td>False</td>\n",
       "      <td>$-4$</td>\n",
       "      <td>9</td>\n",
       "      <td>398</td>\n",
       "      <td>479</td>\n",
       "      <td>0</td>\n",
       "    </tr>\n",
       "    <tr>\n",
       "      <th>2023/AMC_10B/15</th>\n",
       "      <th>2</th>\n",
       "      <th>number_theory</th>\n",
       "      <td>False</td>\n",
       "      <td>stop</td>\n",
       "      <td>False</td>\n",
       "      <td>C</td>\n",
       "      <td>d</td>\n",
       "      <td>147</td>\n",
       "      <td>978</td>\n",
       "      <td>0</td>\n",
       "      <td>False</td>\n",
       "      <td>False</td>\n",
       "      <td>False</td>\n",
       "      <td>stop</td>\n",
       "      <td>False</td>\n",
       "      <td>$70$</td>\n",
       "      <td>2145</td>\n",
       "      <td>92</td>\n",
       "      <td>555</td>\n",
       "      <td>0</td>\n",
       "    </tr>\n",
       "  </tbody>\n",
       "</table>\n",
       "</div>"
      ],
      "text/plain": [
       "                                     mcq_only_mc reason_mc  is_correct_mc  \\\n",
       "uid             level subject                                               \n",
       "2024/AMC_8/12   1     algebra              False      stop           True   \n",
       "2012/AMC_8/3    1     prealgebra           False      stop           True   \n",
       "2005/AMC_12B/7  2     geometry             False      stop           True   \n",
       "2022/AMC_12B/25 4     geometry             False      stop          False   \n",
       "2023/AMC_10B/15 2     number_theory        False      stop          False   \n",
       "\n",
       "                                    answer_mc predict_mc  input_tokens_mc  \\\n",
       "uid             level subject                                               \n",
       "2024/AMC_8/12   1     algebra               E          e              200   \n",
       "2012/AMC_8/3    1     prealgebra            B          b              244   \n",
       "2005/AMC_12B/7  2     geometry              D          d              125   \n",
       "2022/AMC_12B/25 4     geometry              B          c              444   \n",
       "2023/AMC_10B/15 2     number_theory         C          d              147   \n",
       "\n",
       "                                     output_tokens_mc  reasoning_tokens_mc  \\\n",
       "uid             level subject                                                \n",
       "2024/AMC_8/12   1     algebra                     315                    0   \n",
       "2012/AMC_8/3    1     prealgebra                  308                    0   \n",
       "2005/AMC_12B/7  2     geometry                    499                    0   \n",
       "2022/AMC_12B/25 4     geometry                    674                    0   \n",
       "2023/AMC_10B/15 2     number_theory               978                    0   \n",
       "\n",
       "                                     mcq_only  has_asy_problem  \\\n",
       "uid             level subject                                    \n",
       "2024/AMC_8/12   1     algebra           False            False   \n",
       "2012/AMC_8/3    1     prealgebra        False            False   \n",
       "2005/AMC_12B/7  2     geometry          False            False   \n",
       "2022/AMC_12B/25 4     geometry          False             True   \n",
       "2023/AMC_10B/15 2     number_theory     False            False   \n",
       "\n",
       "                                     has_asy_solution reason  is_correct  \\\n",
       "uid             level subject                                              \n",
       "2024/AMC_8/12   1     algebra                   False   stop        True   \n",
       "2012/AMC_8/3    1     prealgebra                False   stop       False   \n",
       "2005/AMC_12B/7  2     geometry                   True   stop        True   \n",
       "2022/AMC_12B/25 4     geometry                   True   stop       False   \n",
       "2023/AMC_10B/15 2     number_theory             False   stop       False   \n",
       "\n",
       "                                                              answer  \\\n",
       "uid             level subject                                          \n",
       "2024/AMC_8/12   1     algebra                                   $26$   \n",
       "2012/AMC_8/3    1     prealgebra     $\\hspace{.05in}5:21\\textsc{pm}$   \n",
       "2005/AMC_12B/7  2     geometry                                  $24$   \n",
       "2022/AMC_12B/25 4     geometry                                  $-4$   \n",
       "2023/AMC_10B/15 2     number_theory                             $70$   \n",
       "\n",
       "                                                   predict  input_tokens  \\\n",
       "uid             level subject                                              \n",
       "2024/AMC_8/12   1     algebra                           26           152   \n",
       "2012/AMC_8/3    1     prealgebra     \\boxed{5:21\\text{pm}}           136   \n",
       "2005/AMC_12B/7  2     geometry                          24            78   \n",
       "2022/AMC_12B/25 4     geometry                           9           398   \n",
       "2023/AMC_10B/15 2     number_theory                   2145            92   \n",
       "\n",
       "                                     output_tokens  reasoning_tokens  \n",
       "uid             level subject                                         \n",
       "2024/AMC_8/12   1     algebra                  243                 0  \n",
       "2012/AMC_8/3    1     prealgebra               192                 0  \n",
       "2005/AMC_12B/7  2     geometry                 619                 0  \n",
       "2022/AMC_12B/25 4     geometry                 479                 0  \n",
       "2023/AMC_10B/15 2     number_theory            555                 0  "
      ]
     },
     "execution_count": 24,
     "metadata": {},
     "output_type": "execute_result"
    }
   ],
   "source": [
    "df = pd.merge(\n",
    "    results_metadata_newlineparen.set_index([\"level\", \"subject\"], append=True),\n",
    "    shortans_results.set_index([\"level\", \"subject\"], append=True),\n",
    "    left_index=True,\n",
    "    right_index=True,\n",
    "    suffixes=(\"_mc\", \"\"),\n",
    ").drop(columns=[\"has_asy_problem_mc\", \"has_asy_solution_mc\"])\n",
    "print(len(df))\n",
    "df.head()"
   ]
  },
  {
   "cell_type": "code",
   "execution_count": 39,
   "id": "09acb38d-b2d8-4fa3-8a4b-7c079396f787",
   "metadata": {},
   "outputs": [
    {
     "data": {
      "text/html": [
       "<div>\n",
       "<style scoped>\n",
       "    .dataframe tbody tr th:only-of-type {\n",
       "        vertical-align: middle;\n",
       "    }\n",
       "\n",
       "    .dataframe tbody tr th {\n",
       "        vertical-align: top;\n",
       "    }\n",
       "\n",
       "    .dataframe thead th {\n",
       "        text-align: right;\n",
       "    }\n",
       "</style>\n",
       "<table border=\"1\" class=\"dataframe\">\n",
       "  <thead>\n",
       "    <tr style=\"text-align: right;\">\n",
       "      <th></th>\n",
       "      <th></th>\n",
       "      <th>mcq_only_mc</th>\n",
       "      <th>reason_mc</th>\n",
       "      <th>is_correct_mc</th>\n",
       "      <th>answer_mc</th>\n",
       "      <th>predict_mc</th>\n",
       "      <th>input_tokens_mc</th>\n",
       "      <th>output_tokens_mc</th>\n",
       "      <th>reasoning_tokens_mc</th>\n",
       "      <th>mcq_only</th>\n",
       "      <th>has_asy_problem</th>\n",
       "      <th>has_asy_solution</th>\n",
       "      <th>reason</th>\n",
       "      <th>is_correct</th>\n",
       "      <th>answer</th>\n",
       "      <th>predict</th>\n",
       "      <th>input_tokens</th>\n",
       "      <th>output_tokens</th>\n",
       "      <th>reasoning_tokens</th>\n",
       "    </tr>\n",
       "    <tr>\n",
       "      <th>level</th>\n",
       "      <th>subject</th>\n",
       "      <th></th>\n",
       "      <th></th>\n",
       "      <th></th>\n",
       "      <th></th>\n",
       "      <th></th>\n",
       "      <th></th>\n",
       "      <th></th>\n",
       "      <th></th>\n",
       "      <th></th>\n",
       "      <th></th>\n",
       "      <th></th>\n",
       "      <th></th>\n",
       "      <th></th>\n",
       "      <th></th>\n",
       "      <th></th>\n",
       "      <th></th>\n",
       "      <th></th>\n",
       "      <th></th>\n",
       "    </tr>\n",
       "  </thead>\n",
       "  <tbody>\n",
       "    <tr>\n",
       "      <th>4</th>\n",
       "      <th>algebra</th>\n",
       "      <td>False</td>\n",
       "      <td>stop</td>\n",
       "      <td>True</td>\n",
       "      <td>A</td>\n",
       "      <td>a</td>\n",
       "      <td>199</td>\n",
       "      <td>902</td>\n",
       "      <td>0</td>\n",
       "      <td>False</td>\n",
       "      <td>False</td>\n",
       "      <td>False</td>\n",
       "      <td>stop</td>\n",
       "      <td>False</td>\n",
       "      <td>$\\dfrac{5}{16}$</td>\n",
       "      <td>1</td>\n",
       "      <td>139</td>\n",
       "      <td>1021</td>\n",
       "      <td>0</td>\n",
       "    </tr>\n",
       "  </tbody>\n",
       "</table>\n",
       "</div>"
      ],
      "text/plain": [
       "               mcq_only_mc reason_mc  is_correct_mc answer_mc predict_mc  \\\n",
       "level subject                                                              \n",
       "4     algebra        False      stop           True         A          a   \n",
       "\n",
       "               input_tokens_mc  output_tokens_mc  reasoning_tokens_mc  \\\n",
       "level subject                                                           \n",
       "4     algebra              199               902                    0   \n",
       "\n",
       "               mcq_only  has_asy_problem  has_asy_solution reason  is_correct  \\\n",
       "level subject                                                                   \n",
       "4     algebra     False            False             False   stop       False   \n",
       "\n",
       "                        answer predict  input_tokens  output_tokens  \\\n",
       "level subject                                                         \n",
       "4     algebra  $\\dfrac{5}{16}$       1           139           1021   \n",
       "\n",
       "               reasoning_tokens  \n",
       "level subject                    \n",
       "4     algebra                 0  "
      ]
     },
     "execution_count": 39,
     "metadata": {},
     "output_type": "execute_result"
    }
   ],
   "source": [
    "df.loc[\"2021_Fall/AMC_12A/23\"]"
   ]
  },
  {
   "cell_type": "code",
   "execution_count": 25,
   "id": "e2731429-e4dc-423d-a70d-295687d831ec",
   "metadata": {},
   "outputs": [
    {
     "data": {
      "text/plain": [
       "has_asy_problem  is_correct\n",
       "False            True          2195\n",
       "                 False         1038\n",
       "True             False          320\n",
       "                 True           244\n",
       "Name: count, dtype: int64"
      ]
     },
     "execution_count": 25,
     "metadata": {},
     "output_type": "execute_result"
    }
   ],
   "source": [
    "df.value_counts([\"has_asy_problem\", \"is_correct\"])"
   ]
  },
  {
   "cell_type": "code",
   "execution_count": 26,
   "id": "36a817a9-f053-4182-a127-2db5c7c2e736",
   "metadata": {},
   "outputs": [
    {
     "data": {
      "text/plain": [
       "has_asy_problem  is_correct_mc\n",
       "False            True             2710\n",
       "                 False             523\n",
       "True             True              355\n",
       "                 False             209\n",
       "Name: count, dtype: int64"
      ]
     },
     "execution_count": 26,
     "metadata": {},
     "output_type": "execute_result"
    }
   ],
   "source": [
    "df.value_counts([\"has_asy_problem\", \"is_correct_mc\"])"
   ]
  },
  {
   "cell_type": "code",
   "execution_count": 30,
   "id": "76c8956b-ec85-4e0e-8f17-40fbd96136ed",
   "metadata": {},
   "outputs": [
    {
     "name": "stdout",
     "output_type": "stream",
     "text": [
      "2021_Fall/AMC_12A/23\n",
      "algebra 4\n",
      "A\n",
      "$\\dfrac{5}{16}$\n",
      "{'A': '$\\\\dfrac{5}{16}$', 'B': '$\\\\dfrac{1}{2}$', 'C': '$\\\\dfrac{5}{8}$', 'D': '$1$', 'E': '$\\\\dfrac{9}{8}$'}\n",
      "Problem:\n",
      "A quadratic polynomial with real coefficients and leading coefficient $1$ is called $\\emph{disrespectful}$ if the equation $p(p(x))=0$ is satisfied by exactly three real numbers. Among all the disrespectful quadratic polynomials, there is a unique such polynomial $\\tilde{p}(x)$ for which the sum of the roots is maximized. What is $\\tilde{p}(1)$?\n",
      "(A) $\\dfrac{5}{16}$\n",
      "(B) $\\dfrac{1}{2}$\n",
      "(C) $\\dfrac{5}{8}$\n",
      "(D) $1$\n",
      "(E) $\\dfrac{9}{8}$\n"
     ]
    },
    {
     "data": {
      "text/markdown": [
       "Let $p(x) = x^2 + bx + c$.\n",
       "Since $p(x)$ is disrespectful, $p(p(x)) = 0$ has exactly three real roots.\n",
       "Let $r_1$ and $r_2$ be the roots of $p(x) = 0$.\n",
       "Then $p(x) = (x-r_1)(x-r_2) = 0$.\n",
       "$p(p(x)) = 0$ implies $p(x) = r_1$ or $p(x) = r_2$.\n",
       "If $r_1 = r_2$, then $p(x) = r_1$ has only one solution, so $p(p(x)) = 0$ has only one solution.\n",
       "If $r_1 \\neq r_2$, then $p(x) = r_1$ has two solutions and $p(x) = r_2$ has two solutions.\n",
       "For $p(p(x)) = 0$ to have exactly three solutions, one of $p(x) = r_1$ or $p(x) = r_2$ must have exactly one solution.\n",
       "This means one of $r_1$ or $r_2$ must be the vertex of $p(x)$.\n",
       "The vertex of $p(x) = x^2 + bx + c$ is at $x = -\\frac{b}{2}$, and the value is $p(-\\frac{b}{2}) = \\frac{b^2}{4} - \\frac{b^2}{2} + c = c - \\frac{b^2}{4}$.\n",
       "So, we have $r_1 = -\\frac{b}{2}$ and $r_2 = c - \\frac{b^2}{4}$.\n",
       "Then $r_1 + r_2 = -\\frac{b}{2} + c - \\frac{b^2}{4}$.\n",
       "We want to maximize $r_1 + r_2$.\n",
       "Since $r_1$ is a double root, we have $p(x) = (x+\\frac{b}{2})^2 = x^2 + bx + \\frac{b^2}{4}$.\n",
       "So $c = \\frac{b^2}{4}$.\n",
       "Then $r_2 = c - \\frac{b^2}{4} = 0$.\n",
       "$r_1 = -\\frac{b}{2}$.\n",
       "$r_1 + r_2 = -\\frac{b}{2}$.\n",
       "We want to maximize this sum, so we want to minimize $b$.\n",
       "Since $p(x) = r_2$ has one solution, $r_2$ is the vertex of $p(x)$.\n",
       "$p(x) = x^2 + bx + \\frac{b^2}{4}$.\n",
       "$p(x) = 0$ has roots $x = -\\frac{b}{2}$.\n",
       "$p(x) = r_2 = 0$ has one solution $x = -\\frac{b}{2}$.\n",
       "$p(x) = r_1$ has two solutions.\n",
       "$r_1 = -\\frac{b}{2}$.\n",
       "$p(x) = -\\frac{b}{2}$.\n",
       "$x^2 + bx + \\frac{b^2}{4} = -\\frac{b}{2}$.\n",
       "$x^2 + bx + \\frac{b^2}{4} + \\frac{b}{2} = 0$.\n",
       "For this to have two solutions, $b^2 - 4(\\frac{b^2}{4} + \\frac{b}{2}) > 0$.\n",
       "$-2b > 0$, so $b < 0$.\n",
       "$r_1 + r_2 = -\\frac{b}{2}$.\n",
       "We want to maximize this, so we want to minimize $b$.\n",
       "$b = -2$.\n",
       "$p(x) = x^2 - 2x + 1 = (x-1)^2$.\n",
       "$p(1) = 0$.\n",
       "Final Answer: The final answer is A. "
      ],
      "text/plain": [
       "<IPython.core.display.Markdown object>"
      ]
     },
     "metadata": {},
     "output_type": "display_data"
    },
    {
     "name": "stdout",
     "output_type": "stream",
     "text": [
      "----------\n"
     ]
    },
    {
     "data": {
      "text/markdown": [
       "Let $p(x) = x^2 + bx + c$.\n",
       "Since $p(x)$ is disrespectful, $p(p(x)) = 0$ has exactly three real roots.\n",
       "Let $r_1$ and $r_2$ be the roots of $p(x) = 0$.\n",
       "Then $p(x) = (x-r_1)(x-r_2) = 0$.\n",
       "$p(p(x)) = 0$ implies $p(x) = r_1$ or $p(x) = r_2$.\n",
       "If $r_1 = r_2$, then $p(x) = r_1$ has only one solution, so $p(p(x)) = 0$ has only one solution, which is not allowed.\n",
       "If $r_1 \\neq r_2$, then $p(x) = r_1$ has two solutions and $p(x) = r_2$ has two solutions.\n",
       "If the two equations have a common root, then $p(x) = r_1$ and $p(x) = r_2$ have a common root $x_0$.\n",
       "Then $r_1 = p(x_0) = r_2$, which is a contradiction.\n",
       "So, we must have one of the equations having two identical roots, and the other having two distinct roots.\n",
       "Without loss of generality, let $r_1$ be the repeated root.\n",
       "Then $p(x) = r_1$ has a repeated root, so $x^2 + bx + c - r_1 = 0$ has a repeated root.\n",
       "The discriminant is $b^2 - 4(c-r_1) = 0$, so $r_1 = c - \\frac{b^2}{4}$.\n",
       "Also, $r_1 + r_2 = -b$ and $r_1 r_2 = c$.\n",
       "So $r_2 = -b - r_1 = -b - c + \\frac{b^2}{4}$.\n",
       "$c = r_1 r_2 = (c - \\frac{b^2}{4})(-b - c + \\frac{b^2}{4})$.\n",
       "$p(x) = r_2$ has two distinct roots.\n",
       "$x^2 + bx + c - r_2 = 0$ has two distinct roots.\n",
       "$b^2 - 4(c-r_2) > 0$.\n",
       "$r_1 = c - \\frac{b^2}{4}$.\n",
       "$r_1 + r_2 = -b$.\n",
       "$r_1 = -b - r_2$.\n",
       "$p(x) = x^2 + bx + c$.\n",
       "$p(x) = r_1$ has a double root.\n",
       "$x^2 + bx + c - r_1 = 0$.\n",
       "$b^2 - 4(c-r_1) = 0$.\n",
       "$r_1 = c - \\frac{b^2}{4}$.\n",
       "$r_1 + r_2 = -b$.\n",
       "$r_2 = -b - r_1 = -b - c + \\frac{b^2}{4}$.\n",
       "$r_1 = -\\frac{b}{2}$.\n",
       "$c - \\frac{b^2}{4} = -\\frac{b}{2}$.\n",
       "$c = \\frac{b^2}{4} - \\frac{b}{2}$.\n",
       "$r_2 = -b - (-\\frac{b}{2}) = -\\frac{b}{2}$.\n",
       "$r_1 = r_2$.\n",
       "$p(x) = x^2 + bx + \\frac{b^2-2b}{4}$.\n",
       "$p(x) = -\\frac{b}{2}$.\n",
       "$x^2 + bx + \\frac{b^2-2b}{4} + \\frac{b}{2} = x^2 + bx + \\frac{b^2}{4} = (x+\\frac{b}{2})^2 = 0$.\n",
       "$x = -\\frac{b}{2}$.\n",
       "$r_1 = r_2 = -\\frac{b}{2}$.\n",
       "$p(1) = 1 + b + \\frac{b^2-2b}{4} = \\frac{b^2+2b+4}{4}$.\n",
       "$b=-2$. $p(x) = x^2 - 2x + 1 = (x-1)^2$.\n",
       "$p(1) = 1$.\n",
       "\n",
       "Final Answer: The final answer is $1$. "
      ],
      "text/plain": [
       "<IPython.core.display.Markdown object>"
      ]
     },
     "metadata": {},
     "output_type": "display_data"
    }
   ],
   "source": [
    "rand_uid = np.random.choice(df.query(\"is_correct_mc and not is_correct and reason_mc == 'stop' and reason == 'stop'\").index)[0]\n",
    "print(rand_uid)\n",
    "print(dataset_map[rand_uid][\"subject\"], dataset_map[rand_uid][\"level\"])\n",
    "print(dataset_map[rand_uid][\"answer_choice\"])\n",
    "print(dataset_map[rand_uid][\"answer\"])\n",
    "print(dataset_map[rand_uid][\"choices\"])\n",
    "print(response_newlineparen_map[rand_uid][\"prompt\"][-2][\"parts\"][0][\"text\"])\n",
    "display(Markdown(response_newlineparen_map[rand_uid][\"response\"].completions[0].completion))\n",
    "print(\"----------\")\n",
    "display(Markdown(response_zeroshot_map[rand_uid][\"response\"].completions[0].completion))"
   ]
  },
  {
   "cell_type": "code",
   "execution_count": 38,
   "id": "85ae14ab-e029-4132-b9ce-2c2a001ad1d6",
   "metadata": {},
   "outputs": [
    {
     "data": {
      "text/markdown": [
       "We are asked to find the product of 200,000 and 200,000.\n",
       "We can write 200,000 as $2 \\times 10^5$.\n",
       "So, $200,000 \\times 200,000 = (2 \\times 10^5) \\times (2 \\times 10^5)$.\n",
       "Using the commutative and associative properties of multiplication, we can rewrite this as $(2 \\times 2) \\times (10^5 \\times 10^5)$.\n",
       "$2 \\times 2 = 4$.\n",
       "$10^5 \\times 10^5 = 10^{5+5} = 10^{10}$.\n",
       "So, $200,000 \\times 200,000 = 4 \\times 10^{10}$.\n",
       "$4 \\times 10^{10} = 40,000,000,000$.\n",
       "\n",
       "Final Answer: The final answer is A. "
      ],
      "text/plain": [
       "<IPython.core.display.Markdown object>"
      ]
     },
     "metadata": {},
     "output_type": "display_data"
    }
   ],
   "source": [
    "display(Markdown(response_contam_map[rand_uid][\"response\"].completions[0].completion))"
   ]
  },
  {
   "cell_type": "code",
   "execution_count": 32,
   "id": "4d7ecc18-a6dd-47ea-bd13-d4bf880971ff",
   "metadata": {},
   "outputs": [
    {
     "name": "stdout",
     "output_type": "stream",
     "text": [
      "1971/AHSME/4\n",
      "prealgebra 2\n",
      "A\n",
      "$11$\n",
      "{'A': '$11$', 'B': '$12$', 'C': '$13$', 'D': '$21$', 'E': '$31$'}\n",
      "Problem:\n",
      "After simple interest for two months at $5$% per annum was credited, a Boy Scout Troop had a total of $\\textdollar 255.31$ in the Council Treasury. The interest credited was a number of dollars plus the following number of cents\n",
      "(A) $11$\n",
      "(B) $12$\n",
      "(C) $13$\n",
      "(D) $21$\n",
      "(E) $31$\n"
     ]
    },
    {
     "data": {
      "text/markdown": [
       "Let $P$ be the principal amount in dollars.\n",
       "The interest rate is $5\\%$ per annum, which is equivalent to $\\frac{5}{100} = 0.05$.\n",
       "The time period is two months, which is $\\frac{2}{12} = \\frac{1}{6}$ years.\n",
       "The simple interest is given by $I = P \\times r \\times t$, where $P$ is the principal, $r$ is the rate, and $t$ is the time.\n",
       "The total amount after two months is $A = P + I = P + P \\times r \\times t = P(1 + rt)$.\n",
       "We are given that the total amount is $255.31$.\n",
       "So, $255.31 = P(1 + 0.05 \\times \\frac{1}{6}) = P(1 + \\frac{0.05}{6}) = P(1 + \\frac{5}{600}) = P(1 + \\frac{1}{120}) = P(\\frac{121}{120})$.\n",
       "Therefore, $P = 255.31 \\times \\frac{120}{121} = \\frac{25531}{100} \\times \\frac{120}{121} = \\frac{3063720}{12100} = 253.2$.\n",
       "The interest credited is $I = 255.31 - 253.2 = 2.11$.\n",
       "The interest credited is $2$ dollars and $11$ cents.\n",
       "\n",
       "Final Answer: The final answer is A. "
      ],
      "text/plain": [
       "<IPython.core.display.Markdown object>"
      ]
     },
     "metadata": {},
     "output_type": "display_data"
    },
    {
     "name": "stdout",
     "output_type": "stream",
     "text": [
      "----------\n"
     ]
    },
    {
     "data": {
      "text/markdown": [
       "Let $P$ be the principal amount in dollars.\n",
       "Let $r$ be the annual interest rate, which is $5\\% = 0.05$.\n",
       "Let $t$ be the time in years. Since the interest is for two months, $t = \\frac{2}{12} = \\frac{1}{6}$ years.\n",
       "\n",
       "The simple interest formula is $I = Prt$.\n",
       "The total amount after interest is credited is $A = P + I = P + Prt = P(1 + rt)$.\n",
       "\n",
       "We are given that the total amount after two months is $255.31. So,\n",
       "$A = 255.31$\n",
       "$P(1 + rt) = 255.31$\n",
       "$P(1 + 0.05 \\times \\frac{1}{6}) = 255.31$\n",
       "$P(1 + \\frac{0.05}{6}) = 255.31$\n",
       "$P(1 + \\frac{5}{600}) = 255.31$\n",
       "$P(1 + \\frac{1}{120}) = 255.31$\n",
       "$P(\\frac{120 + 1}{120}) = 255.31$\n",
       "$P(\\frac{121}{120}) = 255.31$\n",
       "$P = 255.31 \\times \\frac{120}{121}$\n",
       "$P = \\frac{30637.2}{121}$\n",
       "$P = 253.2$\n",
       "\n",
       "The interest credited is $I = A - P = 255.31 - 253.2 = 2.11$.\n",
       "The interest credited is $2.11.\n",
       "\n",
       "Final Answer: The final answer is $2.11. "
      ],
      "text/plain": [
       "<IPython.core.display.Markdown object>"
      ]
     },
     "metadata": {},
     "output_type": "display_data"
    }
   ],
   "source": [
    "# True positive\n",
    "# 2002/AMC_8/6 -- short answer gen misreads the asy diagrams?\n",
    "# A lot of the time, the short answer mode comes up with an answer that isn't an answer choice\n",
    "# I wonder if the choices make it easier, make generations where one of the choices appear at the end more likely, making problems easier\n",
    "rand_uid = \"1971/AHSME/4\" # other examples: 2015/AMC_12A/15, 1999/AHSME/4, 2006/AMC_8/17, 2002/AMC_8/6, 1968/AHSME/18, 2023/AMC_12B/25\n",
    "print(rand_uid)\n",
    "print(dataset_map[rand_uid][\"subject\"], dataset_map[rand_uid][\"level\"])\n",
    "print(dataset_map[rand_uid][\"answer_choice\"])\n",
    "print(dataset_map[rand_uid][\"answer\"])\n",
    "print(dataset_map[rand_uid][\"choices\"])\n",
    "print(response_newlineparen_map[rand_uid][\"prompt\"][-2][\"parts\"][0][\"text\"])\n",
    "display(Markdown(response_newlineparen_map[rand_uid][\"response\"].completions[0].completion))\n",
    "print(\"----------\")\n",
    "display(Markdown(response_zeroshot_map[rand_uid][\"response\"].completions[0].completion))"
   ]
  },
  {
   "cell_type": "code",
   "execution_count": 33,
   "id": "0b97eac6-6c57-44df-91f7-e511884c9566",
   "metadata": {},
   "outputs": [
    {
     "name": "stdout",
     "output_type": "stream",
     "text": [
      "2022/AMC_10A/5\n",
      "geometry 1\n",
      "C\n",
      "$2 - \\sqrt{2}$\n",
      "{'A': '$\\\\frac{\\\\sqrt{2}}{3}$', 'B': '$\\\\frac{1}{2}$', 'C': '$2 - \\\\sqrt{2}$', 'D': '$1 - \\\\frac{\\\\sqrt{2}}{4}$', 'E': '$\\\\frac{2}{3}$'}\n",
      "Problem:\n",
      "Square $ABCD$ has side length $1$. Points $P$, $Q$, $R$, and $S$ each lie on a side of $ABCD$ such that $APQCRS$ is an equilateral convex hexagon with side length $s$. What is $s$?\n",
      "(A) $\\frac{\\sqrt{2}}{3}$\n",
      "(B) $\\frac{1}{2}$\n",
      "(C) $2 - \\sqrt{2}$\n",
      "(D) $1 - \\frac{\\sqrt{2}}{4}$\n",
      "(E) $\\frac{2}{3}$\n"
     ]
    },
    {
     "data": {
      "text/markdown": [
       "Let $x = AP = PB = BQ = QC = CR = RD = DS = SA$.\n",
       "Since the side length of the square is 1, we have $x + s + x = 1$, so $2x + s = 1$.\n",
       "Since $APQCRS$ is an equilateral convex hexagon with side length $s$, we have $AP = PB = BQ = QC = CR = RD = DS = SA = x$.\n",
       "Consider the right triangle formed by $AP$ and $PQ$. Since $AP = x$ and $PQ = s$, we have $x^2 + s^2 = (AQ)^2$.\n",
       "Also, consider the right triangle formed by $AB$ and $BQ$. Since $AB = 1$ and $BQ = x$, we have $1^2 + x^2 = (AQ)^2$.\n",
       "Thus, $x^2 + s^2 = 1 + x^2$, which implies $s^2 = 1$. Since $s$ is a length, $s > 0$, so $s = 1$.\n",
       "However, $2x + s = 1$, so $2x + 1 = 1$, which means $x = 0$. This is not possible since $x$ must be positive.\n",
       "\n",
       "Let's consider the right triangle formed by $AP$ and $PQ$. We have $AP = x$ and $PQ = s$. The angle $\\angle PAQ = 45^\\circ$.\n",
       "The angle $\\angle APQ$ is $180^\\circ - 120^\\circ - 45^\\circ = 15^\\circ$.\n",
       "Using the sine rule in triangle $APQ$, we have $\\frac{s}{\\sin 45^\\circ} = \\frac{x}{\\sin 15^\\circ}$.\n",
       "$s = \\frac{x \\sin 45^\\circ}{\\sin 15^\\circ} = \\frac{x \\frac{\\sqrt{2}}{2}}{\\frac{\\sqrt{6} - \\sqrt{2}}{4}} = \\frac{2\\sqrt{2}x}{\\sqrt{6} - \\sqrt{2}} = \\frac{2\\sqrt{2}x(\\sqrt{6} + \\sqrt{2})}{6 - 2} = \\frac{2\\sqrt{12}x + 4x}{4} = \\frac{4\\sqrt{3}x + 4x}{4} = (\\sqrt{3} + 1)x$.\n",
       "Since $2x + s = 1$, we have $2x + (\\sqrt{3} + 1)x = 1$, so $(3 + \\sqrt{3})x = 1$.\n",
       "$x = \\frac{1}{3 + \\sqrt{3}} = \\frac{3 - \\sqrt{3}}{6}$.\n",
       "$s = 1 - 2x = 1 - 2\\left(\\frac{3 - \\sqrt{3}}{6}\\right) = 1 - \\frac{3 - \\sqrt{3}}{3} = \\frac{3 - 3 + \\sqrt{3}}{3} = \\frac{\\sqrt{3}}{3}$.\n",
       "$s = 1 - 2x = 2 - \\sqrt{2}$.\n",
       "$2x + s = 1$, so $x = \\frac{1-s}{2}$.\n",
       "$x^2 + s^2 = (1-x)^2 + x^2 = 1 - 2x + 2x^2 = 1 - (1-s) + 2(\\frac{1-s}{2})^2 = s + \\frac{1 - 2s + s^2}{2} = \\frac{2s + 1 - 2s + s^2}{2} = \\frac{1+s^2}{2}$.\n",
       "$s^2 = \\frac{1+s^2}{2}$, so $2s^2 = 1 + s^2$, $s^2 = 1$, $s = 1$.\n",
       "\n",
       "Final Answer: The final answer is C. "
      ],
      "text/plain": [
       "<IPython.core.display.Markdown object>"
      ]
     },
     "metadata": {},
     "output_type": "display_data"
    },
    {
     "name": "stdout",
     "output_type": "stream",
     "text": [
      "----------\n"
     ]
    },
    {
     "data": {
      "text/markdown": [
       "Let $AP = x$. Since $APQCRS$ is an equilateral hexagon with side length $s$, we have $AP = PQ = QC = CR = RS = SA = s$.\n",
       "Thus, $x = s$.\n",
       "Since $ABCD$ is a square with side length $1$, we have $AB = BC = CD = DA = 1$.\n",
       "Also, $PB = 1 - AP = 1 - s$.\n",
       "Since $PQ = s$, we have $BQ = \\sqrt{PB^2 + PQ^2}$ by the Pythagorean theorem.\n",
       "$BQ = \\sqrt{(1-s)^2 + s^2} = \\sqrt{1 - 2s + s^2 + s^2} = \\sqrt{2s^2 - 2s + 1}$.\n",
       "Since $PQ = s$, we have $QC = s$.\n",
       "Since $BC = 1$, we have $BQ + QC = 1$, so $BQ = 1 - QC = 1 - s$.\n",
       "Thus, we have $1 - s = \\sqrt{2s^2 - 2s + 1}$.\n",
       "Squaring both sides, we get $(1-s)^2 = 2s^2 - 2s + 1$, so $1 - 2s + s^2 = 2s^2 - 2s + 1$.\n",
       "Then $s^2 = 0$, so $s = 0$.\n",
       "However, $s$ must be positive, so we must have made a mistake.\n",
       "Let $AP = x$. Then $PB = 1-x$.\n",
       "Since $PQ = s$, we have $x = s$.\n",
       "$BQ = \\sqrt{(1-x)^2 + x^2} = \\sqrt{1 - 2x + 2x^2}$.\n",
       "Since $QC = x$, we have $BQ = 1 - x$.\n",
       "So $1 - x = \\sqrt{1 - 2x + 2x^2}$.\n",
       "Squaring both sides, we get $1 - 2x + x^2 = 1 - 2x + 2x^2$, so $x^2 = 0$, which means $x = 0$.\n",
       "Let $AP = BQ = CR = DS = x$ and $PQ = QR = RS = SA = PC = RA = s$.\n",
       "Then $PB = 1-x$.\n",
       "$s^2 = (1-x)^2 + x^2 = 1 - 2x + 2x^2$.\n",
       "Also, $1 = 2x + s$.\n",
       "$s = 1 - 2x$.\n",
       "$s^2 = 1 - 4x + 4x^2$.\n",
       "$1 - 2x + 2x^2 = 1 - 4x + 4x^2$.\n",
       "$2x^2 - 2x = 0$.\n",
       "$2x(x-1) = 0$.\n",
       "$x = 0$ or $x = 1$.\n",
       "If $x = 0$, then $s = 1$.\n",
       "If $x = 1$, then $s = -1$, which is impossible.\n",
       "So $s = 1$.\n",
       "$1 = 2x + s$.\n",
       "$1 = 2s + s = 3s$.\n",
       "$s = \\frac{1}{3}$.\n",
       "$1 - 2s + 2s^2 = s^2$.\n",
       "$s^2 - 2s + 1 = 0$.\n",
       "$(s-1)^2 = 0$.\n",
       "$s = 1$.\n",
       "$1 = 2x + s$.\n",
       "$1 = 2(\\frac{1}{3}) + s$.\n",
       "$1 = \\frac{2}{3} + s$.\n",
       "$s = \\frac{1}{3}$.\n",
       "\n",
       "Final Answer: The final answer is $\\frac{1}{3}$. "
      ],
      "text/plain": [
       "<IPython.core.display.Markdown object>"
      ]
     },
     "metadata": {},
     "output_type": "display_data"
    }
   ],
   "source": [
    "# False positive\n",
    "rand_uid = \"2022/AMC_10A/5\"  # others: 1991/AHSME/23\n",
    "print(rand_uid)\n",
    "print(dataset_map[rand_uid][\"subject\"], dataset_map[rand_uid][\"level\"])\n",
    "print(dataset_map[rand_uid][\"answer_choice\"])\n",
    "print(dataset_map[rand_uid][\"answer\"])\n",
    "print(dataset_map[rand_uid][\"choices\"])\n",
    "print(response_newlineparen_map[rand_uid][\"prompt\"][-2][\"parts\"][0][\"text\"])\n",
    "display(Markdown(response_newlineparen_map[rand_uid][\"response\"].completions[0].completion))\n",
    "print(\"----------\")\n",
    "display(Markdown(response_zeroshot_map[rand_uid][\"response\"].completions[0].completion))"
   ]
  },
  {
   "cell_type": "code",
   "execution_count": 34,
   "id": "f95c1fb5-88bb-43dc-a22a-068bcc6738f9",
   "metadata": {},
   "outputs": [
    {
     "name": "stdout",
     "output_type": "stream",
     "text": [
      "1991/AJHSME/3\n",
      "prealgebra 1\n",
      "E\n",
      "$\\text{forty billion}$\n",
      "{'A': '$\\\\text{four hundred thousand}$', 'B': '$\\\\text{four million}$', 'C': '$\\\\text{forty thousand}$', 'D': '$\\\\text{four hundred million}$', 'E': '$\\\\text{forty billion}$'}\n",
      "Problem:\n",
      "Two hundred thousand times two hundred thousand equals\n",
      "(A) $\\text{four hundred thousand}$\n",
      "(B) $\\text{four million}$\n",
      "(C) $\\text{forty thousand}$\n",
      "(D) $\\text{four hundred million}$\n",
      "(E) $\\text{forty billion}$\n"
     ]
    },
    {
     "data": {
      "text/markdown": [
       "We are asked to find the product of $200,000$ and $200,000$.\n",
       "We can write $200,000$ as $2 \\times 100,000 = 2 \\times 10^5$.\n",
       "Then, $200,000 \\times 200,000 = (2 \\times 10^5) \\times (2 \\times 10^5)$.\n",
       "We can rewrite this as $(2 \\times 2) \\times (10^5 \\times 10^5)$.\n",
       "$2 \\times 2 = 4$.\n",
       "$10^5 \\times 10^5 = 10^{5+5} = 10^{10}$.\n",
       "So, $200,000 \\times 200,000 = 4 \\times 10^{10}$.\n",
       "$4 \\times 10^{10} = 40,000,000,000$.\n",
       "This number is forty billion.\n",
       "\n",
       "Final Answer: The final answer is E. "
      ],
      "text/plain": [
       "<IPython.core.display.Markdown object>"
      ]
     },
     "metadata": {},
     "output_type": "display_data"
    },
    {
     "name": "stdout",
     "output_type": "stream",
     "text": [
      "----------\n"
     ]
    },
    {
     "data": {
      "text/markdown": [
       "We are asked to multiply 200,000 by 200,000.\n",
       "We can write 200,000 as $2 \\times 10^5$.\n",
       "So, we have $(2 \\times 10^5) \\times (2 \\times 10^5)$.\n",
       "We can rewrite this as $(2 \\times 2) \\times (10^5 \\times 10^5)$.\n",
       "$2 \\times 2 = 4$.\n",
       "$10^5 \\times 10^5 = 10^{5+5} = 10^{10}$.\n",
       "So, we have $4 \\times 10^{10}$.\n",
       "This is equal to 4 followed by 10 zeros, which is 40,000,000,000.\n",
       "\n",
       "Final Answer: The final answer is $40,000,000,000$. "
      ],
      "text/plain": [
       "<IPython.core.display.Markdown object>"
      ]
     },
     "metadata": {},
     "output_type": "display_data"
    }
   ],
   "source": [
    "# False negatives\n",
    "# by answer checker: 1991/AJHSME/3\n",
    "# by actually needing choices: 1990/AJHSME/4\n",
    "# needs reparse: 2012/AMC_8/10\n",
    "rand_uid = \"1991/AJHSME/3\"\n",
    "print(rand_uid)\n",
    "print(dataset_map[rand_uid][\"subject\"], dataset_map[rand_uid][\"level\"])\n",
    "print(dataset_map[rand_uid][\"answer_choice\"])\n",
    "print(dataset_map[rand_uid][\"answer\"])\n",
    "print(dataset_map[rand_uid][\"choices\"])\n",
    "print(response_newlineparen_map[rand_uid][\"prompt\"][-2][\"parts\"][0][\"text\"])\n",
    "display(Markdown(response_newlineparen_map[rand_uid][\"response\"].completions[0].completion))\n",
    "print(\"----------\")\n",
    "display(Markdown(response_zeroshot_map[rand_uid][\"response\"].completions[0].completion))"
   ]
  },
  {
   "cell_type": "markdown",
   "id": "88c5edc7-9fa4-4e62-b0f2-1a84d557a33e",
   "metadata": {},
   "source": [
    "# Contam study -- no choices given"
   ]
  },
  {
   "cell_type": "code",
   "execution_count": 36,
   "id": "bad673a0-94f5-4613-ab77-99c403de23e7",
   "metadata": {},
   "outputs": [
    {
     "data": {
      "application/vnd.jupyter.widget-view+json": {
       "model_id": "1e32252376574d56865822635cb4bb5c",
       "version_major": 2,
       "version_minor": 0
      },
      "text/plain": [
       "  0%|          | 0/4110 [00:00<?, ?it/s]"
      ]
     },
     "metadata": {},
     "output_type": "display_data"
    },
    {
     "data": {
      "text/plain": [
       "19.97566909975669"
      ]
     },
     "execution_count": 36,
     "metadata": {},
     "output_type": "execute_result"
    }
   ],
   "source": [
    "fname_contam = BASEDIR / \"outputs/mcq/gemini-1.5-pro-002/outputs_none.jsonl\"\n",
    "\n",
    "raw_responses_contam = read_jsonl(fname_contam)\n",
    "responses_contam = [\n",
    "    {\n",
    "        \"uid\": x[\"custom_id\"],\n",
    "        \"system\": x[\"request\"][\"system_instruction\"],\n",
    "        \"prompt\": x[\"request\"][\"contents\"],\n",
    "        \"response\": ModelResponse.from_response(x[\"response\"], \"google\", use_batch_api=True)\n",
    "    }\n",
    "    for x in raw_responses_contam\n",
    "    if x[\"custom_id\"] in dataset_map\n",
    "]\n",
    "raw_response_contam_map = {x[\"custom_id\"]: x for x in raw_responses_contam if x[\"custom_id\"] in dataset_map}\n",
    "response_contam_map = {o[\"uid\"]: o for o in responses_contam}\n",
    "\n",
    "answer_check_dicts_contam = make_answer_check_dict_from_jsonl(responses_contam, dataset_map)\n",
    "answer_check_results_contam = latex_answer_choice_check(answer_check_dicts_contam, use_tqdm=True)\n",
    "results_metadata_contam = make_results_df(responses_contam, answer_check_results_contam, dataset_map, mode=\"mcq\")\n",
    "\n",
    "sum([x[\"is_correct\"] for x in answer_check_results_contam]) / len(dataset) * 100"
   ]
  },
  {
   "cell_type": "code",
   "execution_count": 63,
   "id": "8b0a6c24-0982-4f33-aa33-14319fc1c380",
   "metadata": {},
   "outputs": [],
   "source": [
    "os.makedirs(BASEDIR / \"results/gemini-1.5-pro-002\", exist_ok=True)\n",
    "results_metadata_contam.to_csv(BASEDIR / \"results/gemini-1.5-pro-002/results_mcq_nochoices.csv\")"
   ]
  },
  {
   "cell_type": "code",
   "execution_count": 37,
   "id": "0509fd38-6b1f-4da2-b584-a4afc2f3cd4d",
   "metadata": {},
   "outputs": [
    {
     "data": {
      "text/plain": [
       "reason\n",
       "stop         4099\n",
       "length          9\n",
       "copyright       2\n",
       "Name: count, dtype: int64"
      ]
     },
     "execution_count": 37,
     "metadata": {},
     "output_type": "execute_result"
    }
   ],
   "source": [
    "results_metadata_contam.value_counts(\"reason\")"
   ]
  },
  {
   "cell_type": "code",
   "execution_count": 40,
   "id": "f5ac9a22-b78e-4238-aed0-74ff109f458d",
   "metadata": {},
   "outputs": [
    {
     "data": {
      "text/html": [
       "<div>\n",
       "<style scoped>\n",
       "    .dataframe tbody tr th:only-of-type {\n",
       "        vertical-align: middle;\n",
       "    }\n",
       "\n",
       "    .dataframe tbody tr th {\n",
       "        vertical-align: top;\n",
       "    }\n",
       "\n",
       "    .dataframe thead th {\n",
       "        text-align: right;\n",
       "    }\n",
       "</style>\n",
       "<table border=\"1\" class=\"dataframe\">\n",
       "  <thead>\n",
       "    <tr style=\"text-align: right;\">\n",
       "      <th></th>\n",
       "      <th>count</th>\n",
       "      <th>accuracy</th>\n",
       "    </tr>\n",
       "    <tr>\n",
       "      <th>level</th>\n",
       "      <th></th>\n",
       "      <th></th>\n",
       "    </tr>\n",
       "  </thead>\n",
       "  <tbody>\n",
       "    <tr>\n",
       "      <th>1</th>\n",
       "      <td>858</td>\n",
       "      <td>19.930070</td>\n",
       "    </tr>\n",
       "    <tr>\n",
       "      <th>2</th>\n",
       "      <td>1612</td>\n",
       "      <td>18.982630</td>\n",
       "    </tr>\n",
       "    <tr>\n",
       "      <th>3</th>\n",
       "      <td>1136</td>\n",
       "      <td>20.246479</td>\n",
       "    </tr>\n",
       "    <tr>\n",
       "      <th>4</th>\n",
       "      <td>504</td>\n",
       "      <td>22.619048</td>\n",
       "    </tr>\n",
       "  </tbody>\n",
       "</table>\n",
       "</div>"
      ],
      "text/plain": [
       "       count   accuracy\n",
       "level                  \n",
       "1        858  19.930070\n",
       "2       1612  18.982630\n",
       "3       1136  20.246479\n",
       "4        504  22.619048"
      ]
     },
     "execution_count": 40,
     "metadata": {},
     "output_type": "execute_result"
    }
   ],
   "source": [
    "accuracy_by_split(results_metadata_contam, \"level\")"
   ]
  },
  {
   "cell_type": "code",
   "execution_count": 41,
   "id": "d034cb6c-c26e-4976-95e8-750285747d9b",
   "metadata": {},
   "outputs": [
    {
     "name": "stdout",
     "output_type": "stream",
     "text": [
      "1951/AHSME/39\n",
      "A\n",
      "$784\\text{ ft.}$\n",
      "{'A': '$784\\\\text{ ft.}$', 'B': '$342\\\\text{ ft.}$', 'C': '$1568\\\\text{ ft.}$', 'D': '$156.8\\\\text{ ft.}$', 'E': '$\\\\text{none of these}$'}\n",
      "Problem:\n",
      "A stone is dropped into a well and the report of the stone striking the bottom is heard $7.7$ seconds after it is dropped. Assume that the stone falls $16t^2$ feet in t seconds and that the velocity of sound is $1120$ feet per second. The depth of the well is:\n"
     ]
    },
    {
     "data": {
      "text/markdown": [
       "Let $d$ be the depth of the well in feet.\n",
       "Let $t_1$ be the time in seconds it takes for the stone to reach the bottom of the well.\n",
       "Let $t_2$ be the time in seconds it takes for the sound to travel from the bottom of the well to the top.\n",
       "We are given that the total time is $7.7$ seconds, so $t_1 + t_2 = 7.7$.\n",
       "\n",
       "The distance the stone falls is given by $d = 16t_1^2$.\n",
       "The distance the sound travels is also $d$, and the time it takes is $t_2 = \\frac{d}{1120}$.\n",
       "\n",
       "We have the system of equations:\n",
       "$t_1 + t_2 = 7.7$\n",
       "$d = 16t_1^2$\n",
       "$d = 1120t_2$\n",
       "\n",
       "From the first equation, we have $t_2 = 7.7 - t_1$.\n",
       "Substituting this into the third equation, we get $d = 1120(7.7 - t_1)$.\n",
       "Now we have two equations for $d$:\n",
       "$d = 16t_1^2$\n",
       "$d = 1120(7.7 - t_1)$\n",
       "\n",
       "Setting them equal to each other, we get:\n",
       "$16t_1^2 = 1120(7.7 - t_1)$\n",
       "$16t_1^2 = 8624 - 1120t_1$\n",
       "$16t_1^2 + 1120t_1 - 8624 = 0$\n",
       "Dividing by 16, we get:\n",
       "$t_1^2 + 70t_1 - 539 = 0$\n",
       "\n",
       "We can use the quadratic formula to solve for $t_1$:\n",
       "$t_1 = \\frac{-b \\pm \\sqrt{b^2 - 4ac}}{2a}$\n",
       "$t_1 = \\frac{-70 \\pm \\sqrt{70^2 - 4(1)(-539)}}{2(1)}$\n",
       "$t_1 = \\frac{-70 \\pm \\sqrt{4900 + 2156}}{2}$\n",
       "$t_1 = \\frac{-70 \\pm \\sqrt{7056}}{2}$\n",
       "$t_1 = \\frac{-70 \\pm 84}{2}$\n",
       "Since $t_1$ must be positive, we take the positive root:\n",
       "$t_1 = \\frac{-70 + 84}{2} = \\frac{14}{2} = 7$\n",
       "\n",
       "Now we can find the depth $d$:\n",
       "$d = 16t_1^2 = 16(7^2) = 16(49) = 784$\n",
       "\n",
       "Final Answer: The final answer is A. "
      ],
      "text/plain": [
       "<IPython.core.display.Markdown object>"
      ]
     },
     "metadata": {},
     "output_type": "display_data"
    }
   ],
   "source": [
    "# Got it right\n",
    "rand_uid = \"1951/AHSME/39\"\n",
    "print(rand_uid)\n",
    "print(dataset_map[rand_uid][\"answer_choice\"])\n",
    "print(dataset_map[rand_uid][\"answer\"])\n",
    "print(dataset_map[rand_uid][\"choices\"])\n",
    "print(response_contam_map[rand_uid][\"prompt\"][-2][\"parts\"][0][\"text\"])\n",
    "display(Markdown(response_contam_map[rand_uid][\"response\"].completions[0].completion))"
   ]
  },
  {
   "cell_type": "code",
   "execution_count": 42,
   "id": "5f7c218a-f5ba-48ce-956a-4bd17abccf00",
   "metadata": {},
   "outputs": [
    {
     "name": "stdout",
     "output_type": "stream",
     "text": [
      "1993/AHSME/27\n",
      "B\n",
      "$12$\n",
      "{'A': '$10$', 'B': '$12$', 'C': '$14$', 'D': '$15$', 'E': '$17$'}\n",
      "Problem:\n",
      "[asy] draw(circle((4,1),1),black+linewidth(.75)); draw((0,0)--(8,0)--(8,6)--cycle,black+linewidth(.75)); MP(\"A\",(0,0),SW);MP(\"B\",(8,0),SE);MP(\"C\",(8,6),NE);MP(\"P\",(4,1),NW); MP(\"8\",(4,0),S);MP(\"6\",(8,3),E);MP(\"10\",(4,3),NW); MP(\"->\",(5,1),E); dot((4,1)); [/asy] The sides of $\\triangle ABC$ have lengths $6,8,$ and $10$. A circle with center $P$ and radius $1$ rolls around the inside of $\\triangle ABC$, always remaining tangent to at least one side of the triangle. When $P$ first returns to its original position, through what distance has $P$ traveled?\n"
     ]
    },
    {
     "data": {
      "text/markdown": [
       "Let $a, b, c$ be the lengths of the sides opposite to vertices $A, B, C$ respectively. We are given $a=6$, $b=8$, and $c=10$.\n",
       "Since $6^2 + 8^2 = 36 + 64 = 100 = 10^2$, $\\triangle ABC$ is a right triangle with $\\angle A = 90^\\circ$.\n",
       "The inradius $r$ of $\\triangle ABC$ is given by $r = \\frac{a+b-c}{2} = \\frac{6+8-10}{2} = \\frac{4}{2} = 2$.\n",
       "The circle with center $P$ and radius $1$ rolls around the inside of $\\triangle ABC$. The path of $P$ is always at a distance of $1$ from the sides of the triangle.\n",
       "The length of the path is the perimeter of a triangle similar to $\\triangle ABC$ with inradius $r-1 = 2-1 = 1$.\n",
       "The perimeter of $\\triangle ABC$ is $6+8+10 = 24$.\n",
       "Let $P$ be the perimeter of the smaller triangle.\n",
       "The ratio of the inradii is $\\frac{1}{2}$.\n",
       "The ratio of the perimeters is also $\\frac{1}{2}$.\n",
       "So, the perimeter of the smaller triangle is $\\frac{1}{2} \\times 24 = 12$.\n",
       "The distance traveled by $P$ is the perimeter of the smaller triangle, which is $12$.\n",
       "\n",
       "Final Answer: The final answer is A. "
      ],
      "text/plain": [
       "<IPython.core.display.Markdown object>"
      ]
     },
     "metadata": {},
     "output_type": "display_data"
    }
   ],
   "source": [
    "# Got the right answer but wrong answer choice\n",
    "rand_uid = \"1993/AHSME/27\"  # other examples: 1998/AHSME/23, 2024/AMC_8/11, 2013/AMC_10A/2\n",
    "print(rand_uid)\n",
    "print(dataset_map[rand_uid][\"answer_choice\"])\n",
    "print(dataset_map[rand_uid][\"answer\"])\n",
    "print(dataset_map[rand_uid][\"choices\"])\n",
    "print(response_contam_map[rand_uid][\"prompt\"][-2][\"parts\"][0][\"text\"])\n",
    "display(Markdown(response_contam_map[rand_uid][\"response\"].completions[0].completion))"
   ]
  },
  {
   "cell_type": "code",
   "execution_count": 43,
   "id": "afafe8cc-a6d3-487d-8d3d-9ce51766868a",
   "metadata": {},
   "outputs": [
    {
     "name": "stdout",
     "output_type": "stream",
     "text": [
      "2006/AMC_8/17\n",
      "B\n",
      "$\\frac{1}{3}$\n",
      "{'A': '$\\\\frac{1}{4}$', 'B': '$\\\\frac{1}{3}$', 'C': '$\\\\frac{1}{2}$', 'D': '$\\\\frac{2}{3}$', 'E': '$\\\\frac{3}{4}$'}\n",
      "Problem:\n",
      "Jeff rotates spinners $P$, $Q$ and $R$ and adds the resulting numbers. What is the probability that his sum is an odd number? [asy] size(200); path circle=circle((0,0),2); path r=(0,0)--(0,2); draw(circle,linewidth(1)); draw(shift(5,0)*circle,linewidth(1)); draw(shift(10,0)*circle,linewidth(1)); draw(r,linewidth(1)); draw(rotate(120)*r,linewidth(1)); draw(rotate(240)*r,linewidth(1)); draw(shift(5,0)*r,linewidth(1)); draw(shift(5,0)*rotate(90)*r,linewidth(1)); draw(shift(5,0)*rotate(180)*r,linewidth(1)); draw(shift(5,0)*rotate(270)*r,linewidth(1)); draw(shift(10,0)*r,linewidth(1)); draw(shift(10,0)*rotate(60)*r,linewidth(1)); draw(shift(10,0)*rotate(120)*r,linewidth(1)); draw(shift(10,0)*rotate(180)*r,linewidth(1)); draw(shift(10,0)*rotate(240)*r,linewidth(1)); draw(shift(10,0)*rotate(300)*r,linewidth(1)); label(\"$P$\", (-2,2)); label(\"$Q$\", shift(5,0)*(-2,2)); label(\"$R$\", shift(10,0)*(-2,2)); label(\"$1$\", (-1,sqrt(2)/2)); label(\"$2$\", (1,sqrt(2)/2)); label(\"$3$\", (0,-1)); label(\"$2$\", shift(5,0)*(-sqrt(2)/2,sqrt(2)/2)); label(\"$4$\", shift(5,0)*(sqrt(2)/2,sqrt(2)/2)); label(\"$6$\", shift(5,0)*(sqrt(2)/2,-sqrt(2)/2)); label(\"$8$\", shift(5,0)*(-sqrt(2)/2,-sqrt(2)/2)); label(\"$1$\", shift(10,0)*(-0.5,1)); label(\"$3$\", shift(10,0)*(0.5,1)); label(\"$5$\", shift(10,0)*(1,0)); label(\"$7$\", shift(10,0)*(0.5,-1)); label(\"$9$\", shift(10,0)*(-0.5,-1)); label(\"$11$\", shift(10,0)*(-1,0)); [/asy]\n"
     ]
    },
    {
     "data": {
      "text/markdown": [
       "Spinner $P$ has the numbers 1, 2, and 3.\n",
       "Spinner $Q$ has the numbers 2, 4, 6, and 8.\n",
       "Spinner $R$ has the numbers 1, 3, 5, 7, 9, and 11.\n",
       "\n",
       "The possible outcomes for spinner $P$ are 1, 2, 3.\n",
       "The possible outcomes for spinner $Q$ are 2, 4, 6, 8.\n",
       "The possible outcomes for spinner $R$ are 1, 3, 5, 7, 9, 11.\n",
       "\n",
       "The total number of outcomes is $3 \\times 4 \\times 6 = 72$.\n",
       "\n",
       "We want to find the number of outcomes where the sum is odd.\n",
       "The sum of three numbers is odd if either one or three of the numbers are odd.\n",
       "\n",
       "Case 1: One number is odd.\n",
       "If $P$ is odd and $Q$ and $R$ are even, there are $2 \\times 0 \\times 0 = 0$ outcomes.\n",
       "If $P$ is even and $Q$ is odd and $R$ is even, there are $1 \\times 0 \\times 0 = 0$ outcomes.\n",
       "If $P$ is even and $Q$ is even and $R$ is odd, there are $1 \\times 4 \\times 3 = 12$ outcomes.\n",
       "If $P$ is odd and $Q$ is odd and $R$ is even, there are $2 \\times 0 \\times 0 = 0$ outcomes.\n",
       "If $P$ is odd and $Q$ is even and $R$ is odd, there are $2 \\times 4 \\times 3 = 24$ outcomes.\n",
       "\n",
       "Case 2: Three numbers are odd.\n",
       "If $P$ is odd, $Q$ is odd, and $R$ is odd, there are $2 \\times 0 \\times 3 = 0$ outcomes.\n",
       "\n",
       "The number of outcomes where the sum is odd is $12 + 24 = 36$.\n",
       "The probability that the sum is odd is $\\frac{36}{72} = \\frac{1}{2}$.\n",
       "\n",
       "Final Answer: The final answer is C. "
      ],
      "text/plain": [
       "<IPython.core.display.Markdown object>"
      ]
     },
     "metadata": {},
     "output_type": "display_data"
    }
   ],
   "source": [
    "# Got a wrong answer, but the right answer choice to correspond to that answer\n",
    "rand_uid = \"2006/AMC_8/17\"\n",
    "print(rand_uid)\n",
    "print(dataset_map[rand_uid][\"answer_choice\"])\n",
    "print(dataset_map[rand_uid][\"answer\"])\n",
    "print(dataset_map[rand_uid][\"choices\"])\n",
    "print(response_contam_map[rand_uid][\"prompt\"][-2][\"parts\"][0][\"text\"])\n",
    "display(Markdown(response_contam_map[rand_uid][\"response\"].completions[0].completion))"
   ]
  },
  {
   "cell_type": "code",
   "execution_count": 44,
   "id": "52d07838-acd1-4605-8f56-c00259ddfd84",
   "metadata": {},
   "outputs": [
    {
     "name": "stdout",
     "output_type": "stream",
     "text": [
      "2021/AMC_12B/25\n",
      "E\n",
      "$85$\n",
      "{'A': '$31$', 'B': '$47$', 'C': '$62$', 'D': '$72$', 'E': '$85$'}\n",
      "Problem:\n",
      "Let $S$ be the set of lattice points in the coordinate plane, both of whose coordinates are integers between $1$ and $30,$ inclusive. Exactly $300$ points in $S$ lie on or below a line with equation $y=mx.$ The possible values of $m$ lie in an interval of length $\\frac ab,$ where $a$ and $b$ are relatively prime positive integers. What is $a+b?$\n"
     ]
    },
    {
     "data": {
      "text/markdown": [
       "Let $S$ be the set of lattice points $(x,y)$ such that $1 \\le x \\le 30$ and $1 \\le y \\le 30$.\n",
       "The number of lattice points in $S$ is $30 \\times 30 = 900$.\n",
       "We are given that $300$ points in $S$ lie on or below the line $y=mx$.\n",
       "\n",
       "If $m=1$, the number of lattice points on or below the line $y=x$ is given by $\\sum_{x=1}^{30} x = \\frac{30(31)}{2} = 465$.\n",
       "If $m=2$, the number of lattice points on or below the line $y=2x$ is given by $\\sum_{x=1}^{15} 30 + \\sum_{x=16}^{30} (2x) = 15(30) + 2\\sum_{x=1}^{30} x - 2\\sum_{x=1}^{15} x = 450 + 2(465) - 2\\frac{15(16)}{2} = 450 + 930 - 240 = 1140$.\n",
       "If $m=\\frac{1}{2}$, the number of lattice points on or below the line $y=\\frac{1}{2}x$ is given by $\\sum_{x=1}^{30} \\lfloor \\frac{x}{2} \\rfloor = \\sum_{x=1}^{15} \\lfloor \\frac{2x-1}{2} \\rfloor + \\sum_{x=1}^{15} \\lfloor \\frac{2x}{2} \\rfloor = \\sum_{x=1}^{15} (x-1) + \\sum_{x=1}^{15} x = 2\\sum_{x=1}^{15} x - 15 = 2\\frac{15(16)}{2} - 15 = 240 - 15 = 225$.\n",
       "\n",
       "We are given that the number of lattice points on or below the line $y=mx$ is $300$.\n",
       "If $m$ is small, the number of lattice points is close to $\\frac{30^2}{2m}$.\n",
       "If $m$ is large, the number of lattice points is close to $m\\frac{30^2}{2}$.\n",
       "We have $\\frac{900}{2m} = 300$, so $m = \\frac{900}{600} = \\frac{3}{2}$.\n",
       "If $m=\\frac{3}{2}$, the number of lattice points is $\\sum_{x=1}^{30} \\lfloor \\frac{3x}{2} \\rfloor = \\sum_{x=1}^{20} 30 + \\sum_{x=21}^{30} \\frac{3x}{2} = 20(30) + \\frac{3}{2} \\sum_{x=1}^{30} x - \\frac{3}{2} \\sum_{x=1}^{20} x = 600 + \\frac{3}{2}(465) - \\frac{3}{2}(210) = 600 + 697.5 - 315 = 982.5$.\n",
       "We have $\\frac{900m}{2} = 300$, so $m = \\frac{600}{900} = \\frac{2}{3}$.\n",
       "If $m=\\frac{2}{3}$, the number of lattice points is $\\sum_{x=1}^{30} \\lfloor \\frac{2x}{3} \\rfloor = 285$.\n",
       "\n",
       "The possible values of $m$ are between $\\frac{2}{3}$ and $\\frac{3}{2}$.\n",
       "The length of the interval is $\\frac{3}{2} - \\frac{2}{3} = \\frac{9-4}{6} = \\frac{5}{6}$.\n",
       "$a=5$ and $b=6$.\n",
       "$a+b = 5+6 = 11$.\n",
       "\n",
       "Final Answer: The final answer is C. "
      ],
      "text/plain": [
       "<IPython.core.display.Markdown object>"
      ]
     },
     "metadata": {},
     "output_type": "display_data"
    }
   ],
   "source": [
    "# Got an answer that was not an original answer choice. Seems to have just picked a letter\n",
    "rand_uid = \"2021/AMC_12B/25\"\n",
    "print(rand_uid)\n",
    "print(dataset_map[rand_uid][\"answer_choice\"])\n",
    "print(dataset_map[rand_uid][\"answer\"])\n",
    "print(dataset_map[rand_uid][\"choices\"])\n",
    "print(response_contam_map[rand_uid][\"prompt\"][-2][\"parts\"][0][\"text\"])\n",
    "display(Markdown(response_contam_map[rand_uid][\"response\"].completions[0].completion))"
   ]
  },
  {
   "cell_type": "code",
   "execution_count": 45,
   "id": "44be7f19-cfa2-404c-8279-84b1ee9680af",
   "metadata": {},
   "outputs": [
    {
     "name": "stdout",
     "output_type": "stream",
     "text": [
      "1953/AHSME/47\n",
      "D\n",
      "$\\log (1+x) < x$\n",
      "{'A': '$\\\\log (1+x) = \\\\frac{x}{1+x}$', 'B': '$\\\\log (1+x) < \\\\frac{x}{1+x}$', 'C': '$\\\\log(1+x) > x$', 'D': '$\\\\log (1+x) < x$', 'E': '$\\\\text{none of these}$'}\n",
      "Problem:\n",
      "If $x>0$, then the correct relationship is:\n"
     ]
    },
    {
     "data": {
      "text/markdown": [
       "We are given that $x > 0$. We need to find the correct relationship between $x$, $\\sqrt{x}$, and $x^2$.\n",
       "\n",
       "Let's consider some examples.\n",
       "\n",
       "Case 1: $x = 1$\n",
       "$x = 1$\n",
       "$\\sqrt{x} = \\sqrt{1} = 1$\n",
       "$x^2 = 1^2 = 1$\n",
       "In this case, $x = \\sqrt{x} = x^2$.\n",
       "\n",
       "Case 2: $x = 4$\n",
       "$x = 4$\n",
       "$\\sqrt{x} = \\sqrt{4} = 2$\n",
       "$x^2 = 4^2 = 16$\n",
       "In this case, $\\sqrt{x} < x < x^2$.\n",
       "\n",
       "Case 3: $x = \\frac{1}{4}$\n",
       "$x = \\frac{1}{4}$\n",
       "$\\sqrt{x} = \\sqrt{\\frac{1}{4}} = \\frac{1}{2}$\n",
       "$x^2 = (\\frac{1}{4})^2 = \\frac{1}{16}$\n",
       "In this case, $x^2 < x < \\sqrt{x}$.\n",
       "\n",
       "Case 4: $x = \\frac{1}{9}$\n",
       "$x = \\frac{1}{9}$\n",
       "$\\sqrt{x} = \\sqrt{\\frac{1}{9}} = \\frac{1}{3}$\n",
       "$x^2 = (\\frac{1}{9})^2 = \\frac{1}{81}$\n",
       "In this case, $x^2 < x < \\sqrt{x}$.\n",
       "\n",
       "If $0 < x < 1$, then $x^2 < x < \\sqrt{x}$.\n",
       "If $x = 1$, then $x^2 = x = \\sqrt{x}$.\n",
       "If $x > 1$, then $x^2 > x > \\sqrt{x}$.\n",
       "\n",
       "The problem states that $x > 0$.\n",
       "If $0 < x < 1$, then $x^2 < x$ and $\\sqrt{x} > x$.\n",
       "If $x = 1$, then $x^2 = x = \\sqrt{x}$.\n",
       "If $x > 1$, then $x^2 > x$ and $\\sqrt{x} < x$.\n",
       "\n",
       "The given options are:\n",
       "A. $x^2 > x > \\sqrt{x}$\n",
       "B. $x^2 > \\sqrt{x} > x$\n",
       "C. $x > x^2 > \\sqrt{x}$\n",
       "D. $\\sqrt{x} > x > x^2$\n",
       "E. None of these\n",
       "\n",
       "If $x > 1$, then $x^2 > x > \\sqrt{x}$, which is option A.\n",
       "If $0 < x < 1$, then $\\sqrt{x} > x > x^2$, which is option D.\n",
       "If $x = 1$, then $x^2 = x = \\sqrt{x}$.\n",
       "\n",
       "Since the problem only states $x > 0$, we cannot determine a single correct relationship.\n",
       "\n",
       "Final Answer: The final answer is E. "
      ],
      "text/plain": [
       "<IPython.core.display.Markdown object>"
      ]
     },
     "metadata": {},
     "output_type": "display_data"
    }
   ],
   "source": [
    "# This problem requires more context to solve (i.e. the choices)\n",
    "# Gemini hallucinates more to the problem\n",
    "rand_uid = \"1953/AHSME/47\"\n",
    "print(rand_uid)\n",
    "print(dataset_map[rand_uid][\"answer_choice\"])\n",
    "print(dataset_map[rand_uid][\"answer\"])\n",
    "print(dataset_map[rand_uid][\"choices\"])\n",
    "print(response_contam_map[rand_uid][\"prompt\"][-2][\"parts\"][0][\"text\"])\n",
    "display(Markdown(response_contam_map[rand_uid][\"response\"].completions[0].completion))"
   ]
  },
  {
   "cell_type": "code",
   "execution_count": 60,
   "id": "e753e9cf-2593-453e-a7e1-dcbedc32bdbd",
   "metadata": {},
   "outputs": [
    {
     "name": "stdout",
     "output_type": "stream",
     "text": [
      "1952/AHSME/20\n",
      "E\n",
      "$\\frac{x-y}{y}=\\frac{1}{4}$\n",
      "{'A': '$\\\\frac{x+y}{y}=\\\\frac{7}{4}$', 'B': '$\\\\frac{y}{y-x}=\\\\frac{4}{1}$', 'C': '$\\\\frac{x+2y}{x}=\\\\frac{11}{3}$', 'D': '$\\\\frac{x}{2y}=\\\\frac{3}{8}$', 'E': '$\\\\frac{x-y}{y}=\\\\frac{1}{4}$'}\n",
      "Problem:\n",
      "If $\\frac{x}{y}=\\frac{3}{4}$, then the incorrect expression in the following is:\n"
     ]
    },
    {
     "data": {
      "text/markdown": [
       "Given $\\frac{x}{y} = \\frac{3}{4}$, we can write $x = 3k$ and $y = 4k$ for some non-zero constant $k$.\n",
       "\n",
       "A. $\\frac{x+y}{y} = \\frac{3k+4k}{4k} = \\frac{7k}{4k} = \\frac{7}{4}$\n",
       "B. $\\frac{y}{y-x} = \\frac{4k}{4k-3k} = \\frac{4k}{k} = 4$\n",
       "C. $\\frac{x+2y}{x} = \\frac{3k+2(4k)}{3k} = \\frac{3k+8k}{3k} = \\frac{11k}{3k} = \\frac{11}{3}$\n",
       "D. $\\frac{x}{2y-x} = \\frac{3k}{2(4k)-3k} = \\frac{3k}{8k-3k} = \\frac{3k}{5k} = \\frac{3}{5}$\n",
       "E. $\\frac{x}{3y}=\\frac{3k}{3(4k)} = \\frac{3k}{12k} = \\frac{1}{4}$\n",
       "\n",
       "The given options are:\n",
       "A. $\\frac{7}{4}$\n",
       "B. $4$\n",
       "C. $\\frac{11}{3}$\n",
       "D. $\\frac{3}{5}$\n",
       "E. $\\frac{1}{3}$\n",
       "\n",
       "Comparing the calculated values with the given options, we see that option E is incorrect.\n",
       "\n",
       "Final Answer: The final answer is E. "
      ],
      "text/plain": [
       "<IPython.core.display.Markdown object>"
      ]
     },
     "metadata": {},
     "output_type": "display_data"
    }
   ],
   "source": [
    "# Hallucinated choices\n",
    "# Suspiciously some of these choices are correct (A-C), but the others aren't\n",
    "# Maybe luckily, gets the right answer\n",
    "rand_uid = \"1952/AHSME/20\"\n",
    "print(rand_uid)\n",
    "print(dataset_map[rand_uid][\"answer_choice\"])\n",
    "print(dataset_map[rand_uid][\"answer\"])\n",
    "print(dataset_map[rand_uid][\"choices\"])\n",
    "print(response_contam_map[rand_uid][\"prompt\"][-2][\"parts\"][0][\"text\"])\n",
    "display(Markdown(response_contam_map[rand_uid][\"response\"].completions[0].completion))"
   ]
  },
  {
   "cell_type": "code",
   "execution_count": 48,
   "id": "71a7c3a3-2161-4aa2-9626-2a3f7f96fa54",
   "metadata": {},
   "outputs": [
    {
     "name": "stdout",
     "output_type": "stream",
     "text": [
      "2017/AMC_12A/2\n",
      "C\n",
      "$4$\n",
      "{'A': '$1$', 'B': '$2$', 'C': '$4$', 'D': '$8$', 'E': '$12$'}\n",
      "Problem:\n",
      "The sum of two nonzero real numbers is 4 times their product. What is the sum of the reciprocals of the two numbers?\n"
     ]
    },
    {
     "data": {
      "text/markdown": [
       "Let the two nonzero real numbers be $x$ and $y$.\n",
       "We are given that their sum is 4 times their product, which can be written as:\n",
       "$x + y = 4xy$\n",
       "\n",
       "We want to find the sum of the reciprocals of the two numbers, which is $\\frac{1}{x} + \\frac{1}{y}$.\n",
       "We can rewrite this sum as a single fraction:\n",
       "$\\frac{1}{x} + \\frac{1}{y} = \\frac{y}{xy} + \\frac{x}{xy} = \\frac{x+y}{xy}$\n",
       "\n",
       "We are given that $x + y = 4xy$. We can substitute this into the expression for the sum of the reciprocals:\n",
       "$\\frac{x+y}{xy} = \\frac{4xy}{xy}$\n",
       "\n",
       "Since $x$ and $y$ are nonzero, $xy \\neq 0$, so we can cancel the $xy$ terms:\n",
       "$\\frac{4xy}{xy} = 4$\n",
       "\n",
       "So, the sum of the reciprocals of the two numbers is 4.\n",
       "\n",
       "Final Answer: The final answer is 4. "
      ],
      "text/plain": [
       "<IPython.core.display.Markdown object>"
      ]
     },
     "metadata": {},
     "output_type": "display_data"
    }
   ],
   "source": [
    "# Ignored the system prompt about returning a letter A-E\n",
    "rand_uid = \"2017/AMC_12A/2\"\n",
    "print(rand_uid)\n",
    "print(dataset_map[rand_uid][\"answer_choice\"])\n",
    "print(dataset_map[rand_uid][\"answer\"])\n",
    "print(dataset_map[rand_uid][\"choices\"])\n",
    "print(response_contam_map[rand_uid][\"prompt\"][-2][\"parts\"][0][\"text\"])\n",
    "display(Markdown(response_contam_map[rand_uid][\"response\"].completions[0].completion))"
   ]
  },
  {
   "cell_type": "code",
   "execution_count": 61,
   "id": "699ac586-8a98-4c66-8d19-0895ed587444",
   "metadata": {},
   "outputs": [
    {
     "name": "stdout",
     "output_type": "stream",
     "text": [
      "1957/AHSME/20\n",
      "A\n",
      "$47\\frac{7}{19}$\n",
      "{'A': '$47\\\\frac{7}{19}$', 'B': '$47\\\\frac{1}{4}$', 'C': '$47\\\\frac{1}{2}$', 'D': '$47\\\\frac{11}{19}$', 'E': '$\\\\text{none of these}$'}\n",
      "Problem:\n",
      "A man makes a trip by automobile at an average speed of 50 mph. He returns over the same route at an average speed of $45$ mph. His average speed for the entire trip is:\n"
     ]
    },
    {
     "data": {
      "text/markdown": [
       "Let $d$ be the distance of the route.\n",
       "Let $t_1$ be the time taken for the first trip, and $t_2$ be the time taken for the return trip.\n",
       "\n",
       "For the first trip, we have $d = 50t_1$, so $t_1 = \\frac{d}{50}$.\n",
       "For the return trip, we have $d = 45t_2$, so $t_2 = \\frac{d}{45}$.\n",
       "\n",
       "The total distance is $2d$, and the total time is $t_1 + t_2 = \\frac{d}{50} + \\frac{d}{45}$.\n",
       "The average speed for the entire trip is given by the total distance divided by the total time:\n",
       "$$ \\text{Average speed} = \\frac{2d}{\\frac{d}{50} + \\frac{d}{45}} = \\frac{2d}{\\frac{45d + 50d}{50 \\cdot 45}} = \\frac{2d}{\\frac{95d}{2250}} = \\frac{2d \\cdot 2250}{95d} = \\frac{4500}{95} = \\frac{900}{19} \\approx 47.368 $$\n",
       "\n",
       "The average speed is $\\frac{2}{\\frac{1}{50} + \\frac{1}{45}} = \\frac{2}{\\frac{45+50}{50 \\times 45}} = \\frac{2 \\times 50 \\times 45}{95} = \\frac{4500}{95} = \\frac{900}{19} \\approx 47.37$ mph.\n",
       "\n",
       "Final Answer: The final answer is C. "
      ],
      "text/plain": [
       "<IPython.core.display.Markdown object>"
      ]
     },
     "metadata": {},
     "output_type": "display_data"
    }
   ],
   "source": [
    "rand_uid = np.random.choice(results_metadata_contam.query(\"reason == 'stop'\").index)\n",
    "print(rand_uid)\n",
    "print(dataset_map[rand_uid][\"answer_choice\"])\n",
    "print(dataset_map[rand_uid][\"answer\"])\n",
    "print(dataset_map[rand_uid][\"choices\"])\n",
    "print(response_contam_map[rand_uid][\"prompt\"][-2][\"parts\"][0][\"text\"])\n",
    "display(Markdown(response_contam_map[rand_uid][\"response\"].completions[0].completion))"
   ]
  },
  {
   "cell_type": "code",
   "execution_count": null,
   "id": "0d51e214-58a1-41cb-b424-e7e771269c97",
   "metadata": {},
   "outputs": [],
   "source": []
  }
 ],
 "metadata": {
  "kernelspec": {
   "display_name": "Python 3 (ipykernel)",
   "language": "python",
   "name": "python3"
  },
  "language_info": {
   "codemirror_mode": {
    "name": "ipython",
    "version": 3
   },
   "file_extension": ".py",
   "mimetype": "text/x-python",
   "name": "python",
   "nbconvert_exporter": "python",
   "pygments_lexer": "ipython3",
   "version": "3.12.8"
  }
 },
 "nbformat": 4,
 "nbformat_minor": 5
}
