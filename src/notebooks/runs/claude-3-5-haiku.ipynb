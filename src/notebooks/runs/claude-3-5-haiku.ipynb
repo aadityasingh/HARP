{
 "cells": [
  {
   "cell_type": "code",
   "execution_count": 1,
   "id": "b52dc7d6-9aff-451b-b76b-1b291098ac96",
   "metadata": {},
   "outputs": [],
   "source": [
    "import sys\n",
    "from pathlib import Path\n",
    "\n",
    "BASEDIR = Path(\"/workspaces/HARP/\") / \"src\"  # Replace with your own basedir path for the repo\n",
    "\n",
    "sys.path.insert(0, str(BASEDIR))"
   ]
  },
  {
   "cell_type": "code",
   "execution_count": 2,
   "id": "e937e145-7a74-4ba5-9a8a-9c58a5203540",
   "metadata": {},
   "outputs": [],
   "source": [
    "from __future__ import annotations\n",
    "\n",
    "import copy\n",
    "import itertools\n",
    "import json\n",
    "import math\n",
    "import os\n",
    "import pickle\n",
    "import pprint\n",
    "import re\n",
    "import textwrap\n",
    "import time\n",
    "import traceback\n",
    "from collections import Counter, defaultdict\n",
    "from typing import Any\n",
    "\n",
    "import matplotlib.pyplot as plt\n",
    "import numpy as np\n",
    "import pandas as pd\n",
    "from IPython.display import Markdown, clear_output, display\n",
    "from tqdm.auto import tqdm\n",
    "\n",
    "import anthropic"
   ]
  },
  {
   "cell_type": "code",
   "execution_count": 3,
   "id": "fd62e517-04bf-4aee-93cd-53402138c608",
   "metadata": {},
   "outputs": [],
   "source": [
    "from eval.eval import create_batch\n",
    "from eval.prompts import *\n",
    "from eval.utils import read_jsonl, write_jsonl, get_uid"
   ]
  },
  {
   "cell_type": "markdown",
   "id": "f2b5560a-dd9e-4260-bb42-89d75499fc23",
   "metadata": {},
   "source": [
    "# Data"
   ]
  },
  {
   "cell_type": "code",
   "execution_count": 4,
   "id": "53fcc203-4d1b-4475-aef4-e279a9211d8e",
   "metadata": {},
   "outputs": [
    {
     "data": {
      "text/plain": [
       "4780"
      ]
     },
     "execution_count": 4,
     "metadata": {},
     "output_type": "execute_result"
    }
   ],
   "source": [
    "dataset = read_jsonl(BASEDIR / \"data/processed/HARP.jsonl\")\n",
    "dataset_map = {get_uid(p): p for p in dataset}\n",
    "len(dataset)"
   ]
  },
  {
   "cell_type": "markdown",
   "id": "532bd49a-7e93-4fc8-b508-3edae5528815",
   "metadata": {},
   "source": [
    "# Run eval"
   ]
  },
  {
   "cell_type": "code",
   "execution_count": 5,
   "id": "2a4a7847-7bd4-41d5-b73b-c3ec92f14d20",
   "metadata": {},
   "outputs": [],
   "source": [
    "client = anthropic.Anthropic()"
   ]
  },
  {
   "cell_type": "markdown",
   "id": "3e28ac58-4efa-43ed-a7a9-2a3d317e5537",
   "metadata": {},
   "source": [
    "## Create batch"
   ]
  },
  {
   "cell_type": "code",
   "execution_count": 6,
   "id": "9207fe8d-48cb-42ea-a3df-27ad3622f1b7",
   "metadata": {},
   "outputs": [],
   "source": [
    "batch = create_batch(\n",
    "    dataset,\n",
    "    api=\"anthropic\",\n",
    "    model=\"claude-3-5-haiku-20241022\",\n",
    "    fewshot_messages=[],\n",
    "    system_prompt=custom_claude_sysprompt,\n",
    "    max_tokens=2048,\n",
    "    temperature=0,\n",
    "    stop_sequences=[\"I hope it is correct.\"],\n",
    "    # just to remove irrelevant params\n",
    "    top_p=None,\n",
    ")\n",
    "write_jsonl(batch, BASEDIR / \"inputs/short_answer/claude-3-5-haiku-20241022/batch.jsonl\")"
   ]
  },
  {
   "cell_type": "markdown",
   "id": "62ac22d5-622e-43c0-ac87-9b76eac4f2b4",
   "metadata": {},
   "source": [
    "## Run batch"
   ]
  },
  {
   "cell_type": "code",
   "execution_count": 16,
   "id": "0940af1c-a145-4b35-8167-8a4b7e14c593",
   "metadata": {},
   "outputs": [
    {
     "name": "stdout",
     "output_type": "stream",
     "text": [
      "BetaMessageBatch(id='msgbatch_01NaqnDPoH6eZtgbXNgbAcDZ', cancel_initiated_at=None, created_at=datetime.datetime(2024, 11, 6, 4, 42, 27, 187091, tzinfo=datetime.timezone.utc), ended_at=None, expires_at=datetime.datetime(2024, 11, 7, 4, 42, 27, 187091, tzinfo=datetime.timezone.utc), processing_status='in_progress', request_counts=BetaMessageBatchRequestCounts(canceled=0, errored=0, expired=0, processing=4794, succeeded=0), results_url=None, type='message_batch', archived_at=None)\n"
     ]
    }
   ],
   "source": [
    "message_batch = client.beta.messages.batches.create(requests=batch)\n",
    "print(message_batch)"
   ]
  },
  {
   "cell_type": "code",
   "execution_count": null,
   "id": "fd13b0a1-9f31-438c-a48d-4f3f131dc73a",
   "metadata": {},
   "outputs": [],
   "source": [
    "BATCH_NAME = \"msgbatch_01NaqnDPoH6eZtgbXNgbAcDZ\"  # Replace with your own"
   ]
  },
  {
   "cell_type": "markdown",
   "id": "24d29b20-3d43-4c76-af1e-66d60e975b8e",
   "metadata": {},
   "source": [
    "## Check"
   ]
  },
  {
   "cell_type": "code",
   "execution_count": 13,
   "id": "240c09e9-cd20-49c3-b334-ad93976d8366",
   "metadata": {},
   "outputs": [
    {
     "name": "stdout",
     "output_type": "stream",
     "text": [
      "Batch msgbatch_01NaqnDPoH6eZtgbXNgbAcDZ processing status is ended\n"
     ]
    }
   ],
   "source": [
    "message_batch = client.beta.messages.batches.retrieve(BATCH_NAME)\n",
    "print(f\"Batch {message_batch.id} processing status is {message_batch.processing_status}\")"
   ]
  },
  {
   "cell_type": "markdown",
   "id": "8573b0d3-f193-4383-b604-d834cfcdaede",
   "metadata": {},
   "source": [
    "## Get and save results"
   ]
  },
  {
   "cell_type": "code",
   "execution_count": 14,
   "id": "0ef9e5bc-8f87-4b81-9b06-626b215bf59d",
   "metadata": {},
   "outputs": [],
   "source": [
    "for result in client.beta.messages.batches.results(BATCH_NAME):\n",
    "    match result.result.type:\n",
    "        case \"succeeded\":\n",
    "            pass\n",
    "            # print(f\"Success! {result.custom_id}\")\n",
    "            # print(result)\n",
    "        case \"errored\":\n",
    "            if result.result.error.type == \"invalid_request\":\n",
    "                # Request body must be fixed before re-sending request\n",
    "                print(f\"Validation error {result.custom_id}\")\n",
    "            else:\n",
    "                # Request can be retried directly\n",
    "                print(f\"Server error {result.custom_id}\")\n",
    "        case \"expired\":\n",
    "            print(f\"Request expired {result.custom_id}\")"
   ]
  },
  {
   "cell_type": "code",
   "execution_count": 15,
   "id": "4ca0c81b-3cff-4820-a827-5da4ed423a7f",
   "metadata": {},
   "outputs": [],
   "source": [
    "results = []\n",
    "for result in client.beta.messages.batches.results(BATCH_NAME):\n",
    "    results.append(result.to_dict())\n",
    "write_jsonl(results, BASEDIR / \"outputs/short_answer/claude-3-5-haiku-20241022/outputs.jsonl\")"
   ]
  }
 ],
 "metadata": {
  "kernelspec": {
   "display_name": "Python 3 (ipykernel)",
   "language": "python",
   "name": "python3"
  },
  "language_info": {
   "codemirror_mode": {
    "name": "ipython",
    "version": 3
   },
   "file_extension": ".py",
   "mimetype": "text/x-python",
   "name": "python",
   "nbconvert_exporter": "python",
   "pygments_lexer": "ipython3",
   "version": "3.12.8"
  }
 },
 "nbformat": 4,
 "nbformat_minor": 5
}
