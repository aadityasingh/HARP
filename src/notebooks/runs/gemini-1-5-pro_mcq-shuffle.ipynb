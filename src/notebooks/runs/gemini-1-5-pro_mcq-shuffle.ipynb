{
 "cells": [
  {
   "cell_type": "markdown",
   "id": "71c10cbe-659f-444c-a855-c6bae55a1df3",
   "metadata": {},
   "source": [
    "# Gemini 1.5 Pro Multiple Choice Shuffled"
   ]
  },
  {
   "cell_type": "code",
   "execution_count": 1,
   "id": "d101b202-b0cb-4afd-8aa3-6859de242e37",
   "metadata": {},
   "outputs": [],
   "source": [
    "import sys\n",
    "from pathlib import Path\n",
    "\n",
    "BASEDIR = Path(\"/workspaces/HARP/\") / \"src\"  # Replace with your own basedir path for the repo\n",
    "\n",
    "sys.path.insert(0, str(BASEDIR))"
   ]
  },
  {
   "cell_type": "code",
   "execution_count": 2,
   "id": "e7d796a1-30da-49ab-9cb1-02ca6206d32b",
   "metadata": {},
   "outputs": [],
   "source": [
    "from __future__ import annotations\n",
    "\n",
    "import copy\n",
    "import itertools\n",
    "import json\n",
    "import math\n",
    "import os\n",
    "import pickle\n",
    "import pprint\n",
    "import re\n",
    "import textwrap\n",
    "import time\n",
    "import traceback\n",
    "from collections import Counter, defaultdict\n",
    "from typing import Any\n",
    "\n",
    "import matplotlib.pyplot as plt\n",
    "import numpy as np\n",
    "import pandas as pd\n",
    "import tiktoken\n",
    "from IPython.display import Markdown, clear_output, display\n",
    "from tqdm.auto import tqdm\n",
    "\n",
    "import vertexai\n",
    "from vertexai.batch_prediction._batch_prediction import BatchPredictionJob"
   ]
  },
  {
   "cell_type": "code",
   "execution_count": 19,
   "id": "6961601f-2e3f-4cc4-9ab6-343749d0999e",
   "metadata": {},
   "outputs": [],
   "source": [
    "from eval.api import safe_unified_api_call\n",
    "from eval.costs import count_tokens, get_pricing\n",
    "from eval.eval import run_one, create_batch, make_answer_check_dict_from_jsonl\n",
    "from eval.parsing_lib import *\n",
    "from eval.latex_answer_check import *\n",
    "from eval.prompt import create_prompt\n",
    "from eval.prompts import *\n",
    "from eval.utils import AMC_LETTER_CHOICES, read_jsonl, write_jsonl, get_uid, upload_blob, download_blob"
   ]
  },
  {
   "cell_type": "markdown",
   "id": "8530a065-3ffc-4973-964d-1a26a7dbcfeb",
   "metadata": {},
   "source": [
    "# Data"
   ]
  },
  {
   "cell_type": "code",
   "execution_count": 27,
   "id": "8172ba18-dd54-4fe2-8bfc-9e191468f1ef",
   "metadata": {},
   "outputs": [
    {
     "data": {
      "text/plain": [
       "4115"
      ]
     },
     "execution_count": 27,
     "metadata": {},
     "output_type": "execute_result"
    }
   ],
   "source": [
    "# We don't use HARP_mcq.jsonl here because we used the original ordering of answer choices\n",
    "dataset = [x for x in read_jsonl(BASEDIR / \"data/processed/HARP_raw.jsonl\") if x[\"choices\"] is not None]# and x[\"subject\"] != \"calculus\"]\n",
    "dataset_map = {get_uid(p): p for p in dataset}\n",
    "len(dataset)"
   ]
  },
  {
   "cell_type": "code",
   "execution_count": 5,
   "id": "ea919c42-ecfd-443e-8643-1a6560c5d875",
   "metadata": {},
   "outputs": [
    {
     "data": {
      "text/plain": [
       "True"
      ]
     },
     "execution_count": 5,
     "metadata": {},
     "output_type": "execute_result"
    }
   ],
   "source": [
    "all([p[\"answer_choice\"] is not None for p in dataset])"
   ]
  },
  {
   "cell_type": "code",
   "execution_count": 6,
   "id": "57caa81f-8df0-4726-a96c-b0947e85edcf",
   "metadata": {},
   "outputs": [
    {
     "data": {
      "text/plain": [
       "Counter({2: 1612, 3: 1136, 1: 858, 4: 504})"
      ]
     },
     "execution_count": 6,
     "metadata": {},
     "output_type": "execute_result"
    }
   ],
   "source": [
    "Counter([p[\"level\"] for p in dataset])"
   ]
  },
  {
   "cell_type": "code",
   "execution_count": 7,
   "id": "cff58a2c-b30d-49c4-8ca0-94624003ff7f",
   "metadata": {},
   "outputs": [
    {
     "data": {
      "text/plain": [
       "Counter({'D': 991, 'C': 934, 'B': 929, 'E': 641, 'A': 615})"
      ]
     },
     "execution_count": 7,
     "metadata": {},
     "output_type": "execute_result"
    }
   ],
   "source": [
    "Counter([p[\"answer_choice\"] for p in dataset])"
   ]
  },
  {
   "cell_type": "code",
   "execution_count": 8,
   "id": "9555787c-1014-480d-a268-256a1ac176b0",
   "metadata": {},
   "outputs": [
    {
     "data": {
      "text/plain": [
       "{'C': 0.2272506082725061,\n",
       " 'D': 0.2411192214111922,\n",
       " 'E': 0.1559610705596107,\n",
       " 'A': 0.14963503649635038,\n",
       " 'B': 0.22603406326034065}"
      ]
     },
     "execution_count": 8,
     "metadata": {},
     "output_type": "execute_result"
    }
   ],
   "source": [
    "{c: x / len(dataset) for c, x in Counter([p[\"answer_choice\"] for p in dataset]).items()}"
   ]
  },
  {
   "cell_type": "code",
   "execution_count": 9,
   "id": "d8a794f9-f9bc-492f-a017-37e06ca6335c",
   "metadata": {},
   "outputs": [
    {
     "data": {
      "text/plain": [
       "0.2075872153255072"
      ]
     },
     "execution_count": 9,
     "metadata": {},
     "output_type": "execute_result"
    }
   ],
   "source": [
    "sum((x / len(dataset))**2 for c, x in Counter([p[\"answer_choice\"] for p in dataset]).items())"
   ]
  },
  {
   "cell_type": "markdown",
   "id": "532bd49a-7e93-4fc8-b508-3edae5528815",
   "metadata": {},
   "source": [
    "# Run eval"
   ]
  },
  {
   "cell_type": "code",
   "execution_count": 10,
   "id": "2a4a7847-7bd4-41d5-b73b-c3ec92f14d20",
   "metadata": {},
   "outputs": [],
   "source": [
    "vertexai.init(project=os.environ.get(\"VERTEXAI_PROJECT_ID\"), location=\"us-central1\")"
   ]
  },
  {
   "cell_type": "code",
   "execution_count": 11,
   "id": "19b78a16-daec-4a9d-9e7d-49167f8d3602",
   "metadata": {},
   "outputs": [],
   "source": [
    "BUCKET_NAME = os.environ.get(\"GCLOUD_BUCKET_NAME\")  # Should have the form \"cloud-ai-platform-<YOUR_BUCKET>\""
   ]
  },
  {
   "cell_type": "markdown",
   "id": "3e28ac58-4efa-43ed-a7a9-2a3d317e5537",
   "metadata": {},
   "source": [
    "## Shuffle choices"
   ]
  },
  {
   "cell_type": "code",
   "execution_count": 12,
   "id": "d623b0e1-92dd-4658-ada4-349388baeaca",
   "metadata": {},
   "outputs": [],
   "source": [
    "def get_derangement(length=5):\n",
    "    letters = AMC_LETTER_CHOICES[:length]\n",
    "    while True:\n",
    "        shuffle = np.random.permutation(letters)\n",
    "        is_derangement = True\n",
    "        for l, x in zip(letters, shuffle):\n",
    "            if l == x:\n",
    "                is_derangement = False\n",
    "        if is_derangement:\n",
    "            return [str(x) for x in shuffle] + AMC_LETTER_CHOICES[length:]\n",
    "\n",
    "def get_distinct_derangements(n, length=5):\n",
    "    # Note that there's 44 unique derangements\n",
    "    res = []\n",
    "    for i in range(n):\n",
    "        while True:\n",
    "            d = get_derangement(length)\n",
    "            if d not in res:\n",
    "                res.append(d)\n",
    "                break\n",
    "    return res"
   ]
  },
  {
   "cell_type": "code",
   "execution_count": 13,
   "id": "168e8297-066e-42df-ae2e-92f08acba487",
   "metadata": {},
   "outputs": [],
   "source": [
    "def create_problem_with_shuffled_choices(prob, new_order):\n",
    "    new_prob = prob.copy()\n",
    "    \n",
    "    new_choices = {}\n",
    "    for letter, new_letter in zip(AMC_LETTER_CHOICES, new_order):\n",
    "        new_choices[new_letter] = new_prob[\"choices\"][letter]\n",
    "    new_choices = {l: new_choices[l] for l in AMC_LETTER_CHOICES}\n",
    "    new_prob[\"choices\"] = new_choices\n",
    "    new_prob[\"answer_choice\"] = new_order[AMC_LETTER_CHOICES.index(new_prob[\"answer_choice\"])]\n",
    "    return new_prob"
   ]
  },
  {
   "cell_type": "code",
   "execution_count": 100,
   "id": "123edfd8-2c48-44f9-9b87-1170b5310181",
   "metadata": {},
   "outputs": [],
   "source": [
    "all_derangements = {}\n",
    "for i, prob in enumerate(dataset):\n",
    "    choices = prob[\"choices\"]\n",
    "    length = 5\n",
    "    if \"none of\" in choices[\"E\"].lower() or \"all of\" in choices[\"E\"].lower():\n",
    "        length = 4\n",
    "\n",
    "    seen_ds = first_derangements[i].copy()\n",
    "    for i in range(3):\n",
    "        d = get_derangement(length)\n",
    "        while d in seen_ds:\n",
    "            d = get_derangement(length)\n",
    "        seen_ds.append(d)\n",
    "    all_derangements[get_uid(prob)] = seen_ds\n",
    "\n",
    "with open(BASEDIR / \"outputs/mcq/gemini-1.5-pro-002/mcq_derangements.pkl\", \"wb+\") as f:\n",
    "    pickle.dump(all_derangements, f)"
   ]
  },
  {
   "cell_type": "code",
   "execution_count": 33,
   "id": "919f5986-047f-49ea-bdf1-96b175613d93",
   "metadata": {},
   "outputs": [],
   "source": [
    "with open(BASEDIR / \"outputs/mcq/gemini-1.5-pro-002/mcq_derangements.pkl\", \"rb\") as f:\n",
    "    all_derangements = pickle.load(f)"
   ]
  },
  {
   "cell_type": "code",
   "execution_count": 34,
   "id": "d8df1fff-6376-4efc-9068-eb99d26ccec4",
   "metadata": {},
   "outputs": [],
   "source": [
    "TOTAL_RUNS = 5\n",
    "\n",
    "datasets = [[] for _ in range(TOTAL_RUNS)]\n",
    "for prob in dataset:\n",
    "    derangements = all_derangements[get_uid(prob)]\n",
    "    choices = prob[\"choices\"]\n",
    "    length = 5\n",
    "    if \"none of\" in choices[\"E\"].lower() or \"all of\" in choices[\"E\"].lower():\n",
    "        length = 4\n",
    "\n",
    "    for t in range(TOTAL_RUNS):\n",
    "        datasets[t].append(\n",
    "            create_problem_with_shuffled_choices(prob, derangements[t])\n",
    "        )"
   ]
  },
  {
   "cell_type": "code",
   "execution_count": 35,
   "id": "df8450bb-67ae-4ec1-b1cc-76ff65eb172c",
   "metadata": {},
   "outputs": [],
   "source": [
    "datasets_map = [{get_uid(p): p for p in datasets[t]} for t in range(TOTAL_RUNS)]"
   ]
  },
  {
   "cell_type": "code",
   "execution_count": 22,
   "id": "3301067b-f32a-46b2-ba72-f13d09a93a87",
   "metadata": {},
   "outputs": [
    {
     "name": "stdout",
     "output_type": "stream",
     "text": [
      "Counter({'E': 850, 'A': 848, 'D': 818, 'C': 798, 'B': 796})\n",
      "Counter({'A': 932, 'E': 857, 'C': 777, 'B': 773, 'D': 771})\n",
      "Counter({'E': 854, 'A': 853, 'B': 810, 'C': 798, 'D': 795})\n",
      "Counter({'A': 888, 'E': 855, 'B': 794, 'C': 792, 'D': 781})\n",
      "Counter({'A': 903, 'E': 871, 'C': 802, 'B': 798, 'D': 736})\n"
     ]
    }
   ],
   "source": [
    "for t in range(TOTAL_RUNS):\n",
    "    print(Counter(p[\"answer_choice\"] for p in datasets[t]))"
   ]
  },
  {
   "cell_type": "markdown",
   "id": "a777ca51-9e54-4b33-8d2e-32304459f229",
   "metadata": {},
   "source": [
    "## Create batch"
   ]
  },
  {
   "cell_type": "code",
   "execution_count": null,
   "id": "b0e4ca2f-82d7-4012-9188-313ec3e03228",
   "metadata": {},
   "outputs": [],
   "source": [
    "for t in range(TOTAL_RUNS):\n",
    "    batch = create_batch(\n",
    "        datasets[t],\n",
    "        api=\"google\",\n",
    "        model=\"gemini-1.5-pro-002\",\n",
    "        fewshot_messages=[],\n",
    "        system_prompt=gemini_multiple_choice_0shot_sysprompt,\n",
    "        prompt_choices=\"newline_paren\",\n",
    "        max_tokens=2048,\n",
    "        temperature=0,\n",
    "        seed=0,\n",
    "        stop_sequences=[\"I hope it is correct.\"],\n",
    "        # just to remove irrelevant params\n",
    "        logprobs=None,\n",
    "        top_p=None,\n",
    "    )\n",
    "    write_jsonl(\n",
    "        batch,\n",
    "        BASEDIR / f\"inputs/mcq/gemini-1.5-pro-002/batch_choices_newline-paren_shuffle{t+1}.jsonl\",\n",
    "    )"
   ]
  },
  {
   "cell_type": "markdown",
   "id": "24d29b20-3d43-4c76-af1e-66d60e975b8e",
   "metadata": {},
   "source": [
    "## Upload to cloud"
   ]
  },
  {
   "cell_type": "code",
   "execution_count": null,
   "id": "5146d869-e104-41f6-ace9-1f4f5884ede7",
   "metadata": {},
   "outputs": [],
   "source": [
    "for t in range(TOTAL_RUNS):\n",
    "    upload_blob(\n",
    "        BUCKET_NAME,\n",
    "        BASEDIR / f\"inputs/mcq/gemini-1.5-pro-002/batch_choices_newline-paren_shuffle{t+1}.jsonl\",\n",
    "        f\"prompt_data/mcq/gemini-1.5-pro-002/batch_choices_newline-paren_shuffle{t+1}.jsonl\",\n",
    "    )"
   ]
  },
  {
   "cell_type": "markdown",
   "id": "9c0ac3e5-3ff5-431f-9134-802e3904a034",
   "metadata": {},
   "source": [
    "## Run batch job"
   ]
  },
  {
   "cell_type": "code",
   "execution_count": null,
   "id": "a72d9282-4a2a-4cb1-860d-a5d599b945ab",
   "metadata": {},
   "outputs": [],
   "source": [
    "for t in range(TOTAL_RUNS):\n",
    "    BatchPredictionJob.submit(\n",
    "        source_model=\"gemini-1.5-pro-002\",\n",
    "        input_dataset=f\"gs://{BUCKET_NAME}/prompt_data/mcq/gemini-1.5-pro-002/batch_choices_newline-paren_shuffle{t+1}.jsonl\",\n",
    "        output_uri_prefix=f\"gs://{BUCKET_NAME}/outputs/mcq/gemini-1.5-pro-002/batch_choices_newline-paren_shuffle{t+1}\",\n",
    "    )"
   ]
  },
  {
   "cell_type": "code",
   "execution_count": null,
   "id": "421c26ec-123d-4d60-82af-ef78893687fc",
   "metadata": {},
   "outputs": [],
   "source": [
    "download_blob(\n",
    "    BUCKET_NAME,\n",
    "    \"outputs/mcq/gemini-1.5-pro-002/batch_choices_newline-paren_shuffle1/prediction-model-<TIMESTAMP>/predictions.jsonl\",\n",
    "    BASEDIR / \"outputs/mcq/gemini-1.5-pro-002/outputs_newline-paren_shuffle1.jsonl\",\n",
    ")\n",
    "download_blob(\n",
    "    BUCKET_NAME,\n",
    "    \"outputs/mcq/gemini-1.5-pro-002/batch_choices_newline-paren_shuffle2/prediction-model-<TIMESTAMP>/predictions.jsonl\",\n",
    "    BASEDIR / \"outputs/mcq/gemini-1.5-pro-002/outputs_newline-paren_shuffle2.jsonl\",\n",
    ")\n",
    "download_blob(\n",
    "    BUCKET_NAME,\n",
    "    \"outputs/mcq/gemini-1.5-pro-002/batch_choices_newline-paren_shuffle3/prediction-model-<TIMESTAMP>/predictions.jsonl\",\n",
    "    BASEDIR / \"outputs/mcq/gemini-1.5-pro-002/outputs_newline-paren_shuffle3.jsonl\",\n",
    ")\n",
    "download_blob(\n",
    "    BUCKET_NAME,\n",
    "    \"outputs/mcq/gemini-1.5-pro-002/batch_choices_newline-paren_shuffle4/prediction-model-<TIMESTAMP>/predictions.jsonl\",\n",
    "    BASEDIR / \"outputs/mcq/gemini-1.5-pro-002/outputs_newline-paren_shuffle4.jsonl\",\n",
    ")\n",
    "download_blob(\n",
    "    BUCKET_NAME,\n",
    "    \"outputs/mcq/gemini-1.5-pro-002/batch_choices_newline-paren_shuffle5/prediction-model-<TIMESTAMP>/predictions.jsonl\",\n",
    "    BASEDIR / \"outputs/mcq/gemini-1.5-pro-002/outputs_newline-paren_shuffle5.jsonl\",\n",
    ")"
   ]
  },
  {
   "cell_type": "markdown",
   "id": "29178386-1a72-4932-88f7-86213a81547f",
   "metadata": {},
   "source": [
    "# Results"
   ]
  },
  {
   "cell_type": "code",
   "execution_count": 21,
   "id": "26c689ba-9ab0-493b-a19d-33a4759c95c8",
   "metadata": {},
   "outputs": [
    {
     "name": "stderr",
     "output_type": "stream",
     "text": [
      "100%|██████████████████████████████████████████████████████████████████████████████████████| 4115/4115 [00:05<00:00, 744.83it/s]\n",
      "100%|██████████████████████████████████████████████████████████████████████████████████████| 4115/4115 [00:05<00:00, 806.14it/s]\n",
      "100%|██████████████████████████████████████████████████████████████████████████████████████| 4115/4115 [00:05<00:00, 774.79it/s]\n",
      "100%|██████████████████████████████████████████████████████████████████████████████████████| 4115/4115 [00:05<00:00, 733.76it/s]\n",
      "100%|██████████████████████████████████████████████████████████████████████████████████████| 4115/4115 [00:05<00:00, 773.85it/s]\n"
     ]
    }
   ],
   "source": [
    "raw_responses = []\n",
    "responses = []\n",
    "raw_response_map = []\n",
    "response_map = []\n",
    "answer_check_results = []\n",
    "results = []\n",
    "\n",
    "for i in range(5):\n",
    "    fname = BASEDIR / f\"eval/outputs/albert/aops_choices/gemini-1.5-pro-002/hard_newline-paren_shuffle{i+1}.jsonl\"\n",
    "\n",
    "    raw_responses_shuffle_i = read_jsonl(fname)\n",
    "    responses_shuffle_i = [\n",
    "        {\n",
    "            \"uid\": x[\"custom_id\"],\n",
    "            \"system\": x[\"request\"][\"system_instruction\"],\n",
    "            \"prompt\": x[\"request\"][\"contents\"],\n",
    "            \"response\": ModelResponse.from_response(x[\"response\"], \"google\", used_batch_api=True)\n",
    "        }\n",
    "        for x in raw_responses_shuffle_i\n",
    "        if x[\"status\"] == \"\"\n",
    "    ]\n",
    "    raw_response_shuffle_i_map = {o[\"uid\"]: raw for raw, o in zip(raw_responses_shuffle_i, responses_shuffle_i)}\n",
    "    response_shuffle_i_map = {o[\"uid\"]: o for o in responses_shuffle_i}\n",
    "\n",
    "    answer_check_dicts_shuffle_i = make_answer_check_dict_from_jsonl(responses_shuffle_i, datasets_map[i])\n",
    "    \n",
    "    answer_check_results_shuffle_i = []\n",
    "    for prob in tqdm(answer_check_dicts_shuffle_i):\n",
    "        # If the generation didn't finish or otherwise failed, then we should mark as \"incorrect\"\n",
    "        # Note that otherwise we might take a random value as the \"answer\" for a generation that hit max tokens\n",
    "        model_ans = prob[\"generated_text\"] if prob[\"finish_reason\"] == \"stop\" else None\n",
    "        gt = prob[\"answer_choice\"]\n",
    "        out = check_one_latex_answer(\n",
    "            model_ans,\n",
    "            gt,\n",
    "            extract_policy=\"flex\",\n",
    "            eval_policy=\"aggressive\",\n",
    "        )\n",
    "        \n",
    "        model_ans_choice = extract_answer(model_ans, EXTRACT_RE_PATTERNS) if model_ans is not None else \"F\"\n",
    "        model_ans_choice = remove_boxes_keep_content(clean_answer(model_ans_choice))\n",
    "        gt_choice = remove_boxes_keep_content(clean_answer(gt))\n",
    "        if out[\"is_correct\"] != (model_ans_choice == gt_choice):\n",
    "            print(\"DIDNT MATCH EXACT MATCH:\", out)\n",
    "        \n",
    "        answer_check_results_shuffle_i.append({**prob, **out})\n",
    "    results_shuffle_i_metadata = make_results_df(\n",
    "        responses_shuffle_i, answer_check_results_shuffle_i, datasets_map[i], mode=\"mcq\"\n",
    "    )\n",
    "\n",
    "    raw_responses.append(raw_responses_shuffle_i)\n",
    "    responses.append(responses_shuffle_i)\n",
    "    raw_response_map.append(raw_response_shuffle_i_map)\n",
    "    response_map.append(response_shuffle_i_map)\n",
    "    answer_check_results.append(answer_check_results_shuffle_i)\n",
    "    results.append(results_shuffle_i_metadata)"
   ]
  },
  {
   "cell_type": "code",
   "execution_count": 22,
   "id": "ecaaa75b-f483-4da7-842d-6e63fb328298",
   "metadata": {},
   "outputs": [],
   "source": [
    "orig_results = [df.copy() for df in results]\n",
    "results = [df.query(\"subject != 'calculus'\") for df in results]"
   ]
  },
  {
   "cell_type": "code",
   "execution_count": 177,
   "id": "b4e9f409-8c9a-4e98-9792-f2e96d306123",
   "metadata": {},
   "outputs": [],
   "source": [
    "for i in range(5):\n",
    "    RESULTS_FNAME = BASEDIR / f\"eval/outputs/albert/results/gemini-1.5-pro-002_mcq_newlineparen_shuffle{i+1}.csv\"\n",
    "    orig_results[i].to_csv(RESULTS_FNAME)"
   ]
  },
  {
   "cell_type": "code",
   "execution_count": 23,
   "id": "7f5a6366-0439-488d-a9b9-042e9cb1fbe6",
   "metadata": {},
   "outputs": [
    {
     "name": "stdout",
     "output_type": "stream",
     "text": [
      "Accuracy is 3316 / 4110 = 80.7%\n",
      "Accuracy is 3328 / 4110 = 81.0%\n",
      "Accuracy is 3307 / 4110 = 80.5%\n",
      "Accuracy is 3282 / 4110 = 79.9%\n",
      "Accuracy is 3302 / 4110 = 80.3%\n"
     ]
    }
   ],
   "source": [
    "for i in range(5):\n",
    "    print(\n",
    "        \"Accuracy is {} / {} = {:.01f}%\".format(\n",
    "            results[i][\"is_correct\"].sum(),\n",
    "            len(results[i]),\n",
    "            results[i][\"is_correct\"].sum() / len(results[i]) * 100,\n",
    "        )\n",
    "    )"
   ]
  },
  {
   "cell_type": "markdown",
   "id": "7c0408f2-d6b4-44fc-851d-f896ebf3c561",
   "metadata": {},
   "source": [
    "## Accuracy"
   ]
  },
  {
   "cell_type": "code",
   "execution_count": 24,
   "id": "b502f815-46c4-49a8-84a3-c54735e46b82",
   "metadata": {},
   "outputs": [],
   "source": [
    "def accuracy_by_split(df, col_name):\n",
    "    counts = df.value_counts(col_name).sort_index().to_frame()\n",
    "    acc = (\n",
    "        100 * df.groupby(col_name)[\"is_correct\"].sum()\n",
    "        / df.groupby(col_name)[\"is_correct\"].count()\n",
    "    )\n",
    "    return pd.concat([counts, acc], axis=1).rename(columns={\"is_correct\": \"accuracy\"})"
   ]
  },
  {
   "cell_type": "code",
   "execution_count": 184,
   "id": "f93e70a0-c89e-4f99-8ce5-80dd3ab0c173",
   "metadata": {},
   "outputs": [
    {
     "name": "stdout",
     "output_type": "stream",
     "text": [
      "       count   accuracy\n",
      "level                  \n",
      "1        858  87.412587\n",
      "2       1612  85.359801\n",
      "3       1136  76.056338\n",
      "4        504  64.682540\n",
      "       count   accuracy\n",
      "level                  \n",
      "1        858  86.713287\n",
      "2       1612  85.732010\n",
      "3       1136  77.816901\n",
      "4        504  63.095238\n",
      "       count   accuracy\n",
      "level                  \n",
      "1        858  87.179487\n",
      "2       1612  85.359801\n",
      "3       1136  76.232394\n",
      "4        504  62.896825\n",
      "       count   accuracy\n",
      "level                  \n",
      "1        858  86.130536\n",
      "2       1612  84.739454\n",
      "3       1136  77.200704\n",
      "4        504  59.523810\n",
      "       count   accuracy\n",
      "level                  \n",
      "1        858  87.062937\n",
      "2       1612  84.615385\n",
      "3       1136  76.584507\n",
      "4        504  63.690476\n"
     ]
    }
   ],
   "source": [
    "for i in range(5):\n",
    "    print(accuracy_by_split(results[i], \"level\"))"
   ]
  },
  {
   "cell_type": "code",
   "execution_count": 185,
   "id": "c7e50ceb-a658-4f3a-ade9-00590aebf6a3",
   "metadata": {},
   "outputs": [
    {
     "name": "stdout",
     "output_type": "stream",
     "text": [
      "                          count   accuracy\n",
      "subject                                   \n",
      "algebra                     872  86.353211\n",
      "counting_and_probability    600  71.333333\n",
      "geometry                   1071  72.362278\n",
      "number_theory               473  78.858351\n",
      "prealgebra                  957  92.685475\n",
      "precalculus                 137  72.992701\n",
      "                          count   accuracy\n",
      "subject                                   \n",
      "algebra                     872  87.041284\n",
      "counting_and_probability    600  72.500000\n",
      "geometry                   1071  73.482726\n",
      "number_theory               473  80.126850\n",
      "prealgebra                  957  91.222571\n",
      "precalculus                 137  69.343066\n",
      "                          count   accuracy\n",
      "subject                                   \n",
      "algebra                     872  85.206422\n",
      "counting_and_probability    600  72.166667\n",
      "geometry                   1071  73.295985\n",
      "number_theory               473  78.858351\n",
      "prealgebra                  957  91.431557\n",
      "precalculus                 137  71.532847\n",
      "                          count   accuracy\n",
      "subject                                   \n",
      "algebra                     872  86.697248\n",
      "counting_and_probability    600  70.000000\n",
      "geometry                   1071  72.175537\n",
      "number_theory               473  79.492600\n",
      "prealgebra                  957  89.759666\n",
      "precalculus                 137  71.532847\n",
      "                          count   accuracy\n",
      "subject                                   \n",
      "algebra                     872  86.926606\n",
      "counting_and_probability    600  70.000000\n",
      "geometry                   1071  72.362278\n",
      "number_theory               473  78.224101\n",
      "prealgebra                  957  91.640543\n",
      "precalculus                 137  74.452555\n"
     ]
    }
   ],
   "source": [
    "for i in range(5):\n",
    "    print(accuracy_by_split(results[i], \"subject\"))"
   ]
  },
  {
   "cell_type": "code",
   "execution_count": 188,
   "id": "39babbaa-f5a1-4634-a6d3-27f02753c253",
   "metadata": {},
   "outputs": [
    {
     "name": "stdout",
     "output_type": "stream",
     "text": [
      "80.27909426013692\n",
      "80.54239073196419\n",
      "80.0684570826751\n",
      "79.25223802001054\n",
      "79.96313849394419\n"
     ]
    }
   ],
   "source": [
    "for i in range(5):\n",
    "    print(results[i][~results[i][\"mcq_only\"]][\"is_correct\"].mean() * 100)"
   ]
  },
  {
   "cell_type": "code",
   "execution_count": 187,
   "id": "33349d97-23f6-4803-8ab7-97c1b2d804bc",
   "metadata": {},
   "outputs": [
    {
     "name": "stdout",
     "output_type": "stream",
     "text": [
      "       count   accuracy\n",
      "level                  \n",
      "1        799  86.983730\n",
      "2       1505  84.983389\n",
      "3       1036  75.482625\n",
      "4        458  63.973799\n",
      "       count   accuracy\n",
      "level                  \n",
      "1        799  86.232791\n",
      "2       1505  85.249169\n",
      "3       1036  77.509653\n",
      "4        458  62.008734\n",
      "       count   accuracy\n",
      "level                  \n",
      "1        799  86.608260\n",
      "2       1505  84.983389\n",
      "3       1036  75.675676\n",
      "4        458  62.445415\n",
      "       count   accuracy\n",
      "level                  \n",
      "1        799  85.607009\n",
      "2       1505  84.119601\n",
      "3       1036  76.640927\n",
      "4        458  58.078603\n",
      "       count   accuracy\n",
      "level                  \n",
      "1        799  86.608260\n",
      "2       1505  84.252492\n",
      "3       1036  76.158301\n",
      "4        458  62.882096\n"
     ]
    }
   ],
   "source": [
    "for i in range(5):\n",
    "    print(accuracy_by_split(results[i][~results[i][\"mcq_only\"]], \"level\"))"
   ]
  },
  {
   "cell_type": "markdown",
   "id": "ce7abe18-ea7e-4806-abca-c02a11202c43",
   "metadata": {},
   "source": [
    "## Compare with no-shuffle"
   ]
  },
  {
   "cell_type": "code",
   "execution_count": 25,
   "id": "84fb131a-84cc-4ce1-b34a-975731704f74",
   "metadata": {},
   "outputs": [
    {
     "name": "stderr",
     "output_type": "stream",
     "text": [
      "100%|██████████████████████████████████████████████████████████████████████████████████████| 4115/4115 [00:05<00:00, 745.13it/s]\n"
     ]
    }
   ],
   "source": [
    "fname_newlineparen = BASEDIR / \"eval/outputs/albert/aops_choices/gemini-1.5-pro-002/hard_newline-paren.jsonl\"\n",
    "\n",
    "raw_responses_newlineparen = read_jsonl(fname_newlineparen)\n",
    "responses_newlineparen = [\n",
    "    {\n",
    "        \"uid\": x[\"custom_id\"],\n",
    "        \"system\": x[\"request\"][\"system_instruction\"],\n",
    "        \"prompt\": x[\"request\"][\"contents\"],\n",
    "        \"response\": ModelResponse.from_response(x[\"response\"], \"google\", used_batch_api=True)\n",
    "    }\n",
    "    for x in raw_responses_newlineparen\n",
    "    if x[\"status\"] == \"\"\n",
    "]\n",
    "raw_response_newlineparen_map = {o[\"uid\"]: raw for raw, o in zip(raw_responses_newlineparen, responses_newlineparen)}\n",
    "response_newlineparen_map = {o[\"uid\"]: o for o in responses_newlineparen}\n",
    "\n",
    "answer_check_dicts_newlineparen = make_answer_check_dict_from_jsonl(responses_newlineparen, dataset_map)\n",
    "\n",
    "answer_check_results_newlineparen = []\n",
    "for prob in tqdm(answer_check_dicts_newlineparen):\n",
    "    # If the generation didn't finish or otherwise failed, then we should mark as \"incorrect\"\n",
    "    # Note that otherwise we might take a random value as the \"answer\" for a generation that hit max tokens\n",
    "    model_ans = prob[\"generated_text\"] if prob[\"finish_reason\"] == \"stop\" else None\n",
    "    gt = prob[\"answer_choice\"]\n",
    "    out = check_one_latex_answer(\n",
    "        model_ans,\n",
    "        gt,\n",
    "        extract_policy=\"flex\",\n",
    "        eval_policy=\"aggressive\",\n",
    "    )\n",
    "    \n",
    "    model_ans_choice = extract_answer(model_ans, EXTRACT_RE_PATTERNS) if model_ans is not None else \"F\"\n",
    "    model_ans_choice = remove_boxes_keep_content(clean_answer(model_ans_choice))\n",
    "    gt_choice = remove_boxes_keep_content(clean_answer(gt))\n",
    "    if out[\"is_correct\"] != (model_ans_choice == gt_choice):\n",
    "        print(\"DIDNT MATCH EXACT MATCH:\", out)\n",
    "    \n",
    "    answer_check_results_newlineparen.append({**prob, **out})\n",
    "\n",
    "results_newlineparen_metadata = make_results_df(\n",
    "    responses_newlineparen, answer_check_results_newlineparen, dataset_map, mode=\"mcq\"\n",
    ")"
   ]
  },
  {
   "cell_type": "code",
   "execution_count": 28,
   "id": "1b3efa9d-a1f7-49b2-8b88-cdefc187521f",
   "metadata": {},
   "outputs": [],
   "source": [
    "ACCURACY_COLUMNS = [\n",
    "    \"is_correct_original\",\n",
    "    *[f\"is_correct_shuffle_{i+1}\" for i in range(5)],\n",
    "]"
   ]
  },
  {
   "cell_type": "code",
   "execution_count": 26,
   "id": "7c49cb06-3bdb-46a8-a8d6-30b0b2248639",
   "metadata": {},
   "outputs": [],
   "source": [
    "df = pd.concat([\n",
    "    (\n",
    "        results_newlineparen_metadata\n",
    "        .set_index([\"level\", \"subject\", \"has_asy_problem\", \"has_asy_solution\", \"mcq_only\"], append=True)\n",
    "        .assign(mode=\"original\")\n",
    "    ),\n",
    "    *[\n",
    "        (\n",
    "            results[i]\n",
    "            .set_index([\"level\", \"subject\", \"has_asy_problem\", \"has_asy_solution\", \"mcq_only\"], append=True)\n",
    "            .assign(mode=f\"shuffle_{i+1}\")\n",
    "        )\n",
    "        for i in range(5)\n",
    "    ]\n",
    "]).set_index(\"mode\", append=True)"
   ]
  },
  {
   "cell_type": "code",
   "execution_count": 27,
   "id": "a48cfeb9-d21f-42c6-998e-41aa3cfb20ec",
   "metadata": {},
   "outputs": [
    {
     "data": {
      "text/html": [
       "<div>\n",
       "<style scoped>\n",
       "    .dataframe tbody tr th:only-of-type {\n",
       "        vertical-align: middle;\n",
       "    }\n",
       "\n",
       "    .dataframe tbody tr th {\n",
       "        vertical-align: top;\n",
       "    }\n",
       "\n",
       "    .dataframe thead th {\n",
       "        text-align: right;\n",
       "    }\n",
       "</style>\n",
       "<table border=\"1\" class=\"dataframe\">\n",
       "  <thead>\n",
       "    <tr style=\"text-align: right;\">\n",
       "      <th></th>\n",
       "      <th>level</th>\n",
       "      <th>subject</th>\n",
       "      <th>has_asy_problem</th>\n",
       "      <th>has_asy_solution</th>\n",
       "      <th>mcq_only</th>\n",
       "      <th>reason_original</th>\n",
       "      <th>reason_shuffle_1</th>\n",
       "      <th>reason_shuffle_2</th>\n",
       "      <th>reason_shuffle_3</th>\n",
       "      <th>reason_shuffle_4</th>\n",
       "      <th>...</th>\n",
       "      <th>output_tokens_shuffle_2</th>\n",
       "      <th>output_tokens_shuffle_3</th>\n",
       "      <th>output_tokens_shuffle_4</th>\n",
       "      <th>output_tokens_shuffle_5</th>\n",
       "      <th>reasoning_tokens_original</th>\n",
       "      <th>reasoning_tokens_shuffle_1</th>\n",
       "      <th>reasoning_tokens_shuffle_2</th>\n",
       "      <th>reasoning_tokens_shuffle_3</th>\n",
       "      <th>reasoning_tokens_shuffle_4</th>\n",
       "      <th>reasoning_tokens_shuffle_5</th>\n",
       "    </tr>\n",
       "    <tr>\n",
       "      <th>uid</th>\n",
       "      <th></th>\n",
       "      <th></th>\n",
       "      <th></th>\n",
       "      <th></th>\n",
       "      <th></th>\n",
       "      <th></th>\n",
       "      <th></th>\n",
       "      <th></th>\n",
       "      <th></th>\n",
       "      <th></th>\n",
       "      <th></th>\n",
       "      <th></th>\n",
       "      <th></th>\n",
       "      <th></th>\n",
       "      <th></th>\n",
       "      <th></th>\n",
       "      <th></th>\n",
       "      <th></th>\n",
       "      <th></th>\n",
       "      <th></th>\n",
       "      <th></th>\n",
       "    </tr>\n",
       "  </thead>\n",
       "  <tbody>\n",
       "    <tr>\n",
       "      <th>1950/AHSME/1</th>\n",
       "      <td>2</td>\n",
       "      <td>prealgebra</td>\n",
       "      <td>False</td>\n",
       "      <td>False</td>\n",
       "      <td>False</td>\n",
       "      <td>stop</td>\n",
       "      <td>stop</td>\n",
       "      <td>stop</td>\n",
       "      <td>stop</td>\n",
       "      <td>stop</td>\n",
       "      <td>...</td>\n",
       "      <td>148.0</td>\n",
       "      <td>148.0</td>\n",
       "      <td>148.0</td>\n",
       "      <td>143.0</td>\n",
       "      <td>0.0</td>\n",
       "      <td>0.0</td>\n",
       "      <td>0.0</td>\n",
       "      <td>0.0</td>\n",
       "      <td>0.0</td>\n",
       "      <td>0.0</td>\n",
       "    </tr>\n",
       "    <tr>\n",
       "      <th>1950/AHSME/10</th>\n",
       "      <td>2</td>\n",
       "      <td>prealgebra</td>\n",
       "      <td>False</td>\n",
       "      <td>False</td>\n",
       "      <td>False</td>\n",
       "      <td>stop</td>\n",
       "      <td>stop</td>\n",
       "      <td>stop</td>\n",
       "      <td>stop</td>\n",
       "      <td>stop</td>\n",
       "      <td>...</td>\n",
       "      <td>329.0</td>\n",
       "      <td>240.0</td>\n",
       "      <td>257.0</td>\n",
       "      <td>317.0</td>\n",
       "      <td>0.0</td>\n",
       "      <td>0.0</td>\n",
       "      <td>0.0</td>\n",
       "      <td>0.0</td>\n",
       "      <td>0.0</td>\n",
       "      <td>0.0</td>\n",
       "    </tr>\n",
       "    <tr>\n",
       "      <th>1950/AHSME/11</th>\n",
       "      <td>2</td>\n",
       "      <td>prealgebra</td>\n",
       "      <td>False</td>\n",
       "      <td>False</td>\n",
       "      <td>True</td>\n",
       "      <td>stop</td>\n",
       "      <td>stop</td>\n",
       "      <td>stop</td>\n",
       "      <td>stop</td>\n",
       "      <td>stop</td>\n",
       "      <td>...</td>\n",
       "      <td>198.0</td>\n",
       "      <td>228.0</td>\n",
       "      <td>206.0</td>\n",
       "      <td>215.0</td>\n",
       "      <td>0.0</td>\n",
       "      <td>0.0</td>\n",
       "      <td>0.0</td>\n",
       "      <td>0.0</td>\n",
       "      <td>0.0</td>\n",
       "      <td>0.0</td>\n",
       "    </tr>\n",
       "    <tr>\n",
       "      <th>1950/AHSME/12</th>\n",
       "      <td>2</td>\n",
       "      <td>geometry</td>\n",
       "      <td>False</td>\n",
       "      <td>False</td>\n",
       "      <td>True</td>\n",
       "      <td>stop</td>\n",
       "      <td>stop</td>\n",
       "      <td>stop</td>\n",
       "      <td>stop</td>\n",
       "      <td>stop</td>\n",
       "      <td>...</td>\n",
       "      <td>139.0</td>\n",
       "      <td>176.0</td>\n",
       "      <td>175.0</td>\n",
       "      <td>185.0</td>\n",
       "      <td>0.0</td>\n",
       "      <td>0.0</td>\n",
       "      <td>0.0</td>\n",
       "      <td>0.0</td>\n",
       "      <td>0.0</td>\n",
       "      <td>0.0</td>\n",
       "    </tr>\n",
       "    <tr>\n",
       "      <th>1950/AHSME/13</th>\n",
       "      <td>2</td>\n",
       "      <td>algebra</td>\n",
       "      <td>False</td>\n",
       "      <td>False</td>\n",
       "      <td>False</td>\n",
       "      <td>stop</td>\n",
       "      <td>stop</td>\n",
       "      <td>stop</td>\n",
       "      <td>stop</td>\n",
       "      <td>stop</td>\n",
       "      <td>...</td>\n",
       "      <td>208.0</td>\n",
       "      <td>226.0</td>\n",
       "      <td>208.0</td>\n",
       "      <td>223.0</td>\n",
       "      <td>0.0</td>\n",
       "      <td>0.0</td>\n",
       "      <td>0.0</td>\n",
       "      <td>0.0</td>\n",
       "      <td>0.0</td>\n",
       "      <td>0.0</td>\n",
       "    </tr>\n",
       "  </tbody>\n",
       "</table>\n",
       "<p>5 rows × 47 columns</p>\n",
       "</div>"
      ],
      "text/plain": [
       "               level     subject  has_asy_problem  has_asy_solution  mcq_only  \\\n",
       "uid                                                                             \n",
       "1950/AHSME/1       2  prealgebra            False             False     False   \n",
       "1950/AHSME/10      2  prealgebra            False             False     False   \n",
       "1950/AHSME/11      2  prealgebra            False             False      True   \n",
       "1950/AHSME/12      2    geometry            False             False      True   \n",
       "1950/AHSME/13      2     algebra            False             False     False   \n",
       "\n",
       "              reason_original reason_shuffle_1 reason_shuffle_2  \\\n",
       "uid                                                               \n",
       "1950/AHSME/1             stop             stop             stop   \n",
       "1950/AHSME/10            stop             stop             stop   \n",
       "1950/AHSME/11            stop             stop             stop   \n",
       "1950/AHSME/12            stop             stop             stop   \n",
       "1950/AHSME/13            stop             stop             stop   \n",
       "\n",
       "              reason_shuffle_3 reason_shuffle_4  ... output_tokens_shuffle_2  \\\n",
       "uid                                              ...                           \n",
       "1950/AHSME/1              stop             stop  ...                   148.0   \n",
       "1950/AHSME/10             stop             stop  ...                   329.0   \n",
       "1950/AHSME/11             stop             stop  ...                   198.0   \n",
       "1950/AHSME/12             stop             stop  ...                   139.0   \n",
       "1950/AHSME/13             stop             stop  ...                   208.0   \n",
       "\n",
       "              output_tokens_shuffle_3 output_tokens_shuffle_4  \\\n",
       "uid                                                             \n",
       "1950/AHSME/1                    148.0                   148.0   \n",
       "1950/AHSME/10                   240.0                   257.0   \n",
       "1950/AHSME/11                   228.0                   206.0   \n",
       "1950/AHSME/12                   176.0                   175.0   \n",
       "1950/AHSME/13                   226.0                   208.0   \n",
       "\n",
       "              output_tokens_shuffle_5 reasoning_tokens_original  \\\n",
       "uid                                                               \n",
       "1950/AHSME/1                    143.0                       0.0   \n",
       "1950/AHSME/10                   317.0                       0.0   \n",
       "1950/AHSME/11                   215.0                       0.0   \n",
       "1950/AHSME/12                   185.0                       0.0   \n",
       "1950/AHSME/13                   223.0                       0.0   \n",
       "\n",
       "              reasoning_tokens_shuffle_1 reasoning_tokens_shuffle_2  \\\n",
       "uid                                                                   \n",
       "1950/AHSME/1                         0.0                        0.0   \n",
       "1950/AHSME/10                        0.0                        0.0   \n",
       "1950/AHSME/11                        0.0                        0.0   \n",
       "1950/AHSME/12                        0.0                        0.0   \n",
       "1950/AHSME/13                        0.0                        0.0   \n",
       "\n",
       "              reasoning_tokens_shuffle_3 reasoning_tokens_shuffle_4  \\\n",
       "uid                                                                   \n",
       "1950/AHSME/1                         0.0                        0.0   \n",
       "1950/AHSME/10                        0.0                        0.0   \n",
       "1950/AHSME/11                        0.0                        0.0   \n",
       "1950/AHSME/12                        0.0                        0.0   \n",
       "1950/AHSME/13                        0.0                        0.0   \n",
       "\n",
       "              reasoning_tokens_shuffle_5  \n",
       "uid                                       \n",
       "1950/AHSME/1                         0.0  \n",
       "1950/AHSME/10                        0.0  \n",
       "1950/AHSME/11                        0.0  \n",
       "1950/AHSME/12                        0.0  \n",
       "1950/AHSME/13                        0.0  \n",
       "\n",
       "[5 rows x 47 columns]"
      ]
     },
     "execution_count": 27,
     "metadata": {},
     "output_type": "execute_result"
    }
   ],
   "source": [
    "df = df.unstack(\"mode\")\n",
    "df.columns = df.columns.map(\"_\".join)\n",
    "df = df.reset_index().set_index(\"uid\")\n",
    "df[\"num_correct\"] = df[ACCURACY_COLUMNS].sum(axis=1)\n",
    "df.head()"
   ]
  },
  {
   "cell_type": "code",
   "execution_count": 29,
   "id": "4276fb01-cd52-4c7e-8daa-6ba3655892b9",
   "metadata": {},
   "outputs": [],
   "source": [
    "def plot_intersect_accuracy(\n",
    "    df,\n",
    "    title=\"Common accuracy of multiple shuffled MCQ runs on Gemini 1.5 Pro v2\",\n",
    "):\n",
    "    print(df[ACCURACY_COLUMNS].mean())\n",
    "    print(\"Average 1 model perf:\", df[ACCURACY_COLUMNS].mean().mean())\n",
    "    \n",
    "    single_bootstrap_res = stats.bootstrap((df[ACCURACY_COLUMNS].mean().to_numpy(),), np.mean, confidence_level=0.95)\n",
    "    print(\"Single accuracy: {:.02f} +/- {:.02f}\".format(\n",
    "        100 * df[ACCURACY_COLUMNS].mean().mean(),\n",
    "        100 * (single_bootstrap_res.confidence_interval.high - single_bootstrap_res.confidence_interval.low) / 2\n",
    "    ))\n",
    "    \n",
    "    all_pair_acc = []\n",
    "    for i, col1 in enumerate(ACCURACY_COLUMNS):\n",
    "        for col2 in ACCURACY_COLUMNS[i+1:]:\n",
    "            pair_acc = df[[col1, col2]].prod(axis=1).mean()\n",
    "            all_pair_acc.append(pair_acc)\n",
    "            # print(f\"{col1} & {col2}: {pair_acc}\")\n",
    "    \n",
    "    pair_bootstrap_res = stats.bootstrap((all_pair_acc,), np.mean, confidence_level=0.95)\n",
    "    print(\"2-intersect accuracy: {:.02f} +/- {:.02f}\".format(\n",
    "        100 * sum(all_pair_acc) / len(all_pair_acc),\n",
    "        100 * (pair_bootstrap_res.confidence_interval.high - pair_bootstrap_res.confidence_interval.low) / 2\n",
    "    ))\n",
    "    \n",
    "    all_trio_acc = []\n",
    "    for i, col1 in enumerate(ACCURACY_COLUMNS):\n",
    "        for j, col2 in enumerate(ACCURACY_COLUMNS[i+1:]):\n",
    "            for k, col3 in enumerate(ACCURACY_COLUMNS[j+1:]):\n",
    "                acc = df[[col1, col2, col3]].prod(axis=1).mean()\n",
    "                all_trio_acc.append(acc)\n",
    "                # print(f\"{col1.split('is_correct_')[1]} & {col2.split('is_correct_')[1]} & {col3.split('is_correct_')[1]}: {acc}\")\n",
    "    \n",
    "    trio_bootstrap_res = stats.bootstrap((all_trio_acc,), np.mean, confidence_level=0.95)\n",
    "    print(\"3-intersect accuracy: {:.02f} +/- {:.02f}\".format(\n",
    "        100 * sum(all_trio_acc) / len(all_trio_acc),\n",
    "        100 * (trio_bootstrap_res.confidence_interval.high - trio_bootstrap_res.confidence_interval.low) / 2\n",
    "    ))\n",
    "    \n",
    "    all_quad_acc = []\n",
    "    for i, col1 in enumerate(ACCURACY_COLUMNS):\n",
    "        for j, col2 in enumerate(ACCURACY_COLUMNS[i+1:]):\n",
    "            for k, col3 in enumerate(ACCURACY_COLUMNS[j+1:]):\n",
    "                for l, col4 in enumerate(ACCURACY_COLUMNS[k+1:]):\n",
    "                    acc = df[[col1, col2, col3, col4]].prod(axis=1).mean()\n",
    "                    all_quad_acc.append(acc)\n",
    "    \n",
    "    quad_bootstrap_res = stats.bootstrap((all_quad_acc,), np.mean, confidence_level=0.95)\n",
    "    print(\"4-intersect accuracy: {:.02f} +/- {:.02f}\".format(\n",
    "        100 * sum(all_quad_acc) / len(all_quad_acc),\n",
    "        100 * (quad_bootstrap_res.confidence_interval.high - quad_bootstrap_res.confidence_interval.low) / 2\n",
    "    ))\n",
    "    \n",
    "    all_quin_acc = []\n",
    "    for i, col1 in enumerate(ACCURACY_COLUMNS):\n",
    "        acc = df[[col for col in ACCURACY_COLUMNS if col != col1]].prod(axis=1).mean()\n",
    "        all_quin_acc.append(acc)\n",
    "    \n",
    "    quin_bootstrap_res = stats.bootstrap((all_quin_acc,), np.mean, confidence_level=0.95)\n",
    "    print(\"5-intersect accuracy: {:.02f} +/- {:.02f}\".format(\n",
    "        100 * sum(all_quin_acc) / len(all_quin_acc),\n",
    "        100 * (quin_bootstrap_res.confidence_interval.high - quin_bootstrap_res.confidence_interval.low) / 2\n",
    "    ))\n",
    "    \n",
    "    all6_accuracy = df[\"is_correct_original\"].copy()\n",
    "    for c in ACCURACY_COLUMNS[1:]:\n",
    "        all6_accuracy *= df[c]\n",
    "    print(f\"All-6 accuracy: {all6_accuracy.mean()*100:.02f}\")\n",
    "    \n",
    "    xs = list(range(1,6))\n",
    "    accs = np.array([\n",
    "        100 * df[ACCURACY_COLUMNS].mean().mean(),\n",
    "        100 * sum(all_pair_acc) / len(all_pair_acc),\n",
    "        100 * sum(all_trio_acc) / len(all_trio_acc),\n",
    "        100 * sum(all_quad_acc) / len(all_quad_acc),\n",
    "        100 * sum(all_quin_acc) / len(all_quin_acc),\n",
    "    ])\n",
    "    cis = np.array([\n",
    "        100 * (single_bootstrap_res.confidence_interval.high - single_bootstrap_res.confidence_interval.low) / 2,\n",
    "        100 * (pair_bootstrap_res.confidence_interval.high - pair_bootstrap_res.confidence_interval.low) / 2,\n",
    "        100 * (trio_bootstrap_res.confidence_interval.high - trio_bootstrap_res.confidence_interval.low) / 2,\n",
    "        100 * (quad_bootstrap_res.confidence_interval.high - quad_bootstrap_res.confidence_interval.low) / 2,\n",
    "        100 * (quin_bootstrap_res.confidence_interval.high - quin_bootstrap_res.confidence_interval.low) / 2,\n",
    "    ])\n",
    "    \n",
    "    fig, ax = plt.subplots()\n",
    "    ax.plot(xs, accs)\n",
    "    ax.fill_between(xs, (accs-cis), (accs+cis), color='b', alpha=.1)\n",
    "    \n",
    "    plt.xticks(np.arange(1, 6, 1.0))\n",
    "    plt.xlabel(\"Number of runs to intersect\")\n",
    "    plt.ylabel(\"Accuracy (%)\")\n",
    "    plt.title(title)\n",
    "    plt.grid(True)\n",
    "    plt.show()"
   ]
  },
  {
   "cell_type": "code",
   "execution_count": 285,
   "id": "e917cfe7-63a7-4218-a720-f3e6af3966d1",
   "metadata": {},
   "outputs": [
    {
     "name": "stdout",
     "output_type": "stream",
     "text": [
      "is_correct_original     0.810936\n",
      "is_correct_shuffle_1    0.806813\n",
      "is_correct_shuffle_2    0.809732\n",
      "is_correct_shuffle_3    0.804623\n",
      "is_correct_shuffle_4     0.79854\n",
      "is_correct_shuffle_5    0.803406\n",
      "dtype: object\n",
      "Average 1 model perf: 0.8056749927815373\n",
      "Single accuracy: 80.57 +/- 0.33\n",
      "2-intersect accuracy: 73.91 +/- 0.20\n",
      "3-intersect accuracy: 71.58 +/- 0.49\n",
      "4-intersect accuracy: 70.13 +/- 0.26\n",
      "5-intersect accuracy: 66.01 +/- 0.18\n",
      "All-6 accuracy: 64.57\n"
     ]
    },
    {
     "data": {
      "image/png": "[encoded data removed]",
      "text/plain": [
       "<Figure size 640x480 with 1 Axes>"
      ]
     },
     "metadata": {},
     "output_type": "display_data"
    }
   ],
   "source": [
    "plot_intersect_accuracy(df)"
   ]
  },
  {
   "cell_type": "code",
   "execution_count": 286,
   "id": "683d0ca0-efc2-46c9-a48d-f86de1fa3e47",
   "metadata": {},
   "outputs": [
    {
     "name": "stdout",
     "output_type": "stream",
     "text": [
      "is_correct_original     0.807257\n",
      "is_correct_shuffle_1    0.802791\n",
      "is_correct_shuffle_2    0.805424\n",
      "is_correct_shuffle_3    0.800685\n",
      "is_correct_shuffle_4    0.792522\n",
      "is_correct_shuffle_5    0.799631\n",
      "dtype: object\n",
      "Average 1 model perf: 0.8013851023722253\n",
      "Single accuracy: 80.14 +/- 0.39\n",
      "2-intersect accuracy: 73.42 +/- 0.21\n",
      "3-intersect accuracy: 71.07 +/- 0.48\n",
      "4-intersect accuracy: 69.60 +/- 0.26\n",
      "5-intersect accuracy: 65.51 +/- 0.19\n",
      "All-6 accuracy: 64.06\n"
     ]
    },
    {
     "data": {
      "image/png": "[encoded data removed]",
      "text/plain": [
       "<Figure size 640x480 with 1 Axes>"
      ]
     },
     "metadata": {},
     "output_type": "display_data"
    }
   ],
   "source": [
    "plot_intersect_accuracy(df[~df[\"mcq_only\"]], title=\"Common accuracy of shuffled MCQ runs on short answer problems\")"
   ]
  },
  {
   "cell_type": "code",
   "execution_count": 51,
   "id": "3c0b1072-cb5a-4854-ba35-72d8f35e771a",
   "metadata": {},
   "outputs": [
    {
     "data": {
      "text/plain": [
       "num_correct\n",
       "0     234\n",
       "1     198\n",
       "2     212\n",
       "3     182\n",
       "4     220\n",
       "5     324\n",
       "6    2433\n",
       "Name: count, dtype: int64"
      ]
     },
     "execution_count": 51,
     "metadata": {},
     "output_type": "execute_result"
    }
   ],
   "source": [
    "df[~df[\"mcq_only\"]][\"num_correct\"].value_counts().sort_index()"
   ]
  },
  {
   "cell_type": "code",
   "execution_count": 50,
   "id": "2460fabd-616f-478e-8586-b9ff65c92d13",
   "metadata": {},
   "outputs": [
    {
     "data": {
      "image/png": "[encoded data removed]",
      "text/plain": [
       "<Figure size 640x480 with 1 Axes>"
      ]
     },
     "metadata": {},
     "output_type": "display_data"
    }
   ],
   "source": [
    "ax = df[~df[\"mcq_only\"]][\"num_correct\"].value_counts().sort_index().plot(kind='bar')\n",
    "\n",
    "plt.xlabel(\"Number of runs correct\")\n",
    "plt.xticks(rotation=0)\n",
    "plt.ylabel(\"Number of problems\")\n",
    "plt.title(\"Distribution of problems vs number of runs that got it correct\")\n",
    "plt.show()"
   ]
  },
  {
   "cell_type": "code",
   "execution_count": null,
   "id": "d671b2bc-0600-4cff-a2c4-17cf3182ffaf",
   "metadata": {},
   "outputs": [],
   "source": []
  },
  {
   "cell_type": "code",
   "execution_count": 118,
   "id": "80ce9950-f808-4467-bb3a-62592c29ab18",
   "metadata": {},
   "outputs": [
    {
     "data": {
      "text/plain": [
       "is_correct_original  is_correct_shuffle_1  is_correct_shuffle_2\n",
       "False                False                 False                    399\n",
       "                                           True                     132\n",
       "                     True                  False                    112\n",
       "                                           True                     135\n",
       "True                 False                 False                    118\n",
       "                                           True                     146\n",
       "                     True                  False                    154\n",
       "                                           True                    2919\n",
       "Name: count, dtype: int64"
      ]
     },
     "execution_count": 118,
     "metadata": {},
     "output_type": "execute_result"
    }
   ],
   "source": [
    "df.value_counts([\n",
    "    \"is_correct_original\",\n",
    "    \"is_correct_shuffle_1\",\n",
    "    \"is_correct_shuffle_2\",\n",
    "]).sort_index()"
   ]
  },
  {
   "cell_type": "code",
   "execution_count": 82,
   "id": "d837518a-c558-4c62-a986-f0c1c8aa8903",
   "metadata": {},
   "outputs": [
    {
     "data": {
      "text/plain": [
       "70.9356014580802"
      ]
     },
     "execution_count": 82,
     "metadata": {},
     "output_type": "execute_result"
    }
   ],
   "source": [
    "2919 / len(results_newlineparen_metadata) * 100"
   ]
  },
  {
   "cell_type": "code",
   "execution_count": 119,
   "id": "e9b676e0-fa91-4175-aead-dec058a64122",
   "metadata": {},
   "outputs": [
    {
     "data": {
      "text/plain": [
       "level  is_correct_original  is_correct_shuffle_1  is_correct_shuffle_2\n",
       "1      False                False                 False                     56\n",
       "                                                  True                      16\n",
       "                            True                  False                     17\n",
       "                                                  True                      17\n",
       "       True                 False                 False                     20\n",
       "                                                  True                      16\n",
       "                            True                  False                     21\n",
       "                                                  True                     695\n",
       "2      False                False                 False                    115\n",
       "                                                  True                      38\n",
       "                            True                  False                     28\n",
       "                                                  True                      41\n",
       "       True                 False                 False                     39\n",
       "                                                  True                      44\n",
       "                            True                  False                     48\n",
       "                                                  True                    1259\n",
       "3      False                False                 False                    131\n",
       "                                                  True                      53\n",
       "                            True                  False                     40\n",
       "                                                  True                      46\n",
       "       True                 False                 False                     32\n",
       "                                                  True                      56\n",
       "                            True                  False                     49\n",
       "                                                  True                     732\n",
       "4      False                False                 False                     97\n",
       "                                                  True                      25\n",
       "                            True                  False                     27\n",
       "                                                  True                      31\n",
       "       True                 False                 False                     27\n",
       "                                                  True                      30\n",
       "                            True                  False                     36\n",
       "                                                  True                     233\n",
       "Name: count, dtype: int64"
      ]
     },
     "execution_count": 119,
     "metadata": {},
     "output_type": "execute_result"
    }
   ],
   "source": [
    "df.value_counts([\n",
    "    \"level\",\n",
    "    \"is_correct_original\",\n",
    "    \"is_correct_shuffle_1\",\n",
    "    \"is_correct_shuffle_2\",\n",
    "]).sort_index()"
   ]
  },
  {
   "cell_type": "code",
   "execution_count": 91,
   "id": "d63af716-3c0a-4cd4-bd0f-116e4ff0494d",
   "metadata": {},
   "outputs": [
    {
     "data": {
      "text/plain": [
       "(is_correct, original)  (is_correct, shuffle_1)  (is_correct, shuffle_2)\n",
       "False                   False                    False                       380\n",
       "                                                 True                        122\n",
       "                        True                     False                       105\n",
       "                                                 True                        126\n",
       "True                    False                    False                       111\n",
       "                                                 True                        137\n",
       "                        True                     False                       144\n",
       "                                                 True                       2678\n",
       "Name: count, dtype: int64"
      ]
     },
     "execution_count": 91,
     "metadata": {},
     "output_type": "execute_result"
    }
   ],
   "source": [
    "df[\n",
    "    [not dataset_map[x][\"multiple_choice_only\"] for x in df.index.get_level_values(\"uid\")]\n",
    "].value_counts([\n",
    "    \"is_correct_original\",\n",
    "    \"is_correct_shuffle_1\",\n",
    "    \"is_correct_shuffle_2\",\n",
    "]).sort_index()"
   ]
  },
  {
   "cell_type": "code",
   "execution_count": 92,
   "id": "73bacd0b-df67-408c-9992-0fbbde27fbf6",
   "metadata": {},
   "outputs": [
    {
     "data": {
      "text/plain": [
       "0.7041809098080463"
      ]
     },
     "execution_count": 92,
     "metadata": {},
     "output_type": "execute_result"
    }
   ],
   "source": [
    "2678 / len(df[[not dataset_map[x][\"multiple_choice_only\"] for x in df.index.get_level_values(\"uid\")]])"
   ]
  },
  {
   "cell_type": "code",
   "execution_count": 90,
   "id": "18129b4a-430c-420c-9cff-e2852fbb4835",
   "metadata": {},
   "outputs": [
    {
     "data": {
      "text/plain": [
       "level  (is_correct, original)  (is_correct, shuffle_1)  (is_correct, shuffle_2)\n",
       "1      False                   False                    False                        55\n",
       "                                                        True                         15\n",
       "                               True                     False                        16\n",
       "                                                        True                         17\n",
       "       True                    False                    False                        19\n",
       "                                                        True                         15\n",
       "                               True                     False                        20\n",
       "                                                        True                        642\n",
       "2      False                   False                    False                       110\n",
       "                                                        True                         35\n",
       "                               True                     False                        27\n",
       "                                                        True                         40\n",
       "       True                    False                    False                        38\n",
       "                                                        True                         43\n",
       "                               True                     False                        47\n",
       "                                                        True                       1165\n",
       "3      False                   False                    False                       123\n",
       "                                                        True                         48\n",
       "                               True                     False                        38\n",
       "                                                        True                         40\n",
       "       True                    False                    False                        30\n",
       "                                                        True                         53\n",
       "                               True                     False                        42\n",
       "                                                        True                        665\n",
       "4      False                   False                    False                        92\n",
       "                                                        True                         24\n",
       "                               True                     False                        24\n",
       "                                                        True                         29\n",
       "       True                    False                    False                        24\n",
       "                                                        True                         26\n",
       "                               True                     False                        35\n",
       "                                                        True                        206\n",
       "Name: count, dtype: int64"
      ]
     },
     "execution_count": 90,
     "metadata": {},
     "output_type": "execute_result"
    }
   ],
   "source": [
    "df[\n",
    "    [not dataset_map[x][\"multiple_choice_only\"] for x in df.index.get_level_values(\"uid\")]\n",
    "].value_counts([\n",
    "    \"level\",\n",
    "    \"is_correct_original\",\n",
    "    \"is_correct_shuffle_1\",\n",
    "    \"is_correct_shuffle_2\",\n",
    "]).sort_index()"
   ]
  },
  {
   "cell_type": "markdown",
   "id": "0401df74-d1c1-4094-8bf5-0db27a198284",
   "metadata": {},
   "source": [
    "## Compare with short answer"
   ]
  },
  {
   "cell_type": "code",
   "execution_count": 144,
   "id": "69c02d7d-2c13-4fc1-af49-d7026b93f866",
   "metadata": {},
   "outputs": [],
   "source": [
    "responses_shortans = [\n",
    "    {\n",
    "        \"uid\": x[\"custom_id\"],\n",
    "        \"system\": x[\"request\"][\"system_instruction\"],\n",
    "        \"prompt\": x[\"request\"][\"contents\"],\n",
    "        \"response\": ModelResponse.from_response(x[\"response\"], \"google\", used_batch_api=True)\n",
    "    }\n",
    "    for x in read_jsonl(BASEDIR / \"eval/outputs/albert/aops/gemini-1.5-pro-002/hard_zeroshot.jsonl\")\n",
    "]\n",
    "response_shortans_map = {o[\"uid\"]: o for o in responses_shortans}"
   ]
  },
  {
   "cell_type": "code",
   "execution_count": 30,
   "id": "b003feb2-01ba-4460-af89-1046a972caa0",
   "metadata": {},
   "outputs": [],
   "source": [
    "shortans_res = pd.read_csv(BASEDIR / \"eval/outputs/albert/results/gemini-1.5-pro-002.csv\").set_index(\"uid\")"
   ]
  },
  {
   "cell_type": "code",
   "execution_count": 31,
   "id": "402248da-40b1-4bca-bca2-0d84f6e61564",
   "metadata": {},
   "outputs": [
    {
     "data": {
      "text/plain": [
       "np.float64(0.6421800947867299)"
      ]
     },
     "execution_count": 31,
     "metadata": {},
     "output_type": "execute_result"
    }
   ],
   "source": [
    "shortans_res[[\"AIME\" not in x for x in shortans_res.index]].query(\"subject != 'calculus'\")[\"is_correct\"].mean()"
   ]
  },
  {
   "cell_type": "code",
   "execution_count": 113,
   "id": "56d1a07b-feb8-4c4a-b249-a6e3836e3bef",
   "metadata": {},
   "outputs": [
    {
     "data": {
      "text/html": [
       "<div>\n",
       "<style scoped>\n",
       "    .dataframe tbody tr th:only-of-type {\n",
       "        vertical-align: middle;\n",
       "    }\n",
       "\n",
       "    .dataframe tbody tr th {\n",
       "        vertical-align: top;\n",
       "    }\n",
       "\n",
       "    .dataframe thead th {\n",
       "        text-align: right;\n",
       "    }\n",
       "</style>\n",
       "<table border=\"1\" class=\"dataframe\">\n",
       "  <thead>\n",
       "    <tr style=\"text-align: right;\">\n",
       "      <th></th>\n",
       "      <th>level</th>\n",
       "      <th>subject</th>\n",
       "      <th>has_asy_problem</th>\n",
       "      <th>has_asy_solution</th>\n",
       "      <th>reason</th>\n",
       "      <th>is_correct</th>\n",
       "      <th>answer</th>\n",
       "      <th>predict</th>\n",
       "      <th>input_tokens</th>\n",
       "      <th>output_tokens</th>\n",
       "      <th>reasoning_tokens</th>\n",
       "    </tr>\n",
       "    <tr>\n",
       "      <th>uid</th>\n",
       "      <th></th>\n",
       "      <th></th>\n",
       "      <th></th>\n",
       "      <th></th>\n",
       "      <th></th>\n",
       "      <th></th>\n",
       "      <th></th>\n",
       "      <th></th>\n",
       "      <th></th>\n",
       "      <th></th>\n",
       "      <th></th>\n",
       "    </tr>\n",
       "  </thead>\n",
       "  <tbody>\n",
       "    <tr>\n",
       "      <th>1984/AIME/10</th>\n",
       "      <td>5</td>\n",
       "      <td>algebra</td>\n",
       "      <td>False</td>\n",
       "      <td>False</td>\n",
       "      <td>stop</td>\n",
       "      <td>False</td>\n",
       "      <td>$119$</td>\n",
       "      <td>85</td>\n",
       "      <td>202</td>\n",
       "      <td>948</td>\n",
       "      <td>0</td>\n",
       "    </tr>\n",
       "    <tr>\n",
       "      <th>2010/AMC_12B/20</th>\n",
       "      <td>3</td>\n",
       "      <td>precalculus</td>\n",
       "      <td>False</td>\n",
       "      <td>False</td>\n",
       "      <td>stop</td>\n",
       "      <td>False</td>\n",
       "      <td>$8$</td>\n",
       "      <td>4</td>\n",
       "      <td>118</td>\n",
       "      <td>894</td>\n",
       "      <td>0</td>\n",
       "    </tr>\n",
       "    <tr>\n",
       "      <th>1964/AHSME/7</th>\n",
       "      <td>2</td>\n",
       "      <td>algebra</td>\n",
       "      <td>False</td>\n",
       "      <td>False</td>\n",
       "      <td>stop</td>\n",
       "      <td>True</td>\n",
       "      <td>$2$</td>\n",
       "      <td>2</td>\n",
       "      <td>93</td>\n",
       "      <td>365</td>\n",
       "      <td>0</td>\n",
       "    </tr>\n",
       "    <tr>\n",
       "      <th>2018/AMC_10A/19</th>\n",
       "      <td>2</td>\n",
       "      <td>counting_and_probability</td>\n",
       "      <td>False</td>\n",
       "      <td>False</td>\n",
       "      <td>stop</td>\n",
       "      <td>True</td>\n",
       "      <td>$\\frac{2}{5}$</td>\n",
       "      <td>\\frac{2}{5}</td>\n",
       "      <td>136</td>\n",
       "      <td>833</td>\n",
       "      <td>0</td>\n",
       "    </tr>\n",
       "    <tr>\n",
       "      <th>2002/AIME_I/11</th>\n",
       "      <td>5</td>\n",
       "      <td>geometry</td>\n",
       "      <td>False</td>\n",
       "      <td>False</td>\n",
       "      <td>stop</td>\n",
       "      <td>False</td>\n",
       "      <td>$230$</td>\n",
       "      <td>25</td>\n",
       "      <td>202</td>\n",
       "      <td>833</td>\n",
       "      <td>0</td>\n",
       "    </tr>\n",
       "  </tbody>\n",
       "</table>\n",
       "</div>"
      ],
      "text/plain": [
       "                 level                   subject  has_asy_problem  \\\n",
       "uid                                                                 \n",
       "1984/AIME/10         5                   algebra            False   \n",
       "2010/AMC_12B/20      3               precalculus            False   \n",
       "1964/AHSME/7         2                   algebra            False   \n",
       "2018/AMC_10A/19      2  counting_and_probability            False   \n",
       "2002/AIME_I/11       5                  geometry            False   \n",
       "\n",
       "                 has_asy_solution reason  is_correct         answer  \\\n",
       "uid                                                                   \n",
       "1984/AIME/10                False   stop       False          $119$   \n",
       "2010/AMC_12B/20             False   stop       False            $8$   \n",
       "1964/AHSME/7                False   stop        True            $2$   \n",
       "2018/AMC_10A/19             False   stop        True  $\\frac{2}{5}$   \n",
       "2002/AIME_I/11              False   stop       False          $230$   \n",
       "\n",
       "                     predict  input_tokens  output_tokens  reasoning_tokens  \n",
       "uid                                                                          \n",
       "1984/AIME/10              85           202            948                 0  \n",
       "2010/AMC_12B/20            4           118            894                 0  \n",
       "1964/AHSME/7               2            93            365                 0  \n",
       "2018/AMC_10A/19  \\frac{2}{5}           136            833                 0  \n",
       "2002/AIME_I/11            25           202            833                 0  "
      ]
     },
     "execution_count": 113,
     "metadata": {},
     "output_type": "execute_result"
    }
   ],
   "source": [
    "shortans_res.head()"
   ]
  },
  {
   "cell_type": "code",
   "execution_count": 114,
   "id": "19150054-f651-4b2c-b872-46a3332965e9",
   "metadata": {},
   "outputs": [
    {
     "data": {
      "text/html": [
       "<div>\n",
       "<style scoped>\n",
       "    .dataframe tbody tr th:only-of-type {\n",
       "        vertical-align: middle;\n",
       "    }\n",
       "\n",
       "    .dataframe tbody tr th {\n",
       "        vertical-align: top;\n",
       "    }\n",
       "\n",
       "    .dataframe thead tr th {\n",
       "        text-align: left;\n",
       "    }\n",
       "\n",
       "    .dataframe thead tr:last-of-type th {\n",
       "        text-align: right;\n",
       "    }\n",
       "</style>\n",
       "<table border=\"1\" class=\"dataframe\">\n",
       "  <thead>\n",
       "    <tr>\n",
       "      <th></th>\n",
       "      <th></th>\n",
       "      <th></th>\n",
       "      <th></th>\n",
       "      <th></th>\n",
       "      <th colspan=\"3\" halign=\"left\">reason</th>\n",
       "      <th colspan=\"3\" halign=\"left\">is_correct</th>\n",
       "      <th colspan=\"3\" halign=\"left\">answer</th>\n",
       "      <th colspan=\"3\" halign=\"left\">predict</th>\n",
       "      <th colspan=\"3\" halign=\"left\">input_tokens</th>\n",
       "      <th colspan=\"3\" halign=\"left\">output_tokens</th>\n",
       "    </tr>\n",
       "    <tr>\n",
       "      <th></th>\n",
       "      <th></th>\n",
       "      <th></th>\n",
       "      <th></th>\n",
       "      <th>mode</th>\n",
       "      <th>original</th>\n",
       "      <th>shuffle_1</th>\n",
       "      <th>shuffle_2</th>\n",
       "      <th>original</th>\n",
       "      <th>shuffle_1</th>\n",
       "      <th>shuffle_2</th>\n",
       "      <th>original</th>\n",
       "      <th>shuffle_1</th>\n",
       "      <th>shuffle_2</th>\n",
       "      <th>original</th>\n",
       "      <th>shuffle_1</th>\n",
       "      <th>shuffle_2</th>\n",
       "      <th>original</th>\n",
       "      <th>shuffle_1</th>\n",
       "      <th>shuffle_2</th>\n",
       "      <th>original</th>\n",
       "      <th>shuffle_1</th>\n",
       "      <th>shuffle_2</th>\n",
       "    </tr>\n",
       "    <tr>\n",
       "      <th>uid</th>\n",
       "      <th>level</th>\n",
       "      <th>subject</th>\n",
       "      <th>has_asy_problem</th>\n",
       "      <th>has_asy_solution</th>\n",
       "      <th></th>\n",
       "      <th></th>\n",
       "      <th></th>\n",
       "      <th></th>\n",
       "      <th></th>\n",
       "      <th></th>\n",
       "      <th></th>\n",
       "      <th></th>\n",
       "      <th></th>\n",
       "      <th></th>\n",
       "      <th></th>\n",
       "      <th></th>\n",
       "      <th></th>\n",
       "      <th></th>\n",
       "      <th></th>\n",
       "      <th></th>\n",
       "      <th></th>\n",
       "      <th></th>\n",
       "    </tr>\n",
       "  </thead>\n",
       "  <tbody>\n",
       "    <tr>\n",
       "      <th>1950/AHSME/1</th>\n",
       "      <th>2</th>\n",
       "      <th>prealgebra</th>\n",
       "      <th>False</th>\n",
       "      <th>False</th>\n",
       "      <td>stop</td>\n",
       "      <td>stop</td>\n",
       "      <td>stop</td>\n",
       "      <td>True</td>\n",
       "      <td>True</td>\n",
       "      <td>True</td>\n",
       "      <td>C</td>\n",
       "      <td>B</td>\n",
       "      <td>A</td>\n",
       "      <td>c</td>\n",
       "      <td>b</td>\n",
       "      <td>a</td>\n",
       "      <td>147</td>\n",
       "      <td>147</td>\n",
       "      <td>147</td>\n",
       "      <td>148</td>\n",
       "      <td>149</td>\n",
       "      <td>148</td>\n",
       "    </tr>\n",
       "    <tr>\n",
       "      <th>1950/AHSME/10</th>\n",
       "      <th>2</th>\n",
       "      <th>prealgebra</th>\n",
       "      <th>False</th>\n",
       "      <th>False</th>\n",
       "      <td>stop</td>\n",
       "      <td>stop</td>\n",
       "      <td>stop</td>\n",
       "      <td>False</td>\n",
       "      <td>False</td>\n",
       "      <td>True</td>\n",
       "      <td>D</td>\n",
       "      <td>A</td>\n",
       "      <td>B</td>\n",
       "      <td>a</td>\n",
       "      <td>d</td>\n",
       "      <td>b</td>\n",
       "      <td>165</td>\n",
       "      <td>165</td>\n",
       "      <td>165</td>\n",
       "      <td>250</td>\n",
       "      <td>257</td>\n",
       "      <td>329</td>\n",
       "    </tr>\n",
       "    <tr>\n",
       "      <th>1950/AHSME/11</th>\n",
       "      <th>2</th>\n",
       "      <th>prealgebra</th>\n",
       "      <th>False</th>\n",
       "      <th>False</th>\n",
       "      <td>stop</td>\n",
       "      <td>stop</td>\n",
       "      <td>stop</td>\n",
       "      <td>True</td>\n",
       "      <td>True</td>\n",
       "      <td>True</td>\n",
       "      <td>A</td>\n",
       "      <td>C</td>\n",
       "      <td>C</td>\n",
       "      <td>a</td>\n",
       "      <td>c</td>\n",
       "      <td>c</td>\n",
       "      <td>178</td>\n",
       "      <td>178</td>\n",
       "      <td>178</td>\n",
       "      <td>213</td>\n",
       "      <td>206</td>\n",
       "      <td>198</td>\n",
       "    </tr>\n",
       "    <tr>\n",
       "      <th>1950/AHSME/12</th>\n",
       "      <th>2</th>\n",
       "      <th>geometry</th>\n",
       "      <th>False</th>\n",
       "      <th>False</th>\n",
       "      <td>stop</td>\n",
       "      <td>stop</td>\n",
       "      <td>stop</td>\n",
       "      <td>True</td>\n",
       "      <td>True</td>\n",
       "      <td>True</td>\n",
       "      <td>C</td>\n",
       "      <td>A</td>\n",
       "      <td>E</td>\n",
       "      <td>c</td>\n",
       "      <td>a</td>\n",
       "      <td>e</td>\n",
       "      <td>157</td>\n",
       "      <td>157</td>\n",
       "      <td>157</td>\n",
       "      <td>139</td>\n",
       "      <td>157</td>\n",
       "      <td>139</td>\n",
       "    </tr>\n",
       "    <tr>\n",
       "      <th>1950/AHSME/13</th>\n",
       "      <th>2</th>\n",
       "      <th>algebra</th>\n",
       "      <th>False</th>\n",
       "      <th>False</th>\n",
       "      <td>stop</td>\n",
       "      <td>stop</td>\n",
       "      <td>stop</td>\n",
       "      <td>True</td>\n",
       "      <td>True</td>\n",
       "      <td>True</td>\n",
       "      <td>D</td>\n",
       "      <td>B</td>\n",
       "      <td>E</td>\n",
       "      <td>d</td>\n",
       "      <td>b</td>\n",
       "      <td>e</td>\n",
       "      <td>154</td>\n",
       "      <td>154</td>\n",
       "      <td>154</td>\n",
       "      <td>208</td>\n",
       "      <td>223</td>\n",
       "      <td>208</td>\n",
       "    </tr>\n",
       "  </tbody>\n",
       "</table>\n",
       "</div>"
      ],
      "text/plain": [
       "                                                                  reason  \\\n",
       "mode                                                            original   \n",
       "uid           level subject    has_asy_problem has_asy_solution            \n",
       "1950/AHSME/1  2     prealgebra False           False                stop   \n",
       "1950/AHSME/10 2     prealgebra False           False                stop   \n",
       "1950/AHSME/11 2     prealgebra False           False                stop   \n",
       "1950/AHSME/12 2     geometry   False           False                stop   \n",
       "1950/AHSME/13 2     algebra    False           False                stop   \n",
       "\n",
       "                                                                           \\\n",
       "mode                                                            shuffle_1   \n",
       "uid           level subject    has_asy_problem has_asy_solution             \n",
       "1950/AHSME/1  2     prealgebra False           False                 stop   \n",
       "1950/AHSME/10 2     prealgebra False           False                 stop   \n",
       "1950/AHSME/11 2     prealgebra False           False                 stop   \n",
       "1950/AHSME/12 2     geometry   False           False                 stop   \n",
       "1950/AHSME/13 2     algebra    False           False                 stop   \n",
       "\n",
       "                                                                           \\\n",
       "mode                                                            shuffle_2   \n",
       "uid           level subject    has_asy_problem has_asy_solution             \n",
       "1950/AHSME/1  2     prealgebra False           False                 stop   \n",
       "1950/AHSME/10 2     prealgebra False           False                 stop   \n",
       "1950/AHSME/11 2     prealgebra False           False                 stop   \n",
       "1950/AHSME/12 2     geometry   False           False                 stop   \n",
       "1950/AHSME/13 2     algebra    False           False                 stop   \n",
       "\n",
       "                                                                is_correct  \\\n",
       "mode                                                              original   \n",
       "uid           level subject    has_asy_problem has_asy_solution              \n",
       "1950/AHSME/1  2     prealgebra False           False                  True   \n",
       "1950/AHSME/10 2     prealgebra False           False                 False   \n",
       "1950/AHSME/11 2     prealgebra False           False                  True   \n",
       "1950/AHSME/12 2     geometry   False           False                  True   \n",
       "1950/AHSME/13 2     algebra    False           False                  True   \n",
       "\n",
       "                                                                           \\\n",
       "mode                                                            shuffle_1   \n",
       "uid           level subject    has_asy_problem has_asy_solution             \n",
       "1950/AHSME/1  2     prealgebra False           False                 True   \n",
       "1950/AHSME/10 2     prealgebra False           False                False   \n",
       "1950/AHSME/11 2     prealgebra False           False                 True   \n",
       "1950/AHSME/12 2     geometry   False           False                 True   \n",
       "1950/AHSME/13 2     algebra    False           False                 True   \n",
       "\n",
       "                                                                           \\\n",
       "mode                                                            shuffle_2   \n",
       "uid           level subject    has_asy_problem has_asy_solution             \n",
       "1950/AHSME/1  2     prealgebra False           False                 True   \n",
       "1950/AHSME/10 2     prealgebra False           False                 True   \n",
       "1950/AHSME/11 2     prealgebra False           False                 True   \n",
       "1950/AHSME/12 2     geometry   False           False                 True   \n",
       "1950/AHSME/13 2     algebra    False           False                 True   \n",
       "\n",
       "                                                                  answer  \\\n",
       "mode                                                            original   \n",
       "uid           level subject    has_asy_problem has_asy_solution            \n",
       "1950/AHSME/1  2     prealgebra False           False                   C   \n",
       "1950/AHSME/10 2     prealgebra False           False                   D   \n",
       "1950/AHSME/11 2     prealgebra False           False                   A   \n",
       "1950/AHSME/12 2     geometry   False           False                   C   \n",
       "1950/AHSME/13 2     algebra    False           False                   D   \n",
       "\n",
       "                                                                           \\\n",
       "mode                                                            shuffle_1   \n",
       "uid           level subject    has_asy_problem has_asy_solution             \n",
       "1950/AHSME/1  2     prealgebra False           False                    B   \n",
       "1950/AHSME/10 2     prealgebra False           False                    A   \n",
       "1950/AHSME/11 2     prealgebra False           False                    C   \n",
       "1950/AHSME/12 2     geometry   False           False                    A   \n",
       "1950/AHSME/13 2     algebra    False           False                    B   \n",
       "\n",
       "                                                                           \\\n",
       "mode                                                            shuffle_2   \n",
       "uid           level subject    has_asy_problem has_asy_solution             \n",
       "1950/AHSME/1  2     prealgebra False           False                    A   \n",
       "1950/AHSME/10 2     prealgebra False           False                    B   \n",
       "1950/AHSME/11 2     prealgebra False           False                    C   \n",
       "1950/AHSME/12 2     geometry   False           False                    E   \n",
       "1950/AHSME/13 2     algebra    False           False                    E   \n",
       "\n",
       "                                                                 predict  \\\n",
       "mode                                                            original   \n",
       "uid           level subject    has_asy_problem has_asy_solution            \n",
       "1950/AHSME/1  2     prealgebra False           False                   c   \n",
       "1950/AHSME/10 2     prealgebra False           False                   a   \n",
       "1950/AHSME/11 2     prealgebra False           False                   a   \n",
       "1950/AHSME/12 2     geometry   False           False                   c   \n",
       "1950/AHSME/13 2     algebra    False           False                   d   \n",
       "\n",
       "                                                                           \\\n",
       "mode                                                            shuffle_1   \n",
       "uid           level subject    has_asy_problem has_asy_solution             \n",
       "1950/AHSME/1  2     prealgebra False           False                    b   \n",
       "1950/AHSME/10 2     prealgebra False           False                    d   \n",
       "1950/AHSME/11 2     prealgebra False           False                    c   \n",
       "1950/AHSME/12 2     geometry   False           False                    a   \n",
       "1950/AHSME/13 2     algebra    False           False                    b   \n",
       "\n",
       "                                                                           \\\n",
       "mode                                                            shuffle_2   \n",
       "uid           level subject    has_asy_problem has_asy_solution             \n",
       "1950/AHSME/1  2     prealgebra False           False                    a   \n",
       "1950/AHSME/10 2     prealgebra False           False                    b   \n",
       "1950/AHSME/11 2     prealgebra False           False                    c   \n",
       "1950/AHSME/12 2     geometry   False           False                    e   \n",
       "1950/AHSME/13 2     algebra    False           False                    e   \n",
       "\n",
       "                                                                input_tokens  \\\n",
       "mode                                                                original   \n",
       "uid           level subject    has_asy_problem has_asy_solution                \n",
       "1950/AHSME/1  2     prealgebra False           False                     147   \n",
       "1950/AHSME/10 2     prealgebra False           False                     165   \n",
       "1950/AHSME/11 2     prealgebra False           False                     178   \n",
       "1950/AHSME/12 2     geometry   False           False                     157   \n",
       "1950/AHSME/13 2     algebra    False           False                     154   \n",
       "\n",
       "                                                                           \\\n",
       "mode                                                            shuffle_1   \n",
       "uid           level subject    has_asy_problem has_asy_solution             \n",
       "1950/AHSME/1  2     prealgebra False           False                  147   \n",
       "1950/AHSME/10 2     prealgebra False           False                  165   \n",
       "1950/AHSME/11 2     prealgebra False           False                  178   \n",
       "1950/AHSME/12 2     geometry   False           False                  157   \n",
       "1950/AHSME/13 2     algebra    False           False                  154   \n",
       "\n",
       "                                                                           \\\n",
       "mode                                                            shuffle_2   \n",
       "uid           level subject    has_asy_problem has_asy_solution             \n",
       "1950/AHSME/1  2     prealgebra False           False                  147   \n",
       "1950/AHSME/10 2     prealgebra False           False                  165   \n",
       "1950/AHSME/11 2     prealgebra False           False                  178   \n",
       "1950/AHSME/12 2     geometry   False           False                  157   \n",
       "1950/AHSME/13 2     algebra    False           False                  154   \n",
       "\n",
       "                                                                output_tokens  \\\n",
       "mode                                                                 original   \n",
       "uid           level subject    has_asy_problem has_asy_solution                 \n",
       "1950/AHSME/1  2     prealgebra False           False                      148   \n",
       "1950/AHSME/10 2     prealgebra False           False                      250   \n",
       "1950/AHSME/11 2     prealgebra False           False                      213   \n",
       "1950/AHSME/12 2     geometry   False           False                      139   \n",
       "1950/AHSME/13 2     algebra    False           False                      208   \n",
       "\n",
       "                                                                           \\\n",
       "mode                                                            shuffle_1   \n",
       "uid           level subject    has_asy_problem has_asy_solution             \n",
       "1950/AHSME/1  2     prealgebra False           False                  149   \n",
       "1950/AHSME/10 2     prealgebra False           False                  257   \n",
       "1950/AHSME/11 2     prealgebra False           False                  206   \n",
       "1950/AHSME/12 2     geometry   False           False                  157   \n",
       "1950/AHSME/13 2     algebra    False           False                  223   \n",
       "\n",
       "                                                                           \n",
       "mode                                                            shuffle_2  \n",
       "uid           level subject    has_asy_problem has_asy_solution            \n",
       "1950/AHSME/1  2     prealgebra False           False                  148  \n",
       "1950/AHSME/10 2     prealgebra False           False                  329  \n",
       "1950/AHSME/11 2     prealgebra False           False                  198  \n",
       "1950/AHSME/12 2     geometry   False           False                  139  \n",
       "1950/AHSME/13 2     algebra    False           False                  208  "
      ]
     },
     "execution_count": 114,
     "metadata": {},
     "output_type": "execute_result"
    }
   ],
   "source": [
    "df.head()"
   ]
  },
  {
   "cell_type": "code",
   "execution_count": 126,
   "id": "1e54d3ba-0624-4050-a776-86fe9c043557",
   "metadata": {},
   "outputs": [],
   "source": [
    "df_all = pd.merge(\n",
    "    shortans_res.set_index([\"level\", \"subject\", \"has_asy_problem\", \"has_asy_solution\"], append=True),\n",
    "    df,\n",
    "    left_index=True,\n",
    "    right_index=True,\n",
    "    how=\"inner\"\n",
    ").reset_index().set_index(\"uid\")"
   ]
  },
  {
   "cell_type": "code",
   "execution_count": 127,
   "id": "3c0d7bec-9098-4fdb-9db0-37c4bfca93ce",
   "metadata": {},
   "outputs": [
    {
     "data": {
      "text/plain": [
       "3803"
      ]
     },
     "execution_count": 127,
     "metadata": {},
     "output_type": "execute_result"
    }
   ],
   "source": [
    "len(df_all)"
   ]
  },
  {
   "cell_type": "code",
   "execution_count": 135,
   "id": "550c5167-7204-456b-8da4-7c31386f123b",
   "metadata": {},
   "outputs": [
    {
     "data": {
      "text/plain": [
       "reason     reason_original  reason_shuffle_1  reason_shuffle_2\n",
       "stop       stop             stop              stop                3727\n",
       "                            length            stop                  24\n",
       "                            stop              length                24\n",
       "           length           stop              stop                  12\n",
       "           stop             length            length                 3\n",
       "                            stop              copyright              3\n",
       "length     stop             stop              stop                   3\n",
       "stop       stop             copyright         stop                   2\n",
       "           length           stop              length                 2\n",
       "           copyright        copyright         copyright              1\n",
       "copyright  stop             stop              stop                   1\n",
       "length     stop             length            stop                   1\n",
       "Name: count, dtype: int64"
      ]
     },
     "execution_count": 135,
     "metadata": {},
     "output_type": "execute_result"
    }
   ],
   "source": [
    "df_all[[\"reason\", \"reason_original\", \"reason_shuffle_1\", \"reason_shuffle_2\"]].value_counts()"
   ]
  },
  {
   "cell_type": "code",
   "execution_count": 130,
   "id": "c72035d6-9800-4886-a115-1f32764b2509",
   "metadata": {},
   "outputs": [
    {
     "data": {
      "text/plain": [
       "is_correct  is_correct_original  is_correct_shuffle_1  is_correct_shuffle_2\n",
       "True        True                 True                  True                    0.571391\n",
       "False       True                 True                  True                    0.132790\n",
       "            False                False                 False                   0.088614\n",
       "                                                       True                    0.024980\n",
       "            True                 True                  False                   0.024191\n",
       "            False                True                  False                   0.022351\n",
       "            True                 False                 True                    0.022088\n",
       "            False                True                  True                    0.021299\n",
       "            True                 False                 False                   0.021299\n",
       "True        True                 False                 True                    0.013936\n",
       "                                 True                  False                   0.013673\n",
       "            False                True                  True                    0.011833\n",
       "                                 False                 False                   0.011307\n",
       "            True                 False                 False                   0.007889\n",
       "            False                False                 True                    0.007100\n",
       "                                 True                  False                   0.005259\n",
       "Name: count, dtype: float64"
      ]
     },
     "execution_count": 130,
     "metadata": {},
     "output_type": "execute_result"
    }
   ],
   "source": [
    "df_all[[\"is_correct\", \"is_correct_original\", \"is_correct_shuffle_1\", \"is_correct_shuffle_2\"]].value_counts() / len(df_all)"
   ]
  },
  {
   "cell_type": "code",
   "execution_count": 132,
   "id": "5fe2482f-0605-477e-8575-1f609fb89d48",
   "metadata": {},
   "outputs": [
    {
     "data": {
      "text/plain": [
       "is_correct_original  is_correct_shuffle_1  is_correct_shuffle_2\n",
       "True                 True                  True                    0.889480\n",
       "                     False                 True                    0.021695\n",
       "                     True                  False                   0.021285\n",
       "False                True                  True                    0.018420\n",
       "                     False                 False                   0.017601\n",
       "True                 False                 False                   0.012280\n",
       "False                False                 True                    0.011052\n",
       "                     True                  False                   0.008187\n",
       "Name: count, dtype: float64"
      ]
     },
     "execution_count": 132,
     "metadata": {},
     "output_type": "execute_result"
    }
   ],
   "source": [
    "df_all.query(\"is_correct\")[[\"is_correct_original\", \"is_correct_shuffle_1\", \"is_correct_shuffle_2\"]].value_counts() / len(df_all.query(\"is_correct\"))"
   ]
  },
  {
   "cell_type": "code",
   "execution_count": 133,
   "id": "4c223e3d-ad68-4c16-ba11-39e2d72d37e1",
   "metadata": {},
   "outputs": [
    {
     "data": {
      "text/plain": [
       "is_correct_original  is_correct_shuffle_1  is_correct_shuffle_2\n",
       "True                 True                  True                    0.371324\n",
       "False                False                 False                   0.247794\n",
       "                                           True                    0.069853\n",
       "True                 True                  False                   0.067647\n",
       "False                True                  False                   0.062500\n",
       "True                 False                 True                    0.061765\n",
       "False                True                  True                    0.059559\n",
       "True                 False                 False                   0.059559\n",
       "Name: count, dtype: float64"
      ]
     },
     "execution_count": 133,
     "metadata": {},
     "output_type": "execute_result"
    }
   ],
   "source": [
    "df_all.query(\"~is_correct\")[[\"is_correct_original\", \"is_correct_shuffle_1\", \"is_correct_shuffle_2\"]].value_counts() / len(df_all.query(\"~is_correct\"))"
   ]
  },
  {
   "cell_type": "code",
   "execution_count": 143,
   "id": "48517e03-d932-40c8-abfc-373bb99f44a5",
   "metadata": {},
   "outputs": [
    {
     "data": {
      "text/plain": [
       "level                                  1\n",
       "subject                    number_theory\n",
       "has_asy_problem                    False\n",
       "has_asy_solution                   False\n",
       "reason                              stop\n",
       "is_correct                          True\n",
       "answer                               $2$\n",
       "predict                                2\n",
       "input_tokens                         100\n",
       "output_tokens                        493\n",
       "reasoning_tokens                       0\n",
       "reason_original                     stop\n",
       "reason_shuffle_1                    stop\n",
       "reason_shuffle_2                    stop\n",
       "is_correct_original                False\n",
       "is_correct_shuffle_1               False\n",
       "is_correct_shuffle_2                True\n",
       "answer_original                        B\n",
       "answer_shuffle_1                       A\n",
       "answer_shuffle_2                       C\n",
       "predict_original                       c\n",
       "predict_shuffle_1                      c\n",
       "predict_shuffle_2                      c\n",
       "input_tokens_original                143\n",
       "input_tokens_shuffle_1               143\n",
       "input_tokens_shuffle_2               143\n",
       "output_tokens_original               516\n",
       "output_tokens_shuffle_1              511\n",
       "output_tokens_shuffle_2              495\n",
       "mcq_only_original                    NaN\n",
       "mcq_only_shuffle_1                 False\n",
       "mcq_only_shuffle_2                 False\n",
       "Name: 2024/AMC_8/1, dtype: object"
      ]
     },
     "execution_count": 143,
     "metadata": {},
     "output_type": "execute_result"
    }
   ],
   "source": [
    "df_all.loc[\"2024/AMC_8/1\"]"
   ]
  },
  {
   "cell_type": "code",
   "execution_count": 154,
   "id": "3391a4c8-4333-45a3-a19d-c45311681aea",
   "metadata": {
    "collapsed": true,
    "jupyter": {
     "outputs_hidden": true
    }
   },
   "outputs": [
    {
     "name": "stdout",
     "output_type": "stream",
     "text": [
      "2011/AMC_10B/21\n",
      "algebra 3\n",
      "is_correct               True\n",
      "is_correct_original     False\n",
      "is_correct_shuffle_1    False\n",
      "is_correct_shuffle_2     True\n",
      "Name: 2011/AMC_10B/21, dtype: bool\n",
      "----------\n",
      "B\n",
      "$31$\n",
      "{'A': '$16$', 'B': '$31$', 'C': '$48$', 'D': '$62$', 'E': '$93$'}\n",
      "Problem:\n",
      "Brian writes down four integers $w > x > y > z$ whose sum is $44$. The pairwise positive differences of these numbers are $1, 3, 4, 5, 6,$ and $9$. What is the sum of the possible values for $w$?\n"
     ]
    },
    {
     "data": {
      "text/markdown": [
       "Let the four integers be $w > x > y > z$.\n",
       "We are given that $w + x + y + z = 44$.\n",
       "The pairwise positive differences are $1, 3, 4, 5, 6, 9$.\n",
       "The differences are $w-x, w-y, w-z, x-y, x-z, y-z$.\n",
       "Since $w > x > y > z$, we have $w-z > w-y > w-x$ and $w-z > x-z > y-z$ and $x-y > 0$.\n",
       "Also, $w-z$ is the largest difference, so $w-z = 9$.\n",
       "The sum of the differences is $(w-x) + (w-y) + (w-z) + (x-y) + (x-z) + (y-z) = 3w + x - y - 3z = 3(w-z) + (x-y) = 3(9) + (x-y) = 27 + (x-y)$.\n",
       "The sum of the given differences is $1+3+4+5+6+9 = 28$.\n",
       "Thus, $27 + (x-y) = 28$, so $x-y = 1$.\n",
       "We have $w-z = 9$ and $x-y = 1$.\n",
       "The other differences are $3, 4, 5, 6$.\n",
       "We have $w-y = (w-z) - (y-z) = 9 - (y-z)$.\n",
       "Also, $x-z = (x-y) + (y-z) = 1 + (y-z)$.\n",
       "$w-x = (w-z) - (x-z) = 9 - (x-z) = 9 - (1 + (y-z)) = 8 - (y-z)$.\n",
       "The differences are $1, 3, 4, 5, 6, 9$.\n",
       "We have $x-y = 1$ and $w-z = 9$.\n",
       "The remaining differences are $3, 4, 5, 6$.\n",
       "We have $w-y = 6$ and $x-z = 4$, then $y-z = x-z - (x-y) = 4-1 = 3$.\n",
       "$w-x = (w-z) - (x-z) = 9-4 = 5$.\n",
       "The differences are $1, 3, 4, 5, 6, 9$.\n",
       "So, $w-x = 5$, $w-y = 6$, $w-z = 9$, $x-y = 1$, $x-z = 4$, $y-z = 3$.\n",
       "$w = z+9$, $x = y+1$, $y = z+3$, so $x = z+4$.\n",
       "$w+x+y+z = (z+9) + (z+4) + (z+3) + z = 4z + 16 = 44$.\n",
       "$4z = 28$, so $z = 7$.\n",
       "Then $w = 16$, $x = 11$, $y = 10$.\n",
       "If $w-y = 5$ and $x-z = 6$, then $y-z = 5$ and $w-x = 4$.\n",
       "$w = z+9$, $x = y+1$, $y = z+5$, so $x = z+6$.\n",
       "$w+x+y+z = (z+9) + (z+6) + (z+5) + z = 4z + 20 = 44$.\n",
       "$4z = 24$, so $z = 6$.\n",
       "Then $w = 15$, $x = 12$, $y = 11$.\n",
       "$w = 16$ and $w = 15$.\n",
       "$16+15 = 31$.\n",
       "\n",
       "Final Answer: The final answer is $31$. "
      ],
      "text/plain": [
       "<IPython.core.display.Markdown object>"
      ]
     },
     "metadata": {},
     "output_type": "display_data"
    },
    {
     "name": "stdout",
     "output_type": "stream",
     "text": [
      "----------\n"
     ]
    },
    {
     "data": {
      "text/markdown": [
       "Let $w, x, y, z$ be four integers such that $w > x > y > z$.\n",
       "Their sum is $w + x + y + z = 44$.\n",
       "The pairwise positive differences are $1, 3, 4, 5, 6, 9$.\n",
       "The differences are $w-x, w-y, w-z, x-y, x-z, y-z$.\n",
       "Since the largest difference is $9$, we have $w-z = 9$.\n",
       "The sum of the differences is\n",
       "$(w-x) + (w-y) + (w-z) + (x-y) + (x-z) + (y-z) = 3w + x - 3z = 1+3+4+5+6+9 = 28$.\n",
       "$3w + x - 3z = 28$.\n",
       "Since $w-z = 9$, we have $z = w-9$.\n",
       "$3w + x - 3(w-9) = 28$\n",
       "$3w + x - 3w + 27 = 28$\n",
       "$x + 27 = 28$\n",
       "$x = 1$.\n",
       "Since $x=1$, we have $w-1, w-y, w-z, 1-y, 1-z, y-z$ as the differences.\n",
       "Since $w-z=9$ and $z < y < x < w$, we have $w-x, w-y, 9, 1-y, 1-z, y-z$ as the differences.\n",
       "Since $x=1$, we have $w-1, w-y, 9, 1-y, 1-z, y-z$.\n",
       "The differences are $1, 3, 4, 5, 6, 9$.\n",
       "Since $w-z=9$, we have $w-1, w-y, 9, 1-y, 1-z, y-z$.\n",
       "Since $x=1$, we have $w-1$.\n",
       "If $w-1=6$, then $w=7$. Then $z=w-9=-2$.\n",
       "$7, 1, y, -2$.\n",
       "$7-1=6$, $7-y$, $9$, $1-y$, $3$, $y+2$.\n",
       "$7+1+y-2=44 \\implies y+6=44 \\implies y=38$.\n",
       "$7-38=-31$.\n",
       "If $w=15$, then $z=6$.\n",
       "$15, 1, y, 6$.\n",
       "$15+1+y+6=44 \\implies y+22=44 \\implies y=22$.\n",
       "$14, -1, 6, -5, 9, 16$.\n",
       "If $w=10$, then $z=1$.\n",
       "$10, 1, y, z$.\n",
       "$10+1+y+z=44 \\implies y+z=33$.\n",
       "$w-z=9 \\implies 10-z=9 \\implies z=1$.\n",
       "$y=32$.\n",
       "$9, 6, 1, 4, 5, 3$.\n",
       "$w=10$.\n",
       "If $w=16$, then $z=7$.\n",
       "$16, 1, y, 7$.\n",
       "$16+1+y+7=44 \\implies y+24=44 \\implies y=20$.\n",
       "$15, -19, 9, -6, 13, 3$.\n",
       "$w=10, 16$.\n",
       "$10+16=26$.\n",
       "\n",
       "Final Answer: The final answer is A. "
      ],
      "text/plain": [
       "<IPython.core.display.Markdown object>"
      ]
     },
     "metadata": {},
     "output_type": "display_data"
    },
    {
     "name": "stdout",
     "output_type": "stream",
     "text": [
      "----------\n",
      "A\n",
      "$31$\n",
      "{'A': '$31$', 'B': '$93$', 'C': '$62$', 'D': '$48$', 'E': '$16$'}\n"
     ]
    },
    {
     "data": {
      "text/markdown": [
       "Let $w, x, y, z$ be four integers such that $w > x > y > z$ and $w + x + y + z = 44$.\n",
       "The pairwise positive differences are $1, 3, 4, 5, 6, 9$.\n",
       "The differences are $w-x, w-y, w-z, x-y, x-z, y-z$.\n",
       "Since $w > x > y > z$, we have $w-z > w-y > w-x$, $w-z > x-z > y-z$, and $x-z > x-y$.\n",
       "So $w-z = 9$.\n",
       "The sum of the differences is $(w-x) + (w-y) + (w-z) + (x-y) + (x-z) + (y-z) = 3w + x - 3z - y = 1+3+4+5+6+9 = 28$.\n",
       "We have $3w + x - y - 3z = 28$.\n",
       "Also, $w+x+y+z = 44$.\n",
       "We know $w-z = 9$, so $z = w-9$.\n",
       "Substituting $z = w-9$ into $w+x+y+z = 44$, we get $w+x+y+w-9 = 44$, so $2w+x+y = 53$.\n",
       "Also, $3w+x-y-3(w-9) = 28$, so $3w+x-y-3w+27 = 28$, which means $x-y = 1$.\n",
       "Since $x > y$, we have $x = y+1$.\n",
       "Substituting $x = y+1$ into $2w+x+y = 53$, we get $2w+y+1+y = 53$, so $2w+2y = 52$, which means $w+y = 26$.\n",
       "We have $w-z = 9$ and $x-y = 1$.\n",
       "The possible differences are $1, 3, 4, 5, 6, 9$.\n",
       "We have $w-z = 9$ and $x-y = 1$.\n",
       "The remaining differences are $3, 4, 5, 6$.\n",
       "We have $w-y = 6$ and $w-x = 5$.\n",
       "Then $x-z = 4$ and $y-z = 3$.\n",
       "So $w = x+5$ and $w = y+6$.\n",
       "$x = w-5$ and $y = w-6$.\n",
       "$z = w-9$.\n",
       "$w+x+y+z = w+w-5+w-6+w-9 = 4w-20 = 44$.\n",
       "$4w = 64$, so $w = 16$.\n",
       "Then $x = 11$, $y = 10$, $z = 7$.\n",
       "The differences are $1, 3, 4, 5, 6, 9$.\n",
       "The sum is $16+11+10+7 = 44$.\n",
       "Another possibility is $w-x = 4$, $w-y = 5$, $w-z = 9$, $x-y = 1$, $x-z = 5$, $y-z = 4$.\n",
       "$w-x = 4$, $w-y = 6$, $w-z = 9$, $x-y = 2$, $x-z = 5$, $y-z = 3$.\n",
       "$w-x = 3$, $w-y = 5$, $w-z = 9$, $x-y = 2$, $x-z = 6$, $y-z = 4$.\n",
       "$w = 16$.\n",
       "Final Answer: The final answer is E. "
      ],
      "text/plain": [
       "<IPython.core.display.Markdown object>"
      ]
     },
     "metadata": {},
     "output_type": "display_data"
    }
   ],
   "source": [
    "rand_uid = np.random.choice(\n",
    "    df_all\n",
    "    .query(\"reason == 'stop' and reason_original == 'stop' and reason_shuffle_1 == 'stop' and reason_shuffle_2 == 'stop'\")\n",
    "    .query(\"is_correct and (not is_correct_original or not is_correct_shuffle_1 or not is_correct_shuffle_2)\")\n",
    "    .index\n",
    ")\n",
    "\n",
    "# had the right answer, but picked the wrong answer choice\n",
    "# rand_uid = \"1996/AHSME/15\"\n",
    "\n",
    "# rand_uid = \"2012/AMC_10A/4\"\n",
    "\n",
    "print(rand_uid)\n",
    "print(dataset_map[rand_uid][\"subject\"], dataset_map[rand_uid][\"level\"])\n",
    "print(df_all[[\"is_correct\", \"is_correct_original\", \"is_correct_shuffle_1\", \"is_correct_shuffle_2\"]].loc[rand_uid])\n",
    "print(\"----------\")\n",
    "print(dataset_map[rand_uid][\"answer_choice\"])\n",
    "print(dataset_map[rand_uid][\"answer\"])\n",
    "print(dataset_map[rand_uid][\"choices\"])\n",
    "print(response_shortans_map[rand_uid][\"prompt\"][-2][\"parts\"][0][\"text\"])\n",
    "display(Markdown(response_shortans_map[rand_uid][\"response\"].completions[0].completion))\n",
    "print(\"----------\")\n",
    "display(Markdown(response_newlineparen_map[rand_uid][\"response\"].completions[0].completion))\n",
    "print(\"----------\")\n",
    "print(datasets_map[0][rand_uid][\"answer_choice\"])\n",
    "print(datasets_map[0][rand_uid][\"answer\"])\n",
    "print(datasets_map[0][rand_uid][\"choices\"])\n",
    "display(Markdown(response_shuffle1_map[rand_uid][\"response\"].completions[0].completion))"
   ]
  },
  {
   "cell_type": "code",
   "execution_count": 162,
   "id": "cb59cf6a-a89b-450f-86f7-ba9baeb5ae3f",
   "metadata": {},
   "outputs": [
    {
     "name": "stdout",
     "output_type": "stream",
     "text": [
      "1998/AJHSME/11\n",
      "prealgebra 1\n",
      "is_correct               True\n",
      "is_correct_original     False\n",
      "is_correct_shuffle_1    False\n",
      "is_correct_shuffle_2    False\n",
      "Name: 1998/AJHSME/11, dtype: bool\n",
      "----------\n",
      "C\n",
      "$12$\n",
      "{'A': '$8$', 'B': '$10$', 'C': '$12$', 'D': '$15$', 'E': '$18$'}\n",
      "Problem:\n",
      "Harry has 3 sisters and 5 brothers. His sister Harriet has $\\text{S}$ sisters and $\\text{B}$ brothers. What is the product of $\\text{S}$ and $\\text{B}$?\n"
     ]
    },
    {
     "data": {
      "text/markdown": [
       "Harry has 3 sisters and 5 brothers.\n",
       "Since Harry has 3 sisters, and Harry is a male, Harriet, being a female, has 2 sisters and 6 brothers (including Harry).\n",
       "So, $\\text{S} = 2$ and $\\text{B} = 6$.\n",
       "The product of $\\text{S}$ and $\\text{B}$ is $2 \\times 6 = 12$.\n",
       "\n",
       "Final Answer: The final answer is $\\boxed{12}$. "
      ],
      "text/plain": [
       "<IPython.core.display.Markdown object>"
      ]
     },
     "metadata": {},
     "output_type": "display_data"
    },
    {
     "name": "stdout",
     "output_type": "stream",
     "text": [
      "----------\n"
     ]
    },
    {
     "data": {
      "text/markdown": [
       "Harry has 3 sisters and 5 brothers.\n",
       "Harriet is one of Harry's sisters.\n",
       "Since Harry has 3 sisters, Harriet has $3-1=2$ sisters.\n",
       "Since Harry has 5 brothers, Harriet also has 5 brothers.\n",
       "So, $\\text{S}=2$ and $\\text{B}=5$.\n",
       "The product of $\\text{S}$ and $\\text{B}$ is $2 \\times 5 = 10$.\n",
       "\n",
       "Final Answer: The final answer is B. "
      ],
      "text/plain": [
       "<IPython.core.display.Markdown object>"
      ]
     },
     "metadata": {},
     "output_type": "display_data"
    },
    {
     "name": "stdout",
     "output_type": "stream",
     "text": [
      "----------\n",
      "D\n",
      "$12$\n",
      "{'A': '$15$', 'B': '$18$', 'C': '$10$', 'D': '$12$', 'E': '$8$'}\n"
     ]
    },
    {
     "data": {
      "text/markdown": [
       "Harry has 3 sisters and 5 brothers.\n",
       "Harriet is Harry's sister.\n",
       "Since Harry has 3 sisters, Harriet has $3-1=2$ sisters.\n",
       "Since Harry has 5 brothers, Harriet also has 5 brothers.\n",
       "So, $\\text{S}=2$ and $\\text{B}=5$.\n",
       "The product of $\\text{S}$ and $\\text{B}$ is $2 \\times 5 = 10$.\n",
       "\n",
       "Final Answer: The final answer is C. "
      ],
      "text/plain": [
       "<IPython.core.display.Markdown object>"
      ]
     },
     "metadata": {},
     "output_type": "display_data"
    }
   ],
   "source": [
    "rand_uid = np.random.choice(\n",
    "    df_all\n",
    "    .query(\"reason == 'stop' and reason_original == 'stop' and reason_shuffle_1 == 'stop' and reason_shuffle_2 == 'stop'\")\n",
    "    .query(\"is_correct and (not is_correct_original and not is_correct_shuffle_1 and not is_correct_shuffle_2)\")\n",
    "    .index\n",
    ")\n",
    "print(rand_uid)\n",
    "print(dataset_map[rand_uid][\"subject\"], dataset_map[rand_uid][\"level\"])\n",
    "print(df_all[[\"is_correct\", \"is_correct_original\", \"is_correct_shuffle_1\", \"is_correct_shuffle_2\"]].loc[rand_uid])\n",
    "print(\"----------\")\n",
    "print(dataset_map[rand_uid][\"answer_choice\"])\n",
    "print(dataset_map[rand_uid][\"answer\"])\n",
    "print(dataset_map[rand_uid][\"choices\"])\n",
    "print(response_shortans_map[rand_uid][\"prompt\"][-2][\"parts\"][0][\"text\"])\n",
    "display(Markdown(response_shortans_map[rand_uid][\"response\"].completions[0].completion))\n",
    "print(\"----------\")\n",
    "display(Markdown(response_newlineparen_map[rand_uid][\"response\"].completions[0].completion))\n",
    "print(\"----------\")\n",
    "print(datasets_map[0][rand_uid][\"answer_choice\"])\n",
    "print(datasets_map[0][rand_uid][\"answer\"])\n",
    "print(datasets_map[0][rand_uid][\"choices\"])\n",
    "display(Markdown(response_shuffle1_map[rand_uid][\"response\"].completions[0].completion))"
   ]
  },
  {
   "cell_type": "code",
   "execution_count": null,
   "id": "b0af9901-50f4-4bc9-b14a-47fb2365ca84",
   "metadata": {},
   "outputs": [],
   "source": []
  },
  {
   "cell_type": "code",
   "execution_count": null,
   "id": "fd7398da-50f3-4b99-b92c-ba9110cc6070",
   "metadata": {},
   "outputs": [],
   "source": []
  }
 ],
 "metadata": {
  "kernelspec": {
   "display_name": "Python 3 (ipykernel)",
   "language": "python",
   "name": "python3"
  },
  "language_info": {
   "codemirror_mode": {
    "name": "ipython",
    "version": 3
   },
   "file_extension": ".py",
   "mimetype": "text/x-python",
   "name": "python",
   "nbconvert_exporter": "python",
   "pygments_lexer": "ipython3",
   "version": "3.12.8"
  }
 },
 "nbformat": 4,
 "nbformat_minor": 5
}
