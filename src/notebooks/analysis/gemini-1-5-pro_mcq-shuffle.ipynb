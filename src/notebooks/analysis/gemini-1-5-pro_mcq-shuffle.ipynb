{
 "cells": [
  {
   "cell_type": "markdown",
   "id": "71c10cbe-659f-444c-a855-c6bae55a1df3",
   "metadata": {},
   "source": [
    "# Gemini 1.5 Pro Multiple Choice Shuffled"
   ]
  },
  {
   "cell_type": "code",
   "execution_count": 1,
   "id": "d101b202-b0cb-4afd-8aa3-6859de242e37",
   "metadata": {},
   "outputs": [],
   "source": [
    "import sys\n",
    "from pathlib import Path\n",
    "\n",
    "BASEDIR = Path(\"/workspaces/HARP/\") / \"src\"  # Replace with your own basedir path for the repo\n",
    "\n",
    "sys.path.insert(0, str(BASEDIR))"
   ]
  },
  {
   "cell_type": "code",
   "execution_count": 2,
   "id": "e7d796a1-30da-49ab-9cb1-02ca6206d32b",
   "metadata": {},
   "outputs": [],
   "source": [
    "from __future__ import annotations\n",
    "\n",
    "import copy\n",
    "import itertools\n",
    "import json\n",
    "import math\n",
    "import os\n",
    "import pickle\n",
    "import pprint\n",
    "import re\n",
    "import textwrap\n",
    "import time\n",
    "import traceback\n",
    "from collections import Counter, defaultdict\n",
    "from typing import Any\n",
    "\n",
    "import matplotlib.pyplot as plt\n",
    "import numpy as np\n",
    "import pandas as pd\n",
    "import scipy.stats as stats\n",
    "import tiktoken\n",
    "from IPython.display import Markdown, clear_output, display\n",
    "from tqdm.auto import tqdm"
   ]
  },
  {
   "cell_type": "code",
   "execution_count": 3,
   "id": "6961601f-2e3f-4cc4-9ab6-343749d0999e",
   "metadata": {},
   "outputs": [],
   "source": [
    "from eval.api import safe_unified_api_call\n",
    "from eval.costs import count_tokens, get_pricing\n",
    "from eval.eval import run_one, create_batch, make_answer_check_dict_from_jsonl, make_results_df, accuracy_by_split\n",
    "from eval.parsing_lib import *\n",
    "from eval.latex_answer_check import *\n",
    "from eval.prompt import create_prompt\n",
    "from eval.prompts import *\n",
    "from eval.response import ModelResponse\n",
    "from eval.utils import AMC_LETTER_CHOICES, read_jsonl, write_jsonl, get_uid"
   ]
  },
  {
   "cell_type": "markdown",
   "id": "8530a065-3ffc-4973-964d-1a26a7dbcfeb",
   "metadata": {},
   "source": [
    "# Data"
   ]
  },
  {
   "cell_type": "code",
   "execution_count": 4,
   "id": "8172ba18-dd54-4fe2-8bfc-9e191468f1ef",
   "metadata": {},
   "outputs": [
    {
     "data": {
      "text/plain": [
       "4110"
      ]
     },
     "execution_count": 4,
     "metadata": {},
     "output_type": "execute_result"
    }
   ],
   "source": [
    "# We don't use HARP_mcq.jsonl here because we used the original ordering of answer choices\n",
    "dataset = [x for x in read_jsonl(BASEDIR / \"data/processed/HARP_raw.jsonl\") if x[\"choices\"] is not None and x[\"subject\"] != \"calculus\"]\n",
    "dataset_map = {get_uid(p): p for p in dataset}\n",
    "len(dataset)"
   ]
  },
  {
   "cell_type": "code",
   "execution_count": 5,
   "id": "0465dfc1-10fe-4ace-a9ec-d95ab3ed5704",
   "metadata": {},
   "outputs": [],
   "source": [
    "with open(BASEDIR / \"outputs/mcq/gemini-1.5-pro-002/mcq_derangements.pkl\", \"rb\") as f:\n",
    "    all_derangements = pickle.load(f)"
   ]
  },
  {
   "cell_type": "code",
   "execution_count": 8,
   "id": "77da87bd-eba8-49ea-bb06-3ef31cc2cb58",
   "metadata": {},
   "outputs": [],
   "source": [
    "TOTAL_RUNS = 5\n",
    "\n",
    "def create_problem_with_shuffled_choices(prob, new_order):\n",
    "    new_prob = prob.copy()\n",
    "    \n",
    "    new_choices = {}\n",
    "    for letter, new_letter in zip(AMC_LETTER_CHOICES, new_order):\n",
    "        new_choices[new_letter] = new_prob[\"choices\"][letter]\n",
    "    new_choices = {l: new_choices[l] for l in AMC_LETTER_CHOICES}\n",
    "    new_prob[\"choices\"] = new_choices\n",
    "    new_prob[\"answer_choice\"] = new_order[AMC_LETTER_CHOICES.index(new_prob[\"answer_choice\"])]\n",
    "    return new_prob\n",
    "\n",
    "datasets = [[] for _ in range(TOTAL_RUNS)]\n",
    "for prob in dataset:\n",
    "    derangements = all_derangements[get_uid(prob)]\n",
    "    choices = prob[\"choices\"]\n",
    "    length = 5\n",
    "    if \"none of\" in choices[\"E\"].lower() or \"all of\" in choices[\"E\"].lower():\n",
    "        length = 4\n",
    "\n",
    "    for t in range(TOTAL_RUNS):\n",
    "        datasets[t].append(\n",
    "            create_problem_with_shuffled_choices(prob, derangements[t])\n",
    "        )\n",
    "\n",
    "datasets_map = [{get_uid(p): p for p in datasets[t]} for t in range(TOTAL_RUNS)]"
   ]
  },
  {
   "cell_type": "markdown",
   "id": "29178386-1a72-4932-88f7-86213a81547f",
   "metadata": {},
   "source": [
    "# Results"
   ]
  },
  {
   "cell_type": "code",
   "execution_count": 9,
   "id": "26c689ba-9ab0-493b-a19d-33a4759c95c8",
   "metadata": {},
   "outputs": [
    {
     "data": {
      "application/vnd.jupyter.widget-view+json": {
       "model_id": "468cc3788c8f4d48a037620c751209cc",
       "version_major": 2,
       "version_minor": 0
      },
      "text/plain": [
       "  0%|          | 0/4110 [00:00<?, ?it/s]"
      ]
     },
     "metadata": {},
     "output_type": "display_data"
    },
    {
     "data": {
      "application/vnd.jupyter.widget-view+json": {
       "model_id": "c415210496ae4281a083f9c5be3a25bb",
       "version_major": 2,
       "version_minor": 0
      },
      "text/plain": [
       "  0%|          | 0/4110 [00:00<?, ?it/s]"
      ]
     },
     "metadata": {},
     "output_type": "display_data"
    },
    {
     "data": {
      "application/vnd.jupyter.widget-view+json": {
       "model_id": "52f4590aa94042119d3af3cefc82cf5e",
       "version_major": 2,
       "version_minor": 0
      },
      "text/plain": [
       "  0%|          | 0/4110 [00:00<?, ?it/s]"
      ]
     },
     "metadata": {},
     "output_type": "display_data"
    },
    {
     "data": {
      "application/vnd.jupyter.widget-view+json": {
       "model_id": "c2516ba6c2cf441396c837d94b766f48",
       "version_major": 2,
       "version_minor": 0
      },
      "text/plain": [
       "  0%|          | 0/4110 [00:00<?, ?it/s]"
      ]
     },
     "metadata": {},
     "output_type": "display_data"
    },
    {
     "data": {
      "application/vnd.jupyter.widget-view+json": {
       "model_id": "3e676c2fb7f248c89fbaa541263757ab",
       "version_major": 2,
       "version_minor": 0
      },
      "text/plain": [
       "  0%|          | 0/4110 [00:00<?, ?it/s]"
      ]
     },
     "metadata": {},
     "output_type": "display_data"
    }
   ],
   "source": [
    "raw_responses = []\n",
    "responses = []\n",
    "raw_response_map = []\n",
    "response_map = []\n",
    "answer_check_results = []\n",
    "results = []\n",
    "\n",
    "for i in range(5):\n",
    "    fname = BASEDIR / f\"outputs/mcq/gemini-1.5-pro-002/outputs_newline-paren_shuffle{i+1}.jsonl\"\n",
    "\n",
    "    raw_responses_shuffle_i = read_jsonl(fname)\n",
    "    responses_shuffle_i = [\n",
    "        {\n",
    "            \"uid\": x[\"custom_id\"],\n",
    "            \"system\": x[\"request\"][\"system_instruction\"],\n",
    "            \"prompt\": x[\"request\"][\"contents\"],\n",
    "            \"response\": ModelResponse.from_response(x[\"response\"], \"google\", use_batch_api=True)\n",
    "        }\n",
    "        for x in raw_responses_shuffle_i\n",
    "        if x[\"custom_id\"] in dataset_map\n",
    "    ]\n",
    "    raw_response_shuffle_i_map = {x[\"custom_id\"]: x for x in raw_responses_shuffle_i if x[\"custom_id\"] in dataset_map}\n",
    "    response_shuffle_i_map = {o[\"uid\"]: o for o in responses_shuffle_i}\n",
    "\n",
    "    answer_check_dicts_shuffle_i = make_answer_check_dict_from_jsonl(responses_shuffle_i, datasets_map[i])\n",
    "    answer_check_results_shuffle_i = latex_answer_choice_check(answer_check_dicts_shuffle_i, use_tqdm=True)\n",
    "    results_shuffle_i_metadata = make_results_df(responses_shuffle_i, answer_check_results_shuffle_i, datasets_map[i], mode=\"mcq\")\n",
    "\n",
    "    raw_responses.append(raw_responses_shuffle_i)\n",
    "    responses.append(responses_shuffle_i)\n",
    "    raw_response_map.append(raw_response_shuffle_i_map)\n",
    "    response_map.append(response_shuffle_i_map)\n",
    "    answer_check_results.append(answer_check_results_shuffle_i)\n",
    "    results.append(results_shuffle_i_metadata)"
   ]
  },
  {
   "cell_type": "code",
   "execution_count": 10,
   "id": "7f5a6366-0439-488d-a9b9-042e9cb1fbe6",
   "metadata": {},
   "outputs": [
    {
     "name": "stdout",
     "output_type": "stream",
     "text": [
      "Accuracy is 3316 / 4110 = 80.7%\n",
      "Accuracy is 3328 / 4110 = 81.0%\n",
      "Accuracy is 3307 / 4110 = 80.5%\n",
      "Accuracy is 3282 / 4110 = 79.9%\n",
      "Accuracy is 3302 / 4110 = 80.3%\n"
     ]
    }
   ],
   "source": [
    "for i in range(5):\n",
    "    print(\n",
    "        \"Accuracy is {} / {} = {:.01f}%\".format(\n",
    "            results[i][\"is_correct\"].sum(),\n",
    "            len(results[i]),\n",
    "            results[i][\"is_correct\"].sum() / len(results[i]) * 100,\n",
    "        )\n",
    "    )"
   ]
  },
  {
   "cell_type": "code",
   "execution_count": 11,
   "id": "b4e9f409-8c9a-4e98-9792-f2e96d306123",
   "metadata": {},
   "outputs": [],
   "source": [
    "for i in range(5):\n",
    "    RESULTS_FNAME = BASEDIR / f\"results/gemini-1.5-pro-002/results_mcq_newlineparen_shuffle{i+1}.csv\"\n",
    "    results[i].to_csv(RESULTS_FNAME)"
   ]
  },
  {
   "cell_type": "markdown",
   "id": "7c0408f2-d6b4-44fc-851d-f896ebf3c561",
   "metadata": {},
   "source": [
    "## Accuracy"
   ]
  },
  {
   "cell_type": "code",
   "execution_count": 12,
   "id": "baeb9c22-5fe3-49cc-9feb-08dc25c6d032",
   "metadata": {},
   "outputs": [
    {
     "name": "stdout",
     "output_type": "stream",
     "text": [
      "       count   accuracy\n",
      "level                  \n",
      "1        858  87.412587\n",
      "2       1612  85.359801\n",
      "3       1136  76.056338\n",
      "4        504  64.682540\n",
      "       count   accuracy\n",
      "level                  \n",
      "1        858  86.713287\n",
      "2       1612  85.732010\n",
      "3       1136  77.816901\n",
      "4        504  63.095238\n",
      "       count   accuracy\n",
      "level                  \n",
      "1        858  87.179487\n",
      "2       1612  85.359801\n",
      "3       1136  76.232394\n",
      "4        504  62.896825\n",
      "       count   accuracy\n",
      "level                  \n",
      "1        858  86.130536\n",
      "2       1612  84.739454\n",
      "3       1136  77.200704\n",
      "4        504  59.523810\n",
      "       count   accuracy\n",
      "level                  \n",
      "1        858  87.062937\n",
      "2       1612  84.615385\n",
      "3       1136  76.584507\n",
      "4        504  63.690476\n"
     ]
    }
   ],
   "source": [
    "for i in range(5):\n",
    "    print(accuracy_by_split(results[i], \"level\"))"
   ]
  },
  {
   "cell_type": "code",
   "execution_count": 13,
   "id": "c7e50ceb-a658-4f3a-ade9-00590aebf6a3",
   "metadata": {},
   "outputs": [
    {
     "name": "stdout",
     "output_type": "stream",
     "text": [
      "                          count   accuracy\n",
      "subject                                   \n",
      "algebra                     872  86.353211\n",
      "counting_and_probability    600  71.333333\n",
      "geometry                   1071  72.362278\n",
      "number_theory               473  78.858351\n",
      "prealgebra                  957  92.685475\n",
      "precalculus                 137  72.992701\n",
      "                          count   accuracy\n",
      "subject                                   \n",
      "algebra                     872  87.041284\n",
      "counting_and_probability    600  72.500000\n",
      "geometry                   1071  73.482726\n",
      "number_theory               473  80.126850\n",
      "prealgebra                  957  91.222571\n",
      "precalculus                 137  69.343066\n",
      "                          count   accuracy\n",
      "subject                                   \n",
      "algebra                     872  85.206422\n",
      "counting_and_probability    600  72.166667\n",
      "geometry                   1071  73.295985\n",
      "number_theory               473  78.858351\n",
      "prealgebra                  957  91.431557\n",
      "precalculus                 137  71.532847\n",
      "                          count   accuracy\n",
      "subject                                   \n",
      "algebra                     872  86.697248\n",
      "counting_and_probability    600  70.000000\n",
      "geometry                   1071  72.175537\n",
      "number_theory               473  79.492600\n",
      "prealgebra                  957  89.759666\n",
      "precalculus                 137  71.532847\n",
      "                          count   accuracy\n",
      "subject                                   \n",
      "algebra                     872  86.926606\n",
      "counting_and_probability    600  70.000000\n",
      "geometry                   1071  72.362278\n",
      "number_theory               473  78.224101\n",
      "prealgebra                  957  91.640543\n",
      "precalculus                 137  74.452555\n"
     ]
    }
   ],
   "source": [
    "for i in range(5):\n",
    "    print(accuracy_by_split(results[i], \"subject\"))"
   ]
  },
  {
   "cell_type": "code",
   "execution_count": 14,
   "id": "39babbaa-f5a1-4634-a6d3-27f02753c253",
   "metadata": {},
   "outputs": [
    {
     "name": "stdout",
     "output_type": "stream",
     "text": [
      "80.27390044772189\n",
      "80.53726626283908\n",
      "80.08954437713984\n",
      "79.24677376876481\n",
      "79.95786146958125\n"
     ]
    }
   ],
   "source": [
    "for i in range(5):\n",
    "    print(results[i][~results[i][\"mcq_only\"]][\"is_correct\"].mean() * 100)"
   ]
  },
  {
   "cell_type": "code",
   "execution_count": 15,
   "id": "33349d97-23f6-4803-8ab7-97c1b2d804bc",
   "metadata": {},
   "outputs": [
    {
     "name": "stdout",
     "output_type": "stream",
     "text": [
      "       count   accuracy\n",
      "level                  \n",
      "1        799  86.983730\n",
      "2       1505  84.983389\n",
      "3       1036  75.482625\n",
      "4        457  63.894967\n",
      "       count   accuracy\n",
      "level                  \n",
      "1        799  86.232791\n",
      "2       1505  85.249169\n",
      "3       1036  77.509653\n",
      "4        457  61.925602\n",
      "       count   accuracy\n",
      "level                  \n",
      "1        799  86.608260\n",
      "2       1505  84.983389\n",
      "3       1036  75.675676\n",
      "4        457  62.582057\n",
      "       count   accuracy\n",
      "level                  \n",
      "1        799  85.607009\n",
      "2       1505  84.119601\n",
      "3       1036  76.640927\n",
      "4        457  57.986871\n",
      "       count   accuracy\n",
      "level                  \n",
      "1        799  86.608260\n",
      "2       1505  84.252492\n",
      "3       1036  76.158301\n",
      "4        457  62.800875\n"
     ]
    }
   ],
   "source": [
    "for i in range(5):\n",
    "    print(accuracy_by_split(results[i][~results[i][\"mcq_only\"]], \"level\"))"
   ]
  },
  {
   "cell_type": "markdown",
   "id": "ce7abe18-ea7e-4806-abca-c02a11202c43",
   "metadata": {},
   "source": [
    "## Compare with no-shuffle"
   ]
  },
  {
   "cell_type": "code",
   "execution_count": 16,
   "id": "84fb131a-84cc-4ce1-b34a-975731704f74",
   "metadata": {},
   "outputs": [
    {
     "data": {
      "application/vnd.jupyter.widget-view+json": {
       "model_id": "4fdab8353bc24bf4b6095dc243902d1b",
       "version_major": 2,
       "version_minor": 0
      },
      "text/plain": [
       "  0%|          | 0/4110 [00:00<?, ?it/s]"
      ]
     },
     "metadata": {},
     "output_type": "display_data"
    }
   ],
   "source": [
    "fname_newlineparen = BASEDIR / \"outputs/mcq/gemini-1.5-pro-002/outputs_newline-paren.jsonl\"\n",
    "\n",
    "raw_responses_newlineparen = read_jsonl(fname_newlineparen)\n",
    "responses_newlineparen = [\n",
    "    {\n",
    "        \"uid\": x[\"custom_id\"],\n",
    "        \"system\": x[\"request\"][\"system_instruction\"],\n",
    "        \"prompt\": x[\"request\"][\"contents\"],\n",
    "        \"response\": ModelResponse.from_response(x[\"response\"], \"google\", use_batch_api=True)\n",
    "    }\n",
    "    for x in raw_responses_newlineparen\n",
    "    if x[\"custom_id\"] in dataset_map\n",
    "]\n",
    "raw_response_newlineparen_map = {x[\"custom_id\"]: x for x in raw_responses_newlineparen if x[\"custom_id\"] in dataset_map}\n",
    "response_newlineparen_map = {o[\"uid\"]: o for o in responses_newlineparen}\n",
    "\n",
    "answer_check_dicts_newlineparen = make_answer_check_dict_from_jsonl(responses_newlineparen, dataset_map)\n",
    "answer_check_results_newlineparen = latex_answer_choice_check(answer_check_dicts_newlineparen, use_tqdm=True)\n",
    "results_metadata_newlineparen = make_results_df(responses_newlineparen, answer_check_results_newlineparen, dataset_map, mode=\"mcq\")"
   ]
  },
  {
   "cell_type": "code",
   "execution_count": 17,
   "id": "1b3efa9d-a1f7-49b2-8b88-cdefc187521f",
   "metadata": {},
   "outputs": [],
   "source": [
    "ACCURACY_COLUMNS = [\n",
    "    \"is_correct_original\",\n",
    "    *[f\"is_correct_shuffle_{i+1}\" for i in range(5)],\n",
    "]"
   ]
  },
  {
   "cell_type": "code",
   "execution_count": 18,
   "id": "7c49cb06-3bdb-46a8-a8d6-30b0b2248639",
   "metadata": {},
   "outputs": [],
   "source": [
    "df = pd.concat([\n",
    "    (\n",
    "        results_metadata_newlineparen\n",
    "        .set_index([\"level\", \"subject\", \"has_asy_problem\", \"has_asy_solution\", \"mcq_only\"], append=True)\n",
    "        .assign(mode=\"original\")\n",
    "    ),\n",
    "    *[\n",
    "        (\n",
    "            results[i]\n",
    "            .set_index([\"level\", \"subject\", \"has_asy_problem\", \"has_asy_solution\", \"mcq_only\"], append=True)\n",
    "            .assign(mode=f\"shuffle_{i+1}\")\n",
    "        )\n",
    "        for i in range(5)\n",
    "    ]\n",
    "]).set_index(\"mode\", append=True)"
   ]
  },
  {
   "cell_type": "code",
   "execution_count": 19,
   "id": "a48cfeb9-d21f-42c6-998e-41aa3cfb20ec",
   "metadata": {},
   "outputs": [
    {
     "data": {
      "text/html": [
       "<div>\n",
       "<style scoped>\n",
       "    .dataframe tbody tr th:only-of-type {\n",
       "        vertical-align: middle;\n",
       "    }\n",
       "\n",
       "    .dataframe tbody tr th {\n",
       "        vertical-align: top;\n",
       "    }\n",
       "\n",
       "    .dataframe thead th {\n",
       "        text-align: right;\n",
       "    }\n",
       "</style>\n",
       "<table border=\"1\" class=\"dataframe\">\n",
       "  <thead>\n",
       "    <tr style=\"text-align: right;\">\n",
       "      <th></th>\n",
       "      <th>level</th>\n",
       "      <th>subject</th>\n",
       "      <th>has_asy_problem</th>\n",
       "      <th>has_asy_solution</th>\n",
       "      <th>mcq_only</th>\n",
       "      <th>reason_original</th>\n",
       "      <th>reason_shuffle_1</th>\n",
       "      <th>reason_shuffle_2</th>\n",
       "      <th>reason_shuffle_3</th>\n",
       "      <th>reason_shuffle_4</th>\n",
       "      <th>...</th>\n",
       "      <th>output_tokens_shuffle_3</th>\n",
       "      <th>output_tokens_shuffle_4</th>\n",
       "      <th>output_tokens_shuffle_5</th>\n",
       "      <th>reasoning_tokens_original</th>\n",
       "      <th>reasoning_tokens_shuffle_1</th>\n",
       "      <th>reasoning_tokens_shuffle_2</th>\n",
       "      <th>reasoning_tokens_shuffle_3</th>\n",
       "      <th>reasoning_tokens_shuffle_4</th>\n",
       "      <th>reasoning_tokens_shuffle_5</th>\n",
       "      <th>num_correct</th>\n",
       "    </tr>\n",
       "    <tr>\n",
       "      <th>uid</th>\n",
       "      <th></th>\n",
       "      <th></th>\n",
       "      <th></th>\n",
       "      <th></th>\n",
       "      <th></th>\n",
       "      <th></th>\n",
       "      <th></th>\n",
       "      <th></th>\n",
       "      <th></th>\n",
       "      <th></th>\n",
       "      <th></th>\n",
       "      <th></th>\n",
       "      <th></th>\n",
       "      <th></th>\n",
       "      <th></th>\n",
       "      <th></th>\n",
       "      <th></th>\n",
       "      <th></th>\n",
       "      <th></th>\n",
       "      <th></th>\n",
       "      <th></th>\n",
       "    </tr>\n",
       "  </thead>\n",
       "  <tbody>\n",
       "    <tr>\n",
       "      <th>1950/AHSME/1</th>\n",
       "      <td>2</td>\n",
       "      <td>prealgebra</td>\n",
       "      <td>False</td>\n",
       "      <td>False</td>\n",
       "      <td>False</td>\n",
       "      <td>stop</td>\n",
       "      <td>stop</td>\n",
       "      <td>stop</td>\n",
       "      <td>stop</td>\n",
       "      <td>stop</td>\n",
       "      <td>...</td>\n",
       "      <td>148</td>\n",
       "      <td>148</td>\n",
       "      <td>143</td>\n",
       "      <td>0</td>\n",
       "      <td>0</td>\n",
       "      <td>0</td>\n",
       "      <td>0</td>\n",
       "      <td>0</td>\n",
       "      <td>0</td>\n",
       "      <td>6</td>\n",
       "    </tr>\n",
       "    <tr>\n",
       "      <th>1950/AHSME/10</th>\n",
       "      <td>2</td>\n",
       "      <td>prealgebra</td>\n",
       "      <td>False</td>\n",
       "      <td>False</td>\n",
       "      <td>False</td>\n",
       "      <td>stop</td>\n",
       "      <td>stop</td>\n",
       "      <td>stop</td>\n",
       "      <td>stop</td>\n",
       "      <td>stop</td>\n",
       "      <td>...</td>\n",
       "      <td>240</td>\n",
       "      <td>257</td>\n",
       "      <td>317</td>\n",
       "      <td>0</td>\n",
       "      <td>0</td>\n",
       "      <td>0</td>\n",
       "      <td>0</td>\n",
       "      <td>0</td>\n",
       "      <td>0</td>\n",
       "      <td>3</td>\n",
       "    </tr>\n",
       "    <tr>\n",
       "      <th>1950/AHSME/11</th>\n",
       "      <td>2</td>\n",
       "      <td>prealgebra</td>\n",
       "      <td>False</td>\n",
       "      <td>False</td>\n",
       "      <td>True</td>\n",
       "      <td>stop</td>\n",
       "      <td>stop</td>\n",
       "      <td>stop</td>\n",
       "      <td>stop</td>\n",
       "      <td>stop</td>\n",
       "      <td>...</td>\n",
       "      <td>228</td>\n",
       "      <td>206</td>\n",
       "      <td>215</td>\n",
       "      <td>0</td>\n",
       "      <td>0</td>\n",
       "      <td>0</td>\n",
       "      <td>0</td>\n",
       "      <td>0</td>\n",
       "      <td>0</td>\n",
       "      <td>6</td>\n",
       "    </tr>\n",
       "    <tr>\n",
       "      <th>1950/AHSME/12</th>\n",
       "      <td>2</td>\n",
       "      <td>geometry</td>\n",
       "      <td>False</td>\n",
       "      <td>False</td>\n",
       "      <td>True</td>\n",
       "      <td>stop</td>\n",
       "      <td>stop</td>\n",
       "      <td>stop</td>\n",
       "      <td>stop</td>\n",
       "      <td>stop</td>\n",
       "      <td>...</td>\n",
       "      <td>176</td>\n",
       "      <td>175</td>\n",
       "      <td>185</td>\n",
       "      <td>0</td>\n",
       "      <td>0</td>\n",
       "      <td>0</td>\n",
       "      <td>0</td>\n",
       "      <td>0</td>\n",
       "      <td>0</td>\n",
       "      <td>6</td>\n",
       "    </tr>\n",
       "    <tr>\n",
       "      <th>1950/AHSME/13</th>\n",
       "      <td>2</td>\n",
       "      <td>algebra</td>\n",
       "      <td>False</td>\n",
       "      <td>False</td>\n",
       "      <td>False</td>\n",
       "      <td>stop</td>\n",
       "      <td>stop</td>\n",
       "      <td>stop</td>\n",
       "      <td>stop</td>\n",
       "      <td>stop</td>\n",
       "      <td>...</td>\n",
       "      <td>226</td>\n",
       "      <td>208</td>\n",
       "      <td>223</td>\n",
       "      <td>0</td>\n",
       "      <td>0</td>\n",
       "      <td>0</td>\n",
       "      <td>0</td>\n",
       "      <td>0</td>\n",
       "      <td>0</td>\n",
       "      <td>6</td>\n",
       "    </tr>\n",
       "  </tbody>\n",
       "</table>\n",
       "<p>5 rows × 48 columns</p>\n",
       "</div>"
      ],
      "text/plain": [
       "               level     subject  has_asy_problem  has_asy_solution  mcq_only  \\\n",
       "uid                                                                             \n",
       "1950/AHSME/1       2  prealgebra            False             False     False   \n",
       "1950/AHSME/10      2  prealgebra            False             False     False   \n",
       "1950/AHSME/11      2  prealgebra            False             False      True   \n",
       "1950/AHSME/12      2    geometry            False             False      True   \n",
       "1950/AHSME/13      2     algebra            False             False     False   \n",
       "\n",
       "              reason_original reason_shuffle_1 reason_shuffle_2  \\\n",
       "uid                                                               \n",
       "1950/AHSME/1             stop             stop             stop   \n",
       "1950/AHSME/10            stop             stop             stop   \n",
       "1950/AHSME/11            stop             stop             stop   \n",
       "1950/AHSME/12            stop             stop             stop   \n",
       "1950/AHSME/13            stop             stop             stop   \n",
       "\n",
       "              reason_shuffle_3 reason_shuffle_4  ... output_tokens_shuffle_3  \\\n",
       "uid                                              ...                           \n",
       "1950/AHSME/1              stop             stop  ...                     148   \n",
       "1950/AHSME/10             stop             stop  ...                     240   \n",
       "1950/AHSME/11             stop             stop  ...                     228   \n",
       "1950/AHSME/12             stop             stop  ...                     176   \n",
       "1950/AHSME/13             stop             stop  ...                     226   \n",
       "\n",
       "               output_tokens_shuffle_4  output_tokens_shuffle_5  \\\n",
       "uid                                                               \n",
       "1950/AHSME/1                       148                      143   \n",
       "1950/AHSME/10                      257                      317   \n",
       "1950/AHSME/11                      206                      215   \n",
       "1950/AHSME/12                      175                      185   \n",
       "1950/AHSME/13                      208                      223   \n",
       "\n",
       "               reasoning_tokens_original  reasoning_tokens_shuffle_1  \\\n",
       "uid                                                                    \n",
       "1950/AHSME/1                           0                           0   \n",
       "1950/AHSME/10                          0                           0   \n",
       "1950/AHSME/11                          0                           0   \n",
       "1950/AHSME/12                          0                           0   \n",
       "1950/AHSME/13                          0                           0   \n",
       "\n",
       "               reasoning_tokens_shuffle_2  reasoning_tokens_shuffle_3  \\\n",
       "uid                                                                     \n",
       "1950/AHSME/1                            0                           0   \n",
       "1950/AHSME/10                           0                           0   \n",
       "1950/AHSME/11                           0                           0   \n",
       "1950/AHSME/12                           0                           0   \n",
       "1950/AHSME/13                           0                           0   \n",
       "\n",
       "              reasoning_tokens_shuffle_4 reasoning_tokens_shuffle_5  \\\n",
       "uid                                                                   \n",
       "1950/AHSME/1                           0                          0   \n",
       "1950/AHSME/10                          0                          0   \n",
       "1950/AHSME/11                          0                          0   \n",
       "1950/AHSME/12                          0                          0   \n",
       "1950/AHSME/13                          0                          0   \n",
       "\n",
       "              num_correct  \n",
       "uid                        \n",
       "1950/AHSME/1            6  \n",
       "1950/AHSME/10           3  \n",
       "1950/AHSME/11           6  \n",
       "1950/AHSME/12           6  \n",
       "1950/AHSME/13           6  \n",
       "\n",
       "[5 rows x 48 columns]"
      ]
     },
     "execution_count": 19,
     "metadata": {},
     "output_type": "execute_result"
    }
   ],
   "source": [
    "df = df.unstack(\"mode\")\n",
    "df.columns = df.columns.map(\"_\".join)\n",
    "df = df.reset_index().set_index(\"uid\")\n",
    "df[\"num_correct\"] = df[ACCURACY_COLUMNS].sum(axis=1)\n",
    "df.head()"
   ]
  },
  {
   "cell_type": "code",
   "execution_count": 20,
   "id": "4276fb01-cd52-4c7e-8daa-6ba3655892b9",
   "metadata": {},
   "outputs": [],
   "source": [
    "def plot_intersect_accuracy(\n",
    "    df,\n",
    "    title=\"Common accuracy of multiple shuffled MCQ runs on Gemini 1.5 Pro v2\",\n",
    "):\n",
    "    print(df[ACCURACY_COLUMNS].mean())\n",
    "    print(\"Average 1 model perf:\", df[ACCURACY_COLUMNS].mean().mean())\n",
    "    \n",
    "    single_bootstrap_res = stats.bootstrap((df[ACCURACY_COLUMNS].mean().to_numpy(),), np.mean, confidence_level=0.95)\n",
    "    print(\"Single accuracy: {:.02f} +/- {:.02f}\".format(\n",
    "        100 * df[ACCURACY_COLUMNS].mean().mean(),\n",
    "        100 * (single_bootstrap_res.confidence_interval.high - single_bootstrap_res.confidence_interval.low) / 2\n",
    "    ))\n",
    "    \n",
    "    all_pair_acc = []\n",
    "    for i, col1 in enumerate(ACCURACY_COLUMNS):\n",
    "        for col2 in ACCURACY_COLUMNS[i+1:]:\n",
    "            pair_acc = df[[col1, col2]].prod(axis=1).mean()\n",
    "            all_pair_acc.append(pair_acc)\n",
    "            # print(f\"{col1} & {col2}: {pair_acc}\")\n",
    "    \n",
    "    pair_bootstrap_res = stats.bootstrap((all_pair_acc,), np.mean, confidence_level=0.95)\n",
    "    print(\"2-intersect accuracy: {:.02f} +/- {:.02f}\".format(\n",
    "        100 * sum(all_pair_acc) / len(all_pair_acc),\n",
    "        100 * (pair_bootstrap_res.confidence_interval.high - pair_bootstrap_res.confidence_interval.low) / 2\n",
    "    ))\n",
    "    \n",
    "    all_trio_acc = []\n",
    "    for i, col1 in enumerate(ACCURACY_COLUMNS):\n",
    "        for j, col2 in enumerate(ACCURACY_COLUMNS[i+1:]):\n",
    "            for k, col3 in enumerate(ACCURACY_COLUMNS[j+1:]):\n",
    "                acc = df[[col1, col2, col3]].prod(axis=1).mean()\n",
    "                all_trio_acc.append(acc)\n",
    "                # print(f\"{col1.split('is_correct_')[1]} & {col2.split('is_correct_')[1]} & {col3.split('is_correct_')[1]}: {acc}\")\n",
    "    \n",
    "    trio_bootstrap_res = stats.bootstrap((all_trio_acc,), np.mean, confidence_level=0.95)\n",
    "    print(\"3-intersect accuracy: {:.02f} +/- {:.02f}\".format(\n",
    "        100 * sum(all_trio_acc) / len(all_trio_acc),\n",
    "        100 * (trio_bootstrap_res.confidence_interval.high - trio_bootstrap_res.confidence_interval.low) / 2\n",
    "    ))\n",
    "    \n",
    "    all_quad_acc = []\n",
    "    for i, col1 in enumerate(ACCURACY_COLUMNS):\n",
    "        for j, col2 in enumerate(ACCURACY_COLUMNS[i+1:]):\n",
    "            for k, col3 in enumerate(ACCURACY_COLUMNS[j+1:]):\n",
    "                for l, col4 in enumerate(ACCURACY_COLUMNS[k+1:]):\n",
    "                    acc = df[[col1, col2, col3, col4]].prod(axis=1).mean()\n",
    "                    all_quad_acc.append(acc)\n",
    "    \n",
    "    quad_bootstrap_res = stats.bootstrap((all_quad_acc,), np.mean, confidence_level=0.95)\n",
    "    print(\"4-intersect accuracy: {:.02f} +/- {:.02f}\".format(\n",
    "        100 * sum(all_quad_acc) / len(all_quad_acc),\n",
    "        100 * (quad_bootstrap_res.confidence_interval.high - quad_bootstrap_res.confidence_interval.low) / 2\n",
    "    ))\n",
    "    \n",
    "    all_quin_acc = []\n",
    "    for i, col1 in enumerate(ACCURACY_COLUMNS):\n",
    "        acc = df[[col for col in ACCURACY_COLUMNS if col != col1]].prod(axis=1).mean()\n",
    "        all_quin_acc.append(acc)\n",
    "    \n",
    "    quin_bootstrap_res = stats.bootstrap((all_quin_acc,), np.mean, confidence_level=0.95)\n",
    "    print(\"5-intersect accuracy: {:.02f} +/- {:.02f}\".format(\n",
    "        100 * sum(all_quin_acc) / len(all_quin_acc),\n",
    "        100 * (quin_bootstrap_res.confidence_interval.high - quin_bootstrap_res.confidence_interval.low) / 2\n",
    "    ))\n",
    "    \n",
    "    all6_accuracy = df[\"is_correct_original\"].copy()\n",
    "    for c in ACCURACY_COLUMNS[1:]:\n",
    "        all6_accuracy *= df[c]\n",
    "    print(f\"All-6 accuracy: {all6_accuracy.mean()*100:.02f}\")\n",
    "    \n",
    "    xs = list(range(1,6))\n",
    "    accs = np.array([\n",
    "        100 * df[ACCURACY_COLUMNS].mean().mean(),\n",
    "        100 * sum(all_pair_acc) / len(all_pair_acc),\n",
    "        100 * sum(all_trio_acc) / len(all_trio_acc),\n",
    "        100 * sum(all_quad_acc) / len(all_quad_acc),\n",
    "        100 * sum(all_quin_acc) / len(all_quin_acc),\n",
    "    ])\n",
    "    cis = np.array([\n",
    "        100 * (single_bootstrap_res.confidence_interval.high - single_bootstrap_res.confidence_interval.low) / 2,\n",
    "        100 * (pair_bootstrap_res.confidence_interval.high - pair_bootstrap_res.confidence_interval.low) / 2,\n",
    "        100 * (trio_bootstrap_res.confidence_interval.high - trio_bootstrap_res.confidence_interval.low) / 2,\n",
    "        100 * (quad_bootstrap_res.confidence_interval.high - quad_bootstrap_res.confidence_interval.low) / 2,\n",
    "        100 * (quin_bootstrap_res.confidence_interval.high - quin_bootstrap_res.confidence_interval.low) / 2,\n",
    "    ])\n",
    "    \n",
    "    fig, ax = plt.subplots()\n",
    "    ax.plot(xs, accs)\n",
    "    ax.fill_between(xs, (accs-cis), (accs+cis), color='b', alpha=.1)\n",
    "    \n",
    "    plt.xticks(np.arange(1, 6, 1.0))\n",
    "    plt.xlabel(\"Number of runs to intersect\")\n",
    "    plt.ylabel(\"Accuracy (%)\")\n",
    "    plt.title(title)\n",
    "    plt.grid(True)\n",
    "    plt.show()"
   ]
  },
  {
   "cell_type": "code",
   "execution_count": 21,
   "id": "e917cfe7-63a7-4218-a720-f3e6af3966d1",
   "metadata": {},
   "outputs": [
    {
     "name": "stdout",
     "output_type": "stream",
     "text": [
      "is_correct_original     0.810949\n",
      "is_correct_shuffle_1    0.806813\n",
      "is_correct_shuffle_2    0.809732\n",
      "is_correct_shuffle_3    0.804623\n",
      "is_correct_shuffle_4    0.798540\n",
      "is_correct_shuffle_5    0.803406\n",
      "dtype: float64\n",
      "Average 1 model perf: 0.8056772100567721\n",
      "Single accuracy: 80.57 +/- 0.33\n",
      "2-intersect accuracy: 73.89 +/- 0.21\n",
      "3-intersect accuracy: 71.55 +/- 0.48\n",
      "4-intersect accuracy: 70.10 +/- 0.26\n",
      "5-intersect accuracy: 65.99 +/- 0.19\n",
      "All-6 accuracy: 64.57\n"
     ]
    },
    {
     "data": {
      "image/png": "[encoded data removed]",
      "text/plain": [
       "<Figure size 640x480 with 1 Axes>"
      ]
     },
     "metadata": {},
     "output_type": "display_data"
    }
   ],
   "source": [
    "plot_intersect_accuracy(df)"
   ]
  },
  {
   "cell_type": "code",
   "execution_count": 22,
   "id": "683d0ca0-efc2-46c9-a48d-f86de1fa3e47",
   "metadata": {},
   "outputs": [
    {
     "name": "stdout",
     "output_type": "stream",
     "text": [
      "is_correct_original     0.807216\n",
      "is_correct_shuffle_1    0.802739\n",
      "is_correct_shuffle_2    0.805373\n",
      "is_correct_shuffle_3    0.800895\n",
      "is_correct_shuffle_4    0.792468\n",
      "is_correct_shuffle_5    0.799579\n",
      "dtype: float64\n",
      "Average 1 model perf: 0.8013782810991135\n",
      "Single accuracy: 80.14 +/- 0.39\n",
      "2-intersect accuracy: 73.40 +/- 0.21\n",
      "3-intersect accuracy: 71.04 +/- 0.48\n",
      "4-intersect accuracy: 69.58 +/- 0.26\n",
      "5-intersect accuracy: 65.49 +/- 0.18\n",
      "All-6 accuracy: 64.08\n"
     ]
    },
    {
     "data": {
      "image/png": "[encoded data removed]",
      "text/plain": [
       "<Figure size 640x480 with 1 Axes>"
      ]
     },
     "metadata": {},
     "output_type": "display_data"
    }
   ],
   "source": [
    "plot_intersect_accuracy(df[~df[\"mcq_only\"]], title=\"Common accuracy of shuffled MCQ runs on short answer problems\")"
   ]
  },
  {
   "cell_type": "code",
   "execution_count": 23,
   "id": "3c0b1072-cb5a-4854-ba35-72d8f35e771a",
   "metadata": {},
   "outputs": [
    {
     "data": {
      "text/plain": [
       "num_correct\n",
       "0     233\n",
       "1     194\n",
       "2     212\n",
       "3     182\n",
       "4     220\n",
       "5     323\n",
       "6    2433\n",
       "Name: count, dtype: int64"
      ]
     },
     "execution_count": 23,
     "metadata": {},
     "output_type": "execute_result"
    }
   ],
   "source": [
    "df[~df[\"mcq_only\"]][\"num_correct\"].value_counts().sort_index()"
   ]
  },
  {
   "cell_type": "code",
   "execution_count": 24,
   "id": "2460fabd-616f-478e-8586-b9ff65c92d13",
   "metadata": {},
   "outputs": [
    {
     "data": {
      "image/png": "[encoded data removed]",
      "text/plain": [
       "<Figure size 640x480 with 1 Axes>"
      ]
     },
     "metadata": {},
     "output_type": "display_data"
    }
   ],
   "source": [
    "ax = df[~df[\"mcq_only\"]][\"num_correct\"].value_counts().sort_index().plot(kind='bar')\n",
    "\n",
    "plt.xlabel(\"Number of runs correct\")\n",
    "plt.xticks(rotation=0)\n",
    "plt.ylabel(\"Number of problems\")\n",
    "plt.title(\"Distribution of problems vs number of runs that got it correct\")\n",
    "plt.show()"
   ]
  },
  {
   "cell_type": "code",
   "execution_count": null,
   "id": "d671b2bc-0600-4cff-a2c4-17cf3182ffaf",
   "metadata": {},
   "outputs": [],
   "source": []
  },
  {
   "cell_type": "code",
   "execution_count": 25,
   "id": "80ce9950-f808-4467-bb3a-62592c29ab18",
   "metadata": {},
   "outputs": [
    {
     "data": {
      "text/plain": [
       "is_correct_original  is_correct_shuffle_1  is_correct_shuffle_2\n",
       "False                False                 False                    398\n",
       "                                           True                     132\n",
       "                     True                  False                    112\n",
       "                                           True                     135\n",
       "True                 False                 False                    118\n",
       "                                           True                     146\n",
       "                     True                  False                    154\n",
       "                                           True                    2915\n",
       "Name: count, dtype: int64"
      ]
     },
     "execution_count": 25,
     "metadata": {},
     "output_type": "execute_result"
    }
   ],
   "source": [
    "df.value_counts([\n",
    "    \"is_correct_original\",\n",
    "    \"is_correct_shuffle_1\",\n",
    "    \"is_correct_shuffle_2\",\n",
    "]).sort_index()"
   ]
  },
  {
   "cell_type": "code",
   "execution_count": 27,
   "id": "d837518a-c558-4c62-a986-f0c1c8aa8903",
   "metadata": {},
   "outputs": [
    {
     "data": {
      "text/plain": [
       "70.92457420924573"
      ]
     },
     "execution_count": 27,
     "metadata": {},
     "output_type": "execute_result"
    }
   ],
   "source": [
    "2915 / len(results_metadata_newlineparen) * 100"
   ]
  },
  {
   "cell_type": "code",
   "execution_count": 28,
   "id": "e9b676e0-fa91-4175-aead-dec058a64122",
   "metadata": {},
   "outputs": [
    {
     "data": {
      "text/plain": [
       "level  is_correct_original  is_correct_shuffle_1  is_correct_shuffle_2\n",
       "1      False                False                 False                     56\n",
       "                                                  True                      16\n",
       "                            True                  False                     17\n",
       "                                                  True                      17\n",
       "       True                 False                 False                     20\n",
       "                                                  True                      16\n",
       "                            True                  False                     21\n",
       "                                                  True                     695\n",
       "2      False                False                 False                    115\n",
       "                                                  True                      38\n",
       "                            True                  False                     28\n",
       "                                                  True                      41\n",
       "       True                 False                 False                     39\n",
       "                                                  True                      44\n",
       "                            True                  False                     48\n",
       "                                                  True                    1259\n",
       "3      False                False                 False                    131\n",
       "                                                  True                      53\n",
       "                            True                  False                     40\n",
       "                                                  True                      46\n",
       "       True                 False                 False                     32\n",
       "                                                  True                      56\n",
       "                            True                  False                     49\n",
       "                                                  True                     729\n",
       "4      False                False                 False                     96\n",
       "                                                  True                      25\n",
       "                            True                  False                     27\n",
       "                                                  True                      31\n",
       "       True                 False                 False                     27\n",
       "                                                  True                      30\n",
       "                            True                  False                     36\n",
       "                                                  True                     232\n",
       "Name: count, dtype: int64"
      ]
     },
     "execution_count": 28,
     "metadata": {},
     "output_type": "execute_result"
    }
   ],
   "source": [
    "df.value_counts([\n",
    "    \"level\",\n",
    "    \"is_correct_original\",\n",
    "    \"is_correct_shuffle_1\",\n",
    "    \"is_correct_shuffle_2\",\n",
    "]).sort_index()"
   ]
  },
  {
   "cell_type": "code",
   "execution_count": 29,
   "id": "d63af716-3c0a-4cd4-bd0f-116e4ff0494d",
   "metadata": {},
   "outputs": [
    {
     "data": {
      "text/plain": [
       "is_correct_original  is_correct_shuffle_1  is_correct_shuffle_2\n",
       "False                False                 False                    379\n",
       "                                           True                     122\n",
       "                     True                  False                    105\n",
       "                                           True                     126\n",
       "True                 False                 False                    111\n",
       "                                           True                     137\n",
       "                     True                  False                    144\n",
       "                                           True                    2673\n",
       "Name: count, dtype: int64"
      ]
     },
     "execution_count": 29,
     "metadata": {},
     "output_type": "execute_result"
    }
   ],
   "source": [
    "df[\n",
    "    [not dataset_map[x][\"multiple_choice_only\"] for x in df.index.get_level_values(\"uid\")]\n",
    "].value_counts([\n",
    "    \"is_correct_original\",\n",
    "    \"is_correct_shuffle_1\",\n",
    "    \"is_correct_shuffle_2\",\n",
    "]).sort_index()"
   ]
  },
  {
   "cell_type": "code",
   "execution_count": 30,
   "id": "73bacd0b-df67-408c-9992-0fbbde27fbf6",
   "metadata": {},
   "outputs": [
    {
     "data": {
      "text/plain": [
       "0.7039768238082696"
      ]
     },
     "execution_count": 30,
     "metadata": {},
     "output_type": "execute_result"
    }
   ],
   "source": [
    "2673 / len(df[[not dataset_map[x][\"multiple_choice_only\"] for x in df.index.get_level_values(\"uid\")]])"
   ]
  },
  {
   "cell_type": "code",
   "execution_count": 31,
   "id": "18129b4a-430c-420c-9cff-e2852fbb4835",
   "metadata": {},
   "outputs": [
    {
     "data": {
      "text/plain": [
       "level  is_correct_original  is_correct_shuffle_1  is_correct_shuffle_2\n",
       "1      False                False                 False                     55\n",
       "                                                  True                      15\n",
       "                            True                  False                     16\n",
       "                                                  True                      17\n",
       "       True                 False                 False                     19\n",
       "                                                  True                      15\n",
       "                            True                  False                     20\n",
       "                                                  True                     642\n",
       "2      False                False                 False                    110\n",
       "                                                  True                      35\n",
       "                            True                  False                     27\n",
       "                                                  True                      40\n",
       "       True                 False                 False                     38\n",
       "                                                  True                      43\n",
       "                            True                  False                     47\n",
       "                                                  True                    1165\n",
       "3      False                False                 False                    123\n",
       "                                                  True                      48\n",
       "                            True                  False                     38\n",
       "                                                  True                      40\n",
       "       True                 False                 False                     30\n",
       "                                                  True                      53\n",
       "                            True                  False                     42\n",
       "                                                  True                     662\n",
       "4      False                False                 False                     91\n",
       "                                                  True                      24\n",
       "                            True                  False                     24\n",
       "                                                  True                      29\n",
       "       True                 False                 False                     24\n",
       "                                                  True                      26\n",
       "                            True                  False                     35\n",
       "                                                  True                     204\n",
       "Name: count, dtype: int64"
      ]
     },
     "execution_count": 31,
     "metadata": {},
     "output_type": "execute_result"
    }
   ],
   "source": [
    "df[\n",
    "    [not dataset_map[x][\"multiple_choice_only\"] for x in df.index.get_level_values(\"uid\")]\n",
    "].value_counts([\n",
    "    \"level\",\n",
    "    \"is_correct_original\",\n",
    "    \"is_correct_shuffle_1\",\n",
    "    \"is_correct_shuffle_2\",\n",
    "]).sort_index()"
   ]
  },
  {
   "cell_type": "markdown",
   "id": "0401df74-d1c1-4094-8bf5-0db27a198284",
   "metadata": {},
   "source": [
    "## Compare with short answer"
   ]
  },
  {
   "cell_type": "code",
   "execution_count": 33,
   "id": "69c02d7d-2c13-4fc1-af49-d7026b93f866",
   "metadata": {},
   "outputs": [],
   "source": [
    "responses_shortans = [\n",
    "    {\n",
    "        \"uid\": x[\"custom_id\"],\n",
    "        \"system\": x[\"request\"][\"system_instruction\"],\n",
    "        \"prompt\": x[\"request\"][\"contents\"],\n",
    "        \"response\": ModelResponse.from_response(x[\"response\"], \"google\", use_batch_api=True)\n",
    "    }\n",
    "    for x in read_jsonl(BASEDIR / \"outputs/short_answer/gemini-1.5-pro-002/outputs.jsonl\")\n",
    "]\n",
    "response_shortans_map = {o[\"uid\"]: o for o in responses_shortans}"
   ]
  },
  {
   "cell_type": "code",
   "execution_count": 34,
   "id": "b003feb2-01ba-4460-af89-1046a972caa0",
   "metadata": {},
   "outputs": [],
   "source": [
    "shortans_res = pd.read_csv(BASEDIR / \"results/gemini-1.5-pro-002/results.csv\").set_index(\"uid\")"
   ]
  },
  {
   "cell_type": "code",
   "execution_count": 35,
   "id": "402248da-40b1-4bca-bca2-0d84f6e61564",
   "metadata": {},
   "outputs": [
    {
     "data": {
      "text/plain": [
       "np.float64(0.6423492230708454)"
      ]
     },
     "execution_count": 35,
     "metadata": {},
     "output_type": "execute_result"
    }
   ],
   "source": [
    "shortans_res[[\"AIME\" not in x for x in shortans_res.index]].query(\"subject != 'calculus'\")[\"is_correct\"].mean()"
   ]
  },
  {
   "cell_type": "code",
   "execution_count": 36,
   "id": "56d1a07b-feb8-4c4a-b249-a6e3836e3bef",
   "metadata": {},
   "outputs": [
    {
     "data": {
      "text/html": [
       "<div>\n",
       "<style scoped>\n",
       "    .dataframe tbody tr th:only-of-type {\n",
       "        vertical-align: middle;\n",
       "    }\n",
       "\n",
       "    .dataframe tbody tr th {\n",
       "        vertical-align: top;\n",
       "    }\n",
       "\n",
       "    .dataframe thead th {\n",
       "        text-align: right;\n",
       "    }\n",
       "</style>\n",
       "<table border=\"1\" class=\"dataframe\">\n",
       "  <thead>\n",
       "    <tr style=\"text-align: right;\">\n",
       "      <th></th>\n",
       "      <th>level</th>\n",
       "      <th>subject</th>\n",
       "      <th>mcq_only</th>\n",
       "      <th>has_asy_problem</th>\n",
       "      <th>has_asy_solution</th>\n",
       "      <th>reason</th>\n",
       "      <th>is_correct</th>\n",
       "      <th>answer</th>\n",
       "      <th>predict</th>\n",
       "      <th>input_tokens</th>\n",
       "      <th>output_tokens</th>\n",
       "      <th>reasoning_tokens</th>\n",
       "    </tr>\n",
       "    <tr>\n",
       "      <th>uid</th>\n",
       "      <th></th>\n",
       "      <th></th>\n",
       "      <th></th>\n",
       "      <th></th>\n",
       "      <th></th>\n",
       "      <th></th>\n",
       "      <th></th>\n",
       "      <th></th>\n",
       "      <th></th>\n",
       "      <th></th>\n",
       "      <th></th>\n",
       "      <th></th>\n",
       "    </tr>\n",
       "  </thead>\n",
       "  <tbody>\n",
       "    <tr>\n",
       "      <th>1984/AIME/10</th>\n",
       "      <td>5</td>\n",
       "      <td>algebra</td>\n",
       "      <td>False</td>\n",
       "      <td>False</td>\n",
       "      <td>False</td>\n",
       "      <td>stop</td>\n",
       "      <td>False</td>\n",
       "      <td>$119$</td>\n",
       "      <td>85</td>\n",
       "      <td>202</td>\n",
       "      <td>948</td>\n",
       "      <td>0</td>\n",
       "    </tr>\n",
       "    <tr>\n",
       "      <th>2010/AMC_12B/20</th>\n",
       "      <td>3</td>\n",
       "      <td>precalculus</td>\n",
       "      <td>False</td>\n",
       "      <td>False</td>\n",
       "      <td>False</td>\n",
       "      <td>stop</td>\n",
       "      <td>False</td>\n",
       "      <td>$8$</td>\n",
       "      <td>4</td>\n",
       "      <td>118</td>\n",
       "      <td>894</td>\n",
       "      <td>0</td>\n",
       "    </tr>\n",
       "    <tr>\n",
       "      <th>1964/AHSME/7</th>\n",
       "      <td>2</td>\n",
       "      <td>algebra</td>\n",
       "      <td>False</td>\n",
       "      <td>False</td>\n",
       "      <td>False</td>\n",
       "      <td>stop</td>\n",
       "      <td>True</td>\n",
       "      <td>$2$</td>\n",
       "      <td>2</td>\n",
       "      <td>93</td>\n",
       "      <td>365</td>\n",
       "      <td>0</td>\n",
       "    </tr>\n",
       "    <tr>\n",
       "      <th>2018/AMC_10A/19</th>\n",
       "      <td>2</td>\n",
       "      <td>counting_and_probability</td>\n",
       "      <td>False</td>\n",
       "      <td>False</td>\n",
       "      <td>False</td>\n",
       "      <td>stop</td>\n",
       "      <td>True</td>\n",
       "      <td>$\\frac{2}{5}$</td>\n",
       "      <td>\\frac{2}{5}</td>\n",
       "      <td>136</td>\n",
       "      <td>833</td>\n",
       "      <td>0</td>\n",
       "    </tr>\n",
       "    <tr>\n",
       "      <th>2002/AIME_I/11</th>\n",
       "      <td>5</td>\n",
       "      <td>geometry</td>\n",
       "      <td>False</td>\n",
       "      <td>False</td>\n",
       "      <td>False</td>\n",
       "      <td>stop</td>\n",
       "      <td>False</td>\n",
       "      <td>$230$</td>\n",
       "      <td>25</td>\n",
       "      <td>202</td>\n",
       "      <td>833</td>\n",
       "      <td>0</td>\n",
       "    </tr>\n",
       "  </tbody>\n",
       "</table>\n",
       "</div>"
      ],
      "text/plain": [
       "                 level                   subject  mcq_only  has_asy_problem  \\\n",
       "uid                                                                           \n",
       "1984/AIME/10         5                   algebra     False            False   \n",
       "2010/AMC_12B/20      3               precalculus     False            False   \n",
       "1964/AHSME/7         2                   algebra     False            False   \n",
       "2018/AMC_10A/19      2  counting_and_probability     False            False   \n",
       "2002/AIME_I/11       5                  geometry     False            False   \n",
       "\n",
       "                 has_asy_solution reason  is_correct         answer  \\\n",
       "uid                                                                   \n",
       "1984/AIME/10                False   stop       False          $119$   \n",
       "2010/AMC_12B/20             False   stop       False            $8$   \n",
       "1964/AHSME/7                False   stop        True            $2$   \n",
       "2018/AMC_10A/19             False   stop        True  $\\frac{2}{5}$   \n",
       "2002/AIME_I/11              False   stop       False          $230$   \n",
       "\n",
       "                     predict  input_tokens  output_tokens  reasoning_tokens  \n",
       "uid                                                                          \n",
       "1984/AIME/10              85           202            948                 0  \n",
       "2010/AMC_12B/20            4           118            894                 0  \n",
       "1964/AHSME/7               2            93            365                 0  \n",
       "2018/AMC_10A/19  \\frac{2}{5}           136            833                 0  \n",
       "2002/AIME_I/11            25           202            833                 0  "
      ]
     },
     "execution_count": 36,
     "metadata": {},
     "output_type": "execute_result"
    }
   ],
   "source": [
    "shortans_res.head()"
   ]
  },
  {
   "cell_type": "code",
   "execution_count": 37,
   "id": "19150054-f651-4b2c-b872-46a3332965e9",
   "metadata": {},
   "outputs": [
    {
     "data": {
      "text/html": [
       "<div>\n",
       "<style scoped>\n",
       "    .dataframe tbody tr th:only-of-type {\n",
       "        vertical-align: middle;\n",
       "    }\n",
       "\n",
       "    .dataframe tbody tr th {\n",
       "        vertical-align: top;\n",
       "    }\n",
       "\n",
       "    .dataframe thead th {\n",
       "        text-align: right;\n",
       "    }\n",
       "</style>\n",
       "<table border=\"1\" class=\"dataframe\">\n",
       "  <thead>\n",
       "    <tr style=\"text-align: right;\">\n",
       "      <th></th>\n",
       "      <th>level</th>\n",
       "      <th>subject</th>\n",
       "      <th>has_asy_problem</th>\n",
       "      <th>has_asy_solution</th>\n",
       "      <th>mcq_only</th>\n",
       "      <th>reason_original</th>\n",
       "      <th>reason_shuffle_1</th>\n",
       "      <th>reason_shuffle_2</th>\n",
       "      <th>reason_shuffle_3</th>\n",
       "      <th>reason_shuffle_4</th>\n",
       "      <th>...</th>\n",
       "      <th>output_tokens_shuffle_3</th>\n",
       "      <th>output_tokens_shuffle_4</th>\n",
       "      <th>output_tokens_shuffle_5</th>\n",
       "      <th>reasoning_tokens_original</th>\n",
       "      <th>reasoning_tokens_shuffle_1</th>\n",
       "      <th>reasoning_tokens_shuffle_2</th>\n",
       "      <th>reasoning_tokens_shuffle_3</th>\n",
       "      <th>reasoning_tokens_shuffle_4</th>\n",
       "      <th>reasoning_tokens_shuffle_5</th>\n",
       "      <th>num_correct</th>\n",
       "    </tr>\n",
       "    <tr>\n",
       "      <th>uid</th>\n",
       "      <th></th>\n",
       "      <th></th>\n",
       "      <th></th>\n",
       "      <th></th>\n",
       "      <th></th>\n",
       "      <th></th>\n",
       "      <th></th>\n",
       "      <th></th>\n",
       "      <th></th>\n",
       "      <th></th>\n",
       "      <th></th>\n",
       "      <th></th>\n",
       "      <th></th>\n",
       "      <th></th>\n",
       "      <th></th>\n",
       "      <th></th>\n",
       "      <th></th>\n",
       "      <th></th>\n",
       "      <th></th>\n",
       "      <th></th>\n",
       "      <th></th>\n",
       "    </tr>\n",
       "  </thead>\n",
       "  <tbody>\n",
       "    <tr>\n",
       "      <th>1950/AHSME/1</th>\n",
       "      <td>2</td>\n",
       "      <td>prealgebra</td>\n",
       "      <td>False</td>\n",
       "      <td>False</td>\n",
       "      <td>False</td>\n",
       "      <td>stop</td>\n",
       "      <td>stop</td>\n",
       "      <td>stop</td>\n",
       "      <td>stop</td>\n",
       "      <td>stop</td>\n",
       "      <td>...</td>\n",
       "      <td>148</td>\n",
       "      <td>148</td>\n",
       "      <td>143</td>\n",
       "      <td>0</td>\n",
       "      <td>0</td>\n",
       "      <td>0</td>\n",
       "      <td>0</td>\n",
       "      <td>0</td>\n",
       "      <td>0</td>\n",
       "      <td>6</td>\n",
       "    </tr>\n",
       "    <tr>\n",
       "      <th>1950/AHSME/10</th>\n",
       "      <td>2</td>\n",
       "      <td>prealgebra</td>\n",
       "      <td>False</td>\n",
       "      <td>False</td>\n",
       "      <td>False</td>\n",
       "      <td>stop</td>\n",
       "      <td>stop</td>\n",
       "      <td>stop</td>\n",
       "      <td>stop</td>\n",
       "      <td>stop</td>\n",
       "      <td>...</td>\n",
       "      <td>240</td>\n",
       "      <td>257</td>\n",
       "      <td>317</td>\n",
       "      <td>0</td>\n",
       "      <td>0</td>\n",
       "      <td>0</td>\n",
       "      <td>0</td>\n",
       "      <td>0</td>\n",
       "      <td>0</td>\n",
       "      <td>3</td>\n",
       "    </tr>\n",
       "    <tr>\n",
       "      <th>1950/AHSME/11</th>\n",
       "      <td>2</td>\n",
       "      <td>prealgebra</td>\n",
       "      <td>False</td>\n",
       "      <td>False</td>\n",
       "      <td>True</td>\n",
       "      <td>stop</td>\n",
       "      <td>stop</td>\n",
       "      <td>stop</td>\n",
       "      <td>stop</td>\n",
       "      <td>stop</td>\n",
       "      <td>...</td>\n",
       "      <td>228</td>\n",
       "      <td>206</td>\n",
       "      <td>215</td>\n",
       "      <td>0</td>\n",
       "      <td>0</td>\n",
       "      <td>0</td>\n",
       "      <td>0</td>\n",
       "      <td>0</td>\n",
       "      <td>0</td>\n",
       "      <td>6</td>\n",
       "    </tr>\n",
       "    <tr>\n",
       "      <th>1950/AHSME/12</th>\n",
       "      <td>2</td>\n",
       "      <td>geometry</td>\n",
       "      <td>False</td>\n",
       "      <td>False</td>\n",
       "      <td>True</td>\n",
       "      <td>stop</td>\n",
       "      <td>stop</td>\n",
       "      <td>stop</td>\n",
       "      <td>stop</td>\n",
       "      <td>stop</td>\n",
       "      <td>...</td>\n",
       "      <td>176</td>\n",
       "      <td>175</td>\n",
       "      <td>185</td>\n",
       "      <td>0</td>\n",
       "      <td>0</td>\n",
       "      <td>0</td>\n",
       "      <td>0</td>\n",
       "      <td>0</td>\n",
       "      <td>0</td>\n",
       "      <td>6</td>\n",
       "    </tr>\n",
       "    <tr>\n",
       "      <th>1950/AHSME/13</th>\n",
       "      <td>2</td>\n",
       "      <td>algebra</td>\n",
       "      <td>False</td>\n",
       "      <td>False</td>\n",
       "      <td>False</td>\n",
       "      <td>stop</td>\n",
       "      <td>stop</td>\n",
       "      <td>stop</td>\n",
       "      <td>stop</td>\n",
       "      <td>stop</td>\n",
       "      <td>...</td>\n",
       "      <td>226</td>\n",
       "      <td>208</td>\n",
       "      <td>223</td>\n",
       "      <td>0</td>\n",
       "      <td>0</td>\n",
       "      <td>0</td>\n",
       "      <td>0</td>\n",
       "      <td>0</td>\n",
       "      <td>0</td>\n",
       "      <td>6</td>\n",
       "    </tr>\n",
       "  </tbody>\n",
       "</table>\n",
       "<p>5 rows × 48 columns</p>\n",
       "</div>"
      ],
      "text/plain": [
       "               level     subject  has_asy_problem  has_asy_solution  mcq_only  \\\n",
       "uid                                                                             \n",
       "1950/AHSME/1       2  prealgebra            False             False     False   \n",
       "1950/AHSME/10      2  prealgebra            False             False     False   \n",
       "1950/AHSME/11      2  prealgebra            False             False      True   \n",
       "1950/AHSME/12      2    geometry            False             False      True   \n",
       "1950/AHSME/13      2     algebra            False             False     False   \n",
       "\n",
       "              reason_original reason_shuffle_1 reason_shuffle_2  \\\n",
       "uid                                                               \n",
       "1950/AHSME/1             stop             stop             stop   \n",
       "1950/AHSME/10            stop             stop             stop   \n",
       "1950/AHSME/11            stop             stop             stop   \n",
       "1950/AHSME/12            stop             stop             stop   \n",
       "1950/AHSME/13            stop             stop             stop   \n",
       "\n",
       "              reason_shuffle_3 reason_shuffle_4  ... output_tokens_shuffle_3  \\\n",
       "uid                                              ...                           \n",
       "1950/AHSME/1              stop             stop  ...                     148   \n",
       "1950/AHSME/10             stop             stop  ...                     240   \n",
       "1950/AHSME/11             stop             stop  ...                     228   \n",
       "1950/AHSME/12             stop             stop  ...                     176   \n",
       "1950/AHSME/13             stop             stop  ...                     226   \n",
       "\n",
       "               output_tokens_shuffle_4  output_tokens_shuffle_5  \\\n",
       "uid                                                               \n",
       "1950/AHSME/1                       148                      143   \n",
       "1950/AHSME/10                      257                      317   \n",
       "1950/AHSME/11                      206                      215   \n",
       "1950/AHSME/12                      175                      185   \n",
       "1950/AHSME/13                      208                      223   \n",
       "\n",
       "               reasoning_tokens_original  reasoning_tokens_shuffle_1  \\\n",
       "uid                                                                    \n",
       "1950/AHSME/1                           0                           0   \n",
       "1950/AHSME/10                          0                           0   \n",
       "1950/AHSME/11                          0                           0   \n",
       "1950/AHSME/12                          0                           0   \n",
       "1950/AHSME/13                          0                           0   \n",
       "\n",
       "               reasoning_tokens_shuffle_2  reasoning_tokens_shuffle_3  \\\n",
       "uid                                                                     \n",
       "1950/AHSME/1                            0                           0   \n",
       "1950/AHSME/10                           0                           0   \n",
       "1950/AHSME/11                           0                           0   \n",
       "1950/AHSME/12                           0                           0   \n",
       "1950/AHSME/13                           0                           0   \n",
       "\n",
       "              reasoning_tokens_shuffle_4 reasoning_tokens_shuffle_5  \\\n",
       "uid                                                                   \n",
       "1950/AHSME/1                           0                          0   \n",
       "1950/AHSME/10                          0                          0   \n",
       "1950/AHSME/11                          0                          0   \n",
       "1950/AHSME/12                          0                          0   \n",
       "1950/AHSME/13                          0                          0   \n",
       "\n",
       "              num_correct  \n",
       "uid                        \n",
       "1950/AHSME/1            6  \n",
       "1950/AHSME/10           3  \n",
       "1950/AHSME/11           6  \n",
       "1950/AHSME/12           6  \n",
       "1950/AHSME/13           6  \n",
       "\n",
       "[5 rows x 48 columns]"
      ]
     },
     "execution_count": 37,
     "metadata": {},
     "output_type": "execute_result"
    }
   ],
   "source": [
    "df.head()"
   ]
  },
  {
   "cell_type": "code",
   "execution_count": 40,
   "id": "1e54d3ba-0624-4050-a776-86fe9c043557",
   "metadata": {},
   "outputs": [],
   "source": [
    "df_all = pd.merge(\n",
    "    shortans_res.set_index([\"level\", \"subject\", \"has_asy_problem\", \"has_asy_solution\"], append=True),\n",
    "    df.set_index([\"level\", \"subject\", \"has_asy_problem\", \"has_asy_solution\"], append=True),\n",
    "    left_index=True,\n",
    "    right_index=True,\n",
    "    how=\"inner\"\n",
    ").reset_index().set_index(\"uid\")"
   ]
  },
  {
   "cell_type": "code",
   "execution_count": 41,
   "id": "3c0d7bec-9098-4fdb-9db0-37c4bfca93ce",
   "metadata": {},
   "outputs": [
    {
     "data": {
      "text/plain": [
       "3797"
      ]
     },
     "execution_count": 41,
     "metadata": {},
     "output_type": "execute_result"
    }
   ],
   "source": [
    "len(df_all)"
   ]
  },
  {
   "cell_type": "code",
   "execution_count": 42,
   "id": "550c5167-7204-456b-8da4-7c31386f123b",
   "metadata": {},
   "outputs": [
    {
     "data": {
      "text/plain": [
       "reason     reason_original  reason_shuffle_1  reason_shuffle_2\n",
       "stop       stop             stop              stop                3721\n",
       "                            length            stop                  24\n",
       "                            stop              length                24\n",
       "           length           stop              stop                  12\n",
       "           stop             length            length                 3\n",
       "                            stop              copyright              3\n",
       "length     stop             stop              stop                   3\n",
       "stop       stop             copyright         stop                   2\n",
       "           length           stop              length                 2\n",
       "           copyright        copyright         copyright              1\n",
       "copyright  stop             stop              stop                   1\n",
       "length     stop             length            stop                   1\n",
       "Name: count, dtype: int64"
      ]
     },
     "execution_count": 42,
     "metadata": {},
     "output_type": "execute_result"
    }
   ],
   "source": [
    "df_all[[\"reason\", \"reason_original\", \"reason_shuffle_1\", \"reason_shuffle_2\"]].value_counts()"
   ]
  },
  {
   "cell_type": "code",
   "execution_count": 43,
   "id": "c72035d6-9800-4886-a115-1f32764b2509",
   "metadata": {},
   "outputs": [
    {
     "data": {
      "text/plain": [
       "is_correct  is_correct_original  is_correct_shuffle_1  is_correct_shuffle_2\n",
       "True        True                 True                  True                    0.571240\n",
       "False       True                 True                  True                    0.132736\n",
       "            False                False                 False                   0.088491\n",
       "                                                       True                    0.025020\n",
       "            True                 True                  False                   0.024230\n",
       "            False                True                  False                   0.022386\n",
       "            True                 False                 True                    0.022123\n",
       "            False                True                  True                    0.021333\n",
       "            True                 False                 False                   0.021333\n",
       "True        True                 False                 True                    0.013958\n",
       "                                 True                  False                   0.013695\n",
       "            False                True                  True                    0.011851\n",
       "                                 False                 False                   0.011325\n",
       "            True                 False                 False                   0.007901\n",
       "            False                False                 True                    0.007111\n",
       "                                 True                  False                   0.005267\n",
       "Name: count, dtype: float64"
      ]
     },
     "execution_count": 43,
     "metadata": {},
     "output_type": "execute_result"
    }
   ],
   "source": [
    "df_all[[\"is_correct\", \"is_correct_original\", \"is_correct_shuffle_1\", \"is_correct_shuffle_2\"]].value_counts() / len(df_all)"
   ]
  },
  {
   "cell_type": "code",
   "execution_count": 44,
   "id": "5fe2482f-0605-477e-8575-1f609fb89d48",
   "metadata": {},
   "outputs": [
    {
     "data": {
      "text/plain": [
       "is_correct_original  is_correct_shuffle_1  is_correct_shuffle_2\n",
       "True                 True                  True                    0.889299\n",
       "                     False                 True                    0.021730\n",
       "                     True                  False                   0.021320\n",
       "False                True                  True                    0.018450\n",
       "                     False                 False                   0.017630\n",
       "True                 False                 False                   0.012300\n",
       "False                False                 True                    0.011070\n",
       "                     True                  False                   0.008200\n",
       "Name: count, dtype: float64"
      ]
     },
     "execution_count": 44,
     "metadata": {},
     "output_type": "execute_result"
    }
   ],
   "source": [
    "df_all.query(\"is_correct\")[[\"is_correct_original\", \"is_correct_shuffle_1\", \"is_correct_shuffle_2\"]].value_counts() / len(df_all.query(\"is_correct\"))"
   ]
  },
  {
   "cell_type": "code",
   "execution_count": 45,
   "id": "4c223e3d-ad68-4c16-ba11-39e2d72d37e1",
   "metadata": {},
   "outputs": [
    {
     "data": {
      "text/plain": [
       "is_correct_original  is_correct_shuffle_1  is_correct_shuffle_2\n",
       "True                 True                  True                    0.371134\n",
       "False                False                 False                   0.247423\n",
       "                                           True                    0.069956\n",
       "True                 True                  False                   0.067747\n",
       "False                True                  False                   0.062592\n",
       "True                 False                 True                    0.061856\n",
       "False                True                  True                    0.059647\n",
       "True                 False                 False                   0.059647\n",
       "Name: count, dtype: float64"
      ]
     },
     "execution_count": 45,
     "metadata": {},
     "output_type": "execute_result"
    }
   ],
   "source": [
    "df_all.query(\"~is_correct\")[[\"is_correct_original\", \"is_correct_shuffle_1\", \"is_correct_shuffle_2\"]].value_counts() / len(df_all.query(\"~is_correct\"))"
   ]
  },
  {
   "cell_type": "code",
   "execution_count": 46,
   "id": "48517e03-d932-40c8-abfc-373bb99f44a5",
   "metadata": {},
   "outputs": [
    {
     "data": {
      "text/plain": [
       "level                                     1\n",
       "subject                       number_theory\n",
       "has_asy_problem                       False\n",
       "has_asy_solution                      False\n",
       "mcq_only_x                            False\n",
       "reason                                 stop\n",
       "is_correct                             True\n",
       "answer                                  $2$\n",
       "predict                                   2\n",
       "input_tokens                            100\n",
       "output_tokens                           493\n",
       "reasoning_tokens                          0\n",
       "mcq_only_y                            False\n",
       "reason_original                        stop\n",
       "reason_shuffle_1                       stop\n",
       "reason_shuffle_2                       stop\n",
       "reason_shuffle_3                       stop\n",
       "reason_shuffle_4                       stop\n",
       "reason_shuffle_5                       stop\n",
       "is_correct_original                   False\n",
       "is_correct_shuffle_1                  False\n",
       "is_correct_shuffle_2                   True\n",
       "is_correct_shuffle_3                  False\n",
       "is_correct_shuffle_4                  False\n",
       "is_correct_shuffle_5                  False\n",
       "answer_original                           B\n",
       "answer_shuffle_1                          A\n",
       "answer_shuffle_2                          C\n",
       "answer_shuffle_3                          C\n",
       "answer_shuffle_4                          D\n",
       "answer_shuffle_5                          C\n",
       "predict_original                          c\n",
       "predict_shuffle_1                         c\n",
       "predict_shuffle_2                         c\n",
       "predict_shuffle_3                         e\n",
       "predict_shuffle_4                         b\n",
       "predict_shuffle_5                         a\n",
       "input_tokens_original                   143\n",
       "input_tokens_shuffle_1                  143\n",
       "input_tokens_shuffle_2                  143\n",
       "input_tokens_shuffle_3                  143\n",
       "input_tokens_shuffle_4                  143\n",
       "input_tokens_shuffle_5                  143\n",
       "output_tokens_original                  516\n",
       "output_tokens_shuffle_1                 511\n",
       "output_tokens_shuffle_2                 495\n",
       "output_tokens_shuffle_3                 310\n",
       "output_tokens_shuffle_4                 505\n",
       "output_tokens_shuffle_5                 605\n",
       "reasoning_tokens_original                 0\n",
       "reasoning_tokens_shuffle_1                0\n",
       "reasoning_tokens_shuffle_2                0\n",
       "reasoning_tokens_shuffle_3                0\n",
       "reasoning_tokens_shuffle_4                0\n",
       "reasoning_tokens_shuffle_5                0\n",
       "num_correct                               1\n",
       "Name: 2024/AMC_8/1, dtype: object"
      ]
     },
     "execution_count": 46,
     "metadata": {},
     "output_type": "execute_result"
    }
   ],
   "source": [
    "df_all.loc[\"2024/AMC_8/1\"]"
   ]
  },
  {
   "cell_type": "code",
   "execution_count": 48,
   "id": "3391a4c8-4333-45a3-a19d-c45311681aea",
   "metadata": {},
   "outputs": [
    {
     "name": "stdout",
     "output_type": "stream",
     "text": [
      "2022/AMC_10A/15\n",
      "geometry 2\n",
      "is_correct               True\n",
      "is_correct_original      True\n",
      "is_correct_shuffle_1    False\n",
      "is_correct_shuffle_2    False\n",
      "Name: 2022/AMC_10A/15, dtype: bool\n",
      "----------\n",
      "D\n",
      "$1565$\n",
      "{'A': '$260$', 'B': '$855$', 'C': '$1235$', 'D': '$1565$', 'E': '$1997$'}\n",
      "Problem:\n",
      "Quadrilateral $ABCD$ with side lengths $AB=7, BC=24, CD=20, DA=15$ is inscribed in a circle. The area interior to the circle but exterior to the quadrilateral can be written in the form $\\frac{a\\pi-b}{c},$ where $a,b,$ and $c$ are positive integers such that $a$ and $c$ have no common prime factor. What is $a+b+c?$\n"
     ]
    },
    {
     "data": {
      "text/markdown": [
       "Let the quadrilateral be $ABCD$. We are given $AB=7, BC=24, CD=20, DA=15$. Since the quadrilateral is inscribed in a circle, we can use Ptolemy's theorem, which states that the sum of the products of opposite sides is equal to the product of the diagonals. Let $AC = d_1$ and $BD = d_2$. Then\n",
       "$$AB \\cdot CD + BC \\cdot DA = AC \\cdot BD$$\n",
       "$$7 \\cdot 20 + 24 \\cdot 15 = d_1 \\cdot d_2$$\n",
       "$$140 + 360 = d_1 \\cdot d_2$$\n",
       "$$500 = d_1 \\cdot d_2$$\n",
       "\n",
       "Also, by Brahmagupta's formula, the area of a cyclic quadrilateral with sides $a, b, c, d$ and semi-perimeter $s = \\frac{a+b+c+d}{2}$ is given by\n",
       "$$K = \\sqrt{(s-a)(s-b)(s-c)(s-d)}$$\n",
       "In our case, $a=7, b=24, c=20, d=15$.\n",
       "$$s = \\frac{7+24+20+15}{2} = \\frac{66}{2} = 33$$\n",
       "$$K = \\sqrt{(33-7)(33-24)(33-20)(33-15)} = \\sqrt{26 \\cdot 9 \\cdot 13 \\cdot 18} = \\sqrt{2 \\cdot 13 \\cdot 3^2 \\cdot 13 \\cdot 2 \\cdot 3^2} = \\sqrt{2^2 \\cdot 3^4 \\cdot 13^2} = 2 \\cdot 3^2 \\cdot 13 = 234$$\n",
       "\n",
       "The radius of the circumscribed circle is given by\n",
       "$$R = \\frac{\\sqrt{(ab+cd)(ac+bd)(ad+bc)}}{4K} = \\frac{\\sqrt{(7 \\cdot 20 + 24 \\cdot 15)(7 \\cdot 15 + 24 \\cdot 20)(7 \\cdot 24 + 15 \\cdot 20)}}{4 \\cdot 234} = \\frac{\\sqrt{(140+360)(105+480)(168+300)}}{936} = \\frac{\\sqrt{500 \\cdot 585 \\cdot 468}}{936} = \\frac{\\sqrt{2500 \\cdot 585 \\cdot 4 \\cdot 117}}{936} = \\frac{50 \\cdot \\sqrt{585 \\cdot 468}}{936} = \\frac{50 \\cdot \\sqrt{273780}}{936} = \\frac{50 \\cdot 523.2418}{936} = \\frac{26162.09}{936} \\approx 27.95$$\n",
       "Since $500 = d_1 d_2$, if $d_1 = 20$ and $d_2 = 25$, then $R = \\frac{25}{2} = 12.5$.\n",
       "Area of the circle is $\\pi R^2 = \\pi (12.5)^2 = 156.25\\pi$.\n",
       "Area of the quadrilateral is 234.\n",
       "The area of the region is $156.25\\pi - 234 = \\frac{625\\pi - 936}{4}$.\n",
       "$a=625, b=936, c=4$. $a+b+c = 625+936+4 = 1565$.\n",
       "\n",
       "Final Answer: The final answer is $1565$. "
      ],
      "text/plain": [
       "<IPython.core.display.Markdown object>"
      ]
     },
     "metadata": {},
     "output_type": "display_data"
    },
    {
     "name": "stdout",
     "output_type": "stream",
     "text": [
      "----------\n"
     ]
    },
    {
     "data": {
      "text/markdown": [
       "Let $ABCD$ be a cyclic quadrilateral with $AB=7, BC=24, CD=20, DA=15$.\n",
       "By Ptolemy's Theorem, the product of the diagonals is equal to the sum of the products of opposite sides.\n",
       "$AC \\cdot BD = AB \\cdot CD + BC \\cdot DA$\n",
       "$AC \\cdot BD = 7 \\cdot 20 + 24 \\cdot 15 = 140 + 360 = 500$\n",
       "\n",
       "By Brahmagupta's formula, the area of a cyclic quadrilateral with sides $a, b, c, d$ and semi-perimeter $s = \\frac{a+b+c+d}{2}$ is given by\n",
       "$K = \\sqrt{(s-a)(s-b)(s-c)(s-d)}$\n",
       "In our case, $a=7, b=24, c=20, d=15$.\n",
       "$s = \\frac{7+24+20+15}{2} = \\frac{66}{2} = 33$\n",
       "$K = \\sqrt{(33-7)(33-24)(33-20)(33-15)} = \\sqrt{26 \\cdot 9 \\cdot 13 \\cdot 18} = \\sqrt{2 \\cdot 13 \\cdot 3^2 \\cdot 13 \\cdot 2 \\cdot 3^2} = \\sqrt{2^2 \\cdot 3^4 \\cdot 13^2} = 2 \\cdot 3^2 \\cdot 13 = 234$\n",
       "\n",
       "Let $R$ be the radius of the circumscribed circle. The area of the quadrilateral is given by\n",
       "$K = \\frac{1}{2} (ab+cd) \\sin \\theta = \\frac{1}{2} (ad+bc) \\sin \\phi$\n",
       "$K = \\frac{1}{2} (7 \\cdot 24 + 20 \\cdot 15) \\sin \\theta = \\frac{1}{2} (7 \\cdot 15 + 24 \\cdot 20) \\sin \\phi$\n",
       "$234 = \\frac{1}{2} (168+300) \\sin \\theta = \\frac{1}{2} (105+480) \\sin \\phi$\n",
       "$468 = 468 \\sin \\theta = 585 \\sin \\phi$\n",
       "$\\sin \\theta = 1$, so $\\theta = 90^\\circ$.\n",
       "$ABCD$ is a cyclic quadrilateral, so opposite angles are supplementary.\n",
       "Since $\\angle B = 90^\\circ$, $\\angle D = 90^\\circ$.\n",
       "$AC^2 = 7^2 + 24^2 = 49 + 576 = 625 = 25^2$, so $AC = 25$.\n",
       "$BD^2 = 15^2 + 20^2 = 225 + 400 = 625 = 25^2$, so $BD = 25$.\n",
       "$AC = BD = 25$, so $AC \\cdot BD = 25 \\cdot 25 = 625$.\n",
       "$2R = 25$, so $R = \\frac{25}{2}$.\n",
       "Area of circle $= \\pi R^2 = \\pi (\\frac{25}{2})^2 = \\frac{625\\pi}{4}$.\n",
       "Area of quadrilateral $= 234$.\n",
       "Area of region $= \\frac{625\\pi}{4} - 234 = \\frac{625\\pi - 936}{4}$.\n",
       "$a=625, b=936, c=4$.\n",
       "$a+b+c = 625+936+4 = 1565$.\n",
       "\n",
       "Final Answer: The final answer is D. "
      ],
      "text/plain": [
       "<IPython.core.display.Markdown object>"
      ]
     },
     "metadata": {},
     "output_type": "display_data"
    },
    {
     "name": "stdout",
     "output_type": "stream",
     "text": [
      "----------\n",
      "E\n",
      "$1565$\n",
      "{'A': '$855$', 'B': '$1235$', 'C': '$260$', 'D': '$1997$', 'E': '$1565$'}\n"
     ]
    },
    {
     "data": {
      "text/markdown": [
       "Let $ABCD$ be a cyclic quadrilateral with $AB=7, BC=24, CD=20, DA=15$.\n",
       "Let $s$ be the semiperimeter of $ABCD$.\n",
       "$s = \\frac{7+24+20+15}{2} = \\frac{66}{2} = 33$.\n",
       "By Brahmagupta's formula, the area of the quadrilateral is\n",
       "$K = \\sqrt{(s-a)(s-b)(s-c)(s-d)} = \\sqrt{(33-7)(33-24)(33-20)(33-15)} = \\sqrt{26 \\cdot 9 \\cdot 13 \\cdot 18} = \\sqrt{2 \\cdot 13 \\cdot 3^2 \\cdot 13 \\cdot 2 \\cdot 3^2} = 2 \\cdot 3^2 \\cdot 13 = 18 \\cdot 13 = 234$.\n",
       "\n",
       "Let $R$ be the radius of the circumscribed circle.\n",
       "By Parameshvara's formula,\n",
       "$R = \\frac{1}{4K} \\sqrt{(ab+cd)(ac+bd)(ad+bc)} = \\frac{1}{4(234)} \\sqrt{(7 \\cdot 24+20 \\cdot 15)(7 \\cdot 20+24 \\cdot 15)(7 \\cdot 15+24 \\cdot 20)} = \\frac{1}{936} \\sqrt{(168+300)(140+360)(105+480)} = \\frac{1}{936} \\sqrt{468 \\cdot 500 \\cdot 585} = \\frac{1}{936} \\sqrt{2 \\cdot 2 \\cdot 3 \\cdot 3 \\cdot 13 \\cdot 2 \\cdot 2 \\cdot 5 \\cdot 5 \\cdot 5 \\cdot 3 \\cdot 3 \\cdot 13} = \\frac{1}{936} (2 \\cdot 2 \\cdot 3 \\cdot 3 \\cdot 5 \\cdot 13) = \\frac{2340}{936} = \\frac{65}{4} = 16.25$.\n",
       "$R = \\frac{65}{4}$.\n",
       "The area of the circle is $\\pi R^2 = \\pi (\\frac{65}{4})^2 = \\frac{4225\\pi}{16}$.\n",
       "The area of the region interior to the circle but exterior to the quadrilateral is $\\frac{4225\\pi}{16} - 234 = \\frac{4225\\pi - 3744}{16}$.\n",
       "$a=4225, b=3744, c=16$.\n",
       "$a+b+c = 4225+3744+16 = 7985$.\n",
       "$a$ and $c$ have a common factor of 1.\n",
       "$a+b+c = 4225+3744+16 = 7985$.\n",
       "\n",
       "Final Answer: The final answer is D. "
      ],
      "text/plain": [
       "<IPython.core.display.Markdown object>"
      ]
     },
     "metadata": {},
     "output_type": "display_data"
    }
   ],
   "source": [
    "rand_uid = np.random.choice(\n",
    "    df_all\n",
    "    .query(\"reason == 'stop' and reason_original == 'stop' and reason_shuffle_1 == 'stop' and reason_shuffle_2 == 'stop'\")\n",
    "    .query(\"is_correct and (not is_correct_original or not is_correct_shuffle_1 or not is_correct_shuffle_2)\")\n",
    "    .index\n",
    ")\n",
    "\n",
    "# had the right answer, but picked the wrong answer choice\n",
    "# rand_uid = \"1996/AHSME/15\"\n",
    "\n",
    "# rand_uid = \"2012/AMC_10A/4\"\n",
    "\n",
    "print(rand_uid)\n",
    "print(dataset_map[rand_uid][\"subject\"], dataset_map[rand_uid][\"level\"])\n",
    "print(df_all[[\"is_correct\", \"is_correct_original\", \"is_correct_shuffle_1\", \"is_correct_shuffle_2\"]].loc[rand_uid])\n",
    "print(\"----------\")\n",
    "print(dataset_map[rand_uid][\"answer_choice\"])\n",
    "print(dataset_map[rand_uid][\"answer\"])\n",
    "print(dataset_map[rand_uid][\"choices\"])\n",
    "print(response_shortans_map[rand_uid][\"prompt\"][-2][\"parts\"][0][\"text\"])\n",
    "display(Markdown(response_shortans_map[rand_uid][\"response\"].completions[0].completion))\n",
    "print(\"----------\")\n",
    "display(Markdown(response_newlineparen_map[rand_uid][\"response\"].completions[0].completion))\n",
    "print(\"----------\")\n",
    "print(datasets_map[0][rand_uid][\"answer_choice\"])\n",
    "print(datasets_map[0][rand_uid][\"answer\"])\n",
    "print(datasets_map[0][rand_uid][\"choices\"])\n",
    "display(Markdown(response_map[0][rand_uid][\"response\"].completions[0].completion))"
   ]
  },
  {
   "cell_type": "code",
   "execution_count": null,
   "id": "fd7398da-50f3-4b99-b92c-ba9110cc6070",
   "metadata": {},
   "outputs": [],
   "source": []
  }
 ],
 "metadata": {
  "kernelspec": {
   "display_name": "Python 3 (ipykernel)",
   "language": "python",
   "name": "python3"
  },
  "language_info": {
   "codemirror_mode": {
    "name": "ipython",
    "version": 3
   },
   "file_extension": ".py",
   "mimetype": "text/x-python",
   "name": "python",
   "nbconvert_exporter": "python",
   "pygments_lexer": "ipython3",
   "version": "3.12.8"
  }
 },
 "nbformat": 4,
 "nbformat_minor": 5
}
