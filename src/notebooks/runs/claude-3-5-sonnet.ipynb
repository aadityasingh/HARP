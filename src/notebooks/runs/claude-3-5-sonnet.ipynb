{
 "cells": [
  {
   "cell_type": "code",
   "execution_count": 1,
   "id": "95dd0723-3d07-4c5c-87da-6b8fa0541aa8",
   "metadata": {},
   "outputs": [],
   "source": [
    "import sys\n",
    "from pathlib import Path\n",
    "\n",
    "BASEDIR = Path(\"/workspaces/HARP/\") / \"src\"  # Replace with your own basedir path for the repo\n",
    "\n",
    "sys.path.insert(0, str(BASEDIR))"
   ]
  },
  {
   "cell_type": "code",
   "execution_count": 2,
   "id": "32ce181e-4e2a-4dc9-8e9a-bd844480b2ba",
   "metadata": {},
   "outputs": [],
   "source": [
    "from __future__ import annotations\n",
    "\n",
    "import copy\n",
    "import itertools\n",
    "import json\n",
    "import math\n",
    "import os\n",
    "import pickle\n",
    "import pprint\n",
    "import re\n",
    "import textwrap\n",
    "import time\n",
    "import traceback\n",
    "from collections import Counter, defaultdict\n",
    "from typing import Any\n",
    "\n",
    "import matplotlib.pyplot as plt\n",
    "import numpy as np\n",
    "import pandas as pd\n",
    "from IPython.display import Markdown, clear_output, display\n",
    "from tqdm.auto import tqdm\n",
    "\n",
    "import anthropic"
   ]
  },
  {
   "cell_type": "code",
   "execution_count": 3,
   "id": "bc892803-edae-4a6c-91dd-4ad3ce075c9c",
   "metadata": {},
   "outputs": [],
   "source": [
    "from eval.eval import create_batch\n",
    "from eval.prompts import *\n",
    "from eval.utils import read_jsonl, write_jsonl, get_uid"
   ]
  },
  {
   "cell_type": "markdown",
   "id": "90f7f3c4-730a-45ec-8ced-7b88854cea08",
   "metadata": {},
   "source": [
    "# Data"
   ]
  },
  {
   "cell_type": "code",
   "execution_count": 4,
   "id": "b6a79418-1f13-40ea-a886-6fe54f54507c",
   "metadata": {},
   "outputs": [
    {
     "data": {
      "text/plain": [
       "4780"
      ]
     },
     "execution_count": 4,
     "metadata": {},
     "output_type": "execute_result"
    }
   ],
   "source": [
    "dataset = read_jsonl(BASEDIR / \"data/processed/HARP.jsonl\")\n",
    "dataset_map = {get_uid(p): p for p in dataset}\n",
    "len(dataset)"
   ]
  },
  {
   "cell_type": "markdown",
   "id": "532bd49a-7e93-4fc8-b508-3edae5528815",
   "metadata": {},
   "source": [
    "# Run eval"
   ]
  },
  {
   "cell_type": "code",
   "execution_count": 5,
   "id": "2a4a7847-7bd4-41d5-b73b-c3ec92f14d20",
   "metadata": {},
   "outputs": [],
   "source": [
    "client = anthropic.Anthropic()"
   ]
  },
  {
   "cell_type": "markdown",
   "id": "3e28ac58-4efa-43ed-a7a9-2a3d317e5537",
   "metadata": {},
   "source": [
    "## Create batch"
   ]
  },
  {
   "cell_type": "code",
   "execution_count": 6,
   "id": "9207fe8d-48cb-42ea-a3df-27ad3622f1b7",
   "metadata": {},
   "outputs": [],
   "source": [
    "batch = create_batch(\n",
    "    dataset,\n",
    "    api=\"anthropic\",\n",
    "    model=\"claude-3-5-sonnet-20241022\",\n",
    "    fewshot_messages=[],\n",
    "    system_prompt=custom_claude_sysprompt,\n",
    "    max_tokens=2048,\n",
    "    temperature=0,\n",
    "    stop_sequences=[\"I hope it is correct.\"],\n",
    "    # just to remove irrelevant params\n",
    "    top_p=None,\n",
    ")\n",
    "write_jsonl(batch, BASEDIR / \"inputs/short_answer/claude-3-5-sonnet-20241022/batch.jsonl\")"
   ]
  },
  {
   "cell_type": "markdown",
   "id": "62ac22d5-622e-43c0-ac87-9b76eac4f2b4",
   "metadata": {},
   "source": [
    "## Run batch"
   ]
  },
  {
   "cell_type": "code",
   "execution_count": 30,
   "id": "0940af1c-a145-4b35-8167-8a4b7e14c593",
   "metadata": {},
   "outputs": [
    {
     "name": "stdout",
     "output_type": "stream",
     "text": [
      "BetaMessageBatch(id='msgbatch_01PX3X1QRaJdP94MujZg2pVb', cancel_initiated_at=None, created_at=datetime.datetime(2024, 11, 2, 5, 51, 0, 604839, tzinfo=datetime.timezone.utc), ended_at=None, expires_at=datetime.datetime(2024, 11, 3, 5, 51, 0, 604839, tzinfo=datetime.timezone.utc), processing_status='in_progress', request_counts=BetaMessageBatchRequestCounts(canceled=0, errored=0, expired=0, processing=4797, succeeded=0), results_url=None, type='message_batch', archived_at=None)\n"
     ]
    }
   ],
   "source": [
    "message_batch = client.beta.messages.batches.create(requests=batch)\n",
    "print(message_batch)"
   ]
  },
  {
   "cell_type": "code",
   "execution_count": null,
   "id": "d2c02466-6193-48be-8724-cf812d4f083f",
   "metadata": {},
   "outputs": [],
   "source": [
    "BATCH_NAME = \"msgbatch_01PX3X1QRaJdP94MujZg2pVb\"  # Replace with your own"
   ]
  },
  {
   "cell_type": "markdown",
   "id": "24d29b20-3d43-4c76-af1e-66d60e975b8e",
   "metadata": {},
   "source": [
    "## Check"
   ]
  },
  {
   "cell_type": "code",
   "execution_count": 13,
   "id": "240c09e9-cd20-49c3-b334-ad93976d8366",
   "metadata": {},
   "outputs": [
    {
     "name": "stdout",
     "output_type": "stream",
     "text": [
      "Batch msgbatch_01PX3X1QRaJdP94MujZg2pVb processing status is ended\n"
     ]
    }
   ],
   "source": [
    "message_batch = client.beta.messages.batches.retrieve(BATCH_NAME)\n",
    "print(f\"Batch {message_batch.id} processing status is {message_batch.processing_status}\")"
   ]
  },
  {
   "cell_type": "code",
   "execution_count": 14,
   "id": "0bc8ede1-cd7d-46e2-bed3-23ebef6aa797",
   "metadata": {},
   "outputs": [
    {
     "data": {
      "text/plain": [
       "BetaMessageBatch(id='msgbatch_01PX3X1QRaJdP94MujZg2pVb', cancel_initiated_at=None, created_at=datetime.datetime(2024, 11, 2, 5, 51, 0, 604839, tzinfo=datetime.timezone.utc), ended_at=datetime.datetime(2024, 11, 2, 5, 52, 39, 664488, tzinfo=TzInfo(UTC)), expires_at=datetime.datetime(2024, 11, 3, 5, 51, 0, 604839, tzinfo=datetime.timezone.utc), processing_status='ended', request_counts=BetaMessageBatchRequestCounts(canceled=0, errored=0, expired=0, processing=0, succeeded=4797), results_url='https://api.anthropic.com/v1/messages/batches/msgbatch_01PX3X1QRaJdP94MujZg2pVb/results', type='message_batch', archived_at=None)"
      ]
     },
     "execution_count": 14,
     "metadata": {},
     "output_type": "execute_result"
    }
   ],
   "source": [
    "message_batch"
   ]
  },
  {
   "cell_type": "markdown",
   "id": "8573b0d3-f193-4383-b604-d834cfcdaede",
   "metadata": {},
   "source": [
    "## Get and save results"
   ]
  },
  {
   "cell_type": "code",
   "execution_count": 15,
   "id": "0ef9e5bc-8f87-4b81-9b06-626b215bf59d",
   "metadata": {},
   "outputs": [],
   "source": [
    "for result in client.beta.messages.batches.results(BATCH_NAME):\n",
    "    match result.result.type:\n",
    "        case \"succeeded\":\n",
    "            pass\n",
    "            # print(f\"Success! {result.custom_id}\")\n",
    "            # print(result)\n",
    "        case \"errored\":\n",
    "            if result.result.error.type == \"invalid_request\":\n",
    "                # Request body must be fixed before re-sending request\n",
    "                print(f\"Validation error {result.custom_id}\")\n",
    "            else:\n",
    "                # Request can be retried directly\n",
    "                print(f\"Server error {result.custom_id}\")\n",
    "        case \"expired\":\n",
    "            print(f\"Request expired {result.custom_id}\")"
   ]
  },
  {
   "cell_type": "code",
   "execution_count": 17,
   "id": "4ca0c81b-3cff-4820-a827-5da4ed423a7f",
   "metadata": {},
   "outputs": [],
   "source": [
    "results = []\n",
    "for result in client.beta.messages.batches.results(BATCH_NAME):\n",
    "    results.append(result.to_dict())\n",
    "write_jsonl(results, BASEDIR / \"outputs/short_answer/claude-3-5-sonnet-20241022/outputs.jsonl\")"
   ]
  }
 ],
 "metadata": {
  "kernelspec": {
   "display_name": "Python 3 (ipykernel)",
   "language": "python",
   "name": "python3"
  },
  "language_info": {
   "codemirror_mode": {
    "name": "ipython",
    "version": 3
   },
   "file_extension": ".py",
   "mimetype": "text/x-python",
   "name": "python",
   "nbconvert_exporter": "python",
   "pygments_lexer": "ipython3",
   "version": "3.12.7"
  }
 },
 "nbformat": 4,
 "nbformat_minor": 5
}
