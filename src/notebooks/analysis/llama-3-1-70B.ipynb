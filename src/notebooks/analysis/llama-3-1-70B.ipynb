{
 "cells": [
  {
   "cell_type": "code",
   "execution_count": 1,
   "id": "2f3aa12e-2345-47c6-9bad-0766be427c57",
   "metadata": {},
   "outputs": [],
   "source": [
    "import sys\n",
    "from pathlib import Path\n",
    "\n",
    "BASEDIR = Path(\"/workspaces/HARP/\") / \"src\"  # Replace with your own basedir path for the repo\n",
    "\n",
    "sys.path.insert(0, str(BASEDIR))"
   ]
  },
  {
   "cell_type": "code",
   "execution_count": 2,
   "id": "bb84cf27-91e9-4213-a970-4dd7a75d7ea8",
   "metadata": {},
   "outputs": [],
   "source": [
    "from __future__ import annotations\n",
    "\n",
    "import copy\n",
    "import itertools\n",
    "import json\n",
    "import math\n",
    "import os\n",
    "import pickle\n",
    "import pprint\n",
    "import re\n",
    "import textwrap\n",
    "import time\n",
    "import traceback\n",
    "from collections import Counter, defaultdict\n",
    "from typing import Any\n",
    "\n",
    "import matplotlib.pyplot as plt\n",
    "import numpy as np\n",
    "import pandas as pd\n",
    "import tiktoken\n",
    "from IPython.display import Markdown, clear_output, display\n",
    "from tqdm.auto import tqdm"
   ]
  },
  {
   "cell_type": "code",
   "execution_count": 3,
   "id": "b31f25d9-af04-44e8-b647-fd4b21b34815",
   "metadata": {},
   "outputs": [],
   "source": [
    "from eval.costs import count_tokens, get_pricing\n",
    "from eval.eval import run_one, create_batch, make_answer_check_dict_from_jsonl, make_results_df, accuracy_by_split\n",
    "from eval.parsing_lib import *\n",
    "from eval.latex_answer_check import *\n",
    "from eval.response import ModelResponse\n",
    "from eval.utils import read_jsonl, write_jsonl, get_uid"
   ]
  },
  {
   "cell_type": "markdown",
   "id": "c25592b3-3d05-4381-acbc-3d478f7206f1",
   "metadata": {},
   "source": [
    "# Data"
   ]
  },
  {
   "cell_type": "code",
   "execution_count": 4,
   "id": "3467feeb-ffe3-49ce-b59e-1e8bbffb533f",
   "metadata": {},
   "outputs": [
    {
     "data": {
      "text/plain": [
       "4780"
      ]
     },
     "execution_count": 4,
     "metadata": {},
     "output_type": "execute_result"
    }
   ],
   "source": [
    "dataset = read_jsonl(BASEDIR / \"data/processed/HARP.jsonl\")\n",
    "dataset_map = {get_uid(p): p for p in dataset}\n",
    "len(dataset)"
   ]
  },
  {
   "cell_type": "markdown",
   "id": "a557df7a-2f9c-403c-a1fa-256db871629e",
   "metadata": {},
   "source": [
    "# Results\n",
    "\n",
    "```\n",
    "python run_eval.py --model meta-llama/Meta-Llama-3.1-70B-Instruct-Turbo --api together --out outputs.jsonl --temperature 0 --max-tokens 2048\n",
    "```"
   ]
  },
  {
   "cell_type": "code",
   "execution_count": 5,
   "id": "7197cc9a-a819-4336-a745-b0c118888b9f",
   "metadata": {},
   "outputs": [
    {
     "data": {
      "application/vnd.jupyter.widget-view+json": {
       "model_id": "610711801ed34013ac44855eaca2975a",
       "version_major": 2,
       "version_minor": 0
      },
      "text/plain": [
       "  0%|          | 0/4780 [00:00<?, ?it/s]"
      ]
     },
     "metadata": {},
     "output_type": "display_data"
    },
    {
     "data": {
      "text/plain": [
       "0.4330543933054393"
      ]
     },
     "execution_count": 5,
     "metadata": {},
     "output_type": "execute_result"
    }
   ],
   "source": [
    "fname = BASEDIR / \"outputs/short_answer/Meta-Llama-3.1-70B-Instruct-Turbo/outputs.jsonl\"\n",
    "\n",
    "responses = read_jsonl(fname)\n",
    "responses = [\n",
    "    {\n",
    "        \"uid\": x[\"uid\"],\n",
    "        \"system\": x[\"system\"],\n",
    "        \"prompt\": x[\"prompt\"],\n",
    "        \"response\": ModelResponse.from_response(x[\"response\"], \"together\")\n",
    "    }\n",
    "    for x in responses\n",
    "    if x[\"uid\"] in dataset_map\n",
    "]\n",
    "response_map = {o[\"uid\"]: o for o in responses}\n",
    "\n",
    "answer_check_dicts = make_answer_check_dict_from_jsonl(responses, dataset_map)\n",
    "answer_check_results = latex_answer_check(answer_check_dicts, use_tqdm=True)\n",
    "results_metadata = make_results_df(responses, answer_check_results, dataset_map, mode=\"shortans\")\n",
    "\n",
    "sum([x[\"is_correct\"] for x in answer_check_results]) / len(dataset)"
   ]
  },
  {
   "cell_type": "code",
   "execution_count": 7,
   "id": "c09c5ca2-e8f9-4ea2-bda5-915d778bcc73",
   "metadata": {},
   "outputs": [],
   "source": [
    "os.makedirs(BASEDIR / \"results/Meta-Llama-3.1-70B-Instruct-Turbo\", exist_ok=True)\n",
    "results_metadata.to_csv(BASEDIR / \"results/Meta-Llama-3.1-70B-Instruct-Turbo/results.csv\")"
   ]
  },
  {
   "cell_type": "code",
   "execution_count": 8,
   "id": "d6ffe5ad-4dc8-4f5d-85d0-c9c0f8e1e42f",
   "metadata": {},
   "outputs": [],
   "source": [
    "results_metadata = pd.read_csv(BASEDIR / \"results/Meta-Llama-3.1-70B-Instruct-Turbo/results.csv\").set_index(\"uid\")"
   ]
  },
  {
   "cell_type": "code",
   "execution_count": 9,
   "id": "07605ab8-8634-4f4c-989d-708279fdc7a1",
   "metadata": {},
   "outputs": [
    {
     "data": {
      "text/plain": [
       "reason\n",
       "stop      4104\n",
       "length     676\n",
       "Name: count, dtype: int64"
      ]
     },
     "execution_count": 9,
     "metadata": {},
     "output_type": "execute_result"
    }
   ],
   "source": [
    "results_metadata.value_counts(\"reason\")"
   ]
  },
  {
   "cell_type": "code",
   "execution_count": 10,
   "id": "00b90af8-a8a8-4522-91a3-92da3051d89b",
   "metadata": {},
   "outputs": [
    {
     "data": {
      "text/plain": [
       "0.1414225941422594"
      ]
     },
     "execution_count": 10,
     "metadata": {},
     "output_type": "execute_result"
    }
   ],
   "source": [
    "676 / len(dataset)"
   ]
  },
  {
   "cell_type": "markdown",
   "id": "271dabf0-150d-4e25-97a2-2f7b47ae3628",
   "metadata": {},
   "source": [
    "## Cost"
   ]
  },
  {
   "cell_type": "code",
   "execution_count": 11,
   "id": "f3372ca9-631f-4074-8b43-9f0f3b95b84a",
   "metadata": {},
   "outputs": [
    {
     "data": {
      "text/plain": [
       "3.8621105599999512"
      ]
     },
     "execution_count": 11,
     "metadata": {},
     "output_type": "execute_result"
    }
   ],
   "source": [
    "PRICES = get_pricing(\"meta-llama/Meta-Llama-3.1-70B-Instruct-Turbo\")\n",
    "\n",
    "total_cost = 0\n",
    "for row in results_metadata.itertuples():\n",
    "    total_cost += PRICES[\"input_tokens\"] * row.input_tokens\n",
    "    total_cost += PRICES[\"output_tokens\"] * row.output_tokens\n",
    "total_cost"
   ]
  },
  {
   "cell_type": "markdown",
   "id": "72f55477-b6b3-46bc-aa9c-efffe8eb0c7c",
   "metadata": {},
   "source": [
    "## Accuracy"
   ]
  },
  {
   "cell_type": "code",
   "execution_count": 12,
   "id": "713c0e8e-2fae-43b3-b8db-c6300cbb9f80",
   "metadata": {},
   "outputs": [
    {
     "data": {
      "text/html": [
       "<div>\n",
       "<style scoped>\n",
       "    .dataframe tbody tr th:only-of-type {\n",
       "        vertical-align: middle;\n",
       "    }\n",
       "\n",
       "    .dataframe tbody tr th {\n",
       "        vertical-align: top;\n",
       "    }\n",
       "\n",
       "    .dataframe thead th {\n",
       "        text-align: right;\n",
       "    }\n",
       "</style>\n",
       "<table border=\"1\" class=\"dataframe\">\n",
       "  <thead>\n",
       "    <tr style=\"text-align: right;\">\n",
       "      <th></th>\n",
       "      <th>count</th>\n",
       "      <th>accuracy</th>\n",
       "    </tr>\n",
       "    <tr>\n",
       "      <th>level</th>\n",
       "      <th></th>\n",
       "      <th></th>\n",
       "    </tr>\n",
       "  </thead>\n",
       "  <tbody>\n",
       "    <tr>\n",
       "      <th>1</th>\n",
       "      <td>799</td>\n",
       "      <td>64.956195</td>\n",
       "    </tr>\n",
       "    <tr>\n",
       "      <th>2</th>\n",
       "      <td>1505</td>\n",
       "      <td>51.428571</td>\n",
       "    </tr>\n",
       "    <tr>\n",
       "      <th>3</th>\n",
       "      <td>1363</td>\n",
       "      <td>35.509905</td>\n",
       "    </tr>\n",
       "    <tr>\n",
       "      <th>4</th>\n",
       "      <td>719</td>\n",
       "      <td>25.730181</td>\n",
       "    </tr>\n",
       "    <tr>\n",
       "      <th>5</th>\n",
       "      <td>197</td>\n",
       "      <td>26.903553</td>\n",
       "    </tr>\n",
       "    <tr>\n",
       "      <th>6</th>\n",
       "      <td>197</td>\n",
       "      <td>27.918782</td>\n",
       "    </tr>\n",
       "  </tbody>\n",
       "</table>\n",
       "</div>"
      ],
      "text/plain": [
       "       count   accuracy\n",
       "level                  \n",
       "1        799  64.956195\n",
       "2       1505  51.428571\n",
       "3       1363  35.509905\n",
       "4        719  25.730181\n",
       "5        197  26.903553\n",
       "6        197  27.918782"
      ]
     },
     "execution_count": 12,
     "metadata": {},
     "output_type": "execute_result"
    }
   ],
   "source": [
    "accuracy_by_split(results_metadata, \"level\")"
   ]
  },
  {
   "cell_type": "code",
   "execution_count": 13,
   "id": "d28023b2-e39a-4fd9-9098-048ccf4c1e21",
   "metadata": {},
   "outputs": [
    {
     "data": {
      "text/html": [
       "<div>\n",
       "<style scoped>\n",
       "    .dataframe tbody tr th:only-of-type {\n",
       "        vertical-align: middle;\n",
       "    }\n",
       "\n",
       "    .dataframe tbody tr th {\n",
       "        vertical-align: top;\n",
       "    }\n",
       "\n",
       "    .dataframe thead th {\n",
       "        text-align: right;\n",
       "    }\n",
       "</style>\n",
       "<table border=\"1\" class=\"dataframe\">\n",
       "  <thead>\n",
       "    <tr style=\"text-align: right;\">\n",
       "      <th></th>\n",
       "      <th>count</th>\n",
       "      <th>accuracy</th>\n",
       "    </tr>\n",
       "    <tr>\n",
       "      <th>subject</th>\n",
       "      <th></th>\n",
       "      <th></th>\n",
       "    </tr>\n",
       "  </thead>\n",
       "  <tbody>\n",
       "    <tr>\n",
       "      <th>algebra</th>\n",
       "      <td>970</td>\n",
       "      <td>48.247423</td>\n",
       "    </tr>\n",
       "    <tr>\n",
       "      <th>counting_and_probability</th>\n",
       "      <td>812</td>\n",
       "      <td>42.364532</td>\n",
       "    </tr>\n",
       "    <tr>\n",
       "      <th>geometry</th>\n",
       "      <td>1268</td>\n",
       "      <td>29.652997</td>\n",
       "    </tr>\n",
       "    <tr>\n",
       "      <th>number_theory</th>\n",
       "      <td>601</td>\n",
       "      <td>38.602329</td>\n",
       "    </tr>\n",
       "    <tr>\n",
       "      <th>prealgebra</th>\n",
       "      <td>889</td>\n",
       "      <td>65.129359</td>\n",
       "    </tr>\n",
       "    <tr>\n",
       "      <th>precalculus</th>\n",
       "      <td>240</td>\n",
       "      <td>29.583333</td>\n",
       "    </tr>\n",
       "  </tbody>\n",
       "</table>\n",
       "</div>"
      ],
      "text/plain": [
       "                          count   accuracy\n",
       "subject                                   \n",
       "algebra                     970  48.247423\n",
       "counting_and_probability    812  42.364532\n",
       "geometry                   1268  29.652997\n",
       "number_theory               601  38.602329\n",
       "prealgebra                  889  65.129359\n",
       "precalculus                 240  29.583333"
      ]
     },
     "execution_count": 13,
     "metadata": {},
     "output_type": "execute_result"
    }
   ],
   "source": [
    "accuracy_by_split(results_metadata, \"subject\")"
   ]
  },
  {
   "cell_type": "code",
   "execution_count": 14,
   "id": "91e07468-d5c4-4371-b1d4-a075cc70463b",
   "metadata": {},
   "outputs": [
    {
     "data": {
      "text/plain": [
       "is_correct\n",
       "False    25\n",
       "True      5\n",
       "Name: count, dtype: int64"
      ]
     },
     "execution_count": 14,
     "metadata": {},
     "output_type": "execute_result"
    }
   ],
   "source": [
    "results_metadata[results_metadata.index.str.startswith(\"2024/AIME\")].value_counts(\"is_correct\")"
   ]
  },
  {
   "cell_type": "markdown",
   "id": "fd54254c-a036-4506-b3ef-ba7ced9d21ed",
   "metadata": {},
   "source": [
    "## Output lengths"
   ]
  },
  {
   "cell_type": "code",
   "execution_count": 15,
   "id": "96d5bdfe-d1a5-4d36-9cd0-c15c1bfae01d",
   "metadata": {},
   "outputs": [
    {
     "data": {
      "text/plain": [
       "<Axes: title={'center': 'output_tokens'}, xlabel='level'>"
      ]
     },
     "execution_count": 15,
     "metadata": {},
     "output_type": "execute_result"
    },
    {
     "data": {
      "image/png": "[encoded data removed]",
      "text/plain": [
       "<Figure size 640x480 with 1 Axes>"
      ]
     },
     "metadata": {},
     "output_type": "display_data"
    }
   ],
   "source": [
    "results_metadata.boxplot(\"output_tokens\", \"level\")"
   ]
  },
  {
   "cell_type": "code",
   "execution_count": 16,
   "id": "87314814-5399-496d-b6b2-d01dc030a8d1",
   "metadata": {},
   "outputs": [
    {
     "data": {
      "text/plain": [
       "<Figure size 900x600 with 0 Axes>"
      ]
     },
     "metadata": {},
     "output_type": "display_data"
    },
    {
     "data": {
      "image/png": "[encoded data removed]",
      "text/plain": [
       "<Figure size 640x480 with 1 Axes>"
      ]
     },
     "metadata": {},
     "output_type": "display_data"
    }
   ],
   "source": [
    "plt.figure(figsize=(9,6))\n",
    "results_metadata.boxplot(\"output_tokens\", \"subject\")\n",
    "plt.xticks(rotation=30)\n",
    "plt.show()"
   ]
  },
  {
   "cell_type": "markdown",
   "id": "0207d557-7b74-4028-9a7f-da734d288f67",
   "metadata": {},
   "source": [
    "## Look at responses"
   ]
  },
  {
   "cell_type": "code",
   "execution_count": 25,
   "id": "1e9b716f-6e59-478b-8e74-0b681e57ee4f",
   "metadata": {},
   "outputs": [],
   "source": [
    "answer_check_results_map = {\n",
    "    answer_check_dicts[i][\"uid\"]:\n",
    "    {\n",
    "        \"uid\": answer_check_dicts[i][\"uid\"],\n",
    "        \"url\": dataset_map[answer_check_dicts[i][\"uid\"]][\"url\"],\n",
    "        \"level\": dataset_map[answer_check_dicts[i][\"uid\"]][\"level\"],\n",
    "        \"subject\": dataset_map[answer_check_dicts[i][\"uid\"]][\"subject\"],\n",
    "        \"problem\": answer_check_dicts[i][\"problem\"],\n",
    "        **x\n",
    "    } \n",
    "    for i, x in enumerate(answer_check_results) \n",
    "    # if not x[\"is_correct\"] and responses[i][\"response\"].completions[0].finish_reason == \"stop\"\n",
    "}"
   ]
  },
  {
   "cell_type": "code",
   "execution_count": 44,
   "id": "34fea62d-c2ea-4c37-9537-c967f068ce04",
   "metadata": {
    "collapsed": true,
    "jupyter": {
     "outputs_hidden": true
    }
   },
   "outputs": [
    {
     "name": "stdout",
     "output_type": "stream",
     "text": [
      "2010/AIME_I/9\n",
      "Solve the following math problem efficiently and clearly:\n",
      "\n",
      "- For simple problems (2 steps or fewer):\n",
      "Provide a concise solution with minimal explanation.\n",
      "\n",
      "- For complex problems (3 steps or more):\n",
      "Use this step-by-step format:\n",
      "\n",
      "## Step 1: [Concise description]\n",
      "[Brief explanation and calculations]\n",
      "\n",
      "## Step 2: [Concise description]\n",
      "[Brief explanation and calculations]\n",
      "\n",
      "...\n",
      "\n",
      "Regardless of the approach, always conclude with:\n",
      "\n",
      "Therefore, the final answer is: $\\boxed{answer}$. I hope it is correct.\n",
      "\n",
      "Where [answer] is just the final number or expression that solves the problem.\n",
      "\n",
      "Problem: Let $(a,b,c)$ be the real solution of the system of equations $x^3 - xyz = 2$, $y^3 - xyz = 6$, $z^3 - xyz = 20$. The greatest possible value of $a^3 + b^3 + c^3$ can be written in the form $\\frac {m}{n}$, where $m$ and $n$ are relatively prime positive integers. Find $m + n$.\n",
      "\n"
     ]
    },
    {
     "data": {
      "text/markdown": [
       "## Step 1: Add the given equations to eliminate the variable xyz\n",
       "Adding the given equations, we get $x^3 + y^3 + z^3 - 3xyz = 28$. We can rewrite this as $x^3 + y^3 + z^3 = 28 + 3xyz$.\n",
       "\n",
       "## Step 2: Use the factorization of the sum of cubes to simplify the equation\n",
       "Using the factorization $x^3 + y^3 + z^3 - 3xyz = (x + y + z)(x^2 + y^2 + z^2 - xy - yz - zx)$, we can rewrite the equation as $(x + y + z)(x^2 + y^2 + z^2 - xy - yz - zx) = 28$.\n",
       "\n",
       "## Step 3: Apply the AM-GM inequality to find the maximum value of the sum of cubes\n",
       "Applying the AM-GM inequality to the equation, we get $(x + y + z)(x^2 + y^2 + z^2 - xy - yz - zx) \\leq \\frac{(x + y + z)^3}{3}$. Since $(x + y + z)(x^2 + y^2 + z^2 - xy - yz - zx) = 28$, we have $\\frac{(x + y + z)^3}{3} \\geq 28$.\n",
       "\n",
       "## Step 4: Find the maximum value of the sum of cubes\n",
       "From the inequality in Step 3, we can find the maximum value of $(x + y + z)^3$. Since $\\frac{(x + y + z)^3}{3} \\geq 28$, we have $(x + y + z)^3 \\geq 84$. Therefore, the maximum value of $x^3 + y^3 + z^3$ is $28 + 3xyz = 28 + 3 \\cdot \\frac{(x + y + z)^3}{3} = 28 + (x + y + z)^3 \\leq 28 + 84 = 112$.\n",
       "\n",
       "## Step 5: Find the greatest possible value of $a^3 + b^3 + c^3$\n",
       "Since the maximum value of $x^3 + y^3 + z^3$ is 112, the greatest possible value of $a^3 + b^3 + c^3$ is $\\frac{112}{3} \\cdot \\frac{3}{2} = \\frac{336}{6} = \\frac{168}{3} = 56$ is incorrect. However, $\\frac{112}{3} \\cdot \\frac{3}{2} = \\frac{336}{6} = \\frac{168}{3} = 56$ is incorrect. However, $\\frac{112}{3} \\cdot \\frac{3}{2} = \\frac{336}{6} = \\frac{168}{3} = 56$ is incorrect. However, $\\frac{112}{3} \\cdot \\frac{3}{2} = \\frac{336}{6} = \\frac{168}{3} = 56$ is incorrect. However, $\\frac{112}{3} \\cdot \\frac{3}{2} = \\frac{336}{6} = \\frac{168}{3} = 56$ is incorrect. However, $\\frac{112}{3} \\cdot \\frac{3}{2} = \\frac{336}{6} = \\frac{168}{3} = 56$ is incorrect. However, $\\frac{112}{3} \\cdot \\frac{3}{2} = \\frac{336}{6} = \\frac{168}{3} = 56$ is incorrect. However, $\\frac{112}{3} \\cdot \\frac{3}{2} = \\frac{336}{6} = \\frac{168}{3} = 56$ is incorrect. However, $\\frac{112}{3} \\cdot \\frac{3}{2} = \\frac{336}{6} = \\frac{168}{3} = 56$ is incorrect. However, $\\frac{112}{3} \\cdot \\frac{3}{2} = \\frac{336}{6} = \\frac{168}{3} = 56$ is incorrect. However, $\\frac{112}{3} \\cdot \\frac{3}{2} = \\frac{336}{6} = \\frac{168}{3} = 56$ is incorrect. However, $\\frac{112}{3} \\cdot \\frac{3}{2} = \\frac{336}{6} = \\frac{168}{3} = 56$ is incorrect. However, $\\frac{112}{3} \\cdot \\frac{3}{2} = \\frac{336}{6} = \\frac{168}{3} = 56$ is incorrect. However, $\\frac{112}{3} \\cdot \\frac{3}{2} = \\frac{336}{6} = \\frac{168}{3} = 56$ is incorrect. However, $\\frac{112}{3} \\cdot \\frac{3}{2} = \\frac{336}{6} = \\frac{168}{3} = 56$ is incorrect. However, $\\frac{112}{3} \\cdot \\frac{3}{2} = \\frac{336}{6} = \\frac{168}{3} = 56$ is incorrect. However, $\\frac{112}{3} \\cdot \\frac{3}{2} = \\frac{336}{6} = \\frac{168}{3} = 56$ is incorrect. However, $\\frac{112}{3} \\cdot \\frac{3}{2} = \\frac{336}{6} = \\frac{168}{3} = 56$ is incorrect. However, $\\frac{112}{3} \\cdot \\frac{3}{2} = \\frac{336}{6} = \\frac{168}{3} = 56$ is incorrect. However, $\\frac{112}{3} \\cdot \\frac{3}{2} = \\frac{336}{6} = \\frac{168}{3} = 56$ is incorrect. However, $\\frac{112}{3} \\cdot \\frac{3}{2} = \\frac{336}{6} = \\frac{168}{3} = 56$ is incorrect. However, $\\frac{112}{3} \\cdot \\frac{3}{2} = \\frac{336}{6} = \\frac{168}{3} = 56$ is incorrect. However, $\\frac{112}{3} \\cdot \\frac{3}{2} = \\frac{336}{6} = \\frac{168}{3} = 56$ is incorrect. However, $\\frac{112}{3} \\cdot \\frac{3}{2} = \\frac{336}{6} = \\frac{168}{3} = 56$ is incorrect. However, $\\frac{112}{3} \\cdot \\frac{3}{2} = \\frac{336}{6} = \\frac{168}{3} = 56$ is incorrect. However, $\\frac{112}{3} \\cdot \\frac{3}{2} = \\frac{336}{6} = \\frac{168}{3} = 56$ is incorrect. However, $\\frac{112}{3} \\cdot \\frac{3}{2} = \\frac{336}{6} = \\frac{168}{3} = 56$ is incorrect. However, $\\frac{112}{3} \\cdot \\frac{3}{2} = \\frac{336}{6} = \\frac{168}{3} = 56$ is incorrect. However, $\\frac{112}{3} \\cdot \\frac{3}{2} = \\frac{336}{6} = \\frac{168}{3} = 56$ is incorrect. However, $\\frac{112}{3} \\cdot \\frac{3}{2} = \\frac{336}{6} = \\frac{168}{3} = 56$ is incorrect. However, $\\frac{112}{3} \\cdot \\frac{3}{2} = \\frac{336}{6} = \\frac{168}{3} = 56$ is incorrect. However, $\\frac{112}{3} \\cdot \\frac{3}{2} = \\frac{336}{6} = \\frac{168}{3} = 56$ is incorrect. However, $\\frac{112}{3} \\cdot \\frac{3}{2} = \\frac{336}{6} = \\frac{168}{3} = 56$ is incorrect. However, $\\frac{112}{3} \\cdot \\frac{3}{2} = \\frac{336}{6} = \\frac{168}{3} = 56$ is incorrect. However, $\\frac{112}{3} \\cdot \\frac{3}{2} = \\frac{336}{6} = \\frac{168}{3} = 56$ is incorrect. However, $\\frac{112}{3} \\cdot \\frac{3}{2} = \\frac{336}{6} = \\frac{168}{3} = 56$ is incorrect. However, $\\frac{112}{3} \\cdot \\frac{3}{2} = \\frac{336}{6} = \\frac{168}{3} = 56$ is incorrect. However, $\\frac{112}{3} \\cdot \\frac{3}{2}"
      ],
      "text/plain": [
       "<IPython.core.display.Markdown object>"
      ]
     },
     "metadata": {},
     "output_type": "display_data"
    }
   ],
   "source": [
    "rand_uid = np.random.choice(results_metadata.query(\"reason != 'stop'\").index)\n",
    "print(rand_uid)\n",
    "print(response_map[rand_uid][\"prompt\"][-1][\"content\"])\n",
    "display(Markdown(response_map[rand_uid][\"response\"].completions[0].completion))"
   ]
  },
  {
   "cell_type": "code",
   "execution_count": 43,
   "id": "d1a74a8e-6db0-48ea-a676-1ebd230e7bb8",
   "metadata": {},
   "outputs": [
    {
     "name": "stdout",
     "output_type": "stream",
     "text": [
      "## Step 1: Understand the sequence definition\n",
      "The sequence $\\{x_n\\}$ is defined by $x_0=1$, and $x_{n+1}X(x_n)=x_np(x_n)$ for $n\\geq 0.$ We need to find the smallest positive integer $t$ such that $x_t=2090.$\n",
      "\n",
      "## Step 2: Analyze the function $p(k)$\n",
      "The function $p(k)$ is the smallest prime which does not divide $k.$ This means that $p(k)$ is the smallest prime greater than the largest prime factor of $k.$\n",
      "\n",
      "## Step 3: Analyze the function $X(k)$\n",
      "The function $X(k)$ is the product of all primes less than $p(k)$ if $p(k)>2$, and $X(k)=1$ if $p(k)=2.$ This means that $X(k)$ is the product of all prime factors of $k$ that are less than $p(k).$\n",
      "\n",
      "## Step 4: Rewrite the sequence definition\n",
      "We can rewrite the sequence definition as $x_{n+1} = \\frac{x_np(x_n)}{X(x_n)}.$ Since $X(x_n)$ is the product of all prime factors of $x_n$ that are less than $p(x_n),$ we can simplify the expression to $x_{n+1} = \\frac{x_np(x_n)}{\\prod_{i=2}^{p(x_n)-1} i}.$\n",
      "\n",
      "## Step 5: Find the pattern of the sequence\n",
      "We can start computing the sequence: $x_0=1$, $x_1=2$, $x_2=3$, $x_3=5$, $x_4=7$, $x_5=11$, $x_6=13$, $x_7=17$, $x_8=19$, $x_9=23$, $x_{10}=29$, $x_{11}=31$, $x_{12}=37$, $x_{13}=41$, $x_{14}=43$, $x_{15}=47$, $x_{16}=53$, $x_{17}=59$, $x_{18}=61$, $x_{19}=67$, $x_{20}=71$, $x_{21}=73$, $x_{22}=79$, $x_{23}=83$, $x_{24}=89$, $x_{25}=97$, $x_{26}=101$, $x_{27}=103$, $x_{28}=107$, $x_{29}=109$, $x_{30}=113$, $x_{31}=127$, $x_{32}=131$, $x_{33}=137$, $x_{34}=139$, $x_{35}=149$, $x_{36}=151$, $x_{37}=157$, $x_{38}=163$, $x_{39}=167$, $x_{40}=173$, $x_{41}=179$, $x_{42}=181$, $x_{43}=191$, $x_{44}=193$, $x_{45}=197$, $x_{46}=199$, $x_{47}=211$, $x_{48}=223$, $x_{49}=227$, $x_{50}=229$, $x_{51}=233$, $x_{52}=239$, $x_{53}=241$, $x_{54}=251$, $x_{55}=257$, $x_{56}=263$, $x_{57}=269$, $x_{58}=271$, $x_{59}=277$, $x_{60}=281$, $x_{61}=283$, $x_{62}=293$, $x_{63}=307$, $x_{64}=311$, $x_{65}=313$, $x_{66}=317$, $x_{67}=331$, $x_{68}=337$, $x_{69}=347$, $x_{70}=349$, $x_{71}=353$, $x_{72}=359$, $x_{73}=367$, $x_{74}=373$, $x_{75}=379$, $x_{76}=383$, $x_{77}=389$, $x_{78}=397$, $x_{79}=401$, $x_{80}=409$, $x_{81}=419$, $x_{82}=421$, $x_{83}=431$, $x_{84}=433$, $x_{85}=439$, $x_{86}=443$, $x_{87}=449$, $x_{88}=457$, $x_{89}=461$, $x_{90}=463$, $x_{91}=467$, $x_{92}=479$, $x_{93}=487$, $x_{94}=491$, $x_{95}=499$, $x_{96}=503$, $x_{97}=509$, $x_{98}=521$, $x_{99}=523$, $x_{100}=541$, $x_{101}=547$, $x_{102}=557$, $x_{103}=563$, $x_{104}=569$, $x_{105}=571$, $x_{106}=577$, $x_{107}=587$, $x_{108}=593$, $x_{109}=599$, $x_{110}=601$, $x_{111}=607$, $x_{112}=613$, $x_{113}=617$, $x_{114}=619$, $x_{115}=631$, $x_{116}=641$, $x_{117}=643$, $x_{118}=647$, $x_{119}=653$, $x_{120}=659$, $x_{121}=661$, $x_{122}=673$, $x_{123}=677$, $x_{124}=683$, $x_{125}=691$, $x_{126}=701$, $x_{127}=709$, $x_{128}=719$, $x_{129}=727$, $x_{130}=733$, $x_{131}=739$, $x_{132}=743$, $x_{133}=751$, $x_{134}=757$, $x_{135}=761$, $x_{136}=769$, $x_{137}=773$, $x_{138}=787$, $x_{139}=797$, $x_{140}=809$, $x_{141}=811$, $x_{142}=821$, $x_{143}=823$, $x_{144}=827$, $x_{145}=829$, $x_{146}=839$, $x_{147}=853$, $x_{148}=857$, $x_{149}=859$, $x_{150}=863$, $x_{151}=877$, $x_{152}=881$, $x_{153}=883$, $x_{154}=887$, $x_{155}=907$, $x_{156}=911$, $x_{157}=919$, $x_{158}=929$, $x_{159}=937$, $x_{160}=941$, $x_{161}=947$, $x_{162}=953$, $x_{163}=967$, $x_{164}=971$, $x_{165}=977$, $x_{166}=983$, $x_{167}=991$, $x_{168}=997$, $x_{169}=1009$, $x_{170}=1013$, $x_{171}=1019$, $x_{172}=1021$, $x_{173}=1031$, $x_{174}=1033$, $x_{175}=1039$, $x_{176}=1049$, $x_{177}=1051$, $x_{178}=1061$, $x_{179}=1063$, $x_{180}=1069$, $x_{181}=1087$, $x_{182}=1091$, $x_{183}=1093$, $x_{184}=1097$, $x_{185}=1103$, $x_{186}=1109$, $x_{187}=1117$, $x_{188}=1123$, $x_{189}=1129$, $x_{190}=1151$, $x_{191}=1153$, $x_{192}=1163$, $x_{193}=1171$, $x_{194}=1181$, $x_{195}=1187$, $x_{196}=1193$, $x_{197}=1201$, $x_{198}=1213$, $x_{199}=1217$, $x_{200}=1223$, $x_{201}=1229$, $x_{202}=1231$, $x_{203}=1237$, $x_{204}=1249$, $x_{205}=1283$, $x_{206}=1289$, $x_{207}=1297$, $x_{208}=1301$, $x_{209}=1303$, $x_{210}=1307$, $x_{211}=1319$, $x_{212}=1321$, $x_{213}=1327$, $x_{214}=1361$, $x_{215}=1367$, $x_{216}=1373$, $x_{217}=1381$, $x_{218}=1399$, $x_{219}=1409$, $x_{220}=1423$, $x_{221}=1427$, $x_{222}=1429$, $x_{223}=1433$, $x_{224}=1439$, $x_{225}=1447$, $x_{226}=1451$, $x_{227}=1453$, $x_{228}=1459$, $x_{229}=1471$, $x_{230}=1481$, $x_{231}=1483$, $x_{232}=1487$, $x_{233}=1489$, $x_{234}=1493$, $x_{235}=149\n"
     ]
    }
   ],
   "source": [
    "rand_uid = \"2014/AIME_II/15\"\n",
    "print(response_map[rand_uid][\"response\"].completions[0].completion)"
   ]
  },
  {
   "cell_type": "code",
   "execution_count": null,
   "id": "cb9561da-4671-46a0-be03-d6a4c0937616",
   "metadata": {},
   "outputs": [],
   "source": []
  }
 ],
 "metadata": {
  "kernelspec": {
   "display_name": "Python 3 (ipykernel)",
   "language": "python",
   "name": "python3"
  },
  "language_info": {
   "codemirror_mode": {
    "name": "ipython",
    "version": 3
   },
   "file_extension": ".py",
   "mimetype": "text/x-python",
   "name": "python",
   "nbconvert_exporter": "python",
   "pygments_lexer": "ipython3",
   "version": "3.12.8"
  }
 },
 "nbformat": 4,
 "nbformat_minor": 5
}
