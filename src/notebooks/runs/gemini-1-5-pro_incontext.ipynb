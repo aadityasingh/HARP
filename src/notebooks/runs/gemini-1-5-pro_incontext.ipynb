{
 "cells": [
  {
   "cell_type": "code",
   "execution_count": 1,
   "id": "17b180e9-eb6b-4473-ac9b-d8cff50e80ad",
   "metadata": {},
   "outputs": [],
   "source": [
    "import sys\n",
    "from pathlib import Path\n",
    "\n",
    "BASEDIR = Path(\"/workspaces/HARP/\") / \"src\"  # Replace with your own basedir path for the repo\n",
    "\n",
    "sys.path.insert(0, str(BASEDIR))"
   ]
  },
  {
   "cell_type": "code",
   "execution_count": 2,
   "id": "2432d548-adc6-4d51-bc6c-835f80a28061",
   "metadata": {},
   "outputs": [],
   "source": [
    "from __future__ import annotations\n",
    "\n",
    "import copy\n",
    "import itertools\n",
    "import json\n",
    "import math\n",
    "import os\n",
    "import pickle\n",
    "import pprint\n",
    "import re\n",
    "import textwrap\n",
    "import time\n",
    "import traceback\n",
    "from collections import Counter, defaultdict\n",
    "from typing import Any\n",
    "\n",
    "import matplotlib.pyplot as plt\n",
    "import numpy as np\n",
    "import pandas as pd\n",
    "import tiktoken\n",
    "from IPython.display import Markdown, clear_output, display\n",
    "from tqdm.auto import tqdm\n",
    "\n",
    "import vertexai\n",
    "from vertexai.batch_prediction._batch_prediction import BatchPredictionJob"
   ]
  },
  {
   "cell_type": "code",
   "execution_count": 3,
   "id": "b1b239d0-1ec4-4c05-8f79-1f1066473767",
   "metadata": {},
   "outputs": [],
   "source": [
    "from eval.api import safe_unified_api_call\n",
    "from eval.costs import count_tokens, get_pricing\n",
    "from eval.eval import run_one, create_batch, make_answer_check_dict_from_jsonl, make_results_df, accuracy_by_split\n",
    "from eval.parsing_lib import *\n",
    "from eval.latex_answer_check import *\n",
    "from eval.prompt import create_prompt\n",
    "from eval.prompts import *\n",
    "from eval.response import ModelResponse\n",
    "from eval.utils import AMC_LETTER_CHOICES, read_jsonl, write_jsonl, get_uid, upload_blob, download_blob"
   ]
  },
  {
   "cell_type": "markdown",
   "id": "fc7de0fb-c57c-49ee-b3f9-3a3e0460ad99",
   "metadata": {},
   "source": [
    "# Data"
   ]
  },
  {
   "cell_type": "code",
   "execution_count": 4,
   "id": "a9442117-4bf9-4694-ab83-b6d9c43ca077",
   "metadata": {},
   "outputs": [],
   "source": [
    "dataset = [\n",
    "    p \n",
    "    for p in read_jsonl(BASEDIR / \"data/processed/HARP_raw.jsonl\") \n",
    "    if (\n",
    "        not p[\"contest\"].endswith(\"MO\") \n",
    "        and not p[\"multiple_choice_only\"]\n",
    "    )\n",
    "]\n",
    "dataset_map = {get_uid(p): p for p in dataset}"
   ]
  },
  {
   "cell_type": "code",
   "execution_count": 5,
   "id": "0f6f1baa-24c9-48fa-a843-66cd8d33d25e",
   "metadata": {},
   "outputs": [],
   "source": [
    "level_to_problems = {}\n",
    "for p in dataset:\n",
    "    if p[\"subject\"] == \"calculus\":\n",
    "        continue\n",
    "    \n",
    "    key = p[\"level\"]\n",
    "    if key not in level_to_problems:\n",
    "        level_to_problems[key] = []\n",
    "    level_to_problems[key].append(p)\n",
    "\n",
    "subject_to_problems = {}\n",
    "for p in dataset:\n",
    "    if p[\"subject\"] == \"calculus\":\n",
    "        continue\n",
    "    \n",
    "    key = p[\"subject\"]\n",
    "    if key not in subject_to_problems:\n",
    "        subject_to_problems[key] = []\n",
    "    subject_to_problems[key].append(p)"
   ]
  },
  {
   "cell_type": "code",
   "execution_count": 6,
   "id": "44deef07-1af4-43d0-9479-4b88dcdd412e",
   "metadata": {},
   "outputs": [
    {
     "data": {
      "text/plain": [
       "{2: 1505, 3: 1363, 4: 719, 5: 197, 6: 197, 1: 799}"
      ]
     },
     "execution_count": 6,
     "metadata": {},
     "output_type": "execute_result"
    }
   ],
   "source": [
    "{k: len(v) for k, v in level_to_problems.items()}"
   ]
  },
  {
   "cell_type": "code",
   "execution_count": 7,
   "id": "7d9abd5f-0f97-42f6-830d-8747db3517bd",
   "metadata": {},
   "outputs": [
    {
     "data": {
      "text/plain": [
       "{'prealgebra': 889,\n",
       " 'algebra': 970,\n",
       " 'geometry': 1268,\n",
       " 'counting_and_probability': 812,\n",
       " 'number_theory': 601,\n",
       " 'precalculus': 240}"
      ]
     },
     "execution_count": 7,
     "metadata": {},
     "output_type": "execute_result"
    }
   ],
   "source": [
    "{k: len(v) for k, v in subject_to_problems.items()}"
   ]
  },
  {
   "cell_type": "code",
   "execution_count": 8,
   "id": "11949ad7-da89-475a-af41-6b20ebde2aee",
   "metadata": {},
   "outputs": [
    {
     "data": {
      "text/plain": [
       "25920"
      ]
     },
     "execution_count": 8,
     "metadata": {},
     "output_type": "execute_result"
    }
   ],
   "source": [
    "36*36*20"
   ]
  },
  {
   "cell_type": "markdown",
   "id": "5dbc3d6e-178b-4b98-9e34-2541550fcebb",
   "metadata": {},
   "source": [
    "# Init eval things"
   ]
  },
  {
   "cell_type": "code",
   "execution_count": 9,
   "id": "078d836a-ea17-43b4-abda-1adb9cd6d243",
   "metadata": {},
   "outputs": [],
   "source": [
    "vertexai.init(project=os.environ.get(\"VERTEXAI_PROJECT_ID\"), location=\"us-central1\")"
   ]
  },
  {
   "cell_type": "code",
   "execution_count": 10,
   "id": "7cb59e39-f54b-4d2e-b53f-de6dec029c61",
   "metadata": {},
   "outputs": [],
   "source": [
    "BUCKET_NAME = os.environ.get(\"GCLOUD_BUCKET_NAME\")  # Should have the form \"cloud-ai-platform-<YOUR_BUCKET>\""
   ]
  },
  {
   "cell_type": "markdown",
   "id": "70e13b1a-8228-4750-a497-973c4fc3eb51",
   "metadata": {},
   "source": [
    "# ICL by level"
   ]
  },
  {
   "cell_type": "code",
   "execution_count": 36,
   "id": "53900a58-6bd8-406c-9491-497bbe6f0472",
   "metadata": {},
   "outputs": [],
   "source": [
    "# picked_bylevel_problems = {}\n",
    "# for lvl, problems in level_to_problems.items():\n",
    "#     picked = np.random.choice(problems, size=100, replace=False)\n",
    "#     picked_bylevel_problems[lvl] = [get_uid(p) for p in picked]\n",
    "\n",
    "# with open(BASEDIR / \"outputs/short_answer/icl_bylevel_problems.pkl\", \"wb+\") as f:\n",
    "#     pickle.dump(picked_bylevel_problems, f)"
   ]
  },
  {
   "cell_type": "code",
   "execution_count": 9,
   "id": "4cc8ccd0-4fd2-490a-bbc4-6f971bbc3efe",
   "metadata": {},
   "outputs": [],
   "source": [
    "with open(BASEDIR / \"outputs/short_answer/icl_bylevel_problems.pkl\", \"rb\") as f:\n",
    "    picked_bylevel_problems = pickle.load(f)"
   ]
  },
  {
   "cell_type": "code",
   "execution_count": 10,
   "id": "c7b0aba8-0460-4965-808b-62c6b75f9025",
   "metadata": {},
   "outputs": [],
   "source": [
    "remaining_bylevel_problems = {}\n",
    "for lvl, problems in level_to_problems.items():\n",
    "    remaining_bylevel_problems[lvl] = [p for p in problems if get_uid(p) not in picked_bylevel_problems[lvl]]"
   ]
  },
  {
   "cell_type": "code",
   "execution_count": 11,
   "id": "843877ec-0a16-438b-8c25-35957249f7bd",
   "metadata": {},
   "outputs": [],
   "source": [
    "picked_problems = [dataset_map[uid] for uid in list(itertools.chain(*picked_bylevel_problems.values()))]"
   ]
  },
  {
   "cell_type": "markdown",
   "id": "403f2684-16d9-49d2-95c7-e480538eb986",
   "metadata": {},
   "source": [
    "## Create and run batch"
   ]
  },
  {
   "cell_type": "code",
   "execution_count": 13,
   "id": "8994ebe4-e299-436c-9d14-b753d5b8abd0",
   "metadata": {},
   "outputs": [],
   "source": [
    "lvl_to_batch = {}\n",
    "for icl_lvl, avail_problems in remaining_bylevel_problems.items():\n",
    "    batch = []\n",
    "    for prob in picked_problems:\n",
    "        picked = np.random.choice(avail_problems, size=4, replace=False)\n",
    "        messages = []\n",
    "        for example in picked:\n",
    "            messages.append({\n",
    "                \"role\": \"user\",\n",
    "                \"content\": f\"Problem:\\n{example['problem']}\"\n",
    "            })\n",
    "            messages.append({\n",
    "                \"role\": \"assistant\",\n",
    "                \"content\": f\"Solution:\\n{example['solution_1']}\\nFinal Answer: The final answer is {example['answer']}. I hope it is correct.\"\n",
    "            })\n",
    "        \n",
    "        uid = get_uid(prob)\n",
    "        request = run_one(\n",
    "            prob,\n",
    "            api=\"google\",\n",
    "            model=\"gemini-1.5-pro-002\",\n",
    "            fewshot_messages=messages,\n",
    "            system_prompt=gemini_sysprompt,\n",
    "            max_tokens=2048,\n",
    "            num_completions=1,\n",
    "            temperature=0,\n",
    "            seed=0,\n",
    "            stop_sequences=[\"I hope it is correct.\"],\n",
    "            return_params=True,\n",
    "            custom_id=uid,\n",
    "            # just to remove irrelevant params\n",
    "            logprobs=None,\n",
    "            top_p=None,\n",
    "        )\n",
    "        batch.append(request)\n",
    "    lvl_to_batch[icl_lvl] = batch"
   ]
  },
  {
   "cell_type": "code",
   "execution_count": 55,
   "id": "8f7979b5-2e08-4f75-8e27-7d54a2f7c925",
   "metadata": {},
   "outputs": [],
   "source": [
    "for lvl, batch in lvl_to_batch.items():\n",
    "    write_jsonl(\n",
    "        batch,\n",
    "        BASEDIR / f\"outputs/short_answer/gemini-1.5-pro-002/batch_icl-level_example-lvl-{lvl}.jsonl\",\n",
    "    )"
   ]
  },
  {
   "cell_type": "code",
   "execution_count": null,
   "id": "45b266da-cd12-469b-adf0-e848bd263606",
   "metadata": {},
   "outputs": [],
   "source": [
    "for lvl in range(1, 7):\n",
    "    upload_blob(\n",
    "        BUCKET_NAME,\n",
    "        BASEDIR / f\"outputs/short_answer/gemini-1.5-pro-002/batch_icl-level_example-lvl-{lvl}.jsonl\",\n",
    "        f\"prompt_data/short_answer/gemini-1.5-pro-002/batch_icl-level_example-lvl-{lvl}.jsonl\",\n",
    "    )"
   ]
  },
  {
   "cell_type": "code",
   "execution_count": null,
   "id": "5aded628-75c9-4039-9744-49a3c968306d",
   "metadata": {},
   "outputs": [],
   "source": [
    "for lvl in range(1, 7):\n",
    "    BatchPredictionJob.submit(\n",
    "        source_model=\"gemini-1.5-pro-002\",\n",
    "        input_dataset=f\"gs://{BUCKET_NAME}/prompt_data/short_answer/gemini-1.5-pro-002/batch_icl-level_example-lvl-{lvl}.jsonl\",\n",
    "        output_uri_prefix=f\"gs://{BUCKET_NAME}/outputs/short_answer/gemini-1.5-pro-002/batch_icl-level_example-lvl-{lvl}\",\n",
    "    )"
   ]
  },
  {
   "cell_type": "code",
   "execution_count": null,
   "id": "860f034c-a048-400c-93ca-d82a2151b64b",
   "metadata": {},
   "outputs": [],
   "source": [
    "download_blob(\n",
    "    BUCKET_NAME,\n",
    "    \"outputs/short_answer/gemini-1.5-pro-002/batch_icl-level_example-lvl-1/prediction-model-<TIMESTAMP>/predictions.jsonl\",\n",
    "    BASEDIR / \"outputs/short_answer/gemini-1.5-pro-002/outputs_icl-level_lvl1.jsonl\",\n",
    ")\n",
    "download_blob(\n",
    "    BUCKET_NAME,\n",
    "    \"outputs/short_answer/gemini-1.5-pro-002/batch_icl-level_example-lvl-2/prediction-model-<TIMESTAMP>/predictions.jsonl\",\n",
    "    BASEDIR / \"outputs/short_answer/gemini-1.5-pro-002/outputs_icl-level_lvl2.jsonl\",\n",
    ")\n",
    "download_blob(\n",
    "    BUCKET_NAME,\n",
    "    \"outputs/short_answer/gemini-1.5-pro-002/batch_icl-level_example-lvl-3/prediction-model-<TIMESTAMP>/predictions.jsonl\",\n",
    "    BASEDIR / \"outputs/short_answer/gemini-1.5-pro-002/outputs_icl-level_lvl3.jsonl\",\n",
    ")\n",
    "download_blob(\n",
    "    BUCKET_NAME,\n",
    "    \"outputs/short_answer/gemini-1.5-pro-002/batch_icl-level_example-lvl-4/prediction-model-<TIMESTAMP>/predictions.jsonl\",\n",
    "    BASEDIR / \"outputs/short_answer/gemini-1.5-pro-002/outputs_icl-level_lvl4.jsonl\",\n",
    ")\n",
    "download_blob(\n",
    "    BUCKET_NAME,\n",
    "    \"outputs/short_answer/gemini-1.5-pro-002/batch_icl-level_example-lvl-5/prediction-model-<TIMESTAMP>/predictions.jsonl\",\n",
    "    BASEDIR / \"outputs/short_answer/gemini-1.5-pro-002/outputs_icl-level_lvl5.jsonl\",\n",
    ")\n",
    "download_blob(\n",
    "    BUCKET_NAME,\n",
    "    \"outputs/short_answer/gemini-1.5-pro-002/batch_icl-level_example-lvl-6/prediction-model-<TIMESTAMP>/predictions.jsonl\",\n",
    "    BASEDIR / \"outputs/short_answer/gemini-1.5-pro-002/outputs_icl-level_lvl6.jsonl\",\n",
    ")"
   ]
  },
  {
   "cell_type": "markdown",
   "id": "258ad53a-31dd-48b3-b82e-2f4cf06e4aa4",
   "metadata": {},
   "source": [
    "## Results"
   ]
  },
  {
   "cell_type": "code",
   "execution_count": 12,
   "id": "f61edc5e-e131-44cd-8906-604ebf3c98d8",
   "metadata": {},
   "outputs": [
    {
     "data": {
      "application/vnd.jupyter.widget-view+json": {
       "model_id": "a29dcf96868041faa379c4b11b23c195",
       "version_major": 2,
       "version_minor": 0
      },
      "text/plain": [
       "  0%|          | 0/600 [00:00<?, ?it/s]"
      ]
     },
     "metadata": {},
     "output_type": "display_data"
    },
    {
     "data": {
      "application/vnd.jupyter.widget-view+json": {
       "model_id": "75de0abae11246e8b2534f0b8fe80785",
       "version_major": 2,
       "version_minor": 0
      },
      "text/plain": [
       "  0%|          | 0/600 [00:00<?, ?it/s]"
      ]
     },
     "metadata": {},
     "output_type": "display_data"
    },
    {
     "data": {
      "application/vnd.jupyter.widget-view+json": {
       "model_id": "6e6d62e7da2144a88815804c50118d42",
       "version_major": 2,
       "version_minor": 0
      },
      "text/plain": [
       "  0%|          | 0/600 [00:00<?, ?it/s]"
      ]
     },
     "metadata": {},
     "output_type": "display_data"
    },
    {
     "data": {
      "application/vnd.jupyter.widget-view+json": {
       "model_id": "8d8ea5eb144641698e7bf0f97b7ce2ab",
       "version_major": 2,
       "version_minor": 0
      },
      "text/plain": [
       "  0%|          | 0/600 [00:00<?, ?it/s]"
      ]
     },
     "metadata": {},
     "output_type": "display_data"
    },
    {
     "data": {
      "application/vnd.jupyter.widget-view+json": {
       "model_id": "97135ea71b8e45fc9677a440ab356669",
       "version_major": 2,
       "version_minor": 0
      },
      "text/plain": [
       "  0%|          | 0/600 [00:00<?, ?it/s]"
      ]
     },
     "metadata": {},
     "output_type": "display_data"
    },
    {
     "data": {
      "application/vnd.jupyter.widget-view+json": {
       "model_id": "27147ece172e4e7db3fd8048bc86d38c",
       "version_major": 2,
       "version_minor": 0
      },
      "text/plain": [
       "  0%|          | 0/600 [00:00<?, ?it/s]"
      ]
     },
     "metadata": {},
     "output_type": "display_data"
    }
   ],
   "source": [
    "lvl_raw_responses = []\n",
    "lvl_responses = []\n",
    "lvl_raw_response_map = []\n",
    "lvl_response_map = []\n",
    "lvl_answer_check_results = []\n",
    "lvl_results = []\n",
    "\n",
    "os.makedirs(BASEDIR / \"results/gemini-1.5-pro-002\", exist_ok=True)\n",
    "for i in range(1, 7):\n",
    "    fname = BASEDIR / f\"outputs/short_answer/gemini-1.5-pro-002/outputs_icl-level_lvl{i}.jsonl\"\n",
    "\n",
    "    raw_responses_lvl_i = read_jsonl(fname)\n",
    "    responses_lvl_i = [\n",
    "        {\n",
    "            \"uid\": x[\"custom_id\"],\n",
    "            \"system\": x[\"request\"][\"system_instruction\"],\n",
    "            \"prompt\": x[\"request\"][\"contents\"],\n",
    "            \"response\": ModelResponse.from_response(x[\"response\"], \"google\", use_batch_api=True)\n",
    "        }\n",
    "        for x in raw_responses_lvl_i\n",
    "    ]\n",
    "    raw_response_lvl_i_map = {o[\"uid\"]: raw for raw, o in zip(raw_responses_lvl_i, responses_lvl_i)}\n",
    "    response_lvl_i_map = {o[\"uid\"]: o for o in responses_lvl_i}\n",
    "\n",
    "    answer_check_dicts_lvl_i = make_answer_check_dict_from_jsonl(responses_lvl_i, dataset_map)\n",
    "    \n",
    "    answer_check_results_lvl_i = latex_answer_check(answer_check_dicts_lvl_i, use_tqdm=True)\n",
    "    \n",
    "    results_lvl_i_metadata = make_results_df(\n",
    "        responses_lvl_i, answer_check_results_lvl_i, dataset_map\n",
    "    )\n",
    "\n",
    "    results_lvl_i_metadata.to_csv(BASEDIR / f\"results/gemini-1.5-pro-002/results_sa_icl-lvl_{i}.csv\")\n",
    "\n",
    "    lvl_raw_responses.append(raw_responses_lvl_i)\n",
    "    lvl_responses.append(responses_lvl_i)\n",
    "    lvl_raw_response_map.append(raw_response_lvl_i_map)\n",
    "    lvl_response_map.append(response_lvl_i_map)\n",
    "    lvl_answer_check_results.append(answer_check_results_lvl_i)\n",
    "    lvl_results.append(results_lvl_i_metadata)"
   ]
  },
  {
   "cell_type": "code",
   "execution_count": 13,
   "id": "fafa81f8-b248-472b-b1fa-acbe282386fa",
   "metadata": {},
   "outputs": [
    {
     "name": "stdout",
     "output_type": "stream",
     "text": [
      "Demonstrations of level 1 has accuracy 45.17\n",
      "Demonstrations of level 2 has accuracy 44.00\n",
      "Demonstrations of level 3 has accuracy 45.00\n",
      "Demonstrations of level 4 has accuracy 46.17\n",
      "Demonstrations of level 5 has accuracy 47.83\n",
      "Demonstrations of level 6 has accuracy 46.33\n"
     ]
    }
   ],
   "source": [
    "for i in range(6):\n",
    "    print(f'Demonstrations of level {i+1} has accuracy {100*lvl_results[i][\"is_correct\"].mean():.02f}')"
   ]
  },
  {
   "cell_type": "code",
   "execution_count": 14,
   "id": "e3439e49-d7b3-4731-83f7-2a498e3e0189",
   "metadata": {},
   "outputs": [
    {
     "data": {
      "text/html": [
       "<div>\n",
       "<style scoped>\n",
       "    .dataframe tbody tr th:only-of-type {\n",
       "        vertical-align: middle;\n",
       "    }\n",
       "\n",
       "    .dataframe tbody tr th {\n",
       "        vertical-align: top;\n",
       "    }\n",
       "\n",
       "    .dataframe thead th {\n",
       "        text-align: right;\n",
       "    }\n",
       "</style>\n",
       "<table border=\"1\" class=\"dataframe\">\n",
       "  <thead>\n",
       "    <tr style=\"text-align: right;\">\n",
       "      <th></th>\n",
       "      <th>1</th>\n",
       "      <th>2</th>\n",
       "      <th>3</th>\n",
       "      <th>4</th>\n",
       "      <th>5</th>\n",
       "      <th>6</th>\n",
       "    </tr>\n",
       "    <tr>\n",
       "      <th>level</th>\n",
       "      <th></th>\n",
       "      <th></th>\n",
       "      <th></th>\n",
       "      <th></th>\n",
       "      <th></th>\n",
       "      <th></th>\n",
       "    </tr>\n",
       "  </thead>\n",
       "  <tbody>\n",
       "    <tr>\n",
       "      <th>1</th>\n",
       "      <td>73.0</td>\n",
       "      <td>72.0</td>\n",
       "      <td>77.0</td>\n",
       "      <td>74.0</td>\n",
       "      <td>78.0</td>\n",
       "      <td>77.0</td>\n",
       "    </tr>\n",
       "    <tr>\n",
       "      <th>2</th>\n",
       "      <td>77.0</td>\n",
       "      <td>72.0</td>\n",
       "      <td>71.0</td>\n",
       "      <td>72.0</td>\n",
       "      <td>75.0</td>\n",
       "      <td>75.0</td>\n",
       "    </tr>\n",
       "    <tr>\n",
       "      <th>3</th>\n",
       "      <td>58.0</td>\n",
       "      <td>57.0</td>\n",
       "      <td>56.0</td>\n",
       "      <td>53.0</td>\n",
       "      <td>59.0</td>\n",
       "      <td>52.0</td>\n",
       "    </tr>\n",
       "    <tr>\n",
       "      <th>4</th>\n",
       "      <td>42.0</td>\n",
       "      <td>40.0</td>\n",
       "      <td>44.0</td>\n",
       "      <td>45.0</td>\n",
       "      <td>44.0</td>\n",
       "      <td>44.0</td>\n",
       "    </tr>\n",
       "    <tr>\n",
       "      <th>5</th>\n",
       "      <td>16.0</td>\n",
       "      <td>16.0</td>\n",
       "      <td>14.0</td>\n",
       "      <td>21.0</td>\n",
       "      <td>21.0</td>\n",
       "      <td>21.0</td>\n",
       "    </tr>\n",
       "    <tr>\n",
       "      <th>6</th>\n",
       "      <td>5.0</td>\n",
       "      <td>7.0</td>\n",
       "      <td>8.0</td>\n",
       "      <td>12.0</td>\n",
       "      <td>10.0</td>\n",
       "      <td>9.0</td>\n",
       "    </tr>\n",
       "  </tbody>\n",
       "</table>\n",
       "</div>"
      ],
      "text/plain": [
       "          1     2     3     4     5     6\n",
       "level                                    \n",
       "1      73.0  72.0  77.0  74.0  78.0  77.0\n",
       "2      77.0  72.0  71.0  72.0  75.0  75.0\n",
       "3      58.0  57.0  56.0  53.0  59.0  52.0\n",
       "4      42.0  40.0  44.0  45.0  44.0  44.0\n",
       "5      16.0  16.0  14.0  21.0  21.0  21.0\n",
       "6       5.0   7.0   8.0  12.0  10.0   9.0"
      ]
     },
     "execution_count": 14,
     "metadata": {},
     "output_type": "execute_result"
    }
   ],
   "source": [
    "bylevel_matrix = []\n",
    "for i in range(6):\n",
    "    bylevel_matrix.append(\n",
    "        lvl_results[i].groupby(\"level\")[\"is_correct\"].mean().to_frame().rename(columns={\"is_correct\": i+1})\n",
    "    )\n",
    "bylevel_matrix = pd.concat(bylevel_matrix, axis=1)\n",
    "bylevel_matrix * 100"
   ]
  },
  {
   "cell_type": "markdown",
   "id": "15d3c843-9034-42fa-aeab-7ac36b2f6351",
   "metadata": {},
   "source": [
    "# ICL by subject"
   ]
  },
  {
   "cell_type": "code",
   "execution_count": 15,
   "id": "9b77415b-3e81-462c-b9a7-0050c5d19a02",
   "metadata": {},
   "outputs": [],
   "source": [
    "SUBJECTS = [\n",
    "    'prealgebra',\n",
    "    'algebra',\n",
    "    'geometry',\n",
    "    'counting_and_probability',\n",
    "    'number_theory',\n",
    "    'precalculus',\n",
    "]"
   ]
  },
  {
   "cell_type": "code",
   "execution_count": 60,
   "id": "5783289b-e092-4811-b7b7-cc6625e3204c",
   "metadata": {},
   "outputs": [],
   "source": [
    "# picked_bysubject_problems = {}\n",
    "# for subj, problems in subject_to_problems.items():\n",
    "#     picked = np.random.choice(problems, size=100, replace=False)\n",
    "#     picked_bysubject_problems[subj] = [get_uid(p) for p in picked]\n",
    "\n",
    "# with open(BASEDIR / \"outputs/short_answer/icl_bysubject_problems.pkl\", \"wb+\") as f:\n",
    "#     pickle.dump(picked_bysubject_problems, f)"
   ]
  },
  {
   "cell_type": "code",
   "execution_count": 16,
   "id": "3eddd2a7-d453-41f3-948b-a5eaf4d435cc",
   "metadata": {},
   "outputs": [],
   "source": [
    "with open(BASEDIR / \"outputs/short_answer/icl_bysubject_problems.pkl\", \"rb\") as f:\n",
    "    picked_bysubject_problems = pickle.load(f)"
   ]
  },
  {
   "cell_type": "code",
   "execution_count": 17,
   "id": "6bd0d65f-bcfe-445f-b151-ce7ed5497615",
   "metadata": {},
   "outputs": [],
   "source": [
    "remaining_bysubject_problems = {}\n",
    "for subj, problems in subject_to_problems.items():\n",
    "    remaining_bysubject_problems[subj] = [p for p in problems if get_uid(p) not in picked_bysubject_problems[subj]]"
   ]
  },
  {
   "cell_type": "code",
   "execution_count": 18,
   "id": "a7a42b1c-119a-4535-928f-50d23546da3b",
   "metadata": {},
   "outputs": [
    {
     "data": {
      "text/plain": [
       "{'prealgebra': 789,\n",
       " 'algebra': 870,\n",
       " 'geometry': 1168,\n",
       " 'counting_and_probability': 712,\n",
       " 'number_theory': 501,\n",
       " 'precalculus': 140}"
      ]
     },
     "execution_count": 18,
     "metadata": {},
     "output_type": "execute_result"
    }
   ],
   "source": [
    "{k: len(v) for k, v in remaining_bysubject_problems.items()}"
   ]
  },
  {
   "cell_type": "code",
   "execution_count": 19,
   "id": "259fecc4-9e7b-481f-8317-7f03dc2147c8",
   "metadata": {},
   "outputs": [],
   "source": [
    "picked_subj_problems = [dataset_map[uid] for uid in list(itertools.chain(*picked_bysubject_problems.values()))]"
   ]
  },
  {
   "cell_type": "markdown",
   "id": "056dc4f2-4e72-4619-bfe2-04cf0993f2fa",
   "metadata": {},
   "source": [
    "## Create and run batch"
   ]
  },
  {
   "cell_type": "code",
   "execution_count": 68,
   "id": "44f35b33-5af2-4cbe-8738-ccbf6920e3f3",
   "metadata": {},
   "outputs": [],
   "source": [
    "subj_to_batch = {}\n",
    "for icl_subj, avail_problems in remaining_bysubject_problems.items():\n",
    "    batch = []\n",
    "    for prob in picked_subj_problems:\n",
    "        picked = np.random.choice(avail_problems, size=4, replace=False)\n",
    "        messages = []\n",
    "        for example in picked:\n",
    "            messages.append({\n",
    "                \"role\": \"user\",\n",
    "                \"content\": f\"Problem:\\n{example['problem']}\"\n",
    "            })\n",
    "            messages.append({\n",
    "                \"role\": \"assistant\",\n",
    "                \"content\": f\"Solution:\\n{example['solution_1']}\\nFinal Answer: The final answer is {example['answer']}. I hope it is correct.\"\n",
    "            })\n",
    "        \n",
    "        uid = get_uid(prob)\n",
    "        request = run_one(\n",
    "            prob,\n",
    "            api=\"google\",\n",
    "            model=\"gemini-1.5-pro-002\",\n",
    "            fewshot_messages=messages,\n",
    "            system_prompt=gemini_sysprompt,\n",
    "            max_tokens=2048,\n",
    "            num_completions=1,\n",
    "            temperature=0,\n",
    "            seed=0,\n",
    "            stop_sequences=[\"I hope it is correct.\"],\n",
    "            return_params=True,\n",
    "            custom_id=uid,\n",
    "            # just to remove irrelevant params\n",
    "            logprobs=None,\n",
    "            top_p=None,\n",
    "        )\n",
    "        batch.append(request)\n",
    "    subj_to_batch[icl_subj] = batch"
   ]
  },
  {
   "cell_type": "code",
   "execution_count": 71,
   "id": "c92ff1b2-1a3a-42d5-8dbf-e86ecf92188f",
   "metadata": {},
   "outputs": [],
   "source": [
    "for subj, batch in subj_to_batch.items():\n",
    "    write_jsonl(\n",
    "        batch,\n",
    "        BASEDIR / f\"outputs/short_answer/gemini-1.5-pro-002/batch_icl-subject_{subj}.jsonl\",\n",
    "    )"
   ]
  },
  {
   "cell_type": "code",
   "execution_count": null,
   "id": "5e427587-a3d4-42e5-8a30-c45ddc4c0969",
   "metadata": {},
   "outputs": [],
   "source": [
    "for subj in subj_to_batch.keys():\n",
    "    upload_blob(\n",
    "        BUCKET_NAME,\n",
    "        BASEDIR / f\"outputs/short_answer/gemini-1.5-pro-002/batch_icl-subject_{subj}.jsonl\",\n",
    "        f\"prompt_data/short_answer/gemini-1.5-pro-002/batch_icl-subject_{subj}.jsonl\",\n",
    "    )"
   ]
  },
  {
   "cell_type": "code",
   "execution_count": null,
   "id": "2e13c05d-dfc0-4e98-a6e0-45bbcbea2433",
   "metadata": {},
   "outputs": [],
   "source": [
    "for subj in subj_to_batch.keys():\n",
    "    BatchPredictionJob.submit(\n",
    "        source_model=\"gemini-1.5-pro-002\",\n",
    "        input_dataset=f\"gs://{BUCKET_NAME}/prompt_data/short_answer/gemini-1.5-pro-002/batch_icl-subject_{subj}.jsonl\",\n",
    "        output_uri_prefix=f\"gs://{BUCKET_NAME}/outputs/short_answer/gemini-1.5-pro-002/batch_icl-subject_{subj}\",\n",
    "    )"
   ]
  },
  {
   "cell_type": "code",
   "execution_count": null,
   "id": "1b3edc5f-47d8-457c-9929-00d1e78a0d42",
   "metadata": {},
   "outputs": [],
   "source": [
    "download_blob(\n",
    "    BUCKET_NAME,\n",
    "    \"outputs/short_answer/gemini-1.5-pro-002/batch_icl-subject_algebra/prediction-model-<TIMESTAMP>/predictions.jsonl\",\n",
    "    BASEDIR / \"outputs/short_answer/gemini-1.5-pro-002/outputs_icl-subject_algebra.jsonl\",\n",
    ")\n",
    "download_blob(\n",
    "    BUCKET_NAME,\n",
    "    \"outputs/short_answer/gemini-1.5-pro-002/batch_icl-subject_counting_and_probability/prediction-model-<TIMESTAMP>/predictions.jsonl\",\n",
    "    BASEDIR / \"outputs/short_answer/gemini-1.5-pro-002/outputs_icl-subject_counting_and_probability.jsonl\",\n",
    ")\n",
    "download_blob(\n",
    "    BUCKET_NAME,\n",
    "    \"outputs/short_answer/gemini-1.5-pro-002/batch_icl-subject_geometry/prediction-model-<TIMESTAMP>/predictions.jsonl\",\n",
    "    BASEDIR / \"outputs/short_answer/gemini-1.5-pro-002/outputs_icl-subject_geometry.jsonl\",\n",
    ")\n",
    "download_blob(\n",
    "    BUCKET_NAME,\n",
    "    \"outputs/short_answer/gemini-1.5-pro-002/batch_icl-subject_number_theory/prediction-model-<TIMESTAMP>/predictions.jsonl\",\n",
    "    BASEDIR / \"outputs/short_answer/gemini-1.5-pro-002/outputs_icl-subject_number_theory.jsonl\",\n",
    ")\n",
    "download_blob(\n",
    "    BUCKET_NAME,\n",
    "    \"outputs/short_answer/gemini-1.5-pro-002/batch_icl-subject_prealgebra/prediction-model-<TIMESTAMP>/predictions.jsonl\",\n",
    "    BASEDIR / \"outputs/short_answer/gemini-1.5-pro-002/outputs_icl-subject_prealgebra.jsonl\",\n",
    ")\n",
    "download_blob(\n",
    "    BUCKET_NAME,\n",
    "    \"outputs/short_answer/gemini-1.5-pro-002/batch_icl-subject_precalculus/prediction-model-<TIMESTAMP>/predictions.jsonl\",\n",
    "    BASEDIR / \"outputs/short_answer/gemini-1.5-pro-002/outputs_icl-subject_precalculus.jsonl\",\n",
    ")"
   ]
  },
  {
   "cell_type": "markdown",
   "id": "5a274862-f694-44de-8dd4-e4361ba9f7a1",
   "metadata": {},
   "source": [
    "## Results"
   ]
  },
  {
   "cell_type": "code",
   "execution_count": 20,
   "id": "a4b5ce0f-7b31-4ce7-8108-34c92037378c",
   "metadata": {},
   "outputs": [
    {
     "data": {
      "application/vnd.jupyter.widget-view+json": {
       "model_id": "1377e6648a1c4e19baa848a15009f1d9",
       "version_major": 2,
       "version_minor": 0
      },
      "text/plain": [
       "  0%|          | 0/600 [00:00<?, ?it/s]"
      ]
     },
     "metadata": {},
     "output_type": "display_data"
    },
    {
     "data": {
      "application/vnd.jupyter.widget-view+json": {
       "model_id": "26b37c5dad0946d4b966c31001bb26cf",
       "version_major": 2,
       "version_minor": 0
      },
      "text/plain": [
       "  0%|          | 0/600 [00:00<?, ?it/s]"
      ]
     },
     "metadata": {},
     "output_type": "display_data"
    },
    {
     "data": {
      "application/vnd.jupyter.widget-view+json": {
       "model_id": "37876f1a5389424cb200b99461bc75b2",
       "version_major": 2,
       "version_minor": 0
      },
      "text/plain": [
       "  0%|          | 0/600 [00:00<?, ?it/s]"
      ]
     },
     "metadata": {},
     "output_type": "display_data"
    },
    {
     "name": "stdout",
     "output_type": "stream",
     "text": [
      "Function timed out after 10 seconds\n",
      "('We are looking for the least positive integer $m$ such that\\n\\\\[m(2!)(3!)(4!)... (16!)\\\\]\\nis a perfect square.\\nWe can rewrite the expression as\\n\\\\[m \\\\prod_{n=2}^{16} n! = m \\\\prod_{n=2}^{16} \\\\prod_{k=1}^n k = m \\\\prod_{k=1}^{16} k^{17-k} = m \\\\prod_{k=1}^{16} k^{16-k+1}\\\\]\\nWe want the exponent of each prime factor to be even.\\nConsider the exponent of $k$.\\nIf $k$ is odd, then $17-k$ is even.\\nIf $k$ is even, then $17-k$ is odd.\\nThe exponent of $k$ is $17-k$.\\nWe have\\n\\\\begin{align*} \\\\label{eq:prod} 2! 3! 4! ... 16! &= 2^1 \\\\cdot (2 \\\\cdot 3)^2 \\\\cdot (2 \\\\cdot 3 \\\\cdot 4)^3 \\\\cdots (2 \\\\cdot 3 \\\\cdots 16)^{15} \\\\\\\\ &= 2^{1+2+...+15} 3^{2+3+...+15} ... 15^{15+16} 16^{16} \\\\\\\\ &= 2^{120} 3^{112} 4^{105} ... 15^2 16^1\\\\end{align*}\\nThe exponents of odd numbers are $112, 96, 80, 64, 48, 32, 16, 2$.\\nThe exponents of even numbers are $120, 105, 84, 66, 51, 38, 27, 18, 11, 4, 1$.\\nWe have\\n\\\\[m \\\\prod_{n=2}^{16} n! = m \\\\prod_{k=1}^{16} k^{17-k}\\\\]\\nWe want the exponent of each $k$ to be even.\\nIf $k$ is odd, then $17-k$ is even.\\nIf $k$ is even, then $17-k$ is odd.\\nSo we need to multiply by all the even numbers.\\n\\\\[m = 2 \\\\cdot 4 \\\\cdot 6 \\\\cdot 8 \\\\cdot 10 \\\\cdot 12 \\\\cdot 14 \\\\cdot 16 = 2^1 \\\\cdot 2^2 \\\\cdot 2 \\\\cdot 3 \\\\cdot 2^3 \\\\cdot 2^2 \\\\cdot 3 \\\\cdot 2 \\\\cdot 7 \\\\cdot 2^4 = 2^{1+2+1+3+2+1+4} \\\\cdot 3^2 \\\\cdot 5 \\\\cdot 7 = 2^{14} \\\\cdot 3^2 \\\\cdot 5 \\\\cdot 7\\\\]\\n\\\\[m = 2 \\\\cdot 4 \\\\cdot ... \\\\cdot 16 = 2^8(1 \\\\cdot 2 \\\\cdot 3 \\\\cdot 4 \\\\cdot 5 \\\\cdot 6 \\\\cdot 7 \\\\cdot 8) = 2^8 \\\\cdot 8!\\\\]\\nFinal Answer: The final answer is $2^8 8!$. ', '$70$') {'extract_policy': 'flex', 'eval_policy': 'aggressive', 'debug': False}\n"
     ]
    },
    {
     "data": {
      "application/vnd.jupyter.widget-view+json": {
       "model_id": "25ae3e049bab4177a451952ac04400e7",
       "version_major": 2,
       "version_minor": 0
      },
      "text/plain": [
       "  0%|          | 0/600 [00:00<?, ?it/s]"
      ]
     },
     "metadata": {},
     "output_type": "display_data"
    },
    {
     "data": {
      "application/vnd.jupyter.widget-view+json": {
       "model_id": "6a9452c7bb9d418fb924fed122305a3f",
       "version_major": 2,
       "version_minor": 0
      },
      "text/plain": [
       "  0%|          | 0/600 [00:00<?, ?it/s]"
      ]
     },
     "metadata": {},
     "output_type": "display_data"
    },
    {
     "data": {
      "application/vnd.jupyter.widget-view+json": {
       "model_id": "f1f92999dab1435da75fe19b30b10f16",
       "version_major": 2,
       "version_minor": 0
      },
      "text/plain": [
       "  0%|          | 0/600 [00:00<?, ?it/s]"
      ]
     },
     "metadata": {},
     "output_type": "display_data"
    }
   ],
   "source": [
    "subj_raw_responses = []\n",
    "subj_responses = []\n",
    "subj_raw_response_map = []\n",
    "subj_response_map = []\n",
    "subj_answer_check_results = []\n",
    "subj_results = []\n",
    "\n",
    "os.makedirs(BASEDIR / \"results/gemini-1.5-pro-002\", exist_ok=True)\n",
    "for subj in SUBJECTS:\n",
    "    fname = BASEDIR / f\"outputs/short_answer/gemini-1.5-pro-002/outputs_icl-subject_{subj}.jsonl\"\n",
    "\n",
    "    raw_responses_subj_i = read_jsonl(fname)\n",
    "    responses_subj_i = [\n",
    "        {\n",
    "            \"uid\": x[\"custom_id\"],\n",
    "            \"system\": x[\"request\"][\"system_instruction\"],\n",
    "            \"prompt\": x[\"request\"][\"contents\"],\n",
    "            \"response\": ModelResponse.from_response(x[\"response\"], \"google\", use_batch_api=True)\n",
    "        }\n",
    "        for x in raw_responses_subj_i\n",
    "    ]\n",
    "    raw_response_subj_i_map = {o[\"uid\"]: raw for raw, o in zip(raw_responses_subj_i, responses_subj_i)}\n",
    "    response_subj_i_map = {o[\"uid\"]: o for o in responses_subj_i}\n",
    "\n",
    "    answer_check_dicts_subj_i = make_answer_check_dict_from_jsonl(responses_subj_i, dataset_map)\n",
    "    \n",
    "    answer_check_results_subj_i = latex_answer_check(answer_check_dicts_subj_i, use_tqdm=True)\n",
    "    \n",
    "    results_subj_i_metadata = make_results_df(\n",
    "        responses_subj_i, answer_check_results_subj_i, dataset_map\n",
    "    )\n",
    "\n",
    "    results_subj_i_metadata.to_csv(BASEDIR / f\"results/gemini-1.5-pro-002/results_sa_icl-subject_{subj}.csv\")\n",
    "\n",
    "    subj_raw_responses.append(raw_responses_subj_i)\n",
    "    subj_responses.append(responses_subj_i)\n",
    "    subj_raw_response_map.append(raw_response_subj_i_map)\n",
    "    subj_response_map.append(response_subj_i_map)\n",
    "    subj_answer_check_results.append(answer_check_results_subj_i)\n",
    "    subj_results.append(results_subj_i_metadata)"
   ]
  },
  {
   "cell_type": "code",
   "execution_count": 21,
   "id": "379386a2-0a13-434c-8c52-9317cce3bbf2",
   "metadata": {},
   "outputs": [
    {
     "name": "stdout",
     "output_type": "stream",
     "text": [
      "Demonstrations of subject prealgebra has accuracy 56.50\n",
      "Demonstrations of subject algebra has accuracy 61.17\n",
      "Demonstrations of subject geometry has accuracy 60.50\n",
      "Demonstrations of subject counting_and_probability has accuracy 59.00\n",
      "Demonstrations of subject number_theory has accuracy 57.67\n",
      "Demonstrations of subject precalculus has accuracy 58.17\n"
     ]
    }
   ],
   "source": [
    "for i, subj in enumerate(SUBJECTS):\n",
    "    print(f'Demonstrations of subject {subj} has accuracy {100*subj_results[i][\"is_correct\"].mean():.02f}')"
   ]
  },
  {
   "cell_type": "code",
   "execution_count": 22,
   "id": "00fd538b-8f94-46a7-9c94-0a380235dcc3",
   "metadata": {},
   "outputs": [
    {
     "data": {
      "text/html": [
       "<div>\n",
       "<style scoped>\n",
       "    .dataframe tbody tr th:only-of-type {\n",
       "        vertical-align: middle;\n",
       "    }\n",
       "\n",
       "    .dataframe tbody tr th {\n",
       "        vertical-align: top;\n",
       "    }\n",
       "\n",
       "    .dataframe thead th {\n",
       "        text-align: right;\n",
       "    }\n",
       "</style>\n",
       "<table border=\"1\" class=\"dataframe\">\n",
       "  <thead>\n",
       "    <tr style=\"text-align: right;\">\n",
       "      <th></th>\n",
       "      <th>prealgebra</th>\n",
       "      <th>algebra</th>\n",
       "      <th>geometry</th>\n",
       "      <th>counting_and_probability</th>\n",
       "      <th>number_theory</th>\n",
       "      <th>precalculus</th>\n",
       "    </tr>\n",
       "    <tr>\n",
       "      <th>subject</th>\n",
       "      <th></th>\n",
       "      <th></th>\n",
       "      <th></th>\n",
       "      <th></th>\n",
       "      <th></th>\n",
       "      <th></th>\n",
       "    </tr>\n",
       "  </thead>\n",
       "  <tbody>\n",
       "    <tr>\n",
       "      <th>prealgebra</th>\n",
       "      <td>78.0</td>\n",
       "      <td>85.0</td>\n",
       "      <td>85.0</td>\n",
       "      <td>83.0</td>\n",
       "      <td>79.0</td>\n",
       "      <td>83.0</td>\n",
       "    </tr>\n",
       "    <tr>\n",
       "      <th>algebra</th>\n",
       "      <td>65.0</td>\n",
       "      <td>72.0</td>\n",
       "      <td>63.0</td>\n",
       "      <td>68.0</td>\n",
       "      <td>68.0</td>\n",
       "      <td>74.0</td>\n",
       "    </tr>\n",
       "    <tr>\n",
       "      <th>geometry</th>\n",
       "      <td>52.0</td>\n",
       "      <td>56.0</td>\n",
       "      <td>58.0</td>\n",
       "      <td>53.0</td>\n",
       "      <td>52.0</td>\n",
       "      <td>45.0</td>\n",
       "    </tr>\n",
       "    <tr>\n",
       "      <th>counting_and_probability</th>\n",
       "      <td>46.0</td>\n",
       "      <td>53.0</td>\n",
       "      <td>53.0</td>\n",
       "      <td>51.0</td>\n",
       "      <td>50.0</td>\n",
       "      <td>49.0</td>\n",
       "    </tr>\n",
       "    <tr>\n",
       "      <th>number_theory</th>\n",
       "      <td>55.0</td>\n",
       "      <td>56.0</td>\n",
       "      <td>57.0</td>\n",
       "      <td>52.0</td>\n",
       "      <td>51.0</td>\n",
       "      <td>57.0</td>\n",
       "    </tr>\n",
       "    <tr>\n",
       "      <th>precalculus</th>\n",
       "      <td>43.0</td>\n",
       "      <td>45.0</td>\n",
       "      <td>47.0</td>\n",
       "      <td>47.0</td>\n",
       "      <td>46.0</td>\n",
       "      <td>41.0</td>\n",
       "    </tr>\n",
       "  </tbody>\n",
       "</table>\n",
       "</div>"
      ],
      "text/plain": [
       "                          prealgebra  algebra  geometry  \\\n",
       "subject                                                   \n",
       "prealgebra                      78.0     85.0      85.0   \n",
       "algebra                         65.0     72.0      63.0   \n",
       "geometry                        52.0     56.0      58.0   \n",
       "counting_and_probability        46.0     53.0      53.0   \n",
       "number_theory                   55.0     56.0      57.0   \n",
       "precalculus                     43.0     45.0      47.0   \n",
       "\n",
       "                          counting_and_probability  number_theory  precalculus  \n",
       "subject                                                                         \n",
       "prealgebra                                    83.0           79.0         83.0  \n",
       "algebra                                       68.0           68.0         74.0  \n",
       "geometry                                      53.0           52.0         45.0  \n",
       "counting_and_probability                      51.0           50.0         49.0  \n",
       "number_theory                                 52.0           51.0         57.0  \n",
       "precalculus                                   47.0           46.0         41.0  "
      ]
     },
     "execution_count": 22,
     "metadata": {},
     "output_type": "execute_result"
    }
   ],
   "source": [
    "bysubject_matrix = []\n",
    "for i, subj in enumerate(SUBJECTS):\n",
    "    bysubject_matrix.append(\n",
    "        subj_results[i].groupby(\"subject\")[\"is_correct\"].mean().to_frame().rename(columns={\"is_correct\": subj})\n",
    "    )\n",
    "bysubject_matrix = pd.concat(bysubject_matrix, axis=1)\n",
    "bysubject_matrix.loc[SUBJECTS] * 100"
   ]
  },
  {
   "cell_type": "code",
   "execution_count": null,
   "id": "86e1c6b5-cbf7-4ae1-87f6-ab4f8f495b4d",
   "metadata": {},
   "outputs": [],
   "source": []
  }
 ],
 "metadata": {
  "kernelspec": {
   "display_name": "Python 3 (ipykernel)",
   "language": "python",
   "name": "python3"
  },
  "language_info": {
   "codemirror_mode": {
    "name": "ipython",
    "version": 3
   },
   "file_extension": ".py",
   "mimetype": "text/x-python",
   "name": "python",
   "nbconvert_exporter": "python",
   "pygments_lexer": "ipython3",
   "version": "3.12.8"
  }
 },
 "nbformat": 4,
 "nbformat_minor": 5
}
