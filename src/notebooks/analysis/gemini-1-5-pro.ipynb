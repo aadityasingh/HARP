{
 "cells": [
  {
   "cell_type": "code",
   "execution_count": 1,
   "id": "3fe72bd1-22a8-4c0f-877b-3a3de0f81215",
   "metadata": {},
   "outputs": [],
   "source": [
    "import sys\n",
    "from pathlib import Path\n",
    "\n",
    "BASEDIR = Path(\"/workspaces/HARP/\") / \"src\"  # Replace with your own basedir path for the repo\n",
    "\n",
    "sys.path.insert(0, str(BASEDIR))"
   ]
  },
  {
   "cell_type": "code",
   "execution_count": 2,
   "id": "741cddd2-34c4-4d54-b60c-8ed2ed88a00b",
   "metadata": {},
   "outputs": [],
   "source": [
    "from __future__ import annotations\n",
    "\n",
    "import copy\n",
    "import itertools\n",
    "import json\n",
    "import math\n",
    "import os\n",
    "import pickle\n",
    "import pprint\n",
    "import re\n",
    "import textwrap\n",
    "import time\n",
    "import traceback\n",
    "from collections import Counter, defaultdict\n",
    "from typing import Any\n",
    "\n",
    "import matplotlib.pyplot as plt\n",
    "import numpy as np\n",
    "import pandas as pd\n",
    "import tiktoken\n",
    "from IPython.display import Markdown, clear_output, display\n",
    "from tqdm.auto import tqdm\n",
    "\n",
    "import vertexai\n",
    "from vertexai.batch_prediction._batch_prediction import BatchPredictionJob"
   ]
  },
  {
   "cell_type": "code",
   "execution_count": 3,
   "id": "843fc7cc-62ce-4148-85f0-47572c431cd5",
   "metadata": {},
   "outputs": [],
   "source": [
    "from eval.costs import count_tokens, get_pricing\n",
    "from eval.eval import run_one, create_batch, make_answer_check_dict_from_jsonl, make_results_df, accuracy_by_split\n",
    "from eval.parsing_lib import *\n",
    "from eval.latex_answer_check import *\n",
    "from eval.response import ModelResponse\n",
    "from eval.utils import read_jsonl, write_jsonl, get_uid"
   ]
  },
  {
   "cell_type": "markdown",
   "id": "570d6f82-8be9-4dad-bc79-53514416cae2",
   "metadata": {},
   "source": [
    "# Data"
   ]
  },
  {
   "cell_type": "code",
   "execution_count": 4,
   "id": "e57b30b8-09d2-43f7-868e-e1cca58f8598",
   "metadata": {},
   "outputs": [
    {
     "data": {
      "text/plain": [
       "4780"
      ]
     },
     "execution_count": 4,
     "metadata": {},
     "output_type": "execute_result"
    }
   ],
   "source": [
    "dataset = read_jsonl(BASEDIR / \"data/processed/HARP.jsonl\")\n",
    "dataset_map = {get_uid(p): p for p in dataset}\n",
    "len(dataset)"
   ]
  },
  {
   "cell_type": "markdown",
   "id": "29178386-1a72-4932-88f7-86213a81547f",
   "metadata": {},
   "source": [
    "# Results"
   ]
  },
  {
   "cell_type": "code",
   "execution_count": 5,
   "id": "bad673a0-94f5-4613-ab77-99c403de23e7",
   "metadata": {},
   "outputs": [
    {
     "data": {
      "application/vnd.jupyter.widget-view+json": {
       "model_id": "0f441377963d43de81ffb3dfaa7202d9",
       "version_major": 2,
       "version_minor": 0
      },
      "text/plain": [
       "  0%|          | 0/4780 [00:00<?, ?it/s]"
      ]
     },
     "metadata": {},
     "output_type": "display_data"
    },
    {
     "name": "stdout",
     "output_type": "stream",
     "text": [
      "Function timed out after 10 seconds\n",
      "('Let the day of the week Isabella redeems her first coupon be day 0. Then she redeems her coupons on days 0, 10, 20, 30, 40, and 50. Since none of these days are Sunday, we know that none of these days are congruent to 0 modulo 7.\\n\\nWe are looking for a day $d$ such that $d, d+10, d+20, d+30, d+40, d+50$ are not congruent to 0 modulo 7.\\nWe can reduce these modulo 7:\\n$d, d+3, d+6, d+2, d+5, d+1$.\\nWe want to find a day $d$ such that none of these are 0.\\nIf $d=0$, then $d \\\\equiv 0 \\\\pmod{7}$.\\nIf $d=1$, then $d+6 \\\\equiv 0 \\\\pmod{7}$.\\nIf $d=2$, then $d+5 \\\\equiv 0 \\\\pmod{7}$.\\nIf $d=3$, then $d+4 \\\\equiv 0 \\\\pmod{7}$.\\nIf $d=4$, then $d+3 \\\\equiv 0 \\\\pmod{7}$.\\nIf $d=5$, then $d+2 \\\\equiv 0 \\\\pmod{7}$.\\nIf $d=6$, then $d+1 \\\\equiv 0 \\\\pmod{7}$.\\n\\nSince none of the days are Sunday, we must have $d \\\\equiv x \\\\pmod{7}$, where $x$ is not $0, 4, 1, 5, 2, 6, 3$.\\nSince $d$ must be one of $0, 1, 2, 3, 4, 5, 6$, we see that there is no such $d$.\\n\\nHowever, if we consider the days of the week as Monday, Tuesday, Wednesday, Thursday, Friday, Saturday, Sunday, then we can assign numbers 1, 2, 3, 4, 5, 6, 0.\\nWe want to find a day $d$ such that $d, d+3, d+6, d+2, d+5, d+1$ are not congruent to 0 modulo 7.\\nIf $d=0$, then $d \\\\equiv 0 \\\\pmod{7}$.\\nIf $d=1$, then $d+6 \\\\equiv 0 \\\\pmod{7}$.\\nIf $d=2$, then $d+5 \\\\equiv 0 \\\\pmod{7}$.\\nIf $d=3$, then $d+4 \\\\equiv 0 \\\\pmod{7}$.\\nIf $d=4$, then $d+3 \\\\equiv 0 \\\\pmod{7}$.\\nIf $d=5$, then $d+2 \\\\equiv 0 \\\\pmod{7}$.\\nIf $d=6$, then $d+1 \\\\equiv 0 \\\\pmod{7}$.\\n\\nIf we let $d \\\\equiv 0 \\\\pmod{7}$, then we have $0, 3, 6, 2, 5, 1$. None of these are 0.\\nSo Isabella redeems her first coupon on a Sunday.\\n\\nFinal Answer: The final answer is Sunday. ', '$\\\\text{Wednesday}$') {'extract_policy': 'flex', 'eval_policy': 'aggressive', 'debug': False}\n"
     ]
    },
    {
     "data": {
      "text/plain": [
       "56.33891213389121"
      ]
     },
     "execution_count": 5,
     "metadata": {},
     "output_type": "execute_result"
    }
   ],
   "source": [
    "fname = BASEDIR / \"outputs/short_answer/gemini-1.5-pro-002/outputs_minerva.jsonl\"\n",
    "\n",
    "raw_responses = read_jsonl(fname)\n",
    "responses = [\n",
    "    {\n",
    "        \"uid\": x[\"custom_id\"],\n",
    "        \"system\": x[\"request\"][\"system_instruction\"],\n",
    "        \"prompt\": x[\"request\"][\"contents\"],\n",
    "        \"response\": ModelResponse.from_response(x[\"response\"], \"google\", use_batch_api=True)\n",
    "    }\n",
    "    for x in raw_responses\n",
    "    if x[\"custom_id\"] in dataset_map\n",
    "]\n",
    "raw_response_map = {x[\"custom_id\"]: x for x in raw_responses if x[\"custom_id\"] in dataset_map}\n",
    "response_map = {o[\"uid\"]: o for o in responses}\n",
    "\n",
    "answer_check_dicts = make_answer_check_dict_from_jsonl(responses, dataset_map)\n",
    "answer_check_results = latex_answer_check(answer_check_dicts, use_tqdm=True)\n",
    "results_metadata = make_results_df(responses, answer_check_results, dataset_map, mode=\"shortans\")\n",
    "\n",
    "sum([x[\"is_correct\"] for x in answer_check_results]) / len(dataset) * 100"
   ]
  },
  {
   "cell_type": "code",
   "execution_count": 6,
   "id": "fbd3d3b9-b0c1-4052-a96e-fda755f08e22",
   "metadata": {},
   "outputs": [
    {
     "data": {
      "application/vnd.jupyter.widget-view+json": {
       "model_id": "822db6189c2243639acaa9b198586c6b",
       "version_major": 2,
       "version_minor": 0
      },
      "text/plain": [
       "  0%|          | 0/4780 [00:00<?, ?it/s]"
      ]
     },
     "metadata": {},
     "output_type": "display_data"
    },
    {
     "data": {
      "text/plain": [
       "58.096234309623426"
      ]
     },
     "execution_count": 6,
     "metadata": {},
     "output_type": "execute_result"
    }
   ],
   "source": [
    "fname_zeroshot = BASEDIR / \"outputs/short_answer/gemini-1.5-pro-002/outputs.jsonl\"\n",
    "\n",
    "raw_responses_zeroshot = read_jsonl(fname_zeroshot)\n",
    "responses_zeroshot = [\n",
    "    {\n",
    "        \"uid\": x[\"custom_id\"],\n",
    "        \"system\": x[\"request\"][\"system_instruction\"],\n",
    "        \"prompt\": x[\"request\"][\"contents\"],\n",
    "        \"response\": ModelResponse.from_response(x[\"response\"], \"google\", use_batch_api=True)\n",
    "    }\n",
    "    for x in raw_responses_zeroshot\n",
    "    if x[\"custom_id\"] in dataset_map\n",
    "]\n",
    "raw_response_zeroshot_map = {x[\"custom_id\"]: x for x in raw_responses_zeroshot if x[\"custom_id\"] in dataset_map}\n",
    "response_zeroshot_map = {o[\"uid\"]: o for o in responses_zeroshot}\n",
    "\n",
    "answer_check_dicts_zeroshot = make_answer_check_dict_from_jsonl(responses_zeroshot, dataset_map)\n",
    "answer_check_results_zeroshot = latex_answer_check(answer_check_dicts_zeroshot, use_tqdm=True)\n",
    "zeroshot_results_metadata = make_results_df(responses_zeroshot, answer_check_results_zeroshot, dataset_map, mode=\"shortans\")\n",
    "\n",
    "sum([x[\"is_correct\"] for x in answer_check_results_zeroshot]) / len(dataset) * 100"
   ]
  },
  {
   "cell_type": "code",
   "execution_count": 7,
   "id": "f1f09450-5e58-4f4f-88f1-c4d2422683f7",
   "metadata": {},
   "outputs": [],
   "source": [
    "os.makedirs(BASEDIR / \"results/gemini-1.5-pro-002\", exist_ok=True)\n",
    "results_metadata.to_csv(BASEDIR / \"results/gemini-1.5-pro-002/results_minerva.csv\")\n",
    "zeroshot_results_metadata.to_csv(BASEDIR / \"results/gemini-1.5-pro-002/results.csv\")"
   ]
  },
  {
   "cell_type": "code",
   "execution_count": 18,
   "id": "9cac2621-1524-4ffa-b39a-5d0bf8c74800",
   "metadata": {},
   "outputs": [
    {
     "data": {
      "text/html": [
       "<div>\n",
       "<style scoped>\n",
       "    .dataframe tbody tr th:only-of-type {\n",
       "        vertical-align: middle;\n",
       "    }\n",
       "\n",
       "    .dataframe tbody tr th {\n",
       "        vertical-align: top;\n",
       "    }\n",
       "\n",
       "    .dataframe thead th {\n",
       "        text-align: right;\n",
       "    }\n",
       "</style>\n",
       "<table border=\"1\" class=\"dataframe\">\n",
       "  <thead>\n",
       "    <tr style=\"text-align: right;\">\n",
       "      <th></th>\n",
       "      <th>level</th>\n",
       "      <th>subject</th>\n",
       "      <th>has_asy_problem</th>\n",
       "      <th>has_asy_solution</th>\n",
       "      <th>reason</th>\n",
       "      <th>is_correct</th>\n",
       "      <th>answer</th>\n",
       "      <th>predict</th>\n",
       "      <th>input_tokens</th>\n",
       "      <th>output_tokens</th>\n",
       "    </tr>\n",
       "    <tr>\n",
       "      <th>uid</th>\n",
       "      <th></th>\n",
       "      <th></th>\n",
       "      <th></th>\n",
       "      <th></th>\n",
       "      <th></th>\n",
       "      <th></th>\n",
       "      <th></th>\n",
       "      <th></th>\n",
       "      <th></th>\n",
       "      <th></th>\n",
       "    </tr>\n",
       "  </thead>\n",
       "  <tbody>\n",
       "    <tr>\n",
       "      <th>2012/AMC_8/1</th>\n",
       "      <td>1</td>\n",
       "      <td>prealgebra</td>\n",
       "      <td>False</td>\n",
       "      <td>False</td>\n",
       "      <td>stop</td>\n",
       "      <td>True</td>\n",
       "      <td>$\\hspace{.05in}9$</td>\n",
       "      <td>9</td>\n",
       "      <td>95</td>\n",
       "      <td>140</td>\n",
       "    </tr>\n",
       "  </tbody>\n",
       "</table>\n",
       "</div>"
      ],
      "text/plain": [
       "              level     subject  has_asy_problem  has_asy_solution reason  \\\n",
       "uid                                                                         \n",
       "2012/AMC_8/1      1  prealgebra            False             False   stop   \n",
       "\n",
       "              is_correct             answer predict  input_tokens  \\\n",
       "uid                                                                 \n",
       "2012/AMC_8/1        True  $\\hspace{.05in}9$       9            95   \n",
       "\n",
       "              output_tokens  \n",
       "uid                          \n",
       "2012/AMC_8/1            140  "
      ]
     },
     "execution_count": 18,
     "metadata": {},
     "output_type": "execute_result"
    }
   ],
   "source": [
    "zeroshot_results_metadata.query(\"uid == '2012/AMC_8/1'\")"
   ]
  },
  {
   "cell_type": "markdown",
   "id": "28206519-0619-43db-8971-9337e5e9ff16",
   "metadata": {},
   "source": [
    "## Cost"
   ]
  },
  {
   "cell_type": "code",
   "execution_count": 18,
   "id": "6965a4de-258a-48b9-ae31-25660573186f",
   "metadata": {},
   "outputs": [
    {
     "data": {
      "text/plain": [
       "{'input_tokens': 3.125e-07, 'output_tokens': 1.25e-06}"
      ]
     },
     "execution_count": 18,
     "metadata": {},
     "output_type": "execute_result"
    }
   ],
   "source": [
    "PRICES = get_pricing(\"gemini-1.5-pro-002\")\n",
    "PRICES"
   ]
  },
  {
   "cell_type": "code",
   "execution_count": 19,
   "id": "d7cf4621-b5ca-49cf-9ebe-265f0ab19b97",
   "metadata": {},
   "outputs": [
    {
     "data": {
      "text/plain": [
       "3.4685445312500103"
      ]
     },
     "execution_count": 19,
     "metadata": {},
     "output_type": "execute_result"
    }
   ],
   "source": [
    "total_cost = 0\n",
    "for ex in raw_responses_zeroshot:\n",
    "    input_len = 0\n",
    "    for part in ex[\"request\"][\"system_instruction\"][\"parts\"]:\n",
    "        input_len += count_tokens(part[\"text\"], \"gemini-1.5-pro-002\")\n",
    "    for content in ex[\"request\"][\"contents\"]:\n",
    "        for part in content[\"parts\"]:\n",
    "            input_len += count_tokens(part[\"text\"], \"gemini-1.5-pro-002\")\n",
    "    total_cost += PRICES[\"input_tokens\"] * input_len\n",
    "\n",
    "    output_len = 0\n",
    "    for cand in ex[\"response\"][\"candidates\"]:\n",
    "        if \"content\" not in cand:\n",
    "            continue\n",
    "        for part in cand[\"content\"][\"parts\"]:\n",
    "            output_len += count_tokens(part[\"text\"], \"gemini-1.5-pro-002\")\n",
    "    total_cost += PRICES[\"output_tokens\"] * output_len\n",
    "total_cost / 2  # divide by 2 for batch api"
   ]
  },
  {
   "cell_type": "code",
   "execution_count": 20,
   "id": "1b8c5104-729a-43a3-8a21-ccc2be20fe34",
   "metadata": {},
   "outputs": [
    {
     "data": {
      "text/plain": [
       "3.970216406249982"
      ]
     },
     "execution_count": 20,
     "metadata": {},
     "output_type": "execute_result"
    }
   ],
   "source": [
    "total_cost = 0\n",
    "for ex in raw_responses:\n",
    "    input_len = 0\n",
    "    for part in ex[\"request\"][\"system_instruction\"][\"parts\"]:\n",
    "        input_len += count_tokens(part[\"text\"], \"gemini-1.5-pro-002\")\n",
    "    for content in ex[\"request\"][\"contents\"]:\n",
    "        for part in content[\"parts\"]:\n",
    "            input_len += count_tokens(part[\"text\"], \"gemini-1.5-pro-002\")\n",
    "    total_cost += PRICES[\"input_tokens\"] * input_len\n",
    "\n",
    "    output_len = 0\n",
    "    for cand in ex[\"response\"][\"candidates\"]:\n",
    "        if \"content\" not in cand:\n",
    "            continue\n",
    "        for part in cand[\"content\"][\"parts\"]:\n",
    "            output_len += count_tokens(part[\"text\"], \"gemini-1.5-pro-002\")\n",
    "    total_cost += PRICES[\"output_tokens\"] * output_len\n",
    "total_cost / 2  # divide by 2 for batch api"
   ]
  },
  {
   "cell_type": "markdown",
   "id": "78457654-cb72-4c2c-87d1-623887dc8049",
   "metadata": {},
   "source": [
    "## Finish reason\n",
    "\n",
    "- 1 problem was stopped for \"copyright\". Seems like the question was copied into a book of math problems?\n",
    "    - 2001/AMC_12/16\n",
    "- For the 13 max_length hits\n",
    "    - almost always, it seems to start repeating a string of tokens\n",
    "    - One exception is `2016/AIME_I/12`, where is tests all possible values starting from 1. It starts listing a number of possible decompositions of a number as kp+r in increasing order, which I'm not sure is useful, which is kinda like repetition."
   ]
  },
  {
   "cell_type": "code",
   "execution_count": 18,
   "id": "ed894b3b-659e-49a8-8d36-9a3b8bb429a7",
   "metadata": {},
   "outputs": [
    {
     "data": {
      "text/plain": [
       "reason\n",
       "stop         4780\n",
       "length         13\n",
       "copyright       1\n",
       "Name: count, dtype: int64"
      ]
     },
     "execution_count": 18,
     "metadata": {},
     "output_type": "execute_result"
    }
   ],
   "source": [
    "results_metadata.value_counts(\"reason\")"
   ]
  },
  {
   "cell_type": "code",
   "execution_count": 83,
   "id": "2c6781e6-05ea-4f96-a906-1dedf9cc7176",
   "metadata": {},
   "outputs": [
    {
     "data": {
      "text/plain": [
       "level  reason   \n",
       "1      length       4\n",
       "3      copyright    1\n",
       "       length       5\n",
       "5      length       2\n",
       "6      length       2\n",
       "Name: count, dtype: int64"
      ]
     },
     "execution_count": 83,
     "metadata": {},
     "output_type": "execute_result"
    }
   ],
   "source": [
    "results_metadata.query(\"reason != 'stop'\").value_counts([\"level\", \"reason\"]).sort_index()"
   ]
  },
  {
   "cell_type": "code",
   "execution_count": 84,
   "id": "020c58c4-bd83-4a1e-a9ae-4b922dd1198a",
   "metadata": {},
   "outputs": [
    {
     "data": {
      "text/plain": [
       "subject                   reason   \n",
       "algebra                   length       2\n",
       "counting_and_probability  copyright    1\n",
       "geometry                  length       4\n",
       "number_theory             length       6\n",
       "prealgebra                length       1\n",
       "Name: count, dtype: int64"
      ]
     },
     "execution_count": 84,
     "metadata": {},
     "output_type": "execute_result"
    }
   ],
   "source": [
    "results_metadata.query(\"reason != 'stop'\").value_counts([\"subject\", \"reason\"]).sort_index()"
   ]
  },
  {
   "cell_type": "code",
   "execution_count": 61,
   "id": "13e5f412-9faa-45a2-a43f-2e77271fb4ae",
   "metadata": {},
   "outputs": [
    {
     "data": {
      "text/html": [
       "<div>\n",
       "<style scoped>\n",
       "    .dataframe tbody tr th:only-of-type {\n",
       "        vertical-align: middle;\n",
       "    }\n",
       "\n",
       "    .dataframe tbody tr th {\n",
       "        vertical-align: top;\n",
       "    }\n",
       "\n",
       "    .dataframe thead th {\n",
       "        text-align: right;\n",
       "    }\n",
       "</style>\n",
       "<table border=\"1\" class=\"dataframe\">\n",
       "  <thead>\n",
       "    <tr style=\"text-align: right;\">\n",
       "      <th></th>\n",
       "      <th>level</th>\n",
       "      <th>subject</th>\n",
       "      <th>reason</th>\n",
       "      <th>is_correct</th>\n",
       "    </tr>\n",
       "    <tr>\n",
       "      <th>uid</th>\n",
       "      <th></th>\n",
       "      <th></th>\n",
       "      <th></th>\n",
       "      <th></th>\n",
       "    </tr>\n",
       "  </thead>\n",
       "  <tbody>\n",
       "    <tr>\n",
       "      <th>2003/AMC_8/14</th>\n",
       "      <td>1</td>\n",
       "      <td>number_theory</td>\n",
       "      <td>length</td>\n",
       "      <td>False</td>\n",
       "    </tr>\n",
       "    <tr>\n",
       "      <th>2004/AIME_II/14</th>\n",
       "      <td>6</td>\n",
       "      <td>number_theory</td>\n",
       "      <td>length</td>\n",
       "      <td>False</td>\n",
       "    </tr>\n",
       "    <tr>\n",
       "      <th>1995/AIME/4</th>\n",
       "      <td>3</td>\n",
       "      <td>geometry</td>\n",
       "      <td>length</td>\n",
       "      <td>False</td>\n",
       "    </tr>\n",
       "    <tr>\n",
       "      <th>1991/AJHSME/20</th>\n",
       "      <td>1</td>\n",
       "      <td>number_theory</td>\n",
       "      <td>length</td>\n",
       "      <td>False</td>\n",
       "    </tr>\n",
       "    <tr>\n",
       "      <th>2002/AIME_I/4</th>\n",
       "      <td>3</td>\n",
       "      <td>algebra</td>\n",
       "      <td>length</td>\n",
       "      <td>False</td>\n",
       "    </tr>\n",
       "    <tr>\n",
       "      <th>2002/AMC_8/16</th>\n",
       "      <td>1</td>\n",
       "      <td>geometry</td>\n",
       "      <td>length</td>\n",
       "      <td>False</td>\n",
       "    </tr>\n",
       "    <tr>\n",
       "      <th>1968/AHSME/18</th>\n",
       "      <td>3</td>\n",
       "      <td>geometry</td>\n",
       "      <td>length</td>\n",
       "      <td>False</td>\n",
       "    </tr>\n",
       "    <tr>\n",
       "      <th>2004/AIME_I/15</th>\n",
       "      <td>6</td>\n",
       "      <td>number_theory</td>\n",
       "      <td>length</td>\n",
       "      <td>False</td>\n",
       "    </tr>\n",
       "    <tr>\n",
       "      <th>2005/AMC_12B/15</th>\n",
       "      <td>3</td>\n",
       "      <td>prealgebra</td>\n",
       "      <td>length</td>\n",
       "      <td>False</td>\n",
       "    </tr>\n",
       "    <tr>\n",
       "      <th>2001/AMC_12/16</th>\n",
       "      <td>3</td>\n",
       "      <td>counting_and_probability</td>\n",
       "      <td>copyright</td>\n",
       "      <td>False</td>\n",
       "    </tr>\n",
       "    <tr>\n",
       "      <th>2019/AIME_II/11</th>\n",
       "      <td>5</td>\n",
       "      <td>geometry</td>\n",
       "      <td>length</td>\n",
       "      <td>False</td>\n",
       "    </tr>\n",
       "    <tr>\n",
       "      <th>2016/AIME_I/12</th>\n",
       "      <td>5</td>\n",
       "      <td>number_theory</td>\n",
       "      <td>length</td>\n",
       "      <td>False</td>\n",
       "    </tr>\n",
       "    <tr>\n",
       "      <th>2015/AMC_8/18</th>\n",
       "      <td>1</td>\n",
       "      <td>algebra</td>\n",
       "      <td>length</td>\n",
       "      <td>False</td>\n",
       "    </tr>\n",
       "    <tr>\n",
       "      <th>2005/AMC_12A/12</th>\n",
       "      <td>3</td>\n",
       "      <td>number_theory</td>\n",
       "      <td>length</td>\n",
       "      <td>False</td>\n",
       "    </tr>\n",
       "  </tbody>\n",
       "</table>\n",
       "</div>"
      ],
      "text/plain": [
       "                 level                   subject     reason  is_correct\n",
       "uid                                                                    \n",
       "2003/AMC_8/14        1             number_theory     length       False\n",
       "2004/AIME_II/14      6             number_theory     length       False\n",
       "1995/AIME/4          3                  geometry     length       False\n",
       "1991/AJHSME/20       1             number_theory     length       False\n",
       "2002/AIME_I/4        3                   algebra     length       False\n",
       "2002/AMC_8/16        1                  geometry     length       False\n",
       "1968/AHSME/18        3                  geometry     length       False\n",
       "2004/AIME_I/15       6             number_theory     length       False\n",
       "2005/AMC_12B/15      3                prealgebra     length       False\n",
       "2001/AMC_12/16       3  counting_and_probability  copyright       False\n",
       "2019/AIME_II/11      5                  geometry     length       False\n",
       "2016/AIME_I/12       5             number_theory     length       False\n",
       "2015/AMC_8/18        1                   algebra     length       False\n",
       "2005/AMC_12A/12      3             number_theory     length       False"
      ]
     },
     "execution_count": 61,
     "metadata": {},
     "output_type": "execute_result"
    }
   ],
   "source": [
    "results_metadata.query(\"reason != 'stop'\")"
   ]
  },
  {
   "cell_type": "code",
   "execution_count": 48,
   "id": "a78443c1-fa11-47ba-9cdd-b941fba9822b",
   "metadata": {},
   "outputs": [
    {
     "data": {
      "text/plain": [
       "{'parts': [{'text': 'Problem:\\nA spider has one sock and one shoe for each of its eight legs. In how many different orders can the spider put on its socks and shoes, assuming that, on each leg, the sock must be put on before the shoe?'}],\n",
       " 'role': 'user'}"
      ]
     },
     "execution_count": 48,
     "metadata": {},
     "output_type": "execute_result"
    }
   ],
   "source": [
    "raw_response_map[\"2001/AMC_12/16\"][\"request\"][\"contents\"][-2]"
   ]
  },
  {
   "cell_type": "code",
   "execution_count": 47,
   "id": "e22e322e-fcea-461a-bf37-0fdad8f74b23",
   "metadata": {},
   "outputs": [
    {
     "data": {
      "text/plain": [
       "{'candidates': [{'avgLogprobs': 'NaN',\n",
       "   'citationMetadata': {'citations': [{'endIndex': 846,\n",
       "      'startIndex': 703,\n",
       "      'uri': 'https://www.coursehero.com/textbook-solutions/College-Algebra-6th-Edition-9780321916600-1478/Chapter-8-Problem-65-2514052/'}]},\n",
       "   'finishReason': 'RECITATION'}],\n",
       " 'modelVersion': 'gemini-1.5-pro-002@default',\n",
       " 'usageMetadata': {'promptTokenCount': 753, 'totalTokenCount': 753}}"
      ]
     },
     "execution_count": 47,
     "metadata": {},
     "output_type": "execute_result"
    }
   ],
   "source": [
    "raw_response_map[\"2001/AMC_12/16\"][\"response\"]"
   ]
  },
  {
   "cell_type": "code",
   "execution_count": 20,
   "id": "7cff9dac-4208-4df0-a6be-d2e7c91cc512",
   "metadata": {},
   "outputs": [
    {
     "data": {
      "text/html": [
       "<div>\n",
       "<style scoped>\n",
       "    .dataframe tbody tr th:only-of-type {\n",
       "        vertical-align: middle;\n",
       "    }\n",
       "\n",
       "    .dataframe tbody tr th {\n",
       "        vertical-align: top;\n",
       "    }\n",
       "\n",
       "    .dataframe thead th {\n",
       "        text-align: right;\n",
       "    }\n",
       "</style>\n",
       "<table border=\"1\" class=\"dataframe\">\n",
       "  <thead>\n",
       "    <tr style=\"text-align: right;\">\n",
       "      <th></th>\n",
       "      <th>level</th>\n",
       "      <th>subject</th>\n",
       "      <th>reason</th>\n",
       "      <th>is_correct</th>\n",
       "    </tr>\n",
       "    <tr>\n",
       "      <th>uid</th>\n",
       "      <th></th>\n",
       "      <th></th>\n",
       "      <th></th>\n",
       "      <th></th>\n",
       "    </tr>\n",
       "  </thead>\n",
       "  <tbody>\n",
       "    <tr>\n",
       "      <th>2020/AIME_II/12</th>\n",
       "      <td>5</td>\n",
       "      <td>number_theory</td>\n",
       "      <td>length</td>\n",
       "      <td>False</td>\n",
       "    </tr>\n",
       "    <tr>\n",
       "      <th>2002/AMC_12A/20</th>\n",
       "      <td>3</td>\n",
       "      <td>number_theory</td>\n",
       "      <td>length</td>\n",
       "      <td>False</td>\n",
       "    </tr>\n",
       "    <tr>\n",
       "      <th>1998/AIME/10</th>\n",
       "      <td>5</td>\n",
       "      <td>geometry</td>\n",
       "      <td>copyright</td>\n",
       "      <td>False</td>\n",
       "    </tr>\n",
       "    <tr>\n",
       "      <th>1987/AHSME/29</th>\n",
       "      <td>4</td>\n",
       "      <td>algebra</td>\n",
       "      <td>length</td>\n",
       "      <td>False</td>\n",
       "    </tr>\n",
       "    <tr>\n",
       "      <th>1997/AIME/14</th>\n",
       "      <td>6</td>\n",
       "      <td>precalculus</td>\n",
       "      <td>copyright</td>\n",
       "      <td>False</td>\n",
       "    </tr>\n",
       "    <tr>\n",
       "      <th>2006/AIME_I/3</th>\n",
       "      <td>3</td>\n",
       "      <td>number_theory</td>\n",
       "      <td>length</td>\n",
       "      <td>False</td>\n",
       "    </tr>\n",
       "    <tr>\n",
       "      <th>2024/AIME_II/14</th>\n",
       "      <td>6</td>\n",
       "      <td>number_theory</td>\n",
       "      <td>length</td>\n",
       "      <td>False</td>\n",
       "    </tr>\n",
       "    <tr>\n",
       "      <th>2016/AMC_12B/22</th>\n",
       "      <td>4</td>\n",
       "      <td>number_theory</td>\n",
       "      <td>length</td>\n",
       "      <td>False</td>\n",
       "    </tr>\n",
       "    <tr>\n",
       "      <th>1983/AIME/15</th>\n",
       "      <td>6</td>\n",
       "      <td>precalculus</td>\n",
       "      <td>length</td>\n",
       "      <td>False</td>\n",
       "    </tr>\n",
       "    <tr>\n",
       "      <th>2009/AMC_12A/25</th>\n",
       "      <td>4</td>\n",
       "      <td>precalculus</td>\n",
       "      <td>copyright</td>\n",
       "      <td>False</td>\n",
       "    </tr>\n",
       "    <tr>\n",
       "      <th>1968/AHSME/7</th>\n",
       "      <td>2</td>\n",
       "      <td>geometry</td>\n",
       "      <td>length</td>\n",
       "      <td>False</td>\n",
       "    </tr>\n",
       "    <tr>\n",
       "      <th>2008/AIME_I/15</th>\n",
       "      <td>6</td>\n",
       "      <td>geometry</td>\n",
       "      <td>length</td>\n",
       "      <td>False</td>\n",
       "    </tr>\n",
       "    <tr>\n",
       "      <th>2008/AIME_II/13</th>\n",
       "      <td>6</td>\n",
       "      <td>precalculus</td>\n",
       "      <td>length</td>\n",
       "      <td>False</td>\n",
       "    </tr>\n",
       "  </tbody>\n",
       "</table>\n",
       "</div>"
      ],
      "text/plain": [
       "                 level        subject     reason  is_correct\n",
       "uid                                                         \n",
       "2020/AIME_II/12      5  number_theory     length       False\n",
       "2002/AMC_12A/20      3  number_theory     length       False\n",
       "1998/AIME/10         5       geometry  copyright       False\n",
       "1987/AHSME/29        4        algebra     length       False\n",
       "1997/AIME/14         6    precalculus  copyright       False\n",
       "2006/AIME_I/3        3  number_theory     length       False\n",
       "2024/AIME_II/14      6  number_theory     length       False\n",
       "2016/AMC_12B/22      4  number_theory     length       False\n",
       "1983/AIME/15         6    precalculus     length       False\n",
       "2009/AMC_12A/25      4    precalculus  copyright       False\n",
       "1968/AHSME/7         2       geometry     length       False\n",
       "2008/AIME_I/15       6       geometry     length       False\n",
       "2008/AIME_II/13      6    precalculus     length       False"
      ]
     },
     "execution_count": 20,
     "metadata": {},
     "output_type": "execute_result"
    }
   ],
   "source": [
    "zeroshot_results_metadata.query(\"reason != 'stop'\")"
   ]
  },
  {
   "cell_type": "code",
   "execution_count": 30,
   "id": "9a171165-4099-4d84-b618-d3e581e7a3a4",
   "metadata": {},
   "outputs": [
    {
     "data": {
      "text/markdown": [
       "Problem:\n",
       "A regular hexagon with center at the origin in the complex plane has opposite pairs of sides one unit apart. One pair of sides is parallel to the imaginary axis. Let $R$ be the region outside the hexagon, and let $S = \\left\\lbrace\\frac{1}{z}|z \\in R\\right\\rbrace$. Then the area of $S$ has the form $a\\pi + \\sqrt{b}$, where $a$ and $b$ are positive integers. Find $a + b$."
      ],
      "text/plain": [
       "<IPython.core.display.Markdown object>"
      ]
     },
     "metadata": {},
     "output_type": "display_data"
    }
   ],
   "source": [
    "display(Markdown(response_zeroshot_map[ex_uid][\"prompt\"][-2][\"parts\"][0][\"text\"]))"
   ]
  },
  {
   "cell_type": "code",
   "execution_count": 25,
   "id": "9a085f05-e9cc-4635-9254-242d4d5ceed4",
   "metadata": {},
   "outputs": [
    {
     "data": {
      "text/markdown": [
       "Let the vertices of the regular hexagon be $v_1, v_2, \\dots, v_6$. Since the hexagon is centered at the origin, the vertices are given by $v_k = re^{i(2k-1)\\pi/6}$ for $k = 1, 2, \\dots, 6$, where $r$ is the distance from the origin to each vertex.\n",
       "The distance between opposite vertices is $2r$. The distance between opposite sides is given as 1. The distance between opposite sides is given by $r\\sqrt{3}$. Thus, $r\\sqrt{3} = 1$, so $r = \\frac{1}{\\sqrt{3}}$.\n",
       "The vertices are $v_k = \\frac{1}{\\sqrt{3}}e^{i(2k-1)\\pi/6}$ for $k = 1, 2, \\dots, 6$.\n",
       "The region $R$ is the exterior of the hexagon. The set $S$ is the image of $R$ under the transformation $w = \\frac{1}{z}$.\n",
       "The transformation $w = \\frac{1}{z}$ maps the exterior of the hexagon to the interior of another hexagon.\n",
       "Let $w_k = \\frac{1}{v_k} = \\frac{1}{\\frac{1}{\\sqrt{3}}e^{i(2k-1)\\pi/6}} = \\sqrt{3}e^{-i(2k-1)\\pi/6}$ for $k = 1, 2, \\dots, 6$.\n",
       "The new hexagon has vertices $w_k = \\sqrt{3}e^{-i(2k-1)\\pi/6}$ for $k = 1, 2, \\dots, 6$.\n",
       "The distance from the origin to each vertex is $\\sqrt{3}$. The side length of the new hexagon is $\\sqrt{3} \\cdot 2 \\sin(\\pi/6) = \\sqrt{3}$.\n",
       "The area of the new hexagon is $6 \\cdot \\frac{(\\sqrt{3})^2 \\sqrt{3}}{4} = \\frac{9\\sqrt{3}}{2}$.\n",
       "The area of $S$ is the area of the hexagon with vertices $w_k$, which is $\\frac{9\\sqrt{3}}{2}$.\n",
       "The area of $S$ is of the form $a\\pi + \\sqrt{b}$. In this case, $a = 0$ and $b = \\frac{81 \\cdot 3}{4} = \\frac{243}{4}$.\n",
       "However, $a$ and $b$ must be integers.\n",
       "The area of $S$ is $\\frac{9\\sqrt{3}}{2}$.\n",
       "We are given that the area of $S$ is $a\\pi + \\sqrt{b}$.\n",
       "Thus, $a=0$ and $\\sqrt{b} = \\frac{9\\sqrt{3}}{2}$, so $b = \\frac{81 \\cdot 3}{4} = \\frac{243}{4}$.\n",
       "Since $a$ and $b$ are integers, we have $a=0$ and $b = \\frac{243}{4}$.\n",
       "The area of $S$ is $0\\pi + \\frac{9\\sqrt{3}}{2}$, so $a=0$ and $b = \\frac{243}{4}$.\n",
       "The area of $S$ is $\\frac{9\\sqrt{3}}{2} = 0\\pi + \\sqrt{\\frac{243}{4}}$.\n",
       "Then $a=0$ and $b = \\frac{243}{4}$.\n",
       "The area of $S$ is $\\frac{9\\sqrt{3}}{2}$, so $a=0$ and $\\sqrt{b} = \\frac{9\\sqrt{3}}{2}$, so $b = \\frac{243}{4}$.\n",
       "$a+b = 0 + \\frac{243}{4}$.\n",
       "$a+b = 0 + \\frac{243}{4}$.\n",
       "$a+b = 0 + \\frac{243}{4}$.\n",
       "$a+b = 0 + \\frac{243}{4}$.\n",
       "$a+b = 0 + \\frac{243}{4}$.\n",
       "$a+b = 0 + \\frac{243}{4}$.\n",
       "$a+b = 0 + \\frac{243}{4}$.\n",
       "$a+b = 0 + \\frac{243}{4}$.\n",
       "$a+b = 0 + \\frac{243}{4}$.\n",
       "$a+b = 0 + \\frac{243}{4}$.\n",
       "$a+b = 0 + \\frac{243}{4}$.\n",
       "$a+b = 0 + \\frac{243}{4}$.\n",
       "$a+b = 0 + \\frac{243}{4}$.\n",
       "$a+b = 0 + \\frac{243}{4}$.\n",
       "$a+b = 0 + \\frac{243}{4}$.\n",
       "$a+b = 0 + \\frac{243}{4}$.\n",
       "$a+b = 0 + \\frac{243}{4}$.\n",
       "$a+b = 0 + \\frac{243}{4}$.\n",
       "$a+b = 0 + \\frac{243}{4}$.\n",
       "$a+b = 0 + \\frac{243}{4}$.\n",
       "$a+b = 0 + \\frac{243}{4}$.\n",
       "$a+b = 0 + \\frac{243}{4}$.\n",
       "$a+b = 0 + \\frac{243}{4}$.\n",
       "$a+b = 0 + \\frac{243}{4}$.\n",
       "$a+b = 0 + \\frac{243}{4}$.\n",
       "$a+b = 0 + \\frac{243}{4}$.\n",
       "$a+b = 0 + \\frac{243}{4}$.\n",
       "$a+b = 0 + \\frac{243}{4}$.\n",
       "$a+b = 0 + \\frac{243}{4}$.\n",
       "$a+b = 0 + \\frac{243}{4}$.\n",
       "$a+b = 0 + \\frac{243}{4}$.\n",
       "$a+b = 0 + \\frac{243}{4}$.\n",
       "$a+b = 0 + \\frac{243}{4}$.\n",
       "$a+b = 0 + \\frac{243}{4}$.\n",
       "$a+b = 0 + \\frac{243}{4}$.\n",
       "$a+b = 0 + \\frac{243}{4}$.\n",
       "$a+b = 0 + \\frac{243}{4}$.\n",
       "$a+b = 0 + \\frac{243}{4}$.\n",
       "$a+b = 0 + \\frac{243}{4}$.\n",
       "$a+b = 0 + \\frac{243}{4}$.\n",
       "$a+b = 0 + \\frac{243}{4}$.\n",
       "$a+b = 0 + \\frac{243}{4}$.\n",
       "$a+b = 0 + \\frac{243}{4}$.\n",
       "$a+b = 0 + \\frac{243}{4}$.\n",
       "$a+b = 0 + \\frac{243}{4}$.\n",
       "$a+b = 0 + \\frac{243}{4}$.\n",
       "$a+b = 0 + \\frac{243}{4}$.\n",
       "$a+b = 0 + \\frac{243}{4}$.\n",
       "$a+b = 0 + \\frac{243}{4}$.\n",
       "$a+b = 0 + \\frac{243}{4}$.\n",
       "$a+b = 0 + \\frac{243}{4}$.\n",
       "$a+b = 0 + \\frac{243}{4}$.\n",
       "$a+b = 0 + \\frac{243}{4}$.\n",
       "$a+b = 0 + \\frac{243}{4}$.\n",
       "$a+b = 0 + \\frac{243}{4}$.\n",
       "$a+b = 0 + \\frac{243}{4}$.\n",
       "$a+b = 0 + \\frac{243}{4}$.\n",
       "$a+b = 0 + \\frac{243}{4}$.\n",
       "$a+b = 0 + \\frac{243}{4}$.\n",
       "$a+b = 0 + \\frac{243}{4}$.\n",
       "$a+b = 0 + \\frac{243}{4}$.\n",
       "$a+b = 0 + \\frac{243}{4}$.\n",
       "$a+b = 0 + \\frac{243}{4}$.\n",
       "$a+b = 0 + \\frac{243}{4}$.\n",
       "$a+b = 0 + \\frac{243}{4}$.\n",
       "$a+b = 0 + \\frac{243}{4}$.\n",
       "$a+b = 0 +"
      ],
      "text/plain": [
       "<IPython.core.display.Markdown object>"
      ]
     },
     "metadata": {},
     "output_type": "display_data"
    }
   ],
   "source": [
    "ex_uid = \"2008/AIME_II/13\"\n",
    "display(Markdown(response_zeroshot_map[ex_uid][\"response\"].completions[0].completion))"
   ]
  },
  {
   "cell_type": "code",
   "execution_count": 31,
   "id": "d5d286f5-e31d-485b-894b-f59507ff5a65",
   "metadata": {},
   "outputs": [
    {
     "data": {
      "text/plain": [
       "'https://artofproblemsolving.com/wiki/index.php/2009_AMC_12A_Problems/Problem_25'"
      ]
     },
     "execution_count": 31,
     "metadata": {},
     "output_type": "execute_result"
    }
   ],
   "source": [
    "dataset_map[\"2009/AMC_12A/25\"][\"url\"]"
   ]
  },
  {
   "cell_type": "code",
   "execution_count": 32,
   "id": "c923cb57-fea8-449e-888f-589b8b3efa2f",
   "metadata": {},
   "outputs": [
    {
     "data": {
      "text/plain": [
       "{'candidates': [{'avgLogprobs': 'NaN',\n",
       "   'citationMetadata': {'citations': [{'endIndex': 1748,\n",
       "      'startIndex': 1571,\n",
       "      'title': 'A Graphical Approach to College Algebra and Trigonometry'}]},\n",
       "   'finishReason': 'RECITATION'}],\n",
       " 'modelVersion': 'gemini-1.5-pro-002@default',\n",
       " 'usageMetadata': {'promptTokenCount': 141, 'totalTokenCount': 141}}"
      ]
     },
     "execution_count": 32,
     "metadata": {},
     "output_type": "execute_result"
    }
   ],
   "source": [
    "raw_response_zeroshot_map[\"2009/AMC_12A/25\"][\"response\"]"
   ]
  },
  {
   "cell_type": "markdown",
   "id": "7c0408f2-d6b4-44fc-851d-f896ebf3c561",
   "metadata": {},
   "source": [
    "## Accuracy"
   ]
  },
  {
   "cell_type": "code",
   "execution_count": 9,
   "id": "c61ee8ee-c661-4028-aea0-2b672de6c210",
   "metadata": {},
   "outputs": [
    {
     "data": {
      "text/html": [
       "<div>\n",
       "<style scoped>\n",
       "    .dataframe tbody tr th:only-of-type {\n",
       "        vertical-align: middle;\n",
       "    }\n",
       "\n",
       "    .dataframe tbody tr th {\n",
       "        vertical-align: top;\n",
       "    }\n",
       "\n",
       "    .dataframe thead th {\n",
       "        text-align: right;\n",
       "    }\n",
       "</style>\n",
       "<table border=\"1\" class=\"dataframe\">\n",
       "  <thead>\n",
       "    <tr style=\"text-align: right;\">\n",
       "      <th></th>\n",
       "      <th>count</th>\n",
       "      <th>accuracy</th>\n",
       "    </tr>\n",
       "    <tr>\n",
       "      <th>level</th>\n",
       "      <th></th>\n",
       "      <th></th>\n",
       "    </tr>\n",
       "  </thead>\n",
       "  <tbody>\n",
       "    <tr>\n",
       "      <th>1</th>\n",
       "      <td>799</td>\n",
       "      <td>69.086358</td>\n",
       "    </tr>\n",
       "    <tr>\n",
       "      <th>2</th>\n",
       "      <td>1505</td>\n",
       "      <td>58.604651</td>\n",
       "    </tr>\n",
       "    <tr>\n",
       "      <th>3</th>\n",
       "      <td>1363</td>\n",
       "      <td>41.012472</td>\n",
       "    </tr>\n",
       "    <tr>\n",
       "      <th>4</th>\n",
       "      <td>719</td>\n",
       "      <td>22.114047</td>\n",
       "    </tr>\n",
       "    <tr>\n",
       "      <th>5</th>\n",
       "      <td>197</td>\n",
       "      <td>11.675127</td>\n",
       "    </tr>\n",
       "    <tr>\n",
       "      <th>6</th>\n",
       "      <td>197</td>\n",
       "      <td>5.076142</td>\n",
       "    </tr>\n",
       "  </tbody>\n",
       "</table>\n",
       "</div>"
      ],
      "text/plain": [
       "       count   accuracy\n",
       "level                  \n",
       "1        799  69.086358\n",
       "2       1505  58.604651\n",
       "3       1363  41.012472\n",
       "4        719  22.114047\n",
       "5        197  11.675127\n",
       "6        197   5.076142"
      ]
     },
     "execution_count": 9,
     "metadata": {},
     "output_type": "execute_result"
    }
   ],
   "source": [
    "accuracy_by_split(results_metadata, \"level\")"
   ]
  },
  {
   "cell_type": "code",
   "execution_count": 10,
   "id": "b6da558b-5707-4e0b-8b2a-e7add0a60b5d",
   "metadata": {},
   "outputs": [
    {
     "data": {
      "text/html": [
       "<div>\n",
       "<style scoped>\n",
       "    .dataframe tbody tr th:only-of-type {\n",
       "        vertical-align: middle;\n",
       "    }\n",
       "\n",
       "    .dataframe tbody tr th {\n",
       "        vertical-align: top;\n",
       "    }\n",
       "\n",
       "    .dataframe thead th {\n",
       "        text-align: right;\n",
       "    }\n",
       "</style>\n",
       "<table border=\"1\" class=\"dataframe\">\n",
       "  <thead>\n",
       "    <tr style=\"text-align: right;\">\n",
       "      <th></th>\n",
       "      <th>count</th>\n",
       "      <th>accuracy</th>\n",
       "    </tr>\n",
       "    <tr>\n",
       "      <th>subject</th>\n",
       "      <th></th>\n",
       "      <th></th>\n",
       "    </tr>\n",
       "  </thead>\n",
       "  <tbody>\n",
       "    <tr>\n",
       "      <th>algebra</th>\n",
       "      <td>970</td>\n",
       "      <td>51.237113</td>\n",
       "    </tr>\n",
       "    <tr>\n",
       "      <th>counting_and_probability</th>\n",
       "      <td>812</td>\n",
       "      <td>43.226601</td>\n",
       "    </tr>\n",
       "    <tr>\n",
       "      <th>geometry</th>\n",
       "      <td>1268</td>\n",
       "      <td>30.047319</td>\n",
       "    </tr>\n",
       "    <tr>\n",
       "      <th>number_theory</th>\n",
       "      <td>601</td>\n",
       "      <td>45.257903</td>\n",
       "    </tr>\n",
       "    <tr>\n",
       "      <th>prealgebra</th>\n",
       "      <td>889</td>\n",
       "      <td>69.403825</td>\n",
       "    </tr>\n",
       "    <tr>\n",
       "      <th>precalculus</th>\n",
       "      <td>240</td>\n",
       "      <td>27.916667</td>\n",
       "    </tr>\n",
       "  </tbody>\n",
       "</table>\n",
       "</div>"
      ],
      "text/plain": [
       "                          count   accuracy\n",
       "subject                                   \n",
       "algebra                     970  51.237113\n",
       "counting_and_probability    812  43.226601\n",
       "geometry                   1268  30.047319\n",
       "number_theory               601  45.257903\n",
       "prealgebra                  889  69.403825\n",
       "precalculus                 240  27.916667"
      ]
     },
     "execution_count": 10,
     "metadata": {},
     "output_type": "execute_result"
    }
   ],
   "source": [
    "accuracy_by_split(results_metadata, \"subject\")"
   ]
  },
  {
   "cell_type": "code",
   "execution_count": 27,
   "id": "9a1f04ff-d5ff-47b4-b93a-68a360eafc58",
   "metadata": {},
   "outputs": [
    {
     "data": {
      "text/plain": [
       "is_correct\n",
       "False    27\n",
       "True      3\n",
       "Name: count, dtype: int64"
      ]
     },
     "execution_count": 27,
     "metadata": {},
     "output_type": "execute_result"
    }
   ],
   "source": [
    "results_metadata[\n",
    "    results_metadata.index.str.startswith(\"2024/AIME\")\n",
    "].value_counts(\"is_correct\")"
   ]
  },
  {
   "cell_type": "code",
   "execution_count": 9,
   "id": "2a4ac06b-17b9-4153-bba9-0d3f16cf53c3",
   "metadata": {},
   "outputs": [
    {
     "data": {
      "text/html": [
       "<div>\n",
       "<style scoped>\n",
       "    .dataframe tbody tr th:only-of-type {\n",
       "        vertical-align: middle;\n",
       "    }\n",
       "\n",
       "    .dataframe tbody tr th {\n",
       "        vertical-align: top;\n",
       "    }\n",
       "\n",
       "    .dataframe thead th {\n",
       "        text-align: right;\n",
       "    }\n",
       "</style>\n",
       "<table border=\"1\" class=\"dataframe\">\n",
       "  <thead>\n",
       "    <tr style=\"text-align: right;\">\n",
       "      <th></th>\n",
       "      <th>count</th>\n",
       "      <th>accuracy</th>\n",
       "    </tr>\n",
       "    <tr>\n",
       "      <th>level</th>\n",
       "      <th></th>\n",
       "      <th></th>\n",
       "    </tr>\n",
       "  </thead>\n",
       "  <tbody>\n",
       "    <tr>\n",
       "      <th>1</th>\n",
       "      <td>799</td>\n",
       "      <td>69.086358</td>\n",
       "    </tr>\n",
       "    <tr>\n",
       "      <th>2</th>\n",
       "      <td>1505</td>\n",
       "      <td>58.604651</td>\n",
       "    </tr>\n",
       "    <tr>\n",
       "      <th>3</th>\n",
       "      <td>1363</td>\n",
       "      <td>41.012472</td>\n",
       "    </tr>\n",
       "    <tr>\n",
       "      <th>4</th>\n",
       "      <td>719</td>\n",
       "      <td>22.114047</td>\n",
       "    </tr>\n",
       "    <tr>\n",
       "      <th>5</th>\n",
       "      <td>197</td>\n",
       "      <td>11.675127</td>\n",
       "    </tr>\n",
       "    <tr>\n",
       "      <th>6</th>\n",
       "      <td>197</td>\n",
       "      <td>5.076142</td>\n",
       "    </tr>\n",
       "  </tbody>\n",
       "</table>\n",
       "</div>"
      ],
      "text/plain": [
       "       count   accuracy\n",
       "level                  \n",
       "1        799  69.086358\n",
       "2       1505  58.604651\n",
       "3       1363  41.012472\n",
       "4        719  22.114047\n",
       "5        197  11.675127\n",
       "6        197   5.076142"
      ]
     },
     "execution_count": 9,
     "metadata": {},
     "output_type": "execute_result"
    }
   ],
   "source": [
    "accuracy_by_split(zeroshot_results_metadata, \"level\")"
   ]
  },
  {
   "cell_type": "code",
   "execution_count": 10,
   "id": "9542f4f5-bed0-465e-b514-de18445bc82c",
   "metadata": {},
   "outputs": [
    {
     "data": {
      "text/html": [
       "<div>\n",
       "<style scoped>\n",
       "    .dataframe tbody tr th:only-of-type {\n",
       "        vertical-align: middle;\n",
       "    }\n",
       "\n",
       "    .dataframe tbody tr th {\n",
       "        vertical-align: top;\n",
       "    }\n",
       "\n",
       "    .dataframe thead th {\n",
       "        text-align: right;\n",
       "    }\n",
       "</style>\n",
       "<table border=\"1\" class=\"dataframe\">\n",
       "  <thead>\n",
       "    <tr style=\"text-align: right;\">\n",
       "      <th></th>\n",
       "      <th>count</th>\n",
       "      <th>accuracy</th>\n",
       "    </tr>\n",
       "    <tr>\n",
       "      <th>subject</th>\n",
       "      <th></th>\n",
       "      <th></th>\n",
       "    </tr>\n",
       "  </thead>\n",
       "  <tbody>\n",
       "    <tr>\n",
       "      <th>algebra</th>\n",
       "      <td>970</td>\n",
       "      <td>51.237113</td>\n",
       "    </tr>\n",
       "    <tr>\n",
       "      <th>counting_and_probability</th>\n",
       "      <td>812</td>\n",
       "      <td>43.226601</td>\n",
       "    </tr>\n",
       "    <tr>\n",
       "      <th>geometry</th>\n",
       "      <td>1268</td>\n",
       "      <td>30.047319</td>\n",
       "    </tr>\n",
       "    <tr>\n",
       "      <th>number_theory</th>\n",
       "      <td>601</td>\n",
       "      <td>45.257903</td>\n",
       "    </tr>\n",
       "    <tr>\n",
       "      <th>prealgebra</th>\n",
       "      <td>889</td>\n",
       "      <td>69.403825</td>\n",
       "    </tr>\n",
       "    <tr>\n",
       "      <th>precalculus</th>\n",
       "      <td>240</td>\n",
       "      <td>27.916667</td>\n",
       "    </tr>\n",
       "  </tbody>\n",
       "</table>\n",
       "</div>"
      ],
      "text/plain": [
       "                          count   accuracy\n",
       "subject                                   \n",
       "algebra                     970  51.237113\n",
       "counting_and_probability    812  43.226601\n",
       "geometry                   1268  30.047319\n",
       "number_theory               601  45.257903\n",
       "prealgebra                  889  69.403825\n",
       "precalculus                 240  27.916667"
      ]
     },
     "execution_count": 10,
     "metadata": {},
     "output_type": "execute_result"
    }
   ],
   "source": [
    "accuracy_by_split(zeroshot_results_metadata, \"subject\")"
   ]
  },
  {
   "cell_type": "code",
   "execution_count": 19,
   "id": "784be478-61ee-4c33-a988-55c0ccf898e3",
   "metadata": {},
   "outputs": [
    {
     "data": {
      "text/plain": [
       "is_correct\n",
       "False    25\n",
       "True      5\n",
       "Name: count, dtype: int64"
      ]
     },
     "execution_count": 19,
     "metadata": {},
     "output_type": "execute_result"
    }
   ],
   "source": [
    "zeroshot_results_metadata[\n",
    "    zeroshot_results_metadata.index.str.startswith(\"2024/AIME\")\n",
    "].value_counts(\"is_correct\")"
   ]
  },
  {
   "cell_type": "markdown",
   "id": "d16cb1a2-fa5a-495f-ba23-4450a551d0dc",
   "metadata": {},
   "source": [
    "## Has asy"
   ]
  },
  {
   "cell_type": "code",
   "execution_count": 21,
   "id": "6f3c167a-c357-4331-860e-fd679b977871",
   "metadata": {},
   "outputs": [
    {
     "data": {
      "text/plain": [
       "has_asy_problem\n",
       "False    4161\n",
       "True      626\n",
       "Name: count, dtype: int64"
      ]
     },
     "execution_count": 21,
     "metadata": {},
     "output_type": "execute_result"
    }
   ],
   "source": [
    "zeroshot_results_metadata.value_counts(\"has_asy_problem\")"
   ]
  },
  {
   "cell_type": "code",
   "execution_count": 24,
   "id": "04589686-828b-4c6f-9e9d-b8f6611000f7",
   "metadata": {},
   "outputs": [
    {
     "data": {
      "text/plain": [
       "has_asy_problem  level\n",
       "False            1         607\n",
       "                 2        1302\n",
       "                 3        1234\n",
       "                 4         649\n",
       "                 5         185\n",
       "                 6         184\n",
       "True             1         192\n",
       "                 2         204\n",
       "                 3         132\n",
       "                 4          73\n",
       "                 5          12\n",
       "                 6          13\n",
       "Name: count, dtype: int64"
      ]
     },
     "execution_count": 24,
     "metadata": {},
     "output_type": "execute_result"
    }
   ],
   "source": [
    "zeroshot_results_metadata.value_counts([\"has_asy_problem\", \"level\"]).sort_index()"
   ]
  },
  {
   "cell_type": "code",
   "execution_count": 25,
   "id": "0e0690a2-d9b1-475f-b58f-83c78f6039bd",
   "metadata": {},
   "outputs": [
    {
     "data": {
      "text/plain": [
       "has_asy_problem  subject                 \n",
       "False            algebra                     951\n",
       "                 calculus                      4\n",
       "                 counting_and_probability    724\n",
       "                 geometry                    834\n",
       "                 number_theory               593\n",
       "                 prealgebra                  827\n",
       "                 precalculus                 228\n",
       "True             algebra                      20\n",
       "                 calculus                      1\n",
       "                 counting_and_probability     88\n",
       "                 geometry                    434\n",
       "                 number_theory                 9\n",
       "                 prealgebra                   62\n",
       "                 precalculus                  12\n",
       "Name: count, dtype: int64"
      ]
     },
     "execution_count": 25,
     "metadata": {},
     "output_type": "execute_result"
    }
   ],
   "source": [
    "zeroshot_results_metadata.value_counts([\"has_asy_problem\", \"subject\"]).sort_index()"
   ]
  },
  {
   "cell_type": "code",
   "execution_count": 22,
   "id": "5ba53436-bbbc-4f70-b6a6-eefee6772ba6",
   "metadata": {},
   "outputs": [
    {
     "data": {
      "text/plain": [
       "has_asy_solution\n",
       "False    4248\n",
       "True      539\n",
       "Name: count, dtype: int64"
      ]
     },
     "execution_count": 22,
     "metadata": {},
     "output_type": "execute_result"
    }
   ],
   "source": [
    "zeroshot_results_metadata.value_counts(\"has_asy_solution\")"
   ]
  },
  {
   "cell_type": "code",
   "execution_count": 27,
   "id": "3145e960-8b9d-4684-b379-03d140d97145",
   "metadata": {},
   "outputs": [
    {
     "data": {
      "text/plain": [
       "has_asy_problem\n",
       "False    0.603701\n",
       "True     0.402556\n",
       "Name: is_correct, dtype: float64"
      ]
     },
     "execution_count": 27,
     "metadata": {},
     "output_type": "execute_result"
    }
   ],
   "source": [
    "zeroshot_results_metadata.groupby(\"has_asy_problem\")[\"is_correct\"].sum() / zeroshot_results_metadata.groupby(\"has_asy_problem\")[\"is_correct\"].count()"
   ]
  },
  {
   "cell_type": "code",
   "execution_count": 28,
   "id": "bd0035cf-6cdf-448c-80e5-35504c82b344",
   "metadata": {},
   "outputs": [
    {
     "data": {
      "text/plain": [
       "has_asy_problem  level\n",
       "False            1        0.831960\n",
       "                 2        0.745008\n",
       "                 3        0.589951\n",
       "                 4        0.391371\n",
       "                 5        0.194595\n",
       "                 6        0.103261\n",
       "True             1        0.520833\n",
       "                 2        0.436275\n",
       "                 3        0.333333\n",
       "                 4        0.232877\n",
       "                 5        0.166667\n",
       "                 6        0.000000\n",
       "Name: is_correct, dtype: float64"
      ]
     },
     "execution_count": 28,
     "metadata": {},
     "output_type": "execute_result"
    }
   ],
   "source": [
    "zeroshot_results_metadata.groupby([\"has_asy_problem\", \"level\"])[\"is_correct\"].sum() / zeroshot_results_metadata.groupby([\"has_asy_problem\", \"level\"])[\"is_correct\"].count()"
   ]
  },
  {
   "cell_type": "markdown",
   "id": "66d97732-57cb-41fb-9e1c-35c5e7ea8cc0",
   "metadata": {},
   "source": [
    "## Output lengths"
   ]
  },
  {
   "cell_type": "code",
   "execution_count": 28,
   "id": "31aac6ef-82b7-4bf4-a9bf-fec68bb26633",
   "metadata": {},
   "outputs": [
    {
     "data": {
      "image/png": "[encoded data removed]",
      "text/plain": [
       "<Figure size 640x480 with 1 Axes>"
      ]
     },
     "metadata": {},
     "output_type": "display_data"
    }
   ],
   "source": [
    "results_metadata.boxplot(\"output_tokens\", \"level\")\n",
    "plt.title(\"Output tokens generated by gemini-1.5-pro-002\")\n",
    "plt.ylabel(\"Number of output tokens\")\n",
    "plt.show()"
   ]
  },
  {
   "cell_type": "code",
   "execution_count": 29,
   "id": "95d26ce9-cdb2-41b6-981c-c513335c687e",
   "metadata": {},
   "outputs": [
    {
     "data": {
      "image/png": "[encoded data removed]",
      "text/plain": [
       "<Figure size 900x600 with 1 Axes>"
      ]
     },
     "metadata": {},
     "output_type": "display_data"
    }
   ],
   "source": [
    "plt.figure(figsize=(9,6))\n",
    "zeroshot_results_metadata.boxplot(\"output_tokens\", \"level\", ax=plt.gca())\n",
    "plt.title(\"Output tokens generated by gemini-1.5-pro-002 zero-shot\")\n",
    "plt.ylabel(\"Number of output tokens\")\n",
    "plt.show()"
   ]
  },
  {
   "cell_type": "code",
   "execution_count": 30,
   "id": "006f409b-6e55-4855-8582-f6d3426b4c4b",
   "metadata": {},
   "outputs": [
    {
     "data": {
      "image/png": "[encoded data removed]",
      "text/plain": [
       "<Figure size 900x600 with 1 Axes>"
      ]
     },
     "metadata": {},
     "output_type": "display_data"
    }
   ],
   "source": [
    "plt.figure(figsize=(9,6))\n",
    "zeroshot_results_metadata.boxplot(\"output_tokens\", \"subject\", ax=plt.gca())\n",
    "plt.title(\"Output tokens generated by gemini-1.5-pro-002 zero-shot\")\n",
    "plt.ylabel(\"Number of output tokens\")\n",
    "plt.xticks(rotation=30)\n",
    "plt.show()"
   ]
  },
  {
   "cell_type": "code",
   "execution_count": 31,
   "id": "5477be9d-aeed-4be4-8682-a897054dc6d2",
   "metadata": {},
   "outputs": [
    {
     "data": {
      "text/html": [
       "<div>\n",
       "<style scoped>\n",
       "    .dataframe tbody tr th:only-of-type {\n",
       "        vertical-align: middle;\n",
       "    }\n",
       "\n",
       "    .dataframe tbody tr th {\n",
       "        vertical-align: top;\n",
       "    }\n",
       "\n",
       "    .dataframe thead th {\n",
       "        text-align: right;\n",
       "    }\n",
       "</style>\n",
       "<table border=\"1\" class=\"dataframe\">\n",
       "  <thead>\n",
       "    <tr style=\"text-align: right;\">\n",
       "      <th></th>\n",
       "      <th>level</th>\n",
       "      <th>subject</th>\n",
       "      <th>reason</th>\n",
       "      <th>is_correct</th>\n",
       "      <th>answer</th>\n",
       "      <th>predict</th>\n",
       "      <th>input_tokens</th>\n",
       "      <th>output_tokens</th>\n",
       "    </tr>\n",
       "    <tr>\n",
       "      <th>uid</th>\n",
       "      <th></th>\n",
       "      <th></th>\n",
       "      <th></th>\n",
       "      <th></th>\n",
       "      <th></th>\n",
       "      <th></th>\n",
       "      <th></th>\n",
       "      <th></th>\n",
       "    </tr>\n",
       "  </thead>\n",
       "  <tbody>\n",
       "    <tr>\n",
       "      <th>1998/AIME/10</th>\n",
       "      <td>5</td>\n",
       "      <td>geometry</td>\n",
       "      <td>copyright</td>\n",
       "      <td>False</td>\n",
       "      <td>$152$</td>\n",
       "      <td>None</td>\n",
       "      <td>167</td>\n",
       "      <td>0</td>\n",
       "    </tr>\n",
       "    <tr>\n",
       "      <th>1997/AIME/14</th>\n",
       "      <td>6</td>\n",
       "      <td>precalculus</td>\n",
       "      <td>copyright</td>\n",
       "      <td>False</td>\n",
       "      <td>$582$</td>\n",
       "      <td>None</td>\n",
       "      <td>139</td>\n",
       "      <td>0</td>\n",
       "    </tr>\n",
       "    <tr>\n",
       "      <th>2009/AMC_12A/25</th>\n",
       "      <td>4</td>\n",
       "      <td>precalculus</td>\n",
       "      <td>copyright</td>\n",
       "      <td>False</td>\n",
       "      <td>$0$</td>\n",
       "      <td>None</td>\n",
       "      <td>141</td>\n",
       "      <td>0</td>\n",
       "    </tr>\n",
       "  </tbody>\n",
       "</table>\n",
       "</div>"
      ],
      "text/plain": [
       "                 level      subject     reason  is_correct answer predict  \\\n",
       "uid                                                                         \n",
       "1998/AIME/10         5     geometry  copyright       False  $152$    None   \n",
       "1997/AIME/14         6  precalculus  copyright       False  $582$    None   \n",
       "2009/AMC_12A/25      4  precalculus  copyright       False    $0$    None   \n",
       "\n",
       "                 input_tokens  output_tokens  \n",
       "uid                                           \n",
       "1998/AIME/10              167              0  \n",
       "1997/AIME/14              139              0  \n",
       "2009/AMC_12A/25           141              0  "
      ]
     },
     "execution_count": 31,
     "metadata": {},
     "output_type": "execute_result"
    }
   ],
   "source": [
    "zeroshot_results_metadata.query(\"output_tokens == 0\")"
   ]
  },
  {
   "cell_type": "markdown",
   "id": "ce7abe18-ea7e-4806-abca-c02a11202c43",
   "metadata": {},
   "source": [
    "## Look at some random outputs"
   ]
  },
  {
   "cell_type": "code",
   "execution_count": 36,
   "id": "1b0c09c4-b18e-4100-bf4f-4b7bb2cf2ad1",
   "metadata": {},
   "outputs": [],
   "source": [
    "wrong_answers = [\n",
    "    {\n",
    "        \"uid\": answer_check_dicts[i][\"uid\"],\n",
    "        \"url\": dataset_map[answer_check_dicts[i][\"uid\"]][\"url\"],\n",
    "        \"level\": dataset_map[answer_check_dicts[i][\"uid\"]][\"level\"],\n",
    "        \"subject\": dataset_map[answer_check_dicts[i][\"uid\"]][\"subject\"],\n",
    "        \"problem\": answer_check_dicts[i][\"problem\"],\n",
    "        **x\n",
    "    } \n",
    "    for i, x in enumerate(answer_check_results) \n",
    "    if not x[\"is_correct\"] and responses[i][\"response\"].completions[0].finish_reason == \"stop\"\n",
    "]"
   ]
  },
  {
   "cell_type": "code",
   "execution_count": 37,
   "id": "e9640d09-c688-4916-a668-bb2022ed533a",
   "metadata": {},
   "outputs": [
    {
     "data": {
      "text/plain": [
       "2101"
      ]
     },
     "execution_count": 37,
     "metadata": {},
     "output_type": "execute_result"
    }
   ],
   "source": [
    "len(wrong_answers)"
   ]
  },
  {
   "cell_type": "code",
   "execution_count": 130,
   "id": "9e337951-3537-43ba-bf50-f3339743a53f",
   "metadata": {},
   "outputs": [
    {
     "data": {
      "text/plain": [
       "{'uid': '2021_Fall/AMC_10B/10',\n",
       " 'url': 'https://artofproblemsolving.com/wiki/index.php/2021_Fall_AMC_10B_Problems/Problem_10',\n",
       " 'level': 2,\n",
       " 'subject': 'number_theory',\n",
       " 'problem': 'Forty slips of paper numbered $1$ to $40$ are placed in a hat. Alice and Bob each draw one number from the hat without replacement, keeping their numbers hidden from each other. Alice says, \"I can\\'t tell who has the larger number.\" Then Bob says, \"I know who has the larger number.\" Alice says, \"You do? Is your number prime?\" Bob replies, \"Yes.\" Alice says, \"In that case, if I multiply your number by $100$ and add my number, the result is a perfect square. \" What is the sum of the two numbers drawn from the hat?',\n",
       " 'generated_text': 'Let $A$ be Alice\\'s number and $B$ be Bob\\'s number.\\nAlice\\'s statement \"I can\\'t tell who has the larger number\" means $A \\\\neq 1$ and $A \\\\neq 40$. So $2 \\\\le A \\\\le 39$.\\nBob\\'s statement \"I know who has the larger number\" means $B$ is such that for any $A$ with $2 \\\\le A \\\\le 39$, either $A < B$ or $A > B$. This means $B$ must be in the range $2 \\\\le B \\\\le 39$.\\nSince Bob says his number is prime, $B$ is a prime number between 2 and 39.\\nThe primes in this range are 2, 3, 5, 7, 11, 13, 17, 19, 23, 29, 31, 37.\\nAlice says $100B + A$ is a perfect square.\\nSince $2 \\\\le A \\\\le 39$, $100B + 2 \\\\le 100B + A \\\\le 100B + 39$.\\nWe look for a prime $B$ and a number $A$ such that $100B + A$ is a perfect square.\\n\\nIf $B=2$, $200+A=n^2$. Since $202 \\\\le n^2 \\\\le 239$, $14^2=196$, $15^2=225$, $16^2=256$. So $n^2=225$, $A=25$.\\nIf $B=3$, $300+A=n^2$. Since $302 \\\\le n^2 \\\\le 339$, $17^2=289$, $18^2=324$, $19^2=361$. So $n^2=324$, $A=24$.\\nIf $B=5$, $500+A=n^2$. Since $502 \\\\le n^2 \\\\le 539$, $22^2=484$, $23^2=529$, $24^2=576$. So $n^2=529$, $A=29$.\\nIf $B=7$, $700+A=n^2$. Since $702 \\\\le n^2 \\\\le 739$, $26^2=676$, $27^2=729$, $28^2=784$. So $n^2=729$, $A=29$.\\nIf $B=13$, $1300+A=n^2$. Since $1302 \\\\le n^2 \\\\le 1339$, $36^2=1296$, $37^2=1369$. No solution.\\n\\nThe possible pairs are $(25,2)$, $(24,3)$, $(29,5)$, $(29,7)$.\\nSince Bob knows who has the larger number, $B$ must be such that for any $A$, either $A<B$ or $A>B$.\\nIf $B=2$, $A=25$, $A>B$.\\nIf $B=3$, $A=24$, $A>B$.\\nIf $B=5$, $A=29$, $A>B$.\\nIf $B=7$, $A=29$, $A>B$.\\nThe only case where $A<B$ is when $B=29$ and $A=5$ or $A=7$.\\nIf $B=29$, $2900+A=n^2$. $53^2=2809$, $54^2=2916$. So $A=16$.\\nIf $B=31$, $3100+A=n^2$. $55^2=3025$, $56^2=3136$. So $A=11$.\\n$A+B=5+29=34$ or $7+29=36$.\\n\\nFinal Answer: The final answer is $34$. ',\n",
       " 'answer': '$27$',\n",
       " 'is_literal_correct': False,\n",
       " 'predict': '34',\n",
       " 'is_correct': False}"
      ]
     },
     "execution_count": 130,
     "metadata": {},
     "output_type": "execute_result"
    }
   ],
   "source": [
    "rand_idx = np.random.randint(len(wrong_answers))\n",
    "wrong_answers[rand_idx]"
   ]
  },
  {
   "cell_type": "code",
   "execution_count": 115,
   "id": "7eb5f0a2-7df7-4776-9f67-4fae09417e2e",
   "metadata": {},
   "outputs": [
    {
     "data": {
      "text/plain": [
       "{'uid': '1972/AHSME/1',\n",
       " 'url': 'https://artofproblemsolving.com/wiki/index.php/1972_AHSME_Problems/Problem_1',\n",
       " 'problem': 'The lengths in inches of the three sides of each of four triangles $I, II, III$, and $IV$ are as follows: $\\\\begin{array}{rlrl} \\\\hbox{I}& 3,\\\\ 4,\\\\ \\\\hbox{and}\\\\ 5\\\\qquad & \\\\hbox{III}& 7,\\\\ 24,\\\\ \\\\hbox{and}\\\\ 25\\\\\\\\ \\\\hbox{II}& 4,\\\\ 7\\\\frac{1}{2},\\\\ \\\\hbox{and}\\\\ 8\\\\frac{1}{2}\\\\qquad & \\\\hbox{IV}& 3\\\\frac{1}{2},\\\\ 4\\\\frac{1}{2},\\\\ \\\\hbox{and}\\\\ 5\\\\frac{1}{2}.\\\\end{array}$ Of these four given triangles, the only right triangles are',\n",
       " 'generated_text': 'We check if the Pythagorean theorem holds for each triangle.\\n\\nI. $3^2 + 4^2 = 9 + 16 = 25 = 5^2$. This is a right triangle.\\n\\nII. $4^2 + (7.5)^2 = 16 + 56.25 = 72.25$. $(8.5)^2 = 72.25$. This is a right triangle.\\n\\nIII. $7^2 + 24^2 = 49 + 576 = 625 = 25^2$. This is a right triangle.\\n\\nIV. $(3.5)^2 + (4.5)^2 = 12.25 + 20.25 = 32.5$. $(5.5)^2 = 30.25$. This is not a right triangle.\\n\\nThe right triangles are I, II, and III.\\n\\nFinal Answer: The final answer is $I, II, III$. ',\n",
       " 'answer': '$\\\\text{I, II, and III}$',\n",
       " 'is_literal_correct': False,\n",
       " 'predict': 'i, ii, iii',\n",
       " 'is_correct': False}"
      ]
     },
     "execution_count": 115,
     "metadata": {},
     "output_type": "execute_result"
    }
   ],
   "source": [
    "wrong_answers[1142]"
   ]
  },
  {
   "cell_type": "markdown",
   "id": "e47b9d0b-e587-4782-9839-4ea0c508ffd2",
   "metadata": {},
   "source": [
    "## Zero-shot vs Minerva"
   ]
  },
  {
   "cell_type": "code",
   "execution_count": 32,
   "id": "652a369d-084f-4d73-874c-bf4961c71020",
   "metadata": {},
   "outputs": [
    {
     "data": {
      "text/plain": [
       "is_correct\n",
       "True     2680\n",
       "False    2107\n",
       "Name: count, dtype: int64"
      ]
     },
     "execution_count": 32,
     "metadata": {},
     "output_type": "execute_result"
    }
   ],
   "source": [
    "results_metadata.value_counts(\"is_correct\")"
   ]
  },
  {
   "cell_type": "code",
   "execution_count": 33,
   "id": "51e54711-ed5f-44f4-8e93-6ab9434d9f11",
   "metadata": {},
   "outputs": [
    {
     "data": {
      "text/plain": [
       "is_correct\n",
       "True     2764\n",
       "False    2023\n",
       "Name: count, dtype: int64"
      ]
     },
     "execution_count": 33,
     "metadata": {},
     "output_type": "execute_result"
    }
   ],
   "source": [
    "zeroshot_results_metadata.value_counts(\"is_correct\")"
   ]
  },
  {
   "cell_type": "code",
   "execution_count": 38,
   "id": "5e9a527d-30e2-415c-8c07-396052abf612",
   "metadata": {},
   "outputs": [],
   "source": [
    "acr_map = {acr[\"uid\"]: acr for acr in answer_check_results}\n",
    "acr_zs_map = {acr[\"uid\"]: acr for acr in answer_check_results_zeroshot}"
   ]
  },
  {
   "cell_type": "code",
   "execution_count": 25,
   "id": "a0d4693e-a615-40e6-a3c9-79f0a7a6ffca",
   "metadata": {},
   "outputs": [
    {
     "data": {
      "text/html": [
       "<div>\n",
       "<style scoped>\n",
       "    .dataframe tbody tr th:only-of-type {\n",
       "        vertical-align: middle;\n",
       "    }\n",
       "\n",
       "    .dataframe tbody tr th {\n",
       "        vertical-align: top;\n",
       "    }\n",
       "\n",
       "    .dataframe thead tr th {\n",
       "        text-align: left;\n",
       "    }\n",
       "\n",
       "    .dataframe thead tr:last-of-type th {\n",
       "        text-align: right;\n",
       "    }\n",
       "</style>\n",
       "<table border=\"1\" class=\"dataframe\">\n",
       "  <thead>\n",
       "    <tr>\n",
       "      <th></th>\n",
       "      <th>level</th>\n",
       "      <th>subject</th>\n",
       "      <th>answer</th>\n",
       "      <th colspan=\"2\" halign=\"left\">reason</th>\n",
       "      <th colspan=\"2\" halign=\"left\">is_correct</th>\n",
       "      <th colspan=\"2\" halign=\"left\">predict</th>\n",
       "      <th colspan=\"2\" halign=\"left\">input_tokens</th>\n",
       "      <th colspan=\"2\" halign=\"left\">output_tokens</th>\n",
       "    </tr>\n",
       "    <tr>\n",
       "      <th>prompt_type</th>\n",
       "      <th></th>\n",
       "      <th></th>\n",
       "      <th></th>\n",
       "      <th>minerva</th>\n",
       "      <th>zeroshot</th>\n",
       "      <th>minerva</th>\n",
       "      <th>zeroshot</th>\n",
       "      <th>minerva</th>\n",
       "      <th>zeroshot</th>\n",
       "      <th>minerva</th>\n",
       "      <th>zeroshot</th>\n",
       "      <th>minerva</th>\n",
       "      <th>zeroshot</th>\n",
       "    </tr>\n",
       "    <tr>\n",
       "      <th>uid</th>\n",
       "      <th></th>\n",
       "      <th></th>\n",
       "      <th></th>\n",
       "      <th></th>\n",
       "      <th></th>\n",
       "      <th></th>\n",
       "      <th></th>\n",
       "      <th></th>\n",
       "      <th></th>\n",
       "      <th></th>\n",
       "      <th></th>\n",
       "      <th></th>\n",
       "      <th></th>\n",
       "    </tr>\n",
       "  </thead>\n",
       "  <tbody>\n",
       "    <tr>\n",
       "      <th>1950/AHSME/1</th>\n",
       "      <td>2</td>\n",
       "      <td>prealgebra</td>\n",
       "      <td>$10\\frac{2}{3}$</td>\n",
       "      <td>stop</td>\n",
       "      <td>stop</td>\n",
       "      <td>True</td>\n",
       "      <td>True</td>\n",
       "      <td>\\frac{32}{3}</td>\n",
       "      <td>\\frac{32}{3}</td>\n",
       "      <td>733</td>\n",
       "      <td>85</td>\n",
       "      <td>128</td>\n",
       "      <td>139</td>\n",
       "    </tr>\n",
       "    <tr>\n",
       "      <th>1950/AHSME/10</th>\n",
       "      <td>2</td>\n",
       "      <td>prealgebra</td>\n",
       "      <td>$3+\\sqrt6$</td>\n",
       "      <td>stop</td>\n",
       "      <td>stop</td>\n",
       "      <td>True</td>\n",
       "      <td>True</td>\n",
       "      <td>3+\\sqrt{6}</td>\n",
       "      <td>3+\\sqrt{6}</td>\n",
       "      <td>734</td>\n",
       "      <td>86</td>\n",
       "      <td>219</td>\n",
       "      <td>312</td>\n",
       "    </tr>\n",
       "    <tr>\n",
       "      <th>1950/AHSME/13</th>\n",
       "      <td>2</td>\n",
       "      <td>algebra</td>\n",
       "      <td>$0,1,2\\text{ and }4$</td>\n",
       "      <td>stop</td>\n",
       "      <td>stop</td>\n",
       "      <td>False</td>\n",
       "      <td>False</td>\n",
       "      <td>0, 1, 2, 4</td>\n",
       "      <td>\\boxed{0, 1, 2, 4}</td>\n",
       "      <td>729</td>\n",
       "      <td>81</td>\n",
       "      <td>134</td>\n",
       "      <td>238</td>\n",
       "    </tr>\n",
       "    <tr>\n",
       "      <th>1950/AHSME/16</th>\n",
       "      <td>2</td>\n",
       "      <td>algebra</td>\n",
       "      <td>$5$</td>\n",
       "      <td>stop</td>\n",
       "      <td>stop</td>\n",
       "      <td>True</td>\n",
       "      <td>False</td>\n",
       "      <td>5</td>\n",
       "      <td>\\boxed{3}</td>\n",
       "      <td>737</td>\n",
       "      <td>89</td>\n",
       "      <td>124</td>\n",
       "      <td>247</td>\n",
       "    </tr>\n",
       "    <tr>\n",
       "      <th>1950/AHSME/17</th>\n",
       "      <td>2</td>\n",
       "      <td>algebra</td>\n",
       "      <td>$y=100-5x-5x^{2}$</td>\n",
       "      <td>stop</td>\n",
       "      <td>stop</td>\n",
       "      <td>True</td>\n",
       "      <td>True</td>\n",
       "      <td>y = -5x^2 - 5x + 100</td>\n",
       "      <td>y = -5x^2 - 5x + 100</td>\n",
       "      <td>786</td>\n",
       "      <td>138</td>\n",
       "      <td>402</td>\n",
       "      <td>637</td>\n",
       "    </tr>\n",
       "  </tbody>\n",
       "</table>\n",
       "</div>"
      ],
      "text/plain": [
       "              level     subject                answer  reason           \\\n",
       "prompt_type                                           minerva zeroshot   \n",
       "uid                                                                      \n",
       "1950/AHSME/1      2  prealgebra       $10\\frac{2}{3}$    stop     stop   \n",
       "1950/AHSME/10     2  prealgebra            $3+\\sqrt6$    stop     stop   \n",
       "1950/AHSME/13     2     algebra  $0,1,2\\text{ and }4$    stop     stop   \n",
       "1950/AHSME/16     2     algebra                   $5$    stop     stop   \n",
       "1950/AHSME/17     2     algebra     $y=100-5x-5x^{2}$    stop     stop   \n",
       "\n",
       "              is_correct                        predict                        \\\n",
       "prompt_type      minerva zeroshot               minerva              zeroshot   \n",
       "uid                                                                             \n",
       "1950/AHSME/1        True     True          \\frac{32}{3}          \\frac{32}{3}   \n",
       "1950/AHSME/10       True     True            3+\\sqrt{6}            3+\\sqrt{6}   \n",
       "1950/AHSME/13      False    False            0, 1, 2, 4    \\boxed{0, 1, 2, 4}   \n",
       "1950/AHSME/16       True    False                     5             \\boxed{3}   \n",
       "1950/AHSME/17       True     True  y = -5x^2 - 5x + 100  y = -5x^2 - 5x + 100   \n",
       "\n",
       "              input_tokens          output_tokens           \n",
       "prompt_type        minerva zeroshot       minerva zeroshot  \n",
       "uid                                                         \n",
       "1950/AHSME/1           733       85           128      139  \n",
       "1950/AHSME/10          734       86           219      312  \n",
       "1950/AHSME/13          729       81           134      238  \n",
       "1950/AHSME/16          737       89           124      247  \n",
       "1950/AHSME/17          786      138           402      637  "
      ]
     },
     "execution_count": 25,
     "metadata": {},
     "output_type": "execute_result"
    }
   ],
   "source": [
    "df = (\n",
    "    pd.concat([\n",
    "        results_metadata.assign(prompt_type=\"minerva\").set_index([\"level\", \"subject\", \"answer\"], append=True),\n",
    "        zeroshot_results_metadata.assign(prompt_type=\"zeroshot\").set_index([\"level\", \"subject\", \"answer\"], append=True),\n",
    "    ])\n",
    "    .set_index(\"prompt_type\", append=True)\n",
    "    .unstack(\"prompt_type\")\n",
    "    .reset_index()\n",
    "    .set_index(\"uid\")\n",
    "    .sort_index()\n",
    ")\n",
    "df.head()"
   ]
  },
  {
   "cell_type": "code",
   "execution_count": 101,
   "id": "f3dfa844-6198-4b0e-b6fe-44cc4a421a0f",
   "metadata": {},
   "outputs": [
    {
     "data": {
      "text/plain": [
       "<Axes: ylabel='Frequency'>"
      ]
     },
     "execution_count": 101,
     "metadata": {},
     "output_type": "execute_result"
    },
    {
     "data": {
      "image/png": "[encoded data removed]",
      "text/plain": [
       "<Figure size 640x480 with 1 Axes>"
      ]
     },
     "metadata": {},
     "output_type": "display_data"
    }
   ],
   "source": [
    "(df[(\"output_tokens\", \"zeroshot\")] - df[(\"output_tokens\", \"minerva\")]).plot.hist(bins=20)"
   ]
  },
  {
   "cell_type": "code",
   "execution_count": 102,
   "id": "21628932-b83a-4e79-9a16-a49577b7490c",
   "metadata": {},
   "outputs": [
    {
     "data": {
      "text/plain": [
       "<Axes: ylabel='Frequency'>"
      ]
     },
     "execution_count": 102,
     "metadata": {},
     "output_type": "execute_result"
    },
    {
     "data": {
      "image/png": "[encoded data removed]",
      "text/plain": [
       "<Figure size 640x480 with 1 Axes>"
      ]
     },
     "metadata": {},
     "output_type": "display_data"
    }
   ],
   "source": [
    "(df[\n",
    "    ~df[(\"is_correct\", \"zeroshot\")]\n",
    "    & ~df[(\"is_correct\", \"minerva\")]\n",
    "    & (df[(\"predict\", \"zeroshot\")] != df[(\"predict\", \"minerva\")])\n",
    "][(\"output_tokens\", \"zeroshot\")] - df[\n",
    "    ~df[(\"is_correct\", \"zeroshot\")]\n",
    "    & ~df[(\"is_correct\", \"minerva\")]\n",
    "    & (df[(\"predict\", \"zeroshot\")] != df[(\"predict\", \"minerva\")])\n",
    "][(\"output_tokens\", \"minerva\")]).plot.hist(bins=20)"
   ]
  },
  {
   "cell_type": "code",
   "execution_count": 97,
   "id": "17e09b0d-534f-47d8-9a5a-78e0d9e250af",
   "metadata": {},
   "outputs": [
    {
     "data": {
      "text/html": [
       "<div>\n",
       "<style scoped>\n",
       "    .dataframe tbody tr th:only-of-type {\n",
       "        vertical-align: middle;\n",
       "    }\n",
       "\n",
       "    .dataframe tbody tr th {\n",
       "        vertical-align: top;\n",
       "    }\n",
       "\n",
       "    .dataframe thead tr th {\n",
       "        text-align: left;\n",
       "    }\n",
       "\n",
       "    .dataframe thead tr:last-of-type th {\n",
       "        text-align: right;\n",
       "    }\n",
       "</style>\n",
       "<table border=\"1\" class=\"dataframe\">\n",
       "  <thead>\n",
       "    <tr>\n",
       "      <th></th>\n",
       "      <th>answer</th>\n",
       "      <th colspan=\"2\" halign=\"left\">is_correct</th>\n",
       "      <th colspan=\"2\" halign=\"left\">predict</th>\n",
       "      <th colspan=\"2\" halign=\"left\">output_tokens</th>\n",
       "    </tr>\n",
       "    <tr>\n",
       "      <th>prompt_type</th>\n",
       "      <th></th>\n",
       "      <th>minerva</th>\n",
       "      <th>zeroshot</th>\n",
       "      <th>minerva</th>\n",
       "      <th>zeroshot</th>\n",
       "      <th>minerva</th>\n",
       "      <th>zeroshot</th>\n",
       "    </tr>\n",
       "    <tr>\n",
       "      <th>uid</th>\n",
       "      <th></th>\n",
       "      <th></th>\n",
       "      <th></th>\n",
       "      <th></th>\n",
       "      <th></th>\n",
       "      <th></th>\n",
       "      <th></th>\n",
       "    </tr>\n",
       "  </thead>\n",
       "  <tbody>\n",
       "    <tr>\n",
       "      <th>1950/AHSME/13</th>\n",
       "      <td>$0,1,2\\text{ and }4$</td>\n",
       "      <td>False</td>\n",
       "      <td>False</td>\n",
       "      <td>0, 1, 2, 4</td>\n",
       "      <td>\\boxed{0, 1, 2, 4}</td>\n",
       "      <td>134</td>\n",
       "      <td>238</td>\n",
       "    </tr>\n",
       "    <tr>\n",
       "      <th>1950/AHSME/21</th>\n",
       "      <td>$24\\text{ in}^{3}$</td>\n",
       "      <td>False</td>\n",
       "      <td>False</td>\n",
       "      <td>24</td>\n",
       "      <td>\\boxed{24}</td>\n",
       "      <td>151</td>\n",
       "      <td>250</td>\n",
       "    </tr>\n",
       "    <tr>\n",
       "      <th>1950/AHSME/27</th>\n",
       "      <td>$34\\text{ mph}$</td>\n",
       "      <td>False</td>\n",
       "      <td>False</td>\n",
       "      <td>\\frac{240}{7}</td>\n",
       "      <td>34.3</td>\n",
       "      <td>304</td>\n",
       "      <td>207</td>\n",
       "    </tr>\n",
       "    <tr>\n",
       "      <th>1950/AHSME/3</th>\n",
       "      <td>$\\text{None of these}$</td>\n",
       "      <td>False</td>\n",
       "      <td>False</td>\n",
       "      <td>2</td>\n",
       "      <td>\\boxed{2}</td>\n",
       "      <td>160</td>\n",
       "      <td>224</td>\n",
       "    </tr>\n",
       "    <tr>\n",
       "      <th>1950/AHSME/39</th>\n",
       "      <td>$\\text{Only }4\\text{ and }5$</td>\n",
       "      <td>False</td>\n",
       "      <td>False</td>\n",
       "      <td>(3), (4), (5)</td>\n",
       "      <td>(3), (4), and (5)</td>\n",
       "      <td>351</td>\n",
       "      <td>449</td>\n",
       "    </tr>\n",
       "    <tr>\n",
       "      <th>...</th>\n",
       "      <td>...</td>\n",
       "      <td>...</td>\n",
       "      <td>...</td>\n",
       "      <td>...</td>\n",
       "      <td>...</td>\n",
       "      <td>...</td>\n",
       "      <td>...</td>\n",
       "    </tr>\n",
       "    <tr>\n",
       "      <th>2024/AMC_8/16</th>\n",
       "      <td>$11$</td>\n",
       "      <td>False</td>\n",
       "      <td>False</td>\n",
       "      <td>9</td>\n",
       "      <td>6</td>\n",
       "      <td>582</td>\n",
       "      <td>719</td>\n",
       "    </tr>\n",
       "    <tr>\n",
       "      <th>2024/AMC_8/24</th>\n",
       "      <td>$5$</td>\n",
       "      <td>False</td>\n",
       "      <td>False</td>\n",
       "      <td>12.33</td>\n",
       "      <td>\\sqrt{79}</td>\n",
       "      <td>742</td>\n",
       "      <td>397</td>\n",
       "    </tr>\n",
       "    <tr>\n",
       "      <th>2024/AMC_8/25</th>\n",
       "      <td>$\\frac{20}{33}$</td>\n",
       "      <td>False</td>\n",
       "      <td>False</td>\n",
       "      <td>\\frac{22}{55}</td>\n",
       "      <td>\\frac{2}{3}</td>\n",
       "      <td>818</td>\n",
       "      <td>840</td>\n",
       "    </tr>\n",
       "    <tr>\n",
       "      <th>2024/AMC_8/7</th>\n",
       "      <td>$5$</td>\n",
       "      <td>False</td>\n",
       "      <td>False</td>\n",
       "      <td>3</td>\n",
       "      <td>1</td>\n",
       "      <td>430</td>\n",
       "      <td>810</td>\n",
       "    </tr>\n",
       "    <tr>\n",
       "      <th>2024/AMC_8/9</th>\n",
       "      <td>$28$</td>\n",
       "      <td>False</td>\n",
       "      <td>False</td>\n",
       "      <td>a multiple of 7</td>\n",
       "      <td>7</td>\n",
       "      <td>236</td>\n",
       "      <td>314</td>\n",
       "    </tr>\n",
       "  </tbody>\n",
       "</table>\n",
       "<p>1356 rows × 7 columns</p>\n",
       "</div>"
      ],
      "text/plain": [
       "                                     answer is_correct           \\\n",
       "prompt_type                                    minerva zeroshot   \n",
       "uid                                                               \n",
       "1950/AHSME/13          $0,1,2\\text{ and }4$      False    False   \n",
       "1950/AHSME/21            $24\\text{ in}^{3}$      False    False   \n",
       "1950/AHSME/27               $34\\text{ mph}$      False    False   \n",
       "1950/AHSME/3         $\\text{None of these}$      False    False   \n",
       "1950/AHSME/39  $\\text{Only }4\\text{ and }5$      False    False   \n",
       "...                                     ...        ...      ...   \n",
       "2024/AMC_8/16                          $11$      False    False   \n",
       "2024/AMC_8/24                           $5$      False    False   \n",
       "2024/AMC_8/25               $\\frac{20}{33}$      False    False   \n",
       "2024/AMC_8/7                            $5$      False    False   \n",
       "2024/AMC_8/9                           $28$      False    False   \n",
       "\n",
       "                       predict                     output_tokens           \n",
       "prompt_type            minerva            zeroshot       minerva zeroshot  \n",
       "uid                                                                        \n",
       "1950/AHSME/13       0, 1, 2, 4  \\boxed{0, 1, 2, 4}           134      238  \n",
       "1950/AHSME/21               24          \\boxed{24}           151      250  \n",
       "1950/AHSME/27    \\frac{240}{7}                34.3           304      207  \n",
       "1950/AHSME/3                 2           \\boxed{2}           160      224  \n",
       "1950/AHSME/39    (3), (4), (5)   (3), (4), and (5)           351      449  \n",
       "...                        ...                 ...           ...      ...  \n",
       "2024/AMC_8/16                9                   6           582      719  \n",
       "2024/AMC_8/24            12.33           \\sqrt{79}           742      397  \n",
       "2024/AMC_8/25    \\frac{22}{55}         \\frac{2}{3}           818      840  \n",
       "2024/AMC_8/7                 3                   1           430      810  \n",
       "2024/AMC_8/9   a multiple of 7                   7           236      314  \n",
       "\n",
       "[1356 rows x 7 columns]"
      ]
     },
     "execution_count": 97,
     "metadata": {},
     "output_type": "execute_result"
    }
   ],
   "source": [
    "df[\n",
    "    ~df[(\"is_correct\", \"zeroshot\")]\n",
    "    & ~df[(\"is_correct\", \"minerva\")]\n",
    "    & (df[(\"predict\", \"zeroshot\")] != df[(\"predict\", \"minerva\")])\n",
    "][[\"answer\", \"is_correct\", \"predict\", \"output_tokens\"]]"
   ]
  },
  {
   "cell_type": "code",
   "execution_count": 49,
   "id": "cc355817-8d68-4252-baa9-a4d79f8be181",
   "metadata": {},
   "outputs": [
    {
     "data": {
      "text/plain": [
       "{'uid': '2023/AMC_12B/9',\n",
       " 'problem': 'What is the area of the region in the coordinate plane defined by $| | x | - 1 | + | | y | - 1 | \\\\le 1$?',\n",
       " 'finish_reason': <FinishReason.STOP: 'stop'>,\n",
       " 'generated_text': 'We consider the four cases for the signs of $|x|-1$ and $|y|-1$.\\n\\nCase 1: $|x|-1 \\\\ge 0$ and $|y|-1 \\\\ge 0$. Then $|x| \\\\ge 1$ and $|y| \\\\ge 1$, so $(|x|-1) + (|y|-1) \\\\le 1$, which means $|x| + |y| \\\\le 3$.\\nCase 2: $|x|-1 \\\\ge 0$ and $|y|-1 < 0$. Then $|x| \\\\ge 1$ and $|y| < 1$, so $(|x|-1) - (|y|-1) \\\\le 1$, which means $|x| - |y| \\\\le 1$.\\nCase 3: $|x|-1 < 0$ and $|y|-1 \\\\ge 0$. Then $|x| < 1$ and $|y| \\\\ge 1$, so $-(|x|-1) + (|y|-1) \\\\le 1$, which means $-|x| + |y| \\\\le 1$.\\nCase 4: $|x|-1 < 0$ and $|y|-1 < 0$. Then $|x| < 1$ and $|y| < 1$, so $-(|x|-1) - (|y|-1) \\\\le 1$, which means $-|x| - |y| \\\\le -1$, or $|x| + |y| \\\\ge 1$.\\n\\nThe region is a square with vertices $(1,2)$, $(2,1)$, $(-1,2)$, $(-2,1)$, $(1,-2)$, $(2,-1)$, $(-1,-2)$, $(-2,-1)$. The side length of the square is $2 \\\\sqrt{2^2 + 2^2} = 2 \\\\sqrt{8} = 4 \\\\sqrt{2}$. The area of the square is $(4 \\\\sqrt{2})^2 = 32$.\\nAlternatively, the region is bounded by the lines $x+y=3$, $x-y=1$, $-x+y=1$, $-x-y=-1$ in the first quadrant. The region is a square with vertices $(1,2)$, $(2,1)$, $(1,-2)$, $(2,-1)$, $(-1,2)$, $(-2,1)$, $(-1,-2)$, $(-2,-1)$. The area of the square is $4 \\\\times \\\\frac{1}{2} \\\\times 2 \\\\times 2 = 8$. The total area is $8 \\\\times 4 = 32$.\\n\\nFinal Answer: The final answer is $8$. ',\n",
       " 'answer': '$8$',\n",
       " 'is_literal_correct': True,\n",
       " 'predict': '8',\n",
       " 'is_correct': True}"
      ]
     },
     "execution_count": 49,
     "metadata": {},
     "output_type": "execute_result"
    }
   ],
   "source": [
    "acr_map[\"2023/AMC_12B/9\"]"
   ]
  },
  {
   "cell_type": "code",
   "execution_count": 48,
   "id": "eed825b6-e687-4e4d-9cf4-84f5b5763df8",
   "metadata": {},
   "outputs": [
    {
     "data": {
      "text/plain": [
       "{'uid': '2023/AMC_12B/9',\n",
       " 'problem': 'What is the area of the region in the coordinate plane defined by $| | x | - 1 | + | | y | - 1 | \\\\le 1$?',\n",
       " 'finish_reason': <FinishReason.STOP: 'stop'>,\n",
       " 'generated_text': 'We can divide the $xy$-plane into regions based on the signs of $|x|-1$ and $|y|-1$.\\n\\nCase 1: $|x| - 1 \\\\ge 0$ and $|y| - 1 \\\\ge 0$. This means $|x| \\\\ge 1$ and $|y| \\\\ge 1$.\\nThen the inequality becomes $(|x| - 1) + (|y| - 1) \\\\le 1$, or $|x| + |y| \\\\le 3$.\\nSince $|x| \\\\ge 1$ and $|y| \\\\ge 1$, we have four regions in the plane.\\nIn the first quadrant, we have $x+y \\\\le 3$, $x \\\\ge 1$, $y \\\\ge 1$. This is a triangle with vertices $(1,2)$, $(2,1)$, and $(1,1)$. The area is $\\\\frac{1}{2} \\\\cdot 1 \\\\cdot 1 = \\\\frac{1}{2}$.\\nSince there are four such triangles, the total area is $4 \\\\cdot \\\\frac{1}{2} = 2$.\\n\\nCase 2: $|x| - 1 \\\\ge 0$ and $|y| - 1 < 0$. This means $|x| \\\\ge 1$ and $|y| < 1$.\\nThen the inequality becomes $(|x| - 1) - (|y| - 1) \\\\le 1$, or $|x| - |y| \\\\le 1$.\\nIn the region where $x \\\\ge 1$, we have $x - |y| \\\\le 1$, or $x - 1 \\\\le |y|$.\\nSince $|y| < 1$, we have $x-1 < 1$, so $x < 2$.\\nThus, we have $1 \\\\le x < 2$ and $-(x-1) \\\\le y \\\\le x-1$.\\nThe area of this region is $2 \\\\int_1^2 (x-1) dx = 2 \\\\cdot \\\\frac{1}{2} (x-1)^2 \\\\Big|_1^2 = 1$.\\nSince $|x| \\\\ge 1$, we have $x \\\\ge 1$ or $x \\\\le -1$.\\nThe total area of this region is $2 \\\\cdot 1 = 2$.\\n\\nCase 3: $|x| - 1 < 0$ and $|y| - 1 \\\\ge 0$. This means $|x| < 1$ and $|y| \\\\ge 1$.\\nThis is similar to Case 2, and the area is 2.\\n\\nCase 4: $|x| - 1 < 0$ and $|y| - 1 < 0$. This means $|x| < 1$ and $|y| < 1$.\\nThen the inequality becomes $-(|x| - 1) - (|y| - 1) \\\\le 1$, or $-|x| + 1 - |y| + 1 \\\\le 1$, or $|x| + |y| \\\\ge 1$.\\nThe area of the square $|x| < 1$ and $|y| < 1$ is 4.\\nThe area of the region $|x| + |y| < 1$ is $2 \\\\int_0^1 (1-x) dx = 2(x - \\\\frac{1}{2}x^2) \\\\Big|_0^1 = 1$.\\nThe area of the region $|x| + |y| \\\\ge 1$ is $4 - 1 = 3$.\\n\\nThe total area is $2 + 2 + 2 + 3 = 9$.\\n\\nFinal Answer: The final answer is 9. ',\n",
       " 'answer': '$8$',\n",
       " 'is_literal_correct': False,\n",
       " 'predict': '9',\n",
       " 'is_correct': False}"
      ]
     },
     "execution_count": 48,
     "metadata": {},
     "output_type": "execute_result"
    }
   ],
   "source": [
    "acr_zs_map[\"2023/AMC_12B/9\"]"
   ]
  },
  {
   "cell_type": "markdown",
   "id": "8d1b0560-616a-4675-9a54-6f50079e201e",
   "metadata": {},
   "source": [
    "- 1994/AIME/13: had right answer but went to do and return smth else\n",
    "- 2020/AMC_12B/16: just incorrect math\n",
    "- 1984/AIME/3: incorrect, random factor of 1/2 bc triangle area\n",
    "- 2005/AMC_12B/22: minerva jumps to the answer quicker (writes out fewer steps), and maybe does smth wrong in between?\n",
    "- 2022/AMC_8/15: inspected graph incorrectly. Also uses fewer tokens\n",
    "- 1965/AHSME/36: used cos instead of sin?\n",
    "- 1993/AHSME/10: wrong interp of the problem"
   ]
  },
  {
   "cell_type": "code",
   "execution_count": 93,
   "id": "dfb91197-eb16-4cd6-93e2-be74fec0005a",
   "metadata": {},
   "outputs": [
    {
     "data": {
      "text/plain": [
       "'2000/AIME_II/6'"
      ]
     },
     "execution_count": 93,
     "metadata": {},
     "output_type": "execute_result"
    }
   ],
   "source": [
    "rand_uid = np.random.choice(df[\n",
    "    df[(\"is_correct\", \"zeroshot\")]\n",
    "    & ~df[(\"is_correct\", \"minerva\")]\n",
    "    & (df[(\"predict\", \"zeroshot\")] != df[(\"predict\", \"minerva\")])\n",
    "].index)\n",
    "rand_uid"
   ]
  },
  {
   "cell_type": "code",
   "execution_count": 94,
   "id": "16847193-3459-4252-be95-dbda833f28d8",
   "metadata": {},
   "outputs": [
    {
     "data": {
      "text/markdown": [
       "One base of a trapezoid is $100$ units longer than the other base. The segment that joins the midpoints of the legs divides the trapezoid into two regions whose areas are in the ratio $2: 3$. Let $x$ be the length of the segment joining the legs of the trapezoid that is parallel to the bases and that divides the trapezoid into two regions of equal area. Find the greatest integer that does not exceed $x^2/100$."
      ],
      "text/plain": [
       "<IPython.core.display.Markdown object>"
      ]
     },
     "metadata": {},
     "output_type": "display_data"
    }
   ],
   "source": [
    "display(Markdown(acr_map[rand_uid][\"problem\"]))"
   ]
  },
  {
   "cell_type": "code",
   "execution_count": 95,
   "id": "f68eb9b9-12c0-477f-8333-ffa2b46dcae4",
   "metadata": {},
   "outputs": [
    {
     "data": {
      "text/markdown": [
       "Let the lengths of the two bases be $b$ and $b+100$. Let the height of the trapezoid be $h$. The median of the trapezoid has length $\\frac{b+(b+100)}{2} = b+50$. The segment joining the midpoints of the legs has length $b+50$.\n",
       "\n",
       "Let $h_1$ and $h_2$ be the heights of the two trapezoids formed by the segment joining the midpoints of the legs. Then $h_1+h_2=h$. The area of the trapezoid is $\\frac{h}{2}(b+b+100) = h(b+50)$. The areas of the two smaller trapezoids are $\\frac{h_1}{2}(b+b+50) = \\frac{h_1}{2}(2b+50)$ and $\\frac{h_2}{2}(b+50+b+100) = \\frac{h_2}{2}(2b+150)$.\n",
       "\n",
       "We are given that the ratio of the areas is $2:3$, so\n",
       "\n",
       "$$\\frac{\\frac{h_1}{2}(2b+50)}{\\frac{h_2}{2}(2b+150)} = \\frac{2}{3}.$$\n",
       "\n",
       "$$\\frac{h_1(2b+50)}{h_2(2b+150)} = \\frac{2}{3}.$$\n",
       "\n",
       "Since the segment joining the midpoints of the legs has length $b+50$, we have\n",
       "\n",
       "$$\\frac{h_1}{h_2} = \\frac{b+25}{b+75}.$$\n",
       "\n",
       "So\n",
       "\n",
       "$$\\frac{(b+25)(2b+50)}{(b+75)(2b+150)} = \\frac{2}{3}.$$\n",
       "\n",
       "$$3(2b^2+100b+1250) = 2(2b^2+300b+11250).$$\n",
       "\n",
       "$$6b^2+300b+3750 = 4b^2+600b+22500.$$\n",
       "\n",
       "$$2b^2-300b-18750=0.$$\n",
       "\n",
       "$$b^2-150b-9375=0.$$\n",
       "\n",
       "$$b = \\frac{150\\pm\\sqrt{150^2-4(-9375)}}{2} = \\frac{150\\pm\\sqrt{22500+37500}}{2} = \\frac{150\\pm\\sqrt{60000}}{2} = \\frac{150\\pm 150\\sqrt{4\\cdot\\frac{100}{4}}}{2} = 75\\pm 75\\sqrt{4} = 75\\pm 150.$$\n",
       "\n",
       "Since $b>0$, $b=225$.\n",
       "\n",
       "The area of the trapezoid is $h(b+50) = 275h$. We want to find $x$ such that the area of the trapezoid with bases $b$ and $x$ is $137.5h$.\n",
       "\n",
       "$\\frac{h}{2}(b+x) = 137.5h$, so $225+x = 275$, so $x=150$.\n",
       "\n",
       "$x^2/100 = 150^2/100 = 22500/100 = 225$.\n",
       "\n",
       "\n",
       "\n",
       "Final Answer: The final answer is $225$. "
      ],
      "text/plain": [
       "<IPython.core.display.Markdown object>"
      ]
     },
     "metadata": {},
     "output_type": "display_data"
    }
   ],
   "source": [
    "display(Markdown(acr_map[rand_uid][\"generated_text\"].replace(\"\\n\", \"\\n\\n\")))"
   ]
  },
  {
   "cell_type": "code",
   "execution_count": 96,
   "id": "384b0052-98f2-4d7a-90f4-056cb2a0cd1e",
   "metadata": {},
   "outputs": [
    {
     "data": {
      "text/markdown": [
       "Let the lengths of the two bases of the trapezoid be $a$ and $b$, with $a < b$. We are given that $b = a + 100$.\n",
       "\n",
       "Let $m$ be the length of the midsegment, which is the segment joining the midpoints of the legs. We know that $m = \\frac{a+b}{2} = \\frac{a + a + 100}{2} = a + 50$.\n",
       "\n",
       "The midsegment divides the trapezoid into two smaller trapezoids. Let the areas of these two trapezoids be $A_1$ and $A_2$, with $A_1$ being the area of the trapezoid adjacent to the base with length $a$.\n",
       "\n",
       "We are given that $\\frac{A_1}{A_2} = \\frac{2}{3}$.\n",
       "\n",
       "The height of the trapezoid adjacent to base $a$ is half the height of the original trapezoid, and the height of the trapezoid adjacent to base $b$ is also half the height of the original trapezoid. Let $h$ be the height of the original trapezoid. Then the height of each smaller trapezoid is $h/2$.\n",
       "\n",
       "$A_1 = \\frac{1}{2} \\cdot \\frac{h}{2} (a + m) = \\frac{h}{4}(a + a + 50) = \\frac{h}{4}(2a + 50)$\n",
       "\n",
       "$A_2 = \\frac{1}{2} \\cdot \\frac{h}{2} (m + b) = \\frac{h}{4}(a + 50 + a + 100) = \\frac{h}{4}(2a + 150)$\n",
       "\n",
       "We have $\\frac{A_1}{A_2} = \\frac{2a + 50}{2a + 150} = \\frac{2}{3}$.\n",
       "\n",
       "Cross-multiplying, we get $3(2a + 50) = 2(2a + 150)$, which simplifies to $6a + 150 = 4a + 300$.\n",
       "\n",
       "Then $2a = 150$, so $a = 75$.\n",
       "\n",
       "Thus, $b = a + 100 = 75 + 100 = 175$.\n",
       "\n",
       "The area of the trapezoid is $A = \\frac{1}{2} (a+b)h = \\frac{1}{2} (75+175)h = 125h$.\n",
       "\n",
       "Let $x$ be the length of the segment parallel to the bases that divides the trapezoid into two regions of equal area.\n",
       "\n",
       "The area of the trapezoid is $A = 125h$. We want to find $x$ such that the area of the trapezoid with bases $a$ and $x$ is $A/2 = 62.5h$.\n",
       "\n",
       "Let $h_1$ be the height of the smaller trapezoid with bases $a$ and $x$. Then $\\frac{h_1}{h} = \\frac{x-a}{b-a} = \\frac{x-75}{100}$.\n",
       "\n",
       "The area of the smaller trapezoid is $\\frac{1}{2}(a+x)h_1 = \\frac{1}{2}(75+x) \\cdot \\frac{x-75}{100} h = 62.5h$.\n",
       "\n",
       "So $(75+x)(x-75) = 12500$, which means $x^2 - 75^2 = 12500$, so $x^2 = 5625 + 12500 = 18125$.\n",
       "\n",
       "We want to find the greatest integer that does not exceed $x^2/100 = 18125/100 = 181.25$.\n",
       "\n",
       "The greatest integer is $181$.\n",
       "\n",
       "\n",
       "\n",
       "Final Answer: The final answer is $181$. "
      ],
      "text/plain": [
       "<IPython.core.display.Markdown object>"
      ]
     },
     "metadata": {},
     "output_type": "display_data"
    }
   ],
   "source": [
    "display(Markdown(acr_zs_map[rand_uid][\"generated_text\"].replace(\"\\n\", \"\\n\\n\")))"
   ]
  },
  {
   "cell_type": "code",
   "execution_count": 28,
   "id": "a82b3bf2-97ea-4620-b2de-ff1422294a0e",
   "metadata": {},
   "outputs": [
    {
     "data": {
      "text/html": [
       "<div>\n",
       "<style scoped>\n",
       "    .dataframe tbody tr th:only-of-type {\n",
       "        vertical-align: middle;\n",
       "    }\n",
       "\n",
       "    .dataframe tbody tr th {\n",
       "        vertical-align: top;\n",
       "    }\n",
       "\n",
       "    .dataframe thead tr th {\n",
       "        text-align: left;\n",
       "    }\n",
       "\n",
       "    .dataframe thead tr:last-of-type th {\n",
       "        text-align: right;\n",
       "    }\n",
       "</style>\n",
       "<table border=\"1\" class=\"dataframe\">\n",
       "  <thead>\n",
       "    <tr>\n",
       "      <th></th>\n",
       "      <th>answer</th>\n",
       "      <th colspan=\"2\" halign=\"left\">is_correct</th>\n",
       "      <th colspan=\"2\" halign=\"left\">predict</th>\n",
       "    </tr>\n",
       "    <tr>\n",
       "      <th>prompt_type</th>\n",
       "      <th></th>\n",
       "      <th>minerva</th>\n",
       "      <th>zeroshot</th>\n",
       "      <th>minerva</th>\n",
       "      <th>zeroshot</th>\n",
       "    </tr>\n",
       "    <tr>\n",
       "      <th>uid</th>\n",
       "      <th></th>\n",
       "      <th></th>\n",
       "      <th></th>\n",
       "      <th></th>\n",
       "      <th></th>\n",
       "    </tr>\n",
       "  </thead>\n",
       "  <tbody>\n",
       "    <tr>\n",
       "      <th>1951/AHSME/22</th>\n",
       "      <td>$20, - 5$</td>\n",
       "      <td>False</td>\n",
       "      <td>True</td>\n",
       "      <td>20 and -5</td>\n",
       "      <td>20, -5</td>\n",
       "    </tr>\n",
       "    <tr>\n",
       "      <th>1952/AHSME/14</th>\n",
       "      <td>$\\text{loss of }\\textdollar 1000$</td>\n",
       "      <td>False</td>\n",
       "      <td>True</td>\n",
       "      <td>a loss of 1000</td>\n",
       "      <td>\\textdollar 1000</td>\n",
       "    </tr>\n",
       "    <tr>\n",
       "      <th>1952/AHSME/16</th>\n",
       "      <td>$9\\frac{1}{11}\\%$</td>\n",
       "      <td>False</td>\n",
       "      <td>True</td>\n",
       "      <td>9.09</td>\n",
       "      <td>\\frac{100}{11}</td>\n",
       "    </tr>\n",
       "    <tr>\n",
       "      <th>1952/AHSME/8</th>\n",
       "      <td>$1$</td>\n",
       "      <td>False</td>\n",
       "      <td>True</td>\n",
       "      <td>0</td>\n",
       "      <td>1</td>\n",
       "    </tr>\n",
       "    <tr>\n",
       "      <th>1957/AHSME/44</th>\n",
       "      <td>$15^\\circ$</td>\n",
       "      <td>False</td>\n",
       "      <td>True</td>\n",
       "      <td>30</td>\n",
       "      <td>15</td>\n",
       "    </tr>\n",
       "    <tr>\n",
       "      <th>...</th>\n",
       "      <td>...</td>\n",
       "      <td>...</td>\n",
       "      <td>...</td>\n",
       "      <td>...</td>\n",
       "      <td>...</td>\n",
       "    </tr>\n",
       "    <tr>\n",
       "      <th>2024/AMC_8/1</th>\n",
       "      <td>$2$</td>\n",
       "      <td>False</td>\n",
       "      <td>True</td>\n",
       "      <td>0</td>\n",
       "      <td>2</td>\n",
       "    </tr>\n",
       "    <tr>\n",
       "      <th>2024/AMC_8/15</th>\n",
       "      <td>$1107$</td>\n",
       "      <td>False</td>\n",
       "      <td>True</td>\n",
       "      <td>1637</td>\n",
       "      <td>1107</td>\n",
       "    </tr>\n",
       "    <tr>\n",
       "      <th>2024/AMC_8/17</th>\n",
       "      <td>$32$</td>\n",
       "      <td>False</td>\n",
       "      <td>True</td>\n",
       "      <td>16</td>\n",
       "      <td>32</td>\n",
       "    </tr>\n",
       "    <tr>\n",
       "      <th>2024/AMC_8/3</th>\n",
       "      <td>$52$</td>\n",
       "      <td>False</td>\n",
       "      <td>True</td>\n",
       "      <td>133</td>\n",
       "      <td>52</td>\n",
       "    </tr>\n",
       "    <tr>\n",
       "      <th>2024/AMC_8/4</th>\n",
       "      <td>$9$</td>\n",
       "      <td>False</td>\n",
       "      <td>True</td>\n",
       "      <td>7</td>\n",
       "      <td>9</td>\n",
       "    </tr>\n",
       "  </tbody>\n",
       "</table>\n",
       "<p>379 rows × 5 columns</p>\n",
       "</div>"
      ],
      "text/plain": [
       "                                          answer is_correct           \\\n",
       "prompt_type                                         minerva zeroshot   \n",
       "uid                                                                    \n",
       "1951/AHSME/22                          $20, - 5$      False     True   \n",
       "1952/AHSME/14  $\\text{loss of }\\textdollar 1000$      False     True   \n",
       "1952/AHSME/16                  $9\\frac{1}{11}\\%$      False     True   \n",
       "1952/AHSME/8                                 $1$      False     True   \n",
       "1957/AHSME/44                         $15^\\circ$      False     True   \n",
       "...                                          ...        ...      ...   \n",
       "2024/AMC_8/1                                 $2$      False     True   \n",
       "2024/AMC_8/15                             $1107$      False     True   \n",
       "2024/AMC_8/17                               $32$      False     True   \n",
       "2024/AMC_8/3                                $52$      False     True   \n",
       "2024/AMC_8/4                                 $9$      False     True   \n",
       "\n",
       "                      predict                    \n",
       "prompt_type           minerva          zeroshot  \n",
       "uid                                              \n",
       "1951/AHSME/22       20 and -5            20, -5  \n",
       "1952/AHSME/14  a loss of 1000  \\textdollar 1000  \n",
       "1952/AHSME/16            9.09    \\frac{100}{11}  \n",
       "1952/AHSME/8                0                 1  \n",
       "1957/AHSME/44              30                15  \n",
       "...                       ...               ...  \n",
       "2024/AMC_8/1                0                 2  \n",
       "2024/AMC_8/15            1637              1107  \n",
       "2024/AMC_8/17              16                32  \n",
       "2024/AMC_8/3              133                52  \n",
       "2024/AMC_8/4                7                 9  \n",
       "\n",
       "[379 rows x 5 columns]"
      ]
     },
     "execution_count": 28,
     "metadata": {},
     "output_type": "execute_result"
    }
   ],
   "source": [
    "df[\n",
    "    df[(\"is_correct\", \"zeroshot\")]\n",
    "    & ~df[(\"is_correct\", \"minerva\")]\n",
    "    & (df[(\"predict\", \"zeroshot\")] != df[(\"predict\", \"minerva\")])\n",
    "][[\"answer\", \"is_correct\", \"predict\"]]"
   ]
  },
  {
   "cell_type": "code",
   "execution_count": 38,
   "id": "61b3ef86-00b0-4183-b254-5dd4bacf6349",
   "metadata": {},
   "outputs": [
    {
     "data": {
      "text/html": [
       "<div>\n",
       "<style scoped>\n",
       "    .dataframe tbody tr th:only-of-type {\n",
       "        vertical-align: middle;\n",
       "    }\n",
       "\n",
       "    .dataframe tbody tr th {\n",
       "        vertical-align: top;\n",
       "    }\n",
       "\n",
       "    .dataframe thead tr th {\n",
       "        text-align: left;\n",
       "    }\n",
       "\n",
       "    .dataframe thead tr:last-of-type th {\n",
       "        text-align: right;\n",
       "    }\n",
       "</style>\n",
       "<table border=\"1\" class=\"dataframe\">\n",
       "  <thead>\n",
       "    <tr>\n",
       "      <th></th>\n",
       "      <th colspan=\"2\" halign=\"left\">is_correct</th>\n",
       "      <th colspan=\"2\" halign=\"left\">answer</th>\n",
       "    </tr>\n",
       "    <tr>\n",
       "      <th>prompt_type</th>\n",
       "      <th>minerva</th>\n",
       "      <th>zeroshot</th>\n",
       "      <th>minerva</th>\n",
       "      <th>zeroshot</th>\n",
       "    </tr>\n",
       "    <tr>\n",
       "      <th>uid</th>\n",
       "      <th></th>\n",
       "      <th></th>\n",
       "      <th></th>\n",
       "      <th></th>\n",
       "    </tr>\n",
       "  </thead>\n",
       "  <tbody>\n",
       "  </tbody>\n",
       "</table>\n",
       "</div>"
      ],
      "text/plain": [
       "Empty DataFrame\n",
       "Columns: [(is_correct, minerva), (is_correct, zeroshot), (answer, minerva), (answer, zeroshot)]\n",
       "Index: []"
      ]
     },
     "execution_count": 38,
     "metadata": {},
     "output_type": "execute_result"
    }
   ],
   "source": [
    "df[\n",
    "    df[(\"is_correct\", \"zeroshot\")]\n",
    "    & ~df[(\"is_correct\", \"minerva\")]\n",
    "    & (df[(\"answer\", \"zeroshot\")] != df[(\"answer\", \"minerva\")])\n",
    "][[\"is_correct\", \"answer\"]]"
   ]
  },
  {
   "cell_type": "code",
   "execution_count": null,
   "id": "0509fd38-6b1f-4da2-b584-a4afc2f3cd4d",
   "metadata": {},
   "outputs": [],
   "source": []
  }
 ],
 "metadata": {
  "kernelspec": {
   "display_name": "Python 3 (ipykernel)",
   "language": "python",
   "name": "python3"
  },
  "language_info": {
   "codemirror_mode": {
    "name": "ipython",
    "version": 3
   },
   "file_extension": ".py",
   "mimetype": "text/x-python",
   "name": "python",
   "nbconvert_exporter": "python",
   "pygments_lexer": "ipython3",
   "version": "3.12.8"
  }
 },
 "nbformat": 4,
 "nbformat_minor": 5
}
