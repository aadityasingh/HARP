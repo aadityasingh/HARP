{
 "cells": [
  {
   "cell_type": "code",
   "execution_count": 1,
   "id": "fcbb3af0-51be-4d7d-ab18-c44e715498fb",
   "metadata": {},
   "outputs": [],
   "source": [
    "import sys\n",
    "from pathlib import Path\n",
    "\n",
    "BASEDIR = Path(\"/workspaces/HARP/\") / \"src\"  # Replace with your own basedir path for the repo\n",
    "\n",
    "sys.path.insert(0, str(BASEDIR))"
   ]
  },
  {
   "cell_type": "code",
   "execution_count": 2,
   "id": "ef20c6bb-d0ad-4f20-b676-a6d5104f27ec",
   "metadata": {},
   "outputs": [],
   "source": [
    "from __future__ import annotations\n",
    "\n",
    "import copy\n",
    "import itertools\n",
    "import json\n",
    "import math\n",
    "import os\n",
    "import pickle\n",
    "import pprint\n",
    "import re\n",
    "import textwrap\n",
    "import time\n",
    "import traceback\n",
    "from collections import Counter, defaultdict\n",
    "from typing import Any\n",
    "\n",
    "import matplotlib.pyplot as plt\n",
    "import numpy as np\n",
    "import pandas as pd\n",
    "import tiktoken\n",
    "from IPython.display import Markdown, clear_output, display\n",
    "from tqdm.auto import tqdm\n",
    "\n",
    "import vertexai\n",
    "from vertexai.batch_prediction._batch_prediction import BatchPredictionJob"
   ]
  },
  {
   "cell_type": "code",
   "execution_count": 3,
   "id": "c54caa9c-ddac-435c-a987-052fc0f1acbc",
   "metadata": {},
   "outputs": [],
   "source": [
    "from eval.costs import count_tokens, get_pricing\n",
    "from eval.eval import run_one, create_batch, make_answer_check_dict_from_jsonl, make_results_df, accuracy_by_split\n",
    "from eval.parsing_lib import *\n",
    "from eval.latex_answer_check import *\n",
    "from eval.response import ModelResponse\n",
    "from eval.utils import read_jsonl, write_jsonl, get_uid"
   ]
  },
  {
   "cell_type": "markdown",
   "id": "01e11dab-52d9-4dab-8950-0bdb9b750dfa",
   "metadata": {},
   "source": [
    "# Data"
   ]
  },
  {
   "cell_type": "code",
   "execution_count": 4,
   "id": "4997ea64-077c-457d-95de-715caa39426d",
   "metadata": {},
   "outputs": [
    {
     "data": {
      "text/plain": [
       "4780"
      ]
     },
     "execution_count": 4,
     "metadata": {},
     "output_type": "execute_result"
    }
   ],
   "source": [
    "dataset = read_jsonl(BASEDIR / \"data/processed/HARP.jsonl\")\n",
    "dataset_map = {get_uid(p): p for p in dataset}\n",
    "len(dataset)"
   ]
  },
  {
   "cell_type": "markdown",
   "id": "29178386-1a72-4932-88f7-86213a81547f",
   "metadata": {},
   "source": [
    "# Results"
   ]
  },
  {
   "cell_type": "markdown",
   "id": "006743fe-8a91-4595-8ac2-e5007a67ae3c",
   "metadata": {},
   "source": [
    "What I ran for Flash\n",
    "```\n",
    "# minerva prompt\n",
    "python run_eval.py --model gemini-1.5-flash-002 --api google --out outputs_minerva.jsonl --temperature 0 --max-tokens 2048 --use-minerva\n",
    "\n",
    "# zeroshot prompt\n",
    "python run_eval.py --model gemini-1.5-flash-002 --api google --out outputs.jsonl --temperature 0 --max-tokens 2048\n",
    "```"
   ]
  },
  {
   "cell_type": "code",
   "execution_count": 5,
   "id": "fbd3d3b9-b0c1-4052-a96e-fda755f08e22",
   "metadata": {},
   "outputs": [
    {
     "data": {
      "application/vnd.jupyter.widget-view+json": {
       "model_id": "2d4de8f3a7b5475fab1a80553cbdfcdb",
       "version_major": 2,
       "version_minor": 0
      },
      "text/plain": [
       "  0%|          | 0/4780 [00:00<?, ?it/s]"
      ]
     },
     "metadata": {},
     "output_type": "display_data"
    },
    {
     "name": "stdout",
     "output_type": "stream",
     "text": [
      "Function timed out after 10 seconds\n",
      "('Let the given expression be denoted by $f(x)$. For $f(x)$ to be defined, we must have\\n\\\\begin{align*} \\\\label{eq:1}\\\\log_{2001} x &> 0 \\\\\\\\ \\\\log_{2002} (\\\\log_{2001} x) &> 0 \\\\\\\\ \\\\log_{2003} (\\\\log_{2002} (\\\\log_{2001} x)) &> 0 \\\\\\\\ \\\\log_{2004} (\\\\log_{2003} (\\\\log_{2002} (\\\\log_{2001} x))) &> 0 \\\\end{align*} \\nThe first inequality gives $x > 2001^0 = 1$.\\nThe second inequality gives $\\\\log_{2001} x > 2002^0 = 1$, so $x > 2001^1 = 2001$.\\nThe third inequality gives $\\\\log_{2002} (\\\\log_{2001} x) > 2003^0 = 1$, so $\\\\log_{2001} x > 2002^1 = 2002$, which means $x > 2001^{2002}$.\\nThe fourth inequality gives $\\\\log_{2003} (\\\\log_{2002} (\\\\log_{2001} x)) > 2004^0 = 1$, so $\\\\log_{2002} (\\\\log_{2001} x) > 2003^1 = 2003$, which means $\\\\log_{2001} x > 2002^{2003}$, so $x > 2001^{2002^{2003}}$.\\n\\nTherefore, the set of all real numbers $x$ for which the expression is defined is $\\\\{x \\\\mid x > 2001^{2002^{2003}}\\\\}$.\\nThus $c = 2001^{2002^{2003}}$.\\n\\nFinal Answer: The final answer is $2001^{2002^{2003}}$. ', '$2001^{2002}$') {'extract_policy': 'flex', 'eval_policy': 'aggressive', 'debug': False}\n"
     ]
    },
    {
     "data": {
      "text/plain": [
       "51.19246861924687"
      ]
     },
     "execution_count": 5,
     "metadata": {},
     "output_type": "execute_result"
    }
   ],
   "source": [
    "fname = BASEDIR / \"outputs/short_answer/gemini-1.5-flash-002/outputs_minerva.jsonl\"\n",
    "\n",
    "raw_responses = read_jsonl(fname)\n",
    "responses = [\n",
    "    {\n",
    "        \"uid\": x[\"uid\"],\n",
    "        \"system\": x[\"system\"],\n",
    "        \"prompt\": x[\"prompt\"],\n",
    "        \"response\": ModelResponse.from_response(x[\"response\"], \"google\")\n",
    "    }\n",
    "    for x in raw_responses\n",
    "    if x[\"uid\"] in dataset_map\n",
    "]\n",
    "raw_response_map = {x[\"uid\"]: x for x in raw_responses if x[\"uid\"] in dataset_map}\n",
    "response_map = {o[\"uid\"]: o for o in responses}\n",
    "\n",
    "answer_check_dicts = make_answer_check_dict_from_jsonl(responses, dataset_map)\n",
    "answer_check_results = latex_answer_check(answer_check_dicts, use_tqdm=True)\n",
    "results_metadata = make_results_df(responses, answer_check_results, dataset_map, mode=\"shortans\")\n",
    "\n",
    "sum([x[\"is_correct\"] for x in answer_check_results]) / len(dataset) * 100"
   ]
  },
  {
   "cell_type": "code",
   "execution_count": 6,
   "id": "b4ac2937-b398-4635-800c-19908972e4a3",
   "metadata": {},
   "outputs": [
    {
     "data": {
      "application/vnd.jupyter.widget-view+json": {
       "model_id": "00e5af004dc640729dbc5211f321d976",
       "version_major": 2,
       "version_minor": 0
      },
      "text/plain": [
       "  0%|          | 0/4780 [00:00<?, ?it/s]"
      ]
     },
     "metadata": {},
     "output_type": "display_data"
    },
    {
     "data": {
      "text/plain": [
       "52.25941422594143"
      ]
     },
     "execution_count": 6,
     "metadata": {},
     "output_type": "execute_result"
    }
   ],
   "source": [
    "fname = BASEDIR / \"outputs/short_answer/gemini-1.5-flash-002/outputs.jsonl\"\n",
    "\n",
    "raw_responses_zeroshot = read_jsonl(fname)\n",
    "responses_zeroshot = [\n",
    "    {\n",
    "        \"uid\": x[\"uid\"],\n",
    "        \"system\": x[\"system\"],\n",
    "        \"prompt\": x[\"prompt\"],\n",
    "        \"response\": ModelResponse.from_response(x[\"response\"], \"google\")\n",
    "    }\n",
    "    for x in raw_responses_zeroshot\n",
    "    if x[\"uid\"] in dataset_map\n",
    "]\n",
    "raw_response_zeroshot_map = {o[\"uid\"]: raw for raw, o in zip(raw_responses, responses)}\n",
    "response_zeroshot_map = {o[\"uid\"]: o for o in responses}\n",
    "\n",
    "answer_check_dicts_zeroshot = make_answer_check_dict_from_jsonl(responses_zeroshot, dataset_map)\n",
    "answer_check_results_zeroshot = latex_answer_check(answer_check_dicts_zeroshot, use_tqdm=True)\n",
    "zeroshot_results_metadata = make_results_df(responses_zeroshot, answer_check_results_zeroshot, dataset_map, mode=\"shortans\")\n",
    "\n",
    "sum([x[\"is_correct\"] for x in answer_check_results_zeroshot]) / len(dataset) * 100"
   ]
  },
  {
   "cell_type": "code",
   "execution_count": 8,
   "id": "2b2b56a0-1620-4078-a29d-7e4b84222eb8",
   "metadata": {},
   "outputs": [],
   "source": [
    "os.makedirs(BASEDIR / \"results/gemini-1.5-flash-002\", exist_ok=True)\n",
    "results_metadata.to_csv(BASEDIR / \"results/gemini-1.5-flash-002/results_minerva.csv\")\n",
    "zeroshot_results_metadata.to_csv(BASEDIR / \"results/gemini-1.5-flash-002/results.csv\")"
   ]
  },
  {
   "cell_type": "markdown",
   "id": "11472784-2b60-4a5a-86f3-c1bc597f519e",
   "metadata": {},
   "source": [
    "## Cost"
   ]
  },
  {
   "cell_type": "code",
   "execution_count": 9,
   "id": "b531ee14-45d6-4dae-85c4-5b58eba873b5",
   "metadata": {},
   "outputs": [
    {
     "data": {
      "text/plain": [
       "{'input_tokens': 1.875e-08, 'output_tokens': 7.5e-08}"
      ]
     },
     "execution_count": 9,
     "metadata": {},
     "output_type": "execute_result"
    }
   ],
   "source": [
    "PRICES = get_pricing(\"gemini-1.5-flash-002\")\n",
    "PRICES"
   ]
  },
  {
   "cell_type": "code",
   "execution_count": 10,
   "id": "50f4534e-686f-48c2-af39-f22766266d0b",
   "metadata": {},
   "outputs": [
    {
     "data": {
      "text/plain": [
       "0.2124494062500012"
      ]
     },
     "execution_count": 10,
     "metadata": {},
     "output_type": "execute_result"
    }
   ],
   "source": [
    "total_cost = 0\n",
    "for ex in raw_responses_zeroshot:\n",
    "    input_len = 0\n",
    "    for part in ex[\"system\"]:\n",
    "        input_len += count_tokens(part, \"gemini-1.5-flash-002\")\n",
    "    for part in ex[\"prompt\"]:\n",
    "        input_len += count_tokens(part[\"content\"], \"gemini-1.5-flash-002\")\n",
    "    total_cost += PRICES[\"input_tokens\"] * input_len\n",
    "\n",
    "    output_len = 0\n",
    "    for cand in ex[\"response\"][\"candidates\"]:\n",
    "        if \"content\" not in cand:\n",
    "            continue\n",
    "        for part in cand[\"content\"][\"parts\"]:\n",
    "            output_len += count_tokens(part[\"text\"], \"gemini-1.5-flash-002\")\n",
    "    total_cost += PRICES[\"output_tokens\"] * output_len\n",
    "total_cost / 2  # divide by 2 for batch api"
   ]
  },
  {
   "cell_type": "code",
   "execution_count": 11,
   "id": "f3abd0cc-24ec-45ee-93ac-1811735749a2",
   "metadata": {},
   "outputs": [
    {
     "data": {
      "text/plain": [
       "0.24321309375000175"
      ]
     },
     "execution_count": 11,
     "metadata": {},
     "output_type": "execute_result"
    }
   ],
   "source": [
    "total_cost = 0\n",
    "for ex in raw_responses:\n",
    "    input_len = 0\n",
    "    for part in ex[\"system\"]:\n",
    "        input_len += count_tokens(part, \"gemini-1.5-flash-002\")\n",
    "    for part in ex[\"prompt\"]:\n",
    "        input_len += count_tokens(part[\"content\"], \"gemini-1.5-flash-002\")\n",
    "    total_cost += PRICES[\"input_tokens\"] * input_len\n",
    "\n",
    "    output_len = 0\n",
    "    for cand in ex[\"response\"][\"candidates\"]:\n",
    "        if \"content\" not in cand:\n",
    "            continue\n",
    "        for part in cand[\"content\"][\"parts\"]:\n",
    "            output_len += count_tokens(part[\"text\"], \"gemini-1.5-flash-002\")\n",
    "    total_cost += PRICES[\"output_tokens\"] * output_len\n",
    "total_cost / 2  # divide by 2 for batch api"
   ]
  },
  {
   "cell_type": "markdown",
   "id": "78457654-cb72-4c2c-87d1-623887dc8049",
   "metadata": {},
   "source": [
    "## Finish reason\n",
    "\n",
    "- 3 problem was stopped for \"copyright\".\n",
    "    - 1 is from \"The Contest Problem Book IV\". This seems to indicate that these books are in the Gemini training data, which means data contamination! TODO: see if the models do better at these problems? will be some confounders\n",
    "    - 1 is from a generic sounding trig book. Seems reasonable because the problem seems like a basic-ish trig identity\n",
    "    - 1 is from this blogpost about a problem in the Hauselbauer-Dickheiser test??? I couldn't find anything about the AMC in the wordpress, and the problem is not the same. Seems like a false positive\n",
    "    - Notably, Gemini 1.5 Pro v2 has mutually exclusive copyright responses. So this is not deterministic and/or depends on model parameters/training.\n",
    "- For the 7 max_length hits\n",
    "    - 6 are repetition, sometimes even of a single digit in a float!\n",
    "    - 1 is an inf counting issue: it starts listing all possible values"
   ]
  },
  {
   "cell_type": "code",
   "execution_count": 12,
   "id": "ed894b3b-659e-49a8-8d36-9a3b8bb429a7",
   "metadata": {},
   "outputs": [
    {
     "data": {
      "text/plain": [
       "reason\n",
       "stop         4770\n",
       "length          7\n",
       "copyright       3\n",
       "Name: count, dtype: int64"
      ]
     },
     "execution_count": 12,
     "metadata": {},
     "output_type": "execute_result"
    }
   ],
   "source": [
    "results_metadata.value_counts(\"reason\")"
   ]
  },
  {
   "cell_type": "code",
   "execution_count": 13,
   "id": "2c6781e6-05ea-4f96-a906-1dedf9cc7176",
   "metadata": {},
   "outputs": [
    {
     "data": {
      "text/plain": [
       "level  reason   \n",
       "2      copyright    1\n",
       "       length       1\n",
       "3      length       3\n",
       "4      copyright    2\n",
       "       length       3\n",
       "Name: count, dtype: int64"
      ]
     },
     "execution_count": 13,
     "metadata": {},
     "output_type": "execute_result"
    }
   ],
   "source": [
    "results_metadata.query(\"reason != 'stop'\").value_counts([\"level\", \"reason\"]).sort_index()"
   ]
  },
  {
   "cell_type": "code",
   "execution_count": 14,
   "id": "020c58c4-bd83-4a1e-a9ae-4b922dd1198a",
   "metadata": {},
   "outputs": [
    {
     "data": {
      "text/plain": [
       "subject        reason   \n",
       "algebra        copyright    1\n",
       "               length       1\n",
       "number_theory  length       5\n",
       "prealgebra     length       1\n",
       "precalculus    copyright    2\n",
       "Name: count, dtype: int64"
      ]
     },
     "execution_count": 14,
     "metadata": {},
     "output_type": "execute_result"
    }
   ],
   "source": [
    "results_metadata.query(\"reason != 'stop'\").value_counts([\"subject\", \"reason\"]).sort_index()"
   ]
  },
  {
   "cell_type": "code",
   "execution_count": 15,
   "id": "13e5f412-9faa-45a2-a43f-2e77271fb4ae",
   "metadata": {},
   "outputs": [
    {
     "data": {
      "text/html": [
       "<div>\n",
       "<style scoped>\n",
       "    .dataframe tbody tr th:only-of-type {\n",
       "        vertical-align: middle;\n",
       "    }\n",
       "\n",
       "    .dataframe tbody tr th {\n",
       "        vertical-align: top;\n",
       "    }\n",
       "\n",
       "    .dataframe thead th {\n",
       "        text-align: right;\n",
       "    }\n",
       "</style>\n",
       "<table border=\"1\" class=\"dataframe\">\n",
       "  <thead>\n",
       "    <tr style=\"text-align: right;\">\n",
       "      <th></th>\n",
       "      <th>level</th>\n",
       "      <th>subject</th>\n",
       "      <th>mcq_only</th>\n",
       "      <th>has_asy_problem</th>\n",
       "      <th>has_asy_solution</th>\n",
       "      <th>reason</th>\n",
       "      <th>is_correct</th>\n",
       "      <th>answer</th>\n",
       "      <th>predict</th>\n",
       "      <th>input_tokens</th>\n",
       "      <th>output_tokens</th>\n",
       "      <th>reasoning_tokens</th>\n",
       "    </tr>\n",
       "    <tr>\n",
       "      <th>uid</th>\n",
       "      <th></th>\n",
       "      <th></th>\n",
       "      <th></th>\n",
       "      <th></th>\n",
       "      <th></th>\n",
       "      <th></th>\n",
       "      <th></th>\n",
       "      <th></th>\n",
       "      <th></th>\n",
       "      <th></th>\n",
       "      <th></th>\n",
       "      <th></th>\n",
       "    </tr>\n",
       "  </thead>\n",
       "  <tbody>\n",
       "    <tr>\n",
       "      <th>1982/AHSME/27</th>\n",
       "      <td>4</td>\n",
       "      <td>precalculus</td>\n",
       "      <td>False</td>\n",
       "      <td>False</td>\n",
       "      <td>False</td>\n",
       "      <td>copyright</td>\n",
       "      <td>False</td>\n",
       "      <td>$-a+bi$</td>\n",
       "      <td>None</td>\n",
       "      <td>800</td>\n",
       "      <td>0</td>\n",
       "      <td>0</td>\n",
       "    </tr>\n",
       "    <tr>\n",
       "      <th>1983/AHSME/11</th>\n",
       "      <td>2</td>\n",
       "      <td>precalculus</td>\n",
       "      <td>False</td>\n",
       "      <td>False</td>\n",
       "      <td>False</td>\n",
       "      <td>copyright</td>\n",
       "      <td>False</td>\n",
       "      <td>$\\sin x$</td>\n",
       "      <td>None</td>\n",
       "      <td>729</td>\n",
       "      <td>0</td>\n",
       "      <td>0</td>\n",
       "    </tr>\n",
       "    <tr>\n",
       "      <th>2006/AMC_8/24</th>\n",
       "      <td>2</td>\n",
       "      <td>prealgebra</td>\n",
       "      <td>False</td>\n",
       "      <td>False</td>\n",
       "      <td>False</td>\n",
       "      <td>length</td>\n",
       "      <td>False</td>\n",
       "      <td>$1$</td>\n",
       "      <td>None</td>\n",
       "      <td>771</td>\n",
       "      <td>2048</td>\n",
       "      <td>0</td>\n",
       "    </tr>\n",
       "    <tr>\n",
       "      <th>2007/AMC_10B/24</th>\n",
       "      <td>3</td>\n",
       "      <td>number_theory</td>\n",
       "      <td>False</td>\n",
       "      <td>False</td>\n",
       "      <td>False</td>\n",
       "      <td>length</td>\n",
       "      <td>False</td>\n",
       "      <td>$4944$</td>\n",
       "      <td>None</td>\n",
       "      <td>765</td>\n",
       "      <td>2048</td>\n",
       "      <td>0</td>\n",
       "    </tr>\n",
       "    <tr>\n",
       "      <th>2014/AMC_12A/23</th>\n",
       "      <td>4</td>\n",
       "      <td>number_theory</td>\n",
       "      <td>False</td>\n",
       "      <td>False</td>\n",
       "      <td>False</td>\n",
       "      <td>length</td>\n",
       "      <td>False</td>\n",
       "      <td>$883$</td>\n",
       "      <td>None</td>\n",
       "      <td>784</td>\n",
       "      <td>2048</td>\n",
       "      <td>0</td>\n",
       "    </tr>\n",
       "    <tr>\n",
       "      <th>2015/AIME_I/8</th>\n",
       "      <td>4</td>\n",
       "      <td>number_theory</td>\n",
       "      <td>False</td>\n",
       "      <td>False</td>\n",
       "      <td>False</td>\n",
       "      <td>length</td>\n",
       "      <td>False</td>\n",
       "      <td>$695$</td>\n",
       "      <td>None</td>\n",
       "      <td>753</td>\n",
       "      <td>2048</td>\n",
       "      <td>0</td>\n",
       "    </tr>\n",
       "    <tr>\n",
       "      <th>2016/AMC_12B/25</th>\n",
       "      <td>4</td>\n",
       "      <td>algebra</td>\n",
       "      <td>False</td>\n",
       "      <td>False</td>\n",
       "      <td>False</td>\n",
       "      <td>copyright</td>\n",
       "      <td>False</td>\n",
       "      <td>$17$</td>\n",
       "      <td>None</td>\n",
       "      <td>794</td>\n",
       "      <td>0</td>\n",
       "      <td>0</td>\n",
       "    </tr>\n",
       "    <tr>\n",
       "      <th>2017/AMC_10B/25</th>\n",
       "      <td>3</td>\n",
       "      <td>algebra</td>\n",
       "      <td>False</td>\n",
       "      <td>False</td>\n",
       "      <td>False</td>\n",
       "      <td>length</td>\n",
       "      <td>False</td>\n",
       "      <td>$100$</td>\n",
       "      <td>None</td>\n",
       "      <td>775</td>\n",
       "      <td>2048</td>\n",
       "      <td>0</td>\n",
       "    </tr>\n",
       "    <tr>\n",
       "      <th>2020/AIME_II/5</th>\n",
       "      <td>3</td>\n",
       "      <td>number_theory</td>\n",
       "      <td>False</td>\n",
       "      <td>False</td>\n",
       "      <td>False</td>\n",
       "      <td>length</td>\n",
       "      <td>False</td>\n",
       "      <td>$151$</td>\n",
       "      <td>None</td>\n",
       "      <td>883</td>\n",
       "      <td>2048</td>\n",
       "      <td>0</td>\n",
       "    </tr>\n",
       "    <tr>\n",
       "      <th>2021/AMC_12A/25</th>\n",
       "      <td>4</td>\n",
       "      <td>number_theory</td>\n",
       "      <td>False</td>\n",
       "      <td>False</td>\n",
       "      <td>False</td>\n",
       "      <td>length</td>\n",
       "      <td>False</td>\n",
       "      <td>$9$</td>\n",
       "      <td>None</td>\n",
       "      <td>826</td>\n",
       "      <td>2048</td>\n",
       "      <td>0</td>\n",
       "    </tr>\n",
       "  </tbody>\n",
       "</table>\n",
       "</div>"
      ],
      "text/plain": [
       "                 level        subject  mcq_only  has_asy_problem  \\\n",
       "uid                                                                \n",
       "1982/AHSME/27        4    precalculus     False            False   \n",
       "1983/AHSME/11        2    precalculus     False            False   \n",
       "2006/AMC_8/24        2     prealgebra     False            False   \n",
       "2007/AMC_10B/24      3  number_theory     False            False   \n",
       "2014/AMC_12A/23      4  number_theory     False            False   \n",
       "2015/AIME_I/8        4  number_theory     False            False   \n",
       "2016/AMC_12B/25      4        algebra     False            False   \n",
       "2017/AMC_10B/25      3        algebra     False            False   \n",
       "2020/AIME_II/5       3  number_theory     False            False   \n",
       "2021/AMC_12A/25      4  number_theory     False            False   \n",
       "\n",
       "                 has_asy_solution     reason  is_correct    answer predict  \\\n",
       "uid                                                                          \n",
       "1982/AHSME/27               False  copyright       False   $-a+bi$    None   \n",
       "1983/AHSME/11               False  copyright       False  $\\sin x$    None   \n",
       "2006/AMC_8/24               False     length       False       $1$    None   \n",
       "2007/AMC_10B/24             False     length       False    $4944$    None   \n",
       "2014/AMC_12A/23             False     length       False     $883$    None   \n",
       "2015/AIME_I/8               False     length       False     $695$    None   \n",
       "2016/AMC_12B/25             False  copyright       False      $17$    None   \n",
       "2017/AMC_10B/25             False     length       False     $100$    None   \n",
       "2020/AIME_II/5              False     length       False     $151$    None   \n",
       "2021/AMC_12A/25             False     length       False       $9$    None   \n",
       "\n",
       "                 input_tokens  output_tokens  reasoning_tokens  \n",
       "uid                                                             \n",
       "1982/AHSME/27             800              0                 0  \n",
       "1983/AHSME/11             729              0                 0  \n",
       "2006/AMC_8/24             771           2048                 0  \n",
       "2007/AMC_10B/24           765           2048                 0  \n",
       "2014/AMC_12A/23           784           2048                 0  \n",
       "2015/AIME_I/8             753           2048                 0  \n",
       "2016/AMC_12B/25           794              0                 0  \n",
       "2017/AMC_10B/25           775           2048                 0  \n",
       "2020/AIME_II/5            883           2048                 0  \n",
       "2021/AMC_12A/25           826           2048                 0  "
      ]
     },
     "execution_count": 15,
     "metadata": {},
     "output_type": "execute_result"
    }
   ],
   "source": [
    "results_metadata.query(\"reason != 'stop'\")"
   ]
  },
  {
   "cell_type": "code",
   "execution_count": 16,
   "id": "9a085f05-e9cc-4635-9254-242d4d5ceed4",
   "metadata": {},
   "outputs": [
    {
     "data": {
      "text/markdown": [
       "Let $f(n) = \\frac{d(n)}{n^{1/3}}$. We want to find the unique positive integer $N$ such that $f(N) > f(n)$ for all positive integers $n \\ne N$.\n",
       "\n",
       "We have $d(1) = 1$, $d(2) = 2$, $d(3) = 2$, $d(4) = 3$, $d(5) = 2$, $d(6) = 4$, $d(7) = 2$, $d(8) = 4$, $d(9) = 3$, $d(10) = 4$, $d(11) = 2$, $d(12) = 6$.\n",
       "\n",
       "Then $f(1) = 1$, $f(2) \\approx 1.587$, $f(3) \\approx 1.260$, $f(4) \\approx 1.189$, $f(5) \\approx 0.894$, $f(6) \\approx 1.633$, $f(7) \\approx 0.756$, $f(8) \\approx 1.189$, $f(9) \\approx 1.054$, $f(10) \\approx 1.260$, $f(11) \\approx 0.715$, $f(12) \\approx 1.732$.\n",
       "\n",
       "It appears that $f(n)$ is maximized when $n$ is highly composite.  Let's consider highly composite numbers.  The highly composite numbers are 1, 2, 4, 6, 12, 24, 36, 48, 60, 120, 180, 240, 360, 720, 840, 1260, 1680, 2520, 5040, 7560, 10080, 15120, 20160, 25200, 27720, 45360, 50400, 55440, 83160, 110880, 166320, 221760, 277200, 332640, 498960, 554400, 665280, 720720, 1081080, 1441440, 2162160, 2882880, 3603600, 4324320, 6486480, 7207200, 8648640, 10810800, 12972960, 17297280, 21621600, 25945920, 34594560, 43243200, 51891840, 69189120, 86486400, 103783680, 138378240, 172972800, 207567360, 276756480, 345945600, 415134720, 553512960, 691891200, 830269440, 1107025920, 1383782400, 1660538880, 2214051840, 2767564800, 3321077760, 4428103680, 5535129600, 6642155520, 8856207360, 11070259200, 13284311040, 17712414720, 22140518400, 26568622080, 35424829440, 44281036800, 53137244160, 70849658880, 88562073600, 106274488320, 141699317760, 177124147200, 212548976640, 283398635520, 354248294400, 425097953280, 566797271040, 708496588800, 850195906560, 1133594542080, 1416993177600, 1700391813120, 2267189084160, 2833986355200, 3400783626240, 4534378168320, 5667972710400, 6801567252480, 9068756336640, 11335945420800, 13603134504960, 18137512673280, 22671890841600, 27206269009920, 36275025346560, 45343781683200, 54412538019840, 72550050693120, 90687563366400, 108825076039680, 145100101386240, 181375126732800, 217650152079360, 290200202772480, 362750253465600, 435300304158720, 580400405544960, 725500506931200, 870600608317440, 1160800811089920, 1451001013862400, 1741201216634880, 2321601622179840, 2902002027724800, 3482402433269760, 4643203244359680, 5804004055449600, 6964804866539520, 9286406488719360, 11608008110899200, 13929609733079040, 18572812977438720, 23216016221798400, 27859219466158080, 371456259548774"
      ],
      "text/plain": [
       "<IPython.core.display.Markdown object>"
      ]
     },
     "metadata": {},
     "output_type": "display_data"
    }
   ],
   "source": [
    "ex_uid = \"2021/AMC_12A/25\"\n",
    "display(Markdown(response_map[ex_uid][\"response\"].completions[0].completion))"
   ]
  },
  {
   "cell_type": "code",
   "execution_count": 17,
   "id": "7d0df61e-113e-4703-9277-10f950c66b91",
   "metadata": {},
   "outputs": [
    {
     "data": {
      "text/plain": [
       "{'role': 'user',\n",
       " 'content': 'Problem:\\nThe sequence $(a_n)$ is defined recursively by $a_0=1$, $a_1=\\\\sqrt[19]{2}$, and $a_n=a_{n-1}a_{n-2}^2$ for $n\\\\geq 2$. What is the smallest positive integer $k$ such that the product $a_1a_2\\\\cdots a_k$ is an integer?'}"
      ]
     },
     "execution_count": 17,
     "metadata": {},
     "output_type": "execute_result"
    }
   ],
   "source": [
    "raw_response_map[\"2016/AMC_12B/25\"][\"prompt\"][-2]"
   ]
  },
  {
   "cell_type": "code",
   "execution_count": 18,
   "id": "9b0077fb-d9a4-4a8f-bbfa-b8beefb27936",
   "metadata": {},
   "outputs": [
    {
     "data": {
      "text/plain": [
       "{'candidates': [{'finish_reason': 'RECITATION',\n",
       "   'citation_metadata': {'citations': [{'start_index': 746,\n",
       "      'end_index': 951,\n",
       "      'uri': 'https://dkalemis.wordpress.com/2018/11/10/my-attempt-at-question-2-from-the-haselbauer-dickheiser-test/'}]},\n",
       "   'avg_logprobs': 'NaN'}],\n",
       " 'usage_metadata': {'prompt_token_count': 794, 'total_token_count': 794},\n",
       " 'model_version': 'gemini-1.5-flash-002',\n",
       " 'model': 'gemini-1.5-flash-002'}"
      ]
     },
     "execution_count": 18,
     "metadata": {},
     "output_type": "execute_result"
    }
   ],
   "source": [
    "raw_response_map[\"2016/AMC_12B/25\"][\"response\"]"
   ]
  },
  {
   "cell_type": "code",
   "execution_count": 19,
   "id": "e22e322e-fcea-461a-bf37-0fdad8f74b23",
   "metadata": {},
   "outputs": [
    {
     "data": {
      "text/plain": [
       "ModelResponse(completions=[ModelCompletion(index=0, completion=\"For each leg, the spider must put on the sock before the shoe.  There are 8 legs. For each leg, there are 2 items to put on.  Thus, there are $2!$ ways to put on the sock and shoe for each leg. Since there are 8 legs, there are $(2!)^8$ ways to put on the socks and shoes.  However, we must consider the order in which the spider puts on the socks and shoes for each leg.  For each leg, there are 2 items to put on, so there are 2 choices for the first item and 1 choice for the second item.  This gives $2! = 2$ ways to put on the socks and shoes for each leg. Since there are 8 legs, there are $(2!)^8 = 2^8 = 256$ ways to put on the socks and shoes.\\n\\nThere are 16 items in total. If there were no restrictions, there would be 16! ways to put on the items. However, for each leg, the sock must be put on before the shoe.  Let's consider one leg. There are 2! ways to put on the sock and shoe for that leg. Since there are 8 legs, there are $(2!)^8 = 2^8 = 256$ ways to put on the socks and shoes.\\n\\nFinal Answer: The final answer is $256$. \", finish_reason=<FinishReason.STOP: 'stop'>, role='assistant')], api=<ModelAPI.GOOGLE: 'google'>, model='gemini-1.5-flash-002', usage=Usage(input_tokens=753, output_tokens=309, reasoning_tokens=0))"
      ]
     },
     "execution_count": 19,
     "metadata": {},
     "output_type": "execute_result"
    }
   ],
   "source": [
    "response_map[\"2001/AMC_12/16\"][\"response\"]"
   ]
  },
  {
   "cell_type": "markdown",
   "id": "7c0408f2-d6b4-44fc-851d-f896ebf3c561",
   "metadata": {},
   "source": [
    "## Accuracy"
   ]
  },
  {
   "cell_type": "code",
   "execution_count": 20,
   "id": "924213c6-db00-470f-af87-ab722eb77337",
   "metadata": {},
   "outputs": [
    {
     "data": {
      "text/html": [
       "<div>\n",
       "<style scoped>\n",
       "    .dataframe tbody tr th:only-of-type {\n",
       "        vertical-align: middle;\n",
       "    }\n",
       "\n",
       "    .dataframe tbody tr th {\n",
       "        vertical-align: top;\n",
       "    }\n",
       "\n",
       "    .dataframe thead th {\n",
       "        text-align: right;\n",
       "    }\n",
       "</style>\n",
       "<table border=\"1\" class=\"dataframe\">\n",
       "  <thead>\n",
       "    <tr style=\"text-align: right;\">\n",
       "      <th></th>\n",
       "      <th>count</th>\n",
       "      <th>accuracy</th>\n",
       "    </tr>\n",
       "    <tr>\n",
       "      <th>level</th>\n",
       "      <th></th>\n",
       "      <th></th>\n",
       "    </tr>\n",
       "  </thead>\n",
       "  <tbody>\n",
       "    <tr>\n",
       "      <th>1</th>\n",
       "      <td>799</td>\n",
       "      <td>72.715895</td>\n",
       "    </tr>\n",
       "    <tr>\n",
       "      <th>2</th>\n",
       "      <td>1505</td>\n",
       "      <td>64.451827</td>\n",
       "    </tr>\n",
       "    <tr>\n",
       "      <th>3</th>\n",
       "      <td>1363</td>\n",
       "      <td>46.661775</td>\n",
       "    </tr>\n",
       "    <tr>\n",
       "      <th>4</th>\n",
       "      <td>719</td>\n",
       "      <td>30.876217</td>\n",
       "    </tr>\n",
       "    <tr>\n",
       "      <th>5</th>\n",
       "      <td>197</td>\n",
       "      <td>13.197970</td>\n",
       "    </tr>\n",
       "    <tr>\n",
       "      <th>6</th>\n",
       "      <td>197</td>\n",
       "      <td>6.091371</td>\n",
       "    </tr>\n",
       "  </tbody>\n",
       "</table>\n",
       "</div>"
      ],
      "text/plain": [
       "       count   accuracy\n",
       "level                  \n",
       "1        799  72.715895\n",
       "2       1505  64.451827\n",
       "3       1363  46.661775\n",
       "4        719  30.876217\n",
       "5        197  13.197970\n",
       "6        197   6.091371"
      ]
     },
     "execution_count": 20,
     "metadata": {},
     "output_type": "execute_result"
    }
   ],
   "source": [
    "accuracy_by_split(results_metadata, \"level\")"
   ]
  },
  {
   "cell_type": "code",
   "execution_count": 21,
   "id": "1c40b2a8-2fda-44c0-9836-7d648fddff5e",
   "metadata": {},
   "outputs": [
    {
     "data": {
      "text/html": [
       "<div>\n",
       "<style scoped>\n",
       "    .dataframe tbody tr th:only-of-type {\n",
       "        vertical-align: middle;\n",
       "    }\n",
       "\n",
       "    .dataframe tbody tr th {\n",
       "        vertical-align: top;\n",
       "    }\n",
       "\n",
       "    .dataframe thead th {\n",
       "        text-align: right;\n",
       "    }\n",
       "</style>\n",
       "<table border=\"1\" class=\"dataframe\">\n",
       "  <thead>\n",
       "    <tr style=\"text-align: right;\">\n",
       "      <th></th>\n",
       "      <th>count</th>\n",
       "      <th>accuracy</th>\n",
       "    </tr>\n",
       "    <tr>\n",
       "      <th>subject</th>\n",
       "      <th></th>\n",
       "      <th></th>\n",
       "    </tr>\n",
       "  </thead>\n",
       "  <tbody>\n",
       "    <tr>\n",
       "      <th>algebra</th>\n",
       "      <td>970</td>\n",
       "      <td>60.309278</td>\n",
       "    </tr>\n",
       "    <tr>\n",
       "      <th>counting_and_probability</th>\n",
       "      <td>812</td>\n",
       "      <td>42.118227</td>\n",
       "    </tr>\n",
       "    <tr>\n",
       "      <th>geometry</th>\n",
       "      <td>1268</td>\n",
       "      <td>38.406940</td>\n",
       "    </tr>\n",
       "    <tr>\n",
       "      <th>number_theory</th>\n",
       "      <td>601</td>\n",
       "      <td>49.251248</td>\n",
       "    </tr>\n",
       "    <tr>\n",
       "      <th>prealgebra</th>\n",
       "      <td>889</td>\n",
       "      <td>73.790776</td>\n",
       "    </tr>\n",
       "    <tr>\n",
       "      <th>precalculus</th>\n",
       "      <td>240</td>\n",
       "      <td>33.750000</td>\n",
       "    </tr>\n",
       "  </tbody>\n",
       "</table>\n",
       "</div>"
      ],
      "text/plain": [
       "                          count   accuracy\n",
       "subject                                   \n",
       "algebra                     970  60.309278\n",
       "counting_and_probability    812  42.118227\n",
       "geometry                   1268  38.406940\n",
       "number_theory               601  49.251248\n",
       "prealgebra                  889  73.790776\n",
       "precalculus                 240  33.750000"
      ]
     },
     "execution_count": 21,
     "metadata": {},
     "output_type": "execute_result"
    }
   ],
   "source": [
    "accuracy_by_split(results_metadata, \"subject\")"
   ]
  },
  {
   "cell_type": "code",
   "execution_count": 22,
   "id": "cf527113-8a9f-4dfb-b3e0-72fa2d12b73c",
   "metadata": {},
   "outputs": [
    {
     "data": {
      "text/html": [
       "<div>\n",
       "<style scoped>\n",
       "    .dataframe tbody tr th:only-of-type {\n",
       "        vertical-align: middle;\n",
       "    }\n",
       "\n",
       "    .dataframe tbody tr th {\n",
       "        vertical-align: top;\n",
       "    }\n",
       "\n",
       "    .dataframe thead th {\n",
       "        text-align: right;\n",
       "    }\n",
       "</style>\n",
       "<table border=\"1\" class=\"dataframe\">\n",
       "  <thead>\n",
       "    <tr style=\"text-align: right;\">\n",
       "      <th></th>\n",
       "      <th></th>\n",
       "      <th>count</th>\n",
       "      <th>accuracy</th>\n",
       "    </tr>\n",
       "    <tr>\n",
       "      <th>level</th>\n",
       "      <th>subject</th>\n",
       "      <th></th>\n",
       "      <th></th>\n",
       "    </tr>\n",
       "  </thead>\n",
       "  <tbody>\n",
       "    <tr>\n",
       "      <th rowspan=\"5\" valign=\"top\">1</th>\n",
       "      <th>algebra</th>\n",
       "      <td>33</td>\n",
       "      <td>72.727273</td>\n",
       "    </tr>\n",
       "    <tr>\n",
       "      <th>counting_and_probability</th>\n",
       "      <td>126</td>\n",
       "      <td>67.460317</td>\n",
       "    </tr>\n",
       "    <tr>\n",
       "      <th>geometry</th>\n",
       "      <td>148</td>\n",
       "      <td>60.135135</td>\n",
       "    </tr>\n",
       "    <tr>\n",
       "      <th>number_theory</th>\n",
       "      <td>84</td>\n",
       "      <td>77.380952</td>\n",
       "    </tr>\n",
       "    <tr>\n",
       "      <th>prealgebra</th>\n",
       "      <td>408</td>\n",
       "      <td>77.941176</td>\n",
       "    </tr>\n",
       "    <tr>\n",
       "      <th rowspan=\"6\" valign=\"top\">2</th>\n",
       "      <th>algebra</th>\n",
       "      <td>309</td>\n",
       "      <td>77.993528</td>\n",
       "    </tr>\n",
       "    <tr>\n",
       "      <th>counting_and_probability</th>\n",
       "      <td>222</td>\n",
       "      <td>55.855856</td>\n",
       "    </tr>\n",
       "    <tr>\n",
       "      <th>geometry</th>\n",
       "      <td>398</td>\n",
       "      <td>50.502513</td>\n",
       "    </tr>\n",
       "    <tr>\n",
       "      <th>number_theory</th>\n",
       "      <td>172</td>\n",
       "      <td>64.534884</td>\n",
       "    </tr>\n",
       "    <tr>\n",
       "      <th>prealgebra</th>\n",
       "      <td>388</td>\n",
       "      <td>73.195876</td>\n",
       "    </tr>\n",
       "    <tr>\n",
       "      <th>precalculus</th>\n",
       "      <td>16</td>\n",
       "      <td>56.250000</td>\n",
       "    </tr>\n",
       "    <tr>\n",
       "      <th rowspan=\"6\" valign=\"top\">3</th>\n",
       "      <th>algebra</th>\n",
       "      <td>376</td>\n",
       "      <td>60.904255</td>\n",
       "    </tr>\n",
       "    <tr>\n",
       "      <th>counting_and_probability</th>\n",
       "      <td>254</td>\n",
       "      <td>38.188976</td>\n",
       "    </tr>\n",
       "    <tr>\n",
       "      <th>geometry</th>\n",
       "      <td>384</td>\n",
       "      <td>36.197917</td>\n",
       "    </tr>\n",
       "    <tr>\n",
       "      <th>number_theory</th>\n",
       "      <td>187</td>\n",
       "      <td>45.454545</td>\n",
       "    </tr>\n",
       "    <tr>\n",
       "      <th>prealgebra</th>\n",
       "      <td>80</td>\n",
       "      <td>58.750000</td>\n",
       "    </tr>\n",
       "    <tr>\n",
       "      <th>precalculus</th>\n",
       "      <td>82</td>\n",
       "      <td>47.560976</td>\n",
       "    </tr>\n",
       "    <tr>\n",
       "      <th rowspan=\"6\" valign=\"top\">4</th>\n",
       "      <th>algebra</th>\n",
       "      <td>190</td>\n",
       "      <td>42.631579</td>\n",
       "    </tr>\n",
       "    <tr>\n",
       "      <th>counting_and_probability</th>\n",
       "      <td>128</td>\n",
       "      <td>21.875000</td>\n",
       "    </tr>\n",
       "    <tr>\n",
       "      <th>geometry</th>\n",
       "      <td>204</td>\n",
       "      <td>25.490196</td>\n",
       "    </tr>\n",
       "    <tr>\n",
       "      <th>number_theory</th>\n",
       "      <td>103</td>\n",
       "      <td>30.097087</td>\n",
       "    </tr>\n",
       "    <tr>\n",
       "      <th>prealgebra</th>\n",
       "      <td>13</td>\n",
       "      <td>53.846154</td>\n",
       "    </tr>\n",
       "    <tr>\n",
       "      <th>precalculus</th>\n",
       "      <td>81</td>\n",
       "      <td>28.395062</td>\n",
       "    </tr>\n",
       "    <tr>\n",
       "      <th rowspan=\"5\" valign=\"top\">5</th>\n",
       "      <th>algebra</th>\n",
       "      <td>30</td>\n",
       "      <td>13.333333</td>\n",
       "    </tr>\n",
       "    <tr>\n",
       "      <th>counting_and_probability</th>\n",
       "      <td>48</td>\n",
       "      <td>12.500000</td>\n",
       "    </tr>\n",
       "    <tr>\n",
       "      <th>geometry</th>\n",
       "      <td>60</td>\n",
       "      <td>8.333333</td>\n",
       "    </tr>\n",
       "    <tr>\n",
       "      <th>number_theory</th>\n",
       "      <td>29</td>\n",
       "      <td>10.344828</td>\n",
       "    </tr>\n",
       "    <tr>\n",
       "      <th>precalculus</th>\n",
       "      <td>30</td>\n",
       "      <td>26.666667</td>\n",
       "    </tr>\n",
       "    <tr>\n",
       "      <th rowspan=\"5\" valign=\"top\">6</th>\n",
       "      <th>algebra</th>\n",
       "      <td>32</td>\n",
       "      <td>18.750000</td>\n",
       "    </tr>\n",
       "    <tr>\n",
       "      <th>counting_and_probability</th>\n",
       "      <td>34</td>\n",
       "      <td>5.882353</td>\n",
       "    </tr>\n",
       "    <tr>\n",
       "      <th>geometry</th>\n",
       "      <td>74</td>\n",
       "      <td>1.351351</td>\n",
       "    </tr>\n",
       "    <tr>\n",
       "      <th>number_theory</th>\n",
       "      <td>26</td>\n",
       "      <td>3.846154</td>\n",
       "    </tr>\n",
       "    <tr>\n",
       "      <th>precalculus</th>\n",
       "      <td>31</td>\n",
       "      <td>6.451613</td>\n",
       "    </tr>\n",
       "  </tbody>\n",
       "</table>\n",
       "</div>"
      ],
      "text/plain": [
       "                                count   accuracy\n",
       "level subject                                   \n",
       "1     algebra                      33  72.727273\n",
       "      counting_and_probability    126  67.460317\n",
       "      geometry                    148  60.135135\n",
       "      number_theory                84  77.380952\n",
       "      prealgebra                  408  77.941176\n",
       "2     algebra                     309  77.993528\n",
       "      counting_and_probability    222  55.855856\n",
       "      geometry                    398  50.502513\n",
       "      number_theory               172  64.534884\n",
       "      prealgebra                  388  73.195876\n",
       "      precalculus                  16  56.250000\n",
       "3     algebra                     376  60.904255\n",
       "      counting_and_probability    254  38.188976\n",
       "      geometry                    384  36.197917\n",
       "      number_theory               187  45.454545\n",
       "      prealgebra                   80  58.750000\n",
       "      precalculus                  82  47.560976\n",
       "4     algebra                     190  42.631579\n",
       "      counting_and_probability    128  21.875000\n",
       "      geometry                    204  25.490196\n",
       "      number_theory               103  30.097087\n",
       "      prealgebra                   13  53.846154\n",
       "      precalculus                  81  28.395062\n",
       "5     algebra                      30  13.333333\n",
       "      counting_and_probability     48  12.500000\n",
       "      geometry                     60   8.333333\n",
       "      number_theory                29  10.344828\n",
       "      precalculus                  30  26.666667\n",
       "6     algebra                      32  18.750000\n",
       "      counting_and_probability     34   5.882353\n",
       "      geometry                     74   1.351351\n",
       "      number_theory                26   3.846154\n",
       "      precalculus                  31   6.451613"
      ]
     },
     "execution_count": 22,
     "metadata": {},
     "output_type": "execute_result"
    }
   ],
   "source": [
    "accuracy_by_split(results_metadata, [\"level\", \"subject\"])"
   ]
  },
  {
   "cell_type": "code",
   "execution_count": 23,
   "id": "880f0e80-4102-4529-bf8b-f85062b121aa",
   "metadata": {},
   "outputs": [
    {
     "data": {
      "text/html": [
       "<div>\n",
       "<style scoped>\n",
       "    .dataframe tbody tr th:only-of-type {\n",
       "        vertical-align: middle;\n",
       "    }\n",
       "\n",
       "    .dataframe tbody tr th {\n",
       "        vertical-align: top;\n",
       "    }\n",
       "\n",
       "    .dataframe thead th {\n",
       "        text-align: right;\n",
       "    }\n",
       "</style>\n",
       "<table border=\"1\" class=\"dataframe\">\n",
       "  <thead>\n",
       "    <tr style=\"text-align: right;\">\n",
       "      <th></th>\n",
       "      <th>count</th>\n",
       "      <th>accuracy</th>\n",
       "    </tr>\n",
       "    <tr>\n",
       "      <th>level</th>\n",
       "      <th></th>\n",
       "      <th></th>\n",
       "    </tr>\n",
       "  </thead>\n",
       "  <tbody>\n",
       "    <tr>\n",
       "      <th>1</th>\n",
       "      <td>799</td>\n",
       "      <td>71.964956</td>\n",
       "    </tr>\n",
       "    <tr>\n",
       "      <th>2</th>\n",
       "      <td>1505</td>\n",
       "      <td>65.448505</td>\n",
       "    </tr>\n",
       "    <tr>\n",
       "      <th>3</th>\n",
       "      <td>1363</td>\n",
       "      <td>48.422597</td>\n",
       "    </tr>\n",
       "    <tr>\n",
       "      <th>4</th>\n",
       "      <td>719</td>\n",
       "      <td>31.849791</td>\n",
       "    </tr>\n",
       "    <tr>\n",
       "      <th>5</th>\n",
       "      <td>197</td>\n",
       "      <td>15.228426</td>\n",
       "    </tr>\n",
       "    <tr>\n",
       "      <th>6</th>\n",
       "      <td>197</td>\n",
       "      <td>9.644670</td>\n",
       "    </tr>\n",
       "  </tbody>\n",
       "</table>\n",
       "</div>"
      ],
      "text/plain": [
       "       count   accuracy\n",
       "level                  \n",
       "1        799  71.964956\n",
       "2       1505  65.448505\n",
       "3       1363  48.422597\n",
       "4        719  31.849791\n",
       "5        197  15.228426\n",
       "6        197   9.644670"
      ]
     },
     "execution_count": 23,
     "metadata": {},
     "output_type": "execute_result"
    }
   ],
   "source": [
    "accuracy_by_split(zeroshot_results_metadata, \"level\")"
   ]
  },
  {
   "cell_type": "code",
   "execution_count": 24,
   "id": "417b6221-f38a-47fa-9e52-2d0c7b91ae22",
   "metadata": {},
   "outputs": [
    {
     "data": {
      "text/html": [
       "<div>\n",
       "<style scoped>\n",
       "    .dataframe tbody tr th:only-of-type {\n",
       "        vertical-align: middle;\n",
       "    }\n",
       "\n",
       "    .dataframe tbody tr th {\n",
       "        vertical-align: top;\n",
       "    }\n",
       "\n",
       "    .dataframe thead th {\n",
       "        text-align: right;\n",
       "    }\n",
       "</style>\n",
       "<table border=\"1\" class=\"dataframe\">\n",
       "  <thead>\n",
       "    <tr style=\"text-align: right;\">\n",
       "      <th></th>\n",
       "      <th>count</th>\n",
       "      <th>accuracy</th>\n",
       "    </tr>\n",
       "    <tr>\n",
       "      <th>subject</th>\n",
       "      <th></th>\n",
       "      <th></th>\n",
       "    </tr>\n",
       "  </thead>\n",
       "  <tbody>\n",
       "    <tr>\n",
       "      <th>algebra</th>\n",
       "      <td>970</td>\n",
       "      <td>60.000000</td>\n",
       "    </tr>\n",
       "    <tr>\n",
       "      <th>counting_and_probability</th>\n",
       "      <td>812</td>\n",
       "      <td>45.073892</td>\n",
       "    </tr>\n",
       "    <tr>\n",
       "      <th>geometry</th>\n",
       "      <td>1268</td>\n",
       "      <td>39.668770</td>\n",
       "    </tr>\n",
       "    <tr>\n",
       "      <th>number_theory</th>\n",
       "      <td>601</td>\n",
       "      <td>51.414309</td>\n",
       "    </tr>\n",
       "    <tr>\n",
       "      <th>prealgebra</th>\n",
       "      <td>889</td>\n",
       "      <td>73.453318</td>\n",
       "    </tr>\n",
       "    <tr>\n",
       "      <th>precalculus</th>\n",
       "      <td>240</td>\n",
       "      <td>35.416667</td>\n",
       "    </tr>\n",
       "  </tbody>\n",
       "</table>\n",
       "</div>"
      ],
      "text/plain": [
       "                          count   accuracy\n",
       "subject                                   \n",
       "algebra                     970  60.000000\n",
       "counting_and_probability    812  45.073892\n",
       "geometry                   1268  39.668770\n",
       "number_theory               601  51.414309\n",
       "prealgebra                  889  73.453318\n",
       "precalculus                 240  35.416667"
      ]
     },
     "execution_count": 24,
     "metadata": {},
     "output_type": "execute_result"
    }
   ],
   "source": [
    "accuracy_by_split(zeroshot_results_metadata, \"subject\")"
   ]
  },
  {
   "cell_type": "markdown",
   "id": "ce7abe18-ea7e-4806-abca-c02a11202c43",
   "metadata": {},
   "source": [
    "## Look at some random outputs"
   ]
  },
  {
   "cell_type": "code",
   "execution_count": 26,
   "id": "1b0c09c4-b18e-4100-bf4f-4b7bb2cf2ad1",
   "metadata": {},
   "outputs": [],
   "source": [
    "wrong_answers = [\n",
    "    {\n",
    "        \"uid\": answer_check_dicts[i][\"uid\"],\n",
    "        \"level\": dataset_map[answer_check_dicts[i][\"uid\"]][\"level\"],\n",
    "        \"subject\": dataset_map[answer_check_dicts[i][\"uid\"]][\"subject\"],\n",
    "        \"problem\": answer_check_dicts[i][\"problem\"],\n",
    "        **x\n",
    "    } \n",
    "    for i, x in enumerate(answer_check_results) \n",
    "    if not x[\"is_correct\"] and responses[i][\"response\"].completions[0].finish_reason == \"stop\"\n",
    "]"
   ]
  },
  {
   "cell_type": "code",
   "execution_count": 27,
   "id": "e9640d09-c688-4916-a668-bb2022ed533a",
   "metadata": {},
   "outputs": [
    {
     "data": {
      "text/plain": [
       "2323"
      ]
     },
     "execution_count": 27,
     "metadata": {},
     "output_type": "execute_result"
    }
   ],
   "source": [
    "len(wrong_answers)"
   ]
  },
  {
   "cell_type": "code",
   "execution_count": 28,
   "id": "9e337951-3537-43ba-bf50-f3339743a53f",
   "metadata": {},
   "outputs": [
    {
     "data": {
      "text/plain": [
       "{'uid': '2003/AMC_12A/12',\n",
       " 'level': 3,\n",
       " 'subject': 'number_theory',\n",
       " 'problem': 'Sally has five red cards numbered $1$ through $5$ and four blue cards numbered $3$ through $6$. She stacks the cards so that the colors alternate and so that the number on each red card divides evenly into the number on each neighboring blue card. What is the sum of the numbers on the middle three cards?',\n",
       " 'finish_reason': <FinishReason.STOP: 'stop'>,\n",
       " 'generated_text': \"Let R denote a red card and B denote a blue card.  The cards must alternate in color, so the arrangement must be RBRBRB or BRBRBR.\\n\\nThe numbers on the red cards are 1, 2, 3, 4, 5. The numbers on the blue cards are 3, 4, 5, 6.\\n\\nIf the arrangement is RBRBRB, then the first red card must divide the first blue card.  The only possibility is that the first red card is 1.  Then the next blue card must be divisible by 2, so it must be 4 or 6.  If it is 4, then the next red card must be 1, 2, or 4.  If it is 6, then the next red card must be 1, 2, 3, or 6.\\n\\nIf the arrangement is BRBRBR, then the first blue card must be divisible by the first red card.  The only possibilities are that the first blue card is 3, 4, 5, or 6.  If the first blue card is 3, then the first red card must be 1 or 3.  If the first blue card is 4, then the first red card must be 1, 2, or 4.  If the first blue card is 5, then the first red card must be 1 or 5.  If the first blue card is 6, then the first red card must be 1, 2, 3, or 6.\\n\\nLet's try RBRBRB.  If the first red card is 1, then the blue card can be 3, 4, 5, or 6.  If the blue card is 3, then the next red card must be 1 or 3.  If the blue card is 4, then the next red card must be 1, 2, or 4.  If the blue card is 5, then the next red card must be 1 or 5.  If the blue card is 6, then the next red card must be 1, 2, 3.\\n\\nLet's try 1, 3, 2, 4, 3, 6.  This works.  The sum of the middle three cards is $2+4+3=9$.\\n\\nLet's try 1, 4, 2, 5, 3, 6. This works. The sum of the middle three cards is $2+5+3=10$.\\n\\nLet's try 1, 6, 2, 4, 3, 5. This doesn't work.\\n\\nLet's try 1, 4, 2, 6, 3, 5. This doesn't work.\\n\\nLet's try 1, 3, 2, 4, 3, 6. The middle three cards are 2, 4, 3, which sum to 9.\\nLet's try 1, 4, 2, 5, 3, 6. The middle three cards are 2, 5, 3, which sum to 10.\\n\\nFinal Answer: The final answer is $9$. \",\n",
       " 'answer': '$12$',\n",
       " 'is_literal_correct': False,\n",
       " 'predict': '9',\n",
       " 'is_correct': False}"
      ]
     },
     "execution_count": 28,
     "metadata": {},
     "output_type": "execute_result"
    }
   ],
   "source": [
    "rand_idx = np.random.randint(len(wrong_answers))\n",
    "wrong_answers[rand_idx]"
   ]
  },
  {
   "cell_type": "code",
   "execution_count": null,
   "id": "4e263fbb-478b-41f3-98dc-c2cf8b3eebf3",
   "metadata": {},
   "outputs": [],
   "source": []
  }
 ],
 "metadata": {
  "kernelspec": {
   "display_name": "Python 3 (ipykernel)",
   "language": "python",
   "name": "python3"
  },
  "language_info": {
   "codemirror_mode": {
    "name": "ipython",
    "version": 3
   },
   "file_extension": ".py",
   "mimetype": "text/x-python",
   "name": "python",
   "nbconvert_exporter": "python",
   "pygments_lexer": "ipython3",
   "version": "3.12.8"
  }
 },
 "nbformat": 4,
 "nbformat_minor": 5
}
