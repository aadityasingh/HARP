{
 "cells": [
  {
   "cell_type": "markdown",
   "id": "79ab29bf-1e85-4da9-9800-0406720d9174",
   "metadata": {},
   "source": [
    "# Script to annotate AoPS problems with a subject"
   ]
  },
  {
   "cell_type": "code",
   "execution_count": 1,
   "id": "63998e94-a2d8-45f2-8b92-4546787f6040",
   "metadata": {},
   "outputs": [],
   "source": [
    "import sys\n",
    "from pathlib import Path\n",
    "\n",
    "BASEDIR = Path(\"/workspaces/HARP/\") / \"src\"  # Replace with your own basedir path for the repo\n",
    "\n",
    "sys.path.insert(0, str(BASEDIR))"
   ]
  },
  {
   "cell_type": "code",
   "execution_count": 2,
   "id": "9535552d-25ce-4a1c-9f48-cf811f3fabe8",
   "metadata": {},
   "outputs": [],
   "source": [
    "from __future__ import annotations\n",
    "\n",
    "import copy\n",
    "import json\n",
    "import math\n",
    "import os\n",
    "import pickle\n",
    "import pprint\n",
    "import re\n",
    "import time\n",
    "import traceback\n",
    "from collections import Counter\n",
    "from typing import Any\n",
    "\n",
    "import numpy as np\n",
    "from IPython.display import Markdown, clear_output, display\n",
    "from tqdm.auto import tqdm\n",
    "\n",
    "from eval.utils import read_jsonl, get_uid"
   ]
  },
  {
   "cell_type": "code",
   "execution_count": 3,
   "id": "b7658481-8123-4eb4-aa70-3116430eb626",
   "metadata": {},
   "outputs": [],
   "source": [
    "OUTPATH = BASEDIR / \"data/raw/aops_subject_labels_test.jsonl\"  # Replace with your filename to write subject labels to"
   ]
  },
  {
   "cell_type": "code",
   "execution_count": 4,
   "id": "b1a7e4a3-c129-4f73-bda3-7bcb254233b0",
   "metadata": {},
   "outputs": [],
   "source": [
    "# Our subject options, with examples of content that would be part of each\n",
    "SUBJECTS = [\n",
    "    \"prealgebra\",  # arithmetic, speed/distance, unit conversion, simple equations\n",
    "    \"algebra\",  # arithmetic/geometric sequences, systems of equations, logs, Vieta's\n",
    "    \"counting_and_probability\",  # stars and bars, probability, game theory\n",
    "    \"geometry\",  # areas, triangles, circles, polygons\n",
    "    \"number_theory\",  # digit sums, modulo/remainders, prime numbers\n",
    "    \"precalculus\",  # trig, complex numbers, matrices\n",
    "    \"calculus\",  # limits, continuity\n",
    "    \"other\",\n",
    "]"
   ]
  },
  {
   "cell_type": "code",
   "execution_count": 5,
   "id": "c5bca46b-95cf-47aa-afec-0ed27958de16",
   "metadata": {},
   "outputs": [
    {
     "data": {
      "text/plain": [
       "5427"
      ]
     },
     "execution_count": 5,
     "metadata": {},
     "output_type": "execute_result"
    }
   ],
   "source": [
    "dataset = read_jsonl(BASEDIR / \"data/processed/aops_wiki_deduped.jsonl\")\n",
    "len(dataset)"
   ]
  },
  {
   "cell_type": "code",
   "execution_count": 6,
   "id": "c17f6019-835b-4baf-b0d2-2ed5c27a975c",
   "metadata": {},
   "outputs": [
    {
     "data": {
      "text/plain": [
       "5427"
      ]
     },
     "execution_count": 6,
     "metadata": {},
     "output_type": "execute_result"
    }
   ],
   "source": [
    "# Skip problems that we have already labeled\n",
    "existing_label_files = [\n",
    "    OUTPATH,\n",
    "    # Add any other files below\n",
    "]\n",
    "already_labelled_uids = set()\n",
    "for fname in existing_label_files:\n",
    "    if not os.path.exists(fname):\n",
    "        continue\n",
    "    \n",
    "    existing = read_jsonl(fname)\n",
    "    already_labelled_uids |= {l[\"uid\"] for l in existing}\n",
    "\n",
    "remaining_dataset = [p for p in dataset if get_uid(p) not in already_labelled_uids]\n",
    "len(remaining_dataset)"
   ]
  },
  {
   "cell_type": "code",
   "execution_count": 7,
   "id": "f50e4092-f670-4841-9026-77b77e82fe04",
   "metadata": {},
   "outputs": [],
   "source": [
    "def label(problem):\n",
    "    uid = get_uid(problem)\n",
    "    print(\"UID:\", uid)\n",
    "    print(\"URL:\", problem[\"url\"])\n",
    "    if problem['choices']:\n",
    "        choice_text = '\\n\\n'.join(['{}. {}'.format(c, problem['choices'][c]) for c in problem['choices']])\n",
    "        text = '### Problem\\n\\n{}\\n\\n{}\\n\\n### Solution\\n\\n{}'.format(problem['problem'], \n",
    "                                                            choice_text,\n",
    "                                                            problem['solution_1'])\n",
    "    else:\n",
    "        text = '### Problem\\n\\n{}\\n\\n### Solution\\n\\n{}'.format(problem['problem'], problem['solution_1'])\n",
    "    text = text.replace('\\\\(', '$').replace('\\\\)', '$').replace('\\\\[', '$$').replace('\\\\]', '$$')\n",
    "    display(Markdown(text))\n",
    "    \n",
    "    for i, subj in enumerate(SUBJECTS):\n",
    "        print(f\"({i}): {subj}\")\n",
    "    \n",
    "    subject_num = input(\"Subject (input a number, or q to quit)> \")\n",
    "    if subject_num == \"q\":\n",
    "        return None\n",
    "    subject_num = int(subject_num)\n",
    "    subject = SUBJECTS[subject_num]\n",
    "    \n",
    "    notes = input(\"Any notes, or q to quit? (standard prefixes are \\'need choices\\', \\'parse problem\\', \\'parse solution\\', etc)\")\n",
    "    if notes == \"q\":\n",
    "        return None\n",
    "    \n",
    "    res = {\"uid\": uid, \"subject\": subject, \"notes\": notes}\n",
    "    return res\n",
    "\n",
    "def loop(out_path=OUTPATH, left=0, right=len(remaining_dataset)):\n",
    "    for i, problem in enumerate(remaining_dataset[left:right], left):\n",
    "        res = label(problem)\n",
    "        \n",
    "        if res is None:\n",
    "            print(f\"Quitting at index {i}\")\n",
    "            break\n",
    "        \n",
    "        with open(out_path, \"a+\") as f:\n",
    "            f.write(json.dumps(res) + \"\\n\")\n",
    "        clear_output()"
   ]
  },
  {
   "cell_type": "code",
   "execution_count": 8,
   "id": "7034dff5-60b8-4681-814d-52d114e3c077",
   "metadata": {},
   "outputs": [
    {
     "name": "stdout",
     "output_type": "stream",
     "text": [
      "UID: 1950/AHSME/1\n",
      "URL: https://artofproblemsolving.com/wiki/index.php/1950_AHSME_Problems/Problem_1\n"
     ]
    },
    {
     "data": {
      "text/markdown": [
       "### Problem\n",
       "\n",
       "If $64$ is divided into three parts proportional to $2$, $4$, and $6$, the smallest part is:\n",
       "\n",
       "A. $5\\frac{1}{3}$\n",
       "\n",
       "B. $11$\n",
       "\n",
       "C. $10\\frac{2}{3}$\n",
       "\n",
       "D. $5$\n",
       "\n",
       "E. $\\text{None of these answers}$\n",
       "\n",
       "### Solution\n",
       "\n",
       "If the three numbers are in proportion to $2:4:6$, then they should also be in proportion to $1:2:3$. This implies that the three numbers can be expressed as $x$, $2x$, and $3x$. Add these values together to get: \n",
       "$$x+2x+3x=6x=64$$\n",
       "Divide each side by 6 and get that \n",
       "$$x=\\frac{64}{6}=\\frac{32}{3}=10 \\frac{2}{3}$$\n",
       "which is $\\boxed{\\textbf{(C)}}$."
      ],
      "text/plain": [
       "<IPython.core.display.Markdown object>"
      ]
     },
     "metadata": {},
     "output_type": "display_data"
    },
    {
     "name": "stdout",
     "output_type": "stream",
     "text": [
      "(0): prealgebra\n",
      "(1): algebra\n",
      "(2): counting_and_probability\n",
      "(3): geometry\n",
      "(4): number_theory\n",
      "(5): precalculus\n",
      "(6): calculus\n",
      "(7): other\n"
     ]
    },
    {
     "name": "stdin",
     "output_type": "stream",
     "text": [
      "Subject (input a number, or q to quit)>  q\n"
     ]
    },
    {
     "name": "stdout",
     "output_type": "stream",
     "text": [
      "Quitting at index 0\n"
     ]
    }
   ],
   "source": [
    "loop(left=0)"
   ]
  }
 ],
 "metadata": {
  "kernelspec": {
   "display_name": "Python 3 (ipykernel)",
   "language": "python",
   "name": "python3"
  },
  "language_info": {
   "codemirror_mode": {
    "name": "ipython",
    "version": 3
   },
   "file_extension": ".py",
   "mimetype": "text/x-python",
   "name": "python",
   "nbconvert_exporter": "python",
   "pygments_lexer": "ipython3",
   "version": "3.12.7"
  }
 },
 "nbformat": 4,
 "nbformat_minor": 5
}
