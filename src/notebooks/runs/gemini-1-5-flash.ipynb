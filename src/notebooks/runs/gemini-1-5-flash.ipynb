{
 "cells": [
  {
   "cell_type": "code",
   "execution_count": 1,
   "id": "3c4965b3-0345-4038-934b-e3df633b8dbb",
   "metadata": {},
   "outputs": [],
   "source": [
    "import sys\n",
    "from pathlib import Path\n",
    "\n",
    "BASEDIR = Path(\"/workspaces/HARP/\") / \"src\"  # Replace with your own basedir path for the repo\n",
    "\n",
    "sys.path.insert(0, str(BASEDIR))"
   ]
  },
  {
   "cell_type": "code",
   "execution_count": 2,
   "id": "84696ecf-ef59-4443-b6c8-1c9f67051726",
   "metadata": {},
   "outputs": [],
   "source": [
    "from __future__ import annotations\n",
    "\n",
    "import copy\n",
    "import itertools\n",
    "import json\n",
    "import math\n",
    "import os\n",
    "import pickle\n",
    "import pprint\n",
    "import re\n",
    "import textwrap\n",
    "import time\n",
    "import traceback\n",
    "from collections import Counter, defaultdict\n",
    "from typing import Any\n",
    "\n",
    "import matplotlib.pyplot as plt\n",
    "import numpy as np\n",
    "import pandas as pd\n",
    "import tiktoken\n",
    "from IPython.display import Markdown, clear_output, display\n",
    "from tqdm.auto import tqdm\n",
    "\n",
    "import vertexai\n",
    "from vertexai.batch_prediction._batch_prediction import BatchPredictionJob"
   ]
  },
  {
   "cell_type": "code",
   "execution_count": 3,
   "id": "fb5b01a4-fe5c-4710-a61f-737d05e04a0e",
   "metadata": {},
   "outputs": [],
   "source": [
    "from eval.api import safe_unified_api_call\n",
    "from eval.costs import count_tokens, get_pricing\n",
    "from eval.eval import run_one, create_batch, make_answer_check_dict_from_jsonl\n",
    "from eval.parsing_lib import *\n",
    "from eval.latex_answer_check import *\n",
    "from eval.prompt import create_prompt\n",
    "from eval.prompts import *\n",
    "from eval.utils import read_jsonl, write_jsonl, get_uid, upload_blob, download_blob"
   ]
  },
  {
   "cell_type": "markdown",
   "id": "ca1dd4fe-9bed-4b04-94cf-dd1aa8ccc05f",
   "metadata": {},
   "source": [
    "# Data"
   ]
  },
  {
   "cell_type": "code",
   "execution_count": 4,
   "id": "38903393-4ea1-46a9-9bab-d424c335abf2",
   "metadata": {},
   "outputs": [
    {
     "data": {
      "text/plain": [
       "4780"
      ]
     },
     "execution_count": 4,
     "metadata": {},
     "output_type": "execute_result"
    }
   ],
   "source": [
    "dataset = read_jsonl(BASEDIR / \"data/processed/HARP.jsonl\")\n",
    "dataset_map = {get_uid(p): p for p in dataset}\n",
    "len(dataset)"
   ]
  },
  {
   "cell_type": "markdown",
   "id": "532bd49a-7e93-4fc8-b508-3edae5528815",
   "metadata": {},
   "source": [
    "# Run eval"
   ]
  },
  {
   "cell_type": "code",
   "execution_count": 5,
   "id": "2a4a7847-7bd4-41d5-b73b-c3ec92f14d20",
   "metadata": {},
   "outputs": [],
   "source": [
    "vertexai.init(project=os.environ.get(\"VERTEXAI_PROJECT_ID\"), location=\"us-central1\")"
   ]
  },
  {
   "cell_type": "code",
   "execution_count": 6,
   "id": "19b78a16-daec-4a9d-9e7d-49167f8d3602",
   "metadata": {},
   "outputs": [],
   "source": [
    "BUCKET_NAME = os.environ.get(\"GCLOUD_BUCKET_NAME\")  # Should have the form \"cloud-ai-platform-<YOUR_BUCKET>\""
   ]
  },
  {
   "cell_type": "markdown",
   "id": "3e28ac58-4efa-43ed-a7a9-2a3d317e5537",
   "metadata": {},
   "source": [
    "## Create batch"
   ]
  },
  {
   "cell_type": "code",
   "execution_count": 7,
   "id": "0ea97c73-494b-4c11-be0f-552b7ff316e6",
   "metadata": {},
   "outputs": [],
   "source": [
    "batch = create_batch(\n",
    "    dataset,\n",
    "    api=\"google\",\n",
    "    model=\"gemini-1.5-flash-002\",\n",
    "    fewshot_messages=[],\n",
    "    system_prompt=gemini_0shot_sysprompt,\n",
    "    max_tokens=2048,\n",
    "    temperature=0,\n",
    "    seed=0,\n",
    "    stop_sequences=[\"I hope it is correct.\"],\n",
    "    # just to remove irrelevant params\n",
    "    logprobs=None,\n",
    "    top_p=None,\n",
    ")\n",
    "write_jsonl(batch, BASEDIR / \"inputs/short_answer/gemini-1.5-flash-002/batch.jsonl\")"
   ]
  },
  {
   "cell_type": "code",
   "execution_count": 8,
   "id": "e352e6d4-cc66-46c1-b3c1-7e40206c1d75",
   "metadata": {},
   "outputs": [],
   "source": [
    "batch = create_batch(\n",
    "    dataset,\n",
    "    api=\"google\",\n",
    "    model=\"gemini-1.5-flash-002\",\n",
    "    fewshot_messages=minerva_4shot_prompt,\n",
    "    system_prompt=gemini_sysprompt,\n",
    "    max_tokens=2048,\n",
    "    temperature=0,\n",
    "    seed=0,\n",
    "    stop_sequences=[\"I hope it is correct.\"],\n",
    "    # just to remove irrelevant params\n",
    "    logprobs=None,\n",
    "    top_p=None,\n",
    ")\n",
    "write_jsonl(batch, BASEDIR / \"inputs/short_answer/gemini-1.5-flash-002/batch_minerva.jsonl\")"
   ]
  },
  {
   "cell_type": "markdown",
   "id": "24d29b20-3d43-4c76-af1e-66d60e975b8e",
   "metadata": {},
   "source": [
    "## Upload to cloud"
   ]
  },
  {
   "cell_type": "code",
   "execution_count": null,
   "id": "4f172599-7030-47f1-83d3-e8425f282224",
   "metadata": {},
   "outputs": [],
   "source": [
    "upload_blob(\n",
    "    BUCKET_NAME,\n",
    "    BASEDIR / \"inputs/short_answer/gemini-1.5-flash-002/batch.jsonl\",\n",
    "    \"prompt_data/short_answer/gemini-1.5-flash-002/batch.jsonl\",\n",
    ")"
   ]
  },
  {
   "cell_type": "code",
   "execution_count": null,
   "id": "c444c58f-4c56-4467-9130-0d4b4643cb5b",
   "metadata": {},
   "outputs": [],
   "source": [
    "upload_blob(\n",
    "    BUCKET_NAME,\n",
    "    BASEDIR / \"inputs/short_answer/gemini-1.5-flash-002/batch_minerva.jsonl\",\n",
    "    \"prompt_data/short_answer/gemini-1.5-flash-002/batch_minerva.jsonl\",\n",
    ")"
   ]
  },
  {
   "cell_type": "markdown",
   "id": "9c0ac3e5-3ff5-431f-9134-802e3904a034",
   "metadata": {},
   "source": [
    "## Run batch job"
   ]
  },
  {
   "cell_type": "code",
   "execution_count": null,
   "id": "67376f6d-6fbb-44d9-a2bf-52d1b24ccb88",
   "metadata": {},
   "outputs": [],
   "source": [
    "batch_prediction_job = BatchPredictionJob.submit(\n",
    "    source_model=\"gemini-1.5-flash-002\",\n",
    "    input_dataset=f\"gs://{BUCKET_NAME}/prompt_data/short_answer/gemini-1.5-flash-002/batch.jsonl\",\n",
    "    output_uri_prefix=f\"gs://{BUCKET_NAME}/outputs/short_answer/gemini-1.5-flash-002/batch\",\n",
    ")"
   ]
  },
  {
   "cell_type": "code",
   "execution_count": null,
   "id": "2eb83032-17f7-4106-a862-74bd81efe22a",
   "metadata": {},
   "outputs": [],
   "source": [
    "batch_zeroshot_prediction_job = BatchPredictionJob.submit(\n",
    "    source_model=\"gemini-1.5-flash-002\",\n",
    "    input_dataset=f\"gs://{BUCKET_NAME}/prompt_data/short_answer/gemini-1.5-flash-002/batch_minerva.jsonl\",\n",
    "    output_uri_prefix=f\"gs://{BUCKET_NAME}/outputs/short_answer/gemini-1.5-flash-002/batch_minerva\",\n",
    ")"
   ]
  },
  {
   "cell_type": "markdown",
   "id": "34791883-6092-4932-83da-426d9c7b1ad5",
   "metadata": {},
   "source": [
    "## Get results"
   ]
  },
  {
   "cell_type": "code",
   "execution_count": null,
   "id": "00a8c59d-b55d-4422-9e26-a8cb9d9f8be6",
   "metadata": {},
   "outputs": [],
   "source": [
    "download_blob(\n",
    "    BUCKET_NAME,\n",
    "    \"outputs/short_answer/gemini-1.5-flash-002/batch/prediction-model-<TIMESTAMP>/predictions.jsonl\",\n",
    "    BASEDIR / \"outputs/short_answer/gemini-1.5-flash-002/outputs.jsonl\",\n",
    ")"
   ]
  },
  {
   "cell_type": "code",
   "execution_count": null,
   "id": "9dc0f900-82f5-4f30-89f7-a5f4dac31a39",
   "metadata": {},
   "outputs": [],
   "source": [
    "download_blob(\n",
    "    BUCKET_NAME,\n",
    "    \"outputs/short_answer/gemini-1.5-flash-002/batch_minerva/prediction-model-<TIMESTAMP>/predictions.jsonl\",\n",
    "    BASEDIR / \"outputs/short_answer/gemini-1.5-flash-002/outputs_minerva.jsonl\",\n",
    ")"
   ]
  }
 ],
 "metadata": {
  "kernelspec": {
   "display_name": "Python 3 (ipykernel)",
   "language": "python",
   "name": "python3"
  },
  "language_info": {
   "codemirror_mode": {
    "name": "ipython",
    "version": 3
   },
   "file_extension": ".py",
   "mimetype": "text/x-python",
   "name": "python",
   "nbconvert_exporter": "python",
   "pygments_lexer": "ipython3",
   "version": "3.12.8"
  }
 },
 "nbformat": 4,
 "nbformat_minor": 5
}
