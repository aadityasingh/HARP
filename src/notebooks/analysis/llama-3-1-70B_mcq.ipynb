{
 "cells": [
  {
   "cell_type": "markdown",
   "id": "3cdc14bf-020b-4949-ab8a-3a4f45187b26",
   "metadata": {},
   "source": [
    "# Llama 3.1 70B Multiple Choice, no choices"
   ]
  },
  {
   "cell_type": "code",
   "execution_count": 1,
   "id": "ab0296b2-0137-4e9c-ba19-cf964d735beb",
   "metadata": {},
   "outputs": [],
   "source": [
    "import sys\n",
    "from pathlib import Path\n",
    "\n",
    "BASEDIR = Path(\"/workspaces/HARP/\") / \"src\"  # Replace with your own basedir path for the repo\n",
    "\n",
    "sys.path.insert(0, str(BASEDIR))"
   ]
  },
  {
   "cell_type": "code",
   "execution_count": 2,
   "id": "887aa01a-8b67-4349-877f-2c1196e0ffb2",
   "metadata": {},
   "outputs": [],
   "source": [
    "from __future__ import annotations\n",
    "\n",
    "import copy\n",
    "import itertools\n",
    "import json\n",
    "import math\n",
    "import os\n",
    "import pickle\n",
    "import pprint\n",
    "import re\n",
    "import textwrap\n",
    "import time\n",
    "import traceback\n",
    "from collections import Counter, defaultdict\n",
    "from typing import Any\n",
    "\n",
    "import matplotlib.pyplot as plt\n",
    "import numpy as np\n",
    "import pandas as pd\n",
    "import tiktoken\n",
    "from IPython.display import Markdown, clear_output, display\n",
    "from tqdm.auto import tqdm"
   ]
  },
  {
   "cell_type": "code",
   "execution_count": 3,
   "id": "1f107d4f-4194-45e8-85a0-50c647d0a4c8",
   "metadata": {},
   "outputs": [],
   "source": [
    "from eval.costs import count_tokens, get_pricing\n",
    "from eval.eval import run_one, create_batch, make_answer_check_dict_from_jsonl, make_results_df, accuracy_by_split\n",
    "from eval.parsing_lib import *\n",
    "from eval.latex_answer_check import *\n",
    "from eval.response import ModelResponse\n",
    "from eval.utils import read_jsonl, write_jsonl, get_uid"
   ]
  },
  {
   "cell_type": "markdown",
   "id": "1e775b45-2466-410d-975d-1ab676aa1a88",
   "metadata": {},
   "source": [
    "# Data"
   ]
  },
  {
   "cell_type": "code",
   "execution_count": 4,
   "id": "5bc154a6-3e71-4d0a-b3cb-c3afc262a41d",
   "metadata": {},
   "outputs": [
    {
     "data": {
      "text/plain": [
       "4110"
      ]
     },
     "execution_count": 4,
     "metadata": {},
     "output_type": "execute_result"
    }
   ],
   "source": [
    "# We don't use HARP_mcq.jsonl here because we used the original ordering of answer choices\n",
    "dataset = [x for x in read_jsonl(BASEDIR / \"data/processed/HARP_raw.jsonl\") if x[\"choices\"] is not None and x[\"subject\"] != \"calculus\"]\n",
    "dataset_map = {get_uid(p): p for p in dataset}\n",
    "len(dataset)"
   ]
  },
  {
   "cell_type": "markdown",
   "id": "a557df7a-2f9c-403c-a1fa-256db871629e",
   "metadata": {},
   "source": [
    "# Results\n",
    "\n",
    "```\n",
    "python run_eval.py --model meta-llama/Meta-Llama-3.1-70B-Instruct-Turbo --api together --out hard.jsonl --temperature 0 --max-tokens 2048 --do-multiple-choice\n",
    "```"
   ]
  },
  {
   "cell_type": "code",
   "execution_count": 5,
   "id": "7197cc9a-a819-4336-a745-b0c118888b9f",
   "metadata": {},
   "outputs": [],
   "source": [
    "fname = BASEDIR / \"outputs/mcq/Meta-Llama-3.1-70B-Instruct-Turbo/no-choices.jsonl\"\n",
    "\n",
    "responses = read_jsonl(fname)\n",
    "responses = [\n",
    "    {\n",
    "        \"uid\": x[\"uid\"],\n",
    "        \"system\": x[\"system\"],\n",
    "        \"prompt\": x[\"prompt\"],\n",
    "        \"response\": ModelResponse.from_response(x[\"response\"], \"together\")\n",
    "    }\n",
    "    for x in responses\n",
    "    if x[\"uid\"] in dataset_map\n",
    "]\n",
    "response_map = {o[\"uid\"]: o for o in responses}\n",
    "\n",
    "answer_check_dicts = make_answer_check_dict_from_jsonl(responses, dataset_map)"
   ]
  },
  {
   "cell_type": "code",
   "execution_count": 6,
   "id": "aae4bff7-97ed-464e-a098-d0dab93bedb3",
   "metadata": {},
   "outputs": [
    {
     "data": {
      "application/vnd.jupyter.widget-view+json": {
       "model_id": "842c9e8cf92e40208f3ab5cfcc626264",
       "version_major": 2,
       "version_minor": 0
      },
      "text/plain": [
       "  0%|          | 0/4110 [00:00<?, ?it/s]"
      ]
     },
     "metadata": {},
     "output_type": "display_data"
    },
    {
     "data": {
      "text/plain": [
       "0.18953771289537713"
      ]
     },
     "execution_count": 6,
     "metadata": {},
     "output_type": "execute_result"
    }
   ],
   "source": [
    "llama_wanted_choices = []\n",
    "\n",
    "answer_check_results = []\n",
    "for prob in tqdm(answer_check_dicts):\n",
    "    model_ans = prob[\"generated_text\"] if prob[\"finish_reason\"] == \"stop\" else None\n",
    "    gt = prob[\"answer_choice\"]\n",
    "    out = check_one_latex_answer(\n",
    "        model_ans,\n",
    "        gt,\n",
    "        extract_policy=\"flex\",\n",
    "        eval_policy=\"aggressive\",\n",
    "    )\n",
    "\n",
    "    model_ans_choice = extract_answer(model_ans, EXTRACT_RE_PATTERNS) if model_ans is not None else \"F\"\n",
    "    if model_ans_choice is not None:\n",
    "        model_ans_choice = remove_boxes_keep_content(clean_answer(model_ans_choice))\n",
    "        gt_choice = remove_boxes_keep_content(clean_answer(gt))\n",
    "        if out[\"is_correct\"] != (model_ans_choice == gt_choice):\n",
    "            print(\"DIDNT MATCH EXACT MATCH:\", out)\n",
    "    else:\n",
    "        llama_wanted_choices.append(get_uid(prob))\n",
    "    \n",
    "    answer_check_results.append({**prob, **out})\n",
    "\n",
    "sum([x[\"is_correct\"] for x in answer_check_results]) / len(dataset)"
   ]
  },
  {
   "cell_type": "code",
   "execution_count": 7,
   "id": "7a1a7b6e-f39d-4ef9-8736-fe9d3bb176c1",
   "metadata": {},
   "outputs": [],
   "source": [
    "results_metadata = make_results_df(responses, answer_check_results, dataset_map, mode=\"mcq\")"
   ]
  },
  {
   "cell_type": "code",
   "execution_count": 8,
   "id": "2aed0102-5ac1-4012-84dc-093571eb91ea",
   "metadata": {},
   "outputs": [],
   "source": [
    "os.makedirs(BASEDIR / \"results/Meta-Llama-3.1-70B-Instruct-Turbo\", exist_ok=True)\n",
    "results_metadata.to_csv(BASEDIR / \"results/Meta-Llama-3.1-70B-Instruct-Turbo/results_mcq_nochoices.csv\")"
   ]
  },
  {
   "cell_type": "code",
   "execution_count": 24,
   "id": "7defcdce-590c-48f9-9e8d-17cf230e63ec",
   "metadata": {},
   "outputs": [],
   "source": [
    "results_metadata = pd.read_csv(BASEDIR / \"results/Meta-Llama-3.1-70B-Instruct-Turbo/results_mcq_nochoices.csv\").set_index(\"uid\")"
   ]
  },
  {
   "cell_type": "code",
   "execution_count": 10,
   "id": "07605ab8-8634-4f4c-989d-708279fdc7a1",
   "metadata": {},
   "outputs": [
    {
     "data": {
      "text/plain": [
       "reason\n",
       "stop      3558\n",
       "length     552\n",
       "Name: count, dtype: int64"
      ]
     },
     "execution_count": 10,
     "metadata": {},
     "output_type": "execute_result"
    }
   ],
   "source": [
    "results_metadata.value_counts(\"reason\")"
   ]
  },
  {
   "cell_type": "code",
   "execution_count": 12,
   "id": "00b90af8-a8a8-4522-91a3-92da3051d89b",
   "metadata": {},
   "outputs": [
    {
     "data": {
      "text/plain": [
       "np.float64(0.13430656934306573)"
      ]
     },
     "execution_count": 12,
     "metadata": {},
     "output_type": "execute_result"
    }
   ],
   "source": [
    "1 - results_metadata.value_counts(\"reason\").loc[\"stop\"] / len(dataset)"
   ]
  },
  {
   "cell_type": "markdown",
   "id": "271dabf0-150d-4e25-97a2-2f7b47ae3628",
   "metadata": {},
   "source": [
    "## Cost"
   ]
  },
  {
   "cell_type": "code",
   "execution_count": 13,
   "id": "f3372ca9-631f-4074-8b43-9f0f3b95b84a",
   "metadata": {},
   "outputs": [
    {
     "data": {
      "text/plain": [
       "3.0315234399999738"
      ]
     },
     "execution_count": 13,
     "metadata": {},
     "output_type": "execute_result"
    }
   ],
   "source": [
    "PRICES = get_pricing(\"meta-llama/Meta-Llama-3.1-70B-Instruct-Turbo\")\n",
    "\n",
    "total_cost = 0\n",
    "for row in results_metadata.itertuples():\n",
    "    total_cost += PRICES[\"input_tokens\"] * row.input_tokens\n",
    "    total_cost += PRICES[\"output_tokens\"] * row.output_tokens\n",
    "total_cost"
   ]
  },
  {
   "cell_type": "markdown",
   "id": "72f55477-b6b3-46bc-aa9c-efffe8eb0c7c",
   "metadata": {},
   "source": [
    "## Accuracy"
   ]
  },
  {
   "cell_type": "code",
   "execution_count": 14,
   "id": "2b333a12-788a-44fa-a2bb-b2fe4256c6ae",
   "metadata": {},
   "outputs": [
    {
     "data": {
      "text/html": [
       "<div>\n",
       "<style scoped>\n",
       "    .dataframe tbody tr th:only-of-type {\n",
       "        vertical-align: middle;\n",
       "    }\n",
       "\n",
       "    .dataframe tbody tr th {\n",
       "        vertical-align: top;\n",
       "    }\n",
       "\n",
       "    .dataframe thead th {\n",
       "        text-align: right;\n",
       "    }\n",
       "</style>\n",
       "<table border=\"1\" class=\"dataframe\">\n",
       "  <thead>\n",
       "    <tr style=\"text-align: right;\">\n",
       "      <th></th>\n",
       "      <th>count</th>\n",
       "      <th>accuracy</th>\n",
       "    </tr>\n",
       "    <tr>\n",
       "      <th>level</th>\n",
       "      <th></th>\n",
       "      <th></th>\n",
       "    </tr>\n",
       "  </thead>\n",
       "  <tbody>\n",
       "    <tr>\n",
       "      <th>1</th>\n",
       "      <td>858</td>\n",
       "      <td>19.580420</td>\n",
       "    </tr>\n",
       "    <tr>\n",
       "      <th>2</th>\n",
       "      <td>1612</td>\n",
       "      <td>22.084367</td>\n",
       "    </tr>\n",
       "    <tr>\n",
       "      <th>3</th>\n",
       "      <td>1136</td>\n",
       "      <td>15.140845</td>\n",
       "    </tr>\n",
       "    <tr>\n",
       "      <th>4</th>\n",
       "      <td>504</td>\n",
       "      <td>16.468254</td>\n",
       "    </tr>\n",
       "  </tbody>\n",
       "</table>\n",
       "</div>"
      ],
      "text/plain": [
       "       count   accuracy\n",
       "level                  \n",
       "1        858  19.580420\n",
       "2       1612  22.084367\n",
       "3       1136  15.140845\n",
       "4        504  16.468254"
      ]
     },
     "execution_count": 14,
     "metadata": {},
     "output_type": "execute_result"
    }
   ],
   "source": [
    "accuracy_by_split(results_metadata, \"level\")"
   ]
  },
  {
   "cell_type": "code",
   "execution_count": 15,
   "id": "7649cf24-2237-4cea-bf81-ebb7392e5d98",
   "metadata": {},
   "outputs": [
    {
     "data": {
      "text/html": [
       "<div>\n",
       "<style scoped>\n",
       "    .dataframe tbody tr th:only-of-type {\n",
       "        vertical-align: middle;\n",
       "    }\n",
       "\n",
       "    .dataframe tbody tr th {\n",
       "        vertical-align: top;\n",
       "    }\n",
       "\n",
       "    .dataframe thead th {\n",
       "        text-align: right;\n",
       "    }\n",
       "</style>\n",
       "<table border=\"1\" class=\"dataframe\">\n",
       "  <thead>\n",
       "    <tr style=\"text-align: right;\">\n",
       "      <th></th>\n",
       "      <th>count</th>\n",
       "      <th>accuracy</th>\n",
       "    </tr>\n",
       "    <tr>\n",
       "      <th>subject</th>\n",
       "      <th></th>\n",
       "      <th></th>\n",
       "    </tr>\n",
       "  </thead>\n",
       "  <tbody>\n",
       "    <tr>\n",
       "      <th>algebra</th>\n",
       "      <td>872</td>\n",
       "      <td>18.119266</td>\n",
       "    </tr>\n",
       "    <tr>\n",
       "      <th>counting_and_probability</th>\n",
       "      <td>600</td>\n",
       "      <td>19.666667</td>\n",
       "    </tr>\n",
       "    <tr>\n",
       "      <th>geometry</th>\n",
       "      <td>1071</td>\n",
       "      <td>17.180205</td>\n",
       "    </tr>\n",
       "    <tr>\n",
       "      <th>number_theory</th>\n",
       "      <td>473</td>\n",
       "      <td>15.856237</td>\n",
       "    </tr>\n",
       "    <tr>\n",
       "      <th>prealgebra</th>\n",
       "      <td>957</td>\n",
       "      <td>22.884013</td>\n",
       "    </tr>\n",
       "    <tr>\n",
       "      <th>precalculus</th>\n",
       "      <td>137</td>\n",
       "      <td>18.248175</td>\n",
       "    </tr>\n",
       "  </tbody>\n",
       "</table>\n",
       "</div>"
      ],
      "text/plain": [
       "                          count   accuracy\n",
       "subject                                   \n",
       "algebra                     872  18.119266\n",
       "counting_and_probability    600  19.666667\n",
       "geometry                   1071  17.180205\n",
       "number_theory               473  15.856237\n",
       "prealgebra                  957  22.884013\n",
       "precalculus                 137  18.248175"
      ]
     },
     "execution_count": 15,
     "metadata": {},
     "output_type": "execute_result"
    }
   ],
   "source": [
    "accuracy_by_split(results_metadata, \"subject\")"
   ]
  },
  {
   "cell_type": "markdown",
   "id": "c5199e90-08c7-4b9d-847f-e931d291b6dc",
   "metadata": {},
   "source": [
    "**Compare overlap with Short Ans prompt**"
   ]
  },
  {
   "cell_type": "code",
   "execution_count": 16,
   "id": "d342ca39-3a73-479a-b529-cc659b9d494b",
   "metadata": {},
   "outputs": [
    {
     "data": {
      "text/plain": [
       "np.float64(19.515406900184356)"
      ]
     },
     "execution_count": 16,
     "metadata": {},
     "output_type": "execute_result"
    }
   ],
   "source": [
    "results_metadata[~results_metadata[\"mcq_only\"]][\"is_correct\"].mean() * 100"
   ]
  },
  {
   "cell_type": "code",
   "execution_count": 17,
   "id": "7b49dc13-0053-4be6-915c-4ed384f9ca1b",
   "metadata": {},
   "outputs": [
    {
     "data": {
      "text/html": [
       "<div>\n",
       "<style scoped>\n",
       "    .dataframe tbody tr th:only-of-type {\n",
       "        vertical-align: middle;\n",
       "    }\n",
       "\n",
       "    .dataframe tbody tr th {\n",
       "        vertical-align: top;\n",
       "    }\n",
       "\n",
       "    .dataframe thead th {\n",
       "        text-align: right;\n",
       "    }\n",
       "</style>\n",
       "<table border=\"1\" class=\"dataframe\">\n",
       "  <thead>\n",
       "    <tr style=\"text-align: right;\">\n",
       "      <th></th>\n",
       "      <th>count</th>\n",
       "      <th>accuracy</th>\n",
       "    </tr>\n",
       "    <tr>\n",
       "      <th>level</th>\n",
       "      <th></th>\n",
       "      <th></th>\n",
       "    </tr>\n",
       "  </thead>\n",
       "  <tbody>\n",
       "    <tr>\n",
       "      <th>1</th>\n",
       "      <td>799</td>\n",
       "      <td>19.524406</td>\n",
       "    </tr>\n",
       "    <tr>\n",
       "      <th>2</th>\n",
       "      <td>1505</td>\n",
       "      <td>22.657807</td>\n",
       "    </tr>\n",
       "    <tr>\n",
       "      <th>3</th>\n",
       "      <td>1036</td>\n",
       "      <td>15.830116</td>\n",
       "    </tr>\n",
       "    <tr>\n",
       "      <th>4</th>\n",
       "      <td>457</td>\n",
       "      <td>17.505470</td>\n",
       "    </tr>\n",
       "  </tbody>\n",
       "</table>\n",
       "</div>"
      ],
      "text/plain": [
       "       count   accuracy\n",
       "level                  \n",
       "1        799  19.524406\n",
       "2       1505  22.657807\n",
       "3       1036  15.830116\n",
       "4        457  17.505470"
      ]
     },
     "execution_count": 17,
     "metadata": {},
     "output_type": "execute_result"
    }
   ],
   "source": [
    "accuracy_by_split(results_metadata[~results_metadata[\"mcq_only\"]], \"level\")"
   ]
  },
  {
   "cell_type": "markdown",
   "id": "fd54254c-a036-4506-b3ef-ba7ced9d21ed",
   "metadata": {},
   "source": [
    "## Asking for choices\n",
    "\n",
    "One thing I noticed is that Llama will sometimes notice that a math problem is incomplete, and refuse to fake-solve and give an answer! This is however not always right, e.g. 1951/AHSME/1"
   ]
  },
  {
   "cell_type": "code",
   "execution_count": 18,
   "id": "7e78377a-5b4d-4327-92fc-bae0263908d2",
   "metadata": {},
   "outputs": [
    {
     "data": {
      "text/plain": [
       "'1951/AHSME/1'"
      ]
     },
     "execution_count": 18,
     "metadata": {},
     "output_type": "execute_result"
    }
   ],
   "source": [
    "llama_wanted_choices[0]"
   ]
  },
  {
   "cell_type": "code",
   "execution_count": 20,
   "id": "11848bde-4174-4a8b-a71b-c859f19b56a6",
   "metadata": {},
   "outputs": [
    {
     "data": {
      "text/plain": [
       "24"
      ]
     },
     "execution_count": 20,
     "metadata": {},
     "output_type": "execute_result"
    }
   ],
   "source": [
    "len(llama_wanted_choices)"
   ]
  },
  {
   "cell_type": "code",
   "execution_count": 19,
   "id": "78501a08-207d-43a9-9743-8ab210daf2c7",
   "metadata": {},
   "outputs": [
    {
     "name": "stdout",
     "output_type": "stream",
     "text": [
      "{'year': '1951', 'contest': 'AHSME', 'number': 1, 'url': 'https://artofproblemsolving.com/wiki/index.php/1951_AHSME_Problems/Problem_1', 'level': 2, 'subject': 'prealgebra', 'multiple_choice_only': False, 'full_text': '# Problem\\nThe percent that $M$ is greater than $N$ is:\\n$(\\\\mathrm{A})\\\\ \\\\frac{100(M-N)}{M} \\\\qquad (\\\\mathrm{B})\\\\ \\\\frac{100(M-N)}{N} \\\\qquad (\\\\mathrm{C})\\\\ \\\\frac{M-N}{N} \\\\qquad (\\\\mathrm{D})\\\\ \\\\frac{M-N}{M} \\\\qquad (\\\\mathrm{E})\\\\ \\\\frac{100(M+N)}{N}$\\n\\n# Solution\\n$M-N$ is the amount by which $M$ is greater than $N$. We divide this by $N$ to get the percent by which $N$ is increased in the form of a decimal, and then multiply by $100$ to make it a percentage. Therefore, the answer is $\\\\boxed{\\\\mathrm{(B)}\\\\ \\\\dfrac{100(M-N)}{N}}$.\\n', 'num_gpt4_tokens': 192, 'choices': {'A': '$\\\\frac{100(M-N)}{M}$', 'B': '$\\\\frac{100(M-N)}{N}$', 'C': '$\\\\frac{M-N}{N}$', 'D': '$\\\\frac{M-N}{M}$', 'E': '$\\\\frac{100(M+N)}{N}$'}, 'problem': 'The percent that $M$ is greater than $N$ is:', 'answer_choice': 'B', 'answer': '$\\\\frac{100(M-N)}{N}$', 'solution_1_metadata': '', 'solution_1': '$M-N$ is the amount by which $M$ is greater than $N$. We divide this by $N$ to get the percent by which $N$ is increased in the form of a decimal, and then multiply by $100$ to make it a percentage. Therefore, the answer is $\\\\boxed{\\\\frac{100(M-N)}{N}}$.', 'num_solutions': 1, 'other_appearances': None}\n",
      "{'year': '1961', 'contest': 'AHSME', 'number': 8, 'url': 'https://artofproblemsolving.com/wiki/index.php/1961_AHSME_Problems/Problem_8', 'level': 2, 'subject': 'geometry', 'multiple_choice_only': False, 'full_text': '# Problem\\nLet the two base angles of a triangle be $A$ and $B$, with $B$ larger than $A$. \\nThe altitude to the base divides the vertex angle $C$ into two parts, $C_1$ and $C_2$, with $C_2$ adjacent to side $a$. Then:\\n$\\\\textbf{(A)}\\\\ C_1+C_2=A+B \\\\qquad \\\\textbf{(B)}\\\\ C_1-C_2=B-A \\\\qquad\\\\\\\\ \\\\textbf{(C)}\\\\ C_1-C_2=A-B \\\\qquad \\\\textbf{(D)}\\\\ C_1+C_2=B-A\\\\qquad \\\\textbf{(E)}\\\\ C_1-C_2=A+B$\\n\\n# Solution\\n[asy] draw((0,0)--(120,0)--(40,50)--(0,0)); draw((40,50)--(40,0)); draw((40,4)--(44,4)--(44,0)); label(\"$B$\",(10,5)); label(\"$A$\",(100,5)); label(\"$C_1$\",(47,38)); label(\"$C_2$\",(34,33)); [/asy]\\nNoting that side $a$ is opposite of angle $A$, label the diagram as shown.\\nFrom the two right triangles,\\n\\\\[B + C_2 = 90\\\\]\\n\\\\[A + C_1 = 90\\\\]\\nSubstitute to get\\n\\\\[B + C_2 = A + C_1\\\\]\\n\\\\[B - A = C_1 - C_2\\\\]\\nThe answer is $\\\\boxed{\\\\textbf{(B)}}$.\\n', 'num_gpt4_tokens': 350, 'choices': {'A': '$C_1+C_2=A+B$', 'B': '$C_1-C_2=B-A$', 'C': '$C_1-C_2=A-B$', 'D': '$C_1+C_2=B-A$', 'E': '$C_1-C_2=A+B$'}, 'problem': 'Let the two base angles of a triangle be $A$ and $B$, with $B$ larger than $A$. The altitude to the base divides the vertex angle $C$ into two parts, $C_1$ and $C_2$, with $C_2$ adjacent to side $a$. Then:', 'answer_choice': 'B', 'answer': '$C_1-C_2=B-A$', 'solution_1_metadata': '', 'solution_1': '[asy] draw((0,0)--(120,0)--(40,50)--(0,0)); draw((40,50)--(40,0)); draw((40,4)--(44,4)--(44,0)); label(\"$B$\",(10,5)); label(\"$A$\",(100,5)); label(\"$C_1$\",(47,38)); label(\"$C_2$\",(34,33)); [/asy]\\nNoting that side $a$ is opposite of angle $A$, label the diagram as shown.\\nFrom the two right triangles,\\n\\\\[B + C_2 = 90\\\\]\\n\\\\[A + C_1 = 90\\\\]\\nSubstitute to get\\n\\\\[B + C_2 = A + C_1\\\\]\\n\\\\[B - A = C_1 - C_2\\\\]\\nThe answer is $\\\\boxed{C_1-C_2=B-A}$.', 'num_solutions': 1, 'other_appearances': None}\n",
      "{'year': '1980', 'contest': 'AHSME', 'number': 10, 'url': 'https://artofproblemsolving.com/wiki/index.php/1980_AHSME_Problems/Problem_10', 'level': 2, 'subject': 'prealgebra', 'multiple_choice_only': False, 'full_text': '# Problem\\nThe number of teeth in three meshed gears $A$, $B$, and $C$ are $x$, $y$, and $z$, respectively. (The teeth on all gears are the same size and regularly spaced.) The angular speeds, in revolutions per minutes of $A$, $B$, and $C$ are in the proportion\\n$\\\\text{(A)} \\\\ x: y: z ~~\\\\text{(B)} \\\\ z: y: x ~~ \\\\text{(C)} \\\\ y: z: x~~ \\\\text{(D)} \\\\ yz: xz: xy ~~ \\\\text{(E)} \\\\ xz: yx: zy$\\n\\n# Solution\\nThe distance that each of the gears rotate is constant. Let us have the number of teeth per minute equal to $k$. The revolutions per minute are in ratio of:\\n\\\\[\\\\frac{k}{x}:\\\\frac{k}{y}:\\\\frac{k}{z}\\\\]\\n\\\\[yz:xz:xy.\\\\]\\nTherefore, the answer is $\\\\boxed{D: yz:xz:xy}$.\\n', 'num_gpt4_tokens': 221, 'choices': {'A': '$x: y: z$', 'B': '$z: y: x$', 'C': '$y: z:$', 'D': '$yz: xz: xy$', 'E': '$xz: yx: zy$'}, 'problem': 'The number of teeth in three meshed gears $A$, $B$, and $C$ are $x$, $y$, and $z$, respectively. (The teeth on all gears are the same size and regularly spaced.) The angular speeds, in revolutions per minutes of $A$, $B$, and $C$ are in the proportion', 'answer_choice': 'D', 'answer': '$yz: xz: xy$', 'solution_1_metadata': '', 'solution_1': 'The distance that each of the gears rotate is constant. Let us have the number of teeth per minute equal to $k$. The revolutions per minute are in ratio of:\\n\\\\[\\\\frac{k}{x}:\\\\frac{k}{y}:\\\\frac{k}{z}\\\\]\\n\\\\[yz:xz:xy.\\\\]\\nTherefore, the answer is $\\\\boxed{yz: xz: xy}$.', 'num_solutions': 1, 'other_appearances': None}\n"
     ]
    }
   ],
   "source": [
    "for p in llama_wanted_choices:\n",
    "    if not dataset_map[p][\"multiple_choice_only\"]:\n",
    "        print(dataset_map[p])"
   ]
  },
  {
   "cell_type": "markdown",
   "id": "0207d557-7b74-4028-9a7f-da734d288f67",
   "metadata": {},
   "source": [
    "## Look at responses\n",
    "\n",
    "It seems like the model doesn't have the answer choices memorized, as it often gets the right answer but the wrong answer choice. In total, the accuracy is only as good as random chance too."
   ]
  },
  {
   "cell_type": "code",
   "execution_count": 21,
   "id": "1e9b716f-6e59-478b-8e74-0b681e57ee4f",
   "metadata": {},
   "outputs": [],
   "source": [
    "answer_check_results_map = {\n",
    "    answer_check_dicts[i][\"uid\"]:\n",
    "    {\n",
    "        \"uid\": answer_check_dicts[i][\"uid\"],\n",
    "        \"url\": dataset_map[answer_check_dicts[i][\"uid\"]][\"url\"],\n",
    "        \"level\": dataset_map[answer_check_dicts[i][\"uid\"]][\"level\"],\n",
    "        \"subject\": dataset_map[answer_check_dicts[i][\"uid\"]][\"subject\"],\n",
    "        \"problem\": answer_check_dicts[i][\"problem\"],\n",
    "        **x\n",
    "    } \n",
    "    for i, x in enumerate(answer_check_results) \n",
    "    # if not x[\"is_correct\"] and responses[i][\"response\"].completions[0].finish_reason == \"stop\"\n",
    "}"
   ]
  },
  {
   "cell_type": "code",
   "execution_count": 25,
   "id": "d1a74a8e-6db0-48ea-a676-1ebd230e7bb8",
   "metadata": {},
   "outputs": [
    {
     "name": "stdout",
     "output_type": "stream",
     "text": [
      "1965/AHSME/23\n",
      "D\n",
      "$.0401$\n",
      "{'A': '$.0301$', 'B': '$.0349$', 'C': '$.0399$', 'D': '$.0401$', 'E': '$.0499$'}\n",
      "Solve the following math problem efficiently and clearly:\n",
      "\n",
      "- For simple problems (2 steps or fewer):\n",
      "Provide a concise solution with minimal explanation.\n",
      "\n",
      "- For complex problems (3 steps or more):\n",
      "Use this step-by-step format:\n",
      "\n",
      "## Step 1: [Concise description]\n",
      "[Brief explanation and calculations]\n",
      "\n",
      "## Step 2: [Concise description]\n",
      "[Brief explanation and calculations]\n",
      "\n",
      "...\n",
      "\n",
      "Regardless of the approach, always conclude with:\n",
      "\n",
      "Therefore, the final answer is: ?. I hope it is correct.\n",
      "\n",
      "Where ? is replaced by one of the letters A, B, C, D or E.\n",
      "\n",
      "Problem: If we write $|x^2 - 4| < N$ for all $x$ such that $|x - 2| < 0.01$, the smallest value we can use for $N$ is:\n",
      "\n"
     ]
    },
    {
     "data": {
      "text/markdown": [
       "## Step 1: Understand the given inequality\n",
       "We are given the inequality $|x^2 - 4| < N$ for all $x$ such that $|x - 2| < 0.01$. This means we need to find the smallest possible value of $N$ that satisfies this condition.\n",
       "\n",
       "## Step 2: Analyze the range of x values\n",
       "Since $|x - 2| < 0.01$, we can rewrite this as $1.99 < x < 2.01$. This gives us the range of $x$ values that we need to consider.\n",
       "\n",
       "## Step 3: Find the maximum value of $|x^2 - 4|$ in the given range\n",
       "To find the smallest possible value of $N$, we need to find the maximum value of $|x^2 - 4|$ in the given range of $x$ values. Since $x^2 - 4$ is a quadratic function, its maximum value in the given range will occur at one of the endpoints.\n",
       "\n",
       "## Step 4: Calculate the maximum value of $|x^2 - 4|$\n",
       "Let's calculate the value of $|x^2 - 4|$ at the endpoints of the range:\n",
       "- At $x = 1.99$, $|x^2 - 4| = |(1.99)^2 - 4| = |3.9601 - 4| = 0.0399$\n",
       "- At $x = 2.01$, $|x^2 - 4| = |(2.01)^2 - 4| = |4.0401 - 4| = 0.0401$\n",
       "\n",
       "## Step 5: Determine the smallest possible value of N\n",
       "The maximum value of $|x^2 - 4|$ in the given range is 0.0401. Therefore, the smallest possible value of $N$ is 0.0401.\n",
       "\n",
       "Therefore, the final answer is: A. "
      ],
      "text/plain": [
       "<IPython.core.display.Markdown object>"
      ]
     },
     "metadata": {},
     "output_type": "display_data"
    }
   ],
   "source": [
    "rand_uid = np.random.choice(results_metadata.query(\"reason == 'stop'\").index)\n",
    "print(rand_uid)\n",
    "print(dataset_map[rand_uid][\"answer_choice\"])\n",
    "print(dataset_map[rand_uid][\"answer\"])\n",
    "print(dataset_map[rand_uid][\"choices\"])\n",
    "print(response_map[rand_uid][\"prompt\"][-1][\"content\"])\n",
    "display(Markdown(response_map[rand_uid][\"response\"].completions[0].completion))"
   ]
  },
  {
   "cell_type": "code",
   "execution_count": null,
   "id": "0d9fe753-4973-413f-ac8b-0ee9aa1a4c70",
   "metadata": {},
   "outputs": [],
   "source": []
  }
 ],
 "metadata": {
  "kernelspec": {
   "display_name": "Python 3 (ipykernel)",
   "language": "python",
   "name": "python3"
  },
  "language_info": {
   "codemirror_mode": {
    "name": "ipython",
    "version": 3
   },
   "file_extension": ".py",
   "mimetype": "text/x-python",
   "name": "python",
   "nbconvert_exporter": "python",
   "pygments_lexer": "ipython3",
   "version": "3.12.8"
  }
 },
 "nbformat": 4,
 "nbformat_minor": 5
}
